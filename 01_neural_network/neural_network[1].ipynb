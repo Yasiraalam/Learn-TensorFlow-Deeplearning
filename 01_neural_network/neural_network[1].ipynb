{
 "cells": [
  {
   "cell_type": "code",
   "execution_count": 1,
   "metadata": {},
   "outputs": [
    {
     "name": "stdout",
     "output_type": "stream",
     "text": [
      "WARNING:tensorflow:From c:\\Users\\user\\AppData\\Local\\Programs\\Python\\Python310\\lib\\site-packages\\keras\\src\\losses.py:2976: The name tf.losses.sparse_softmax_cross_entropy is deprecated. Please use tf.compat.v1.losses.sparse_softmax_cross_entropy instead.\n",
      "\n"
     ]
    }
   ],
   "source": [
    "import tensorflow as tf\n",
    "import numpy as np\n",
    "# import metapolott\n",
    "import matplotlib.pyplot as  plt\n",
    "\n"
   ]
  },
  {
   "cell_type": "markdown",
   "metadata": {},
   "source": [
    "# Intrduction to Regression with Neural  Network in TensorFlow\n"
   ]
  },
  {
   "cell_type": "markdown",
   "metadata": {},
   "source": [
    "## There are  many difinations  for a regression problem but  in our case, we're  goining to simplify  it: predicting  a numerical variable based  on some other  combination  of variables, even shorter...  predicting  a number"
   ]
  },
  {
   "cell_type": "code",
   "execution_count": 2,
   "metadata": {},
   "outputs": [
    {
     "data": {
      "text/plain": [
       "<matplotlib.collections.PathCollection at 0x14be71adb70>"
      ]
     },
     "execution_count": 2,
     "metadata": {},
     "output_type": "execute_result"
    },
    {
     "data": {
      "image/png": "[encoded data removed]",
      "text/plain": [
       "<Figure size 640x480 with 1 Axes>"
      ]
     },
     "metadata": {},
     "output_type": "display_data"
    }
   ],
   "source": [
    "X = np.array([-7., -4., -1., 2., 5., 8., 11., 14.])\n",
    "y = np.array([3., 6., 9., 12., 15., 18., 21., 24.])\n",
    "plt.scatter(X,y)"
   ]
  },
  {
   "cell_type": "code",
   "execution_count": 3,
   "metadata": {},
   "outputs": [
    {
     "data": {
      "text/plain": [
       "array([ True,  True,  True,  True,  True,  True,  True,  True])"
      ]
     },
     "execution_count": 3,
     "metadata": {},
     "output_type": "execute_result"
    }
   ],
   "source": [
    "y == X + 10"
   ]
  },
  {
   "cell_type": "code",
   "execution_count": 4,
   "metadata": {},
   "outputs": [],
   "source": [
    "X = X.reshape (-1,1)\n",
    "y = y.reshape(-1, 1)"
   ]
  },
  {
   "cell_type": "markdown",
   "metadata": {},
   "source": [
    "## Input and output"
   ]
  },
  {
   "cell_type": "code",
   "execution_count": 5,
   "metadata": {},
   "outputs": [
    {
     "data": {
      "text/plain": [
       "(<tf.Tensor: shape=(3,), dtype=string, numpy=array([b'bedroom', b'bathroom', b'garage'], dtype=object)>,\n",
       " <tf.Tensor: shape=(1,), dtype=int32, numpy=array([939700])>)"
      ]
     },
     "execution_count": 5,
     "metadata": {},
     "output_type": "execute_result"
    }
   ],
   "source": [
    "# Create a demo tensor for  our housing  price  predicttion problem\n",
    "house_info = tf.constant([\"bedroom\", \"bathroom\", \"garage\"])\n",
    "house_price = tf.constant([939700])\n",
    "house_info,house_price "
   ]
  },
  {
   "cell_type": "markdown",
   "metadata": {},
   "source": [
    "## turn our numpy array into tensors"
   ]
  },
  {
   "cell_type": "code",
   "execution_count": 6,
   "metadata": {},
   "outputs": [
    {
     "data": {
      "text/plain": [
       "(<tf.Tensor: shape=(8, 1), dtype=float32, numpy=\n",
       " array([[-7.],\n",
       "        [-4.],\n",
       "        [-1.],\n",
       "        [ 2.],\n",
       "        [ 5.],\n",
       "        [ 8.],\n",
       "        [11.],\n",
       "        [14.]], dtype=float32)>,\n",
       " <tf.Tensor: shape=(8, 1), dtype=float32, numpy=\n",
       " array([[ 3.],\n",
       "        [ 6.],\n",
       "        [ 9.],\n",
       "        [12.],\n",
       "        [15.],\n",
       "        [18.],\n",
       "        [21.],\n",
       "        [24.]], dtype=float32)>)"
      ]
     },
     "execution_count": 6,
     "metadata": {},
     "output_type": "execute_result"
    }
   ],
   "source": [
    "X = tf.cast(tf.constant(X), dtype= tf.float32)\n",
    "y = tf.cast(tf.constant(y), dtype= tf.float32)\n",
    "X,y"
   ]
  },
  {
   "cell_type": "code",
   "execution_count": 7,
   "metadata": {},
   "outputs": [
    {
     "data": {
      "text/plain": [
       "TensorShape([8, 1])"
      ]
     },
     "execution_count": 7,
     "metadata": {},
     "output_type": "execute_result"
    }
   ],
   "source": [
    "X.shape"
   ]
  },
  {
   "cell_type": "code",
   "execution_count": 8,
   "metadata": {},
   "outputs": [
    {
     "data": {
      "text/plain": [
       "<matplotlib.collections.PathCollection at 0x14be72b73d0>"
      ]
     },
     "execution_count": 8,
     "metadata": {},
     "output_type": "execute_result"
    },
    {
     "data": {
      "image/png": "[encoded data removed]",
      "text/plain": [
       "<Figure size 640x480 with 1 Axes>"
      ]
     },
     "metadata": {},
     "output_type": "display_data"
    }
   ],
   "source": [
    "plt.scatter(X,y)"
   ]
  },
  {
   "cell_type": "markdown",
   "metadata": {},
   "source": [
    "## Steps in modelling with TensorFlow"
   ]
  },
  {
   "cell_type": "markdown",
   "metadata": {},
   "source": [
    "### 1. **Creating a model** - define  the input  and output layers as well as hidden layer on deep learning model\n",
    "### 2. **Compilling a model** - define the loss function ( in others words, the function which our model how wrong it is) and the optimizer( tells our model how to improve the patterns its learning) and evaluation matrics ( what we can use to interpret the performance of our model).\n",
    "### 3. **Fitting a model** - letting the model try to find patterns between X & y(features and labels)"
   ]
  },
  {
   "cell_type": "code",
   "execution_count": 9,
   "metadata": {},
   "outputs": [
    {
     "name": "stdout",
     "output_type": "stream",
     "text": [
      "WARNING:tensorflow:From c:\\Users\\user\\AppData\\Local\\Programs\\Python\\Python310\\lib\\site-packages\\keras\\src\\backend.py:873: The name tf.get_default_graph is deprecated. Please use tf.compat.v1.get_default_graph instead.\n",
      "\n",
      "Epoch 1/5\n",
      "WARNING:tensorflow:From c:\\Users\\user\\AppData\\Local\\Programs\\Python\\Python310\\lib\\site-packages\\keras\\src\\utils\\tf_utils.py:492: The name tf.ragged.RaggedTensorValue is deprecated. Please use tf.compat.v1.ragged.RaggedTensorValue instead.\n",
      "\n",
      "WARNING:tensorflow:From c:\\Users\\user\\AppData\\Local\\Programs\\Python\\Python310\\lib\\site-packages\\keras\\src\\engine\\base_layer_utils.py:384: The name tf.executing_eagerly_outside_functions is deprecated. Please use tf.compat.v1.executing_eagerly_outside_functions instead.\n",
      "\n",
      "1/1 [==============================] - 2s 2s/step - loss: 18.6328 - mae: 18.6328\n",
      "Epoch 2/5\n",
      "1/1 [==============================] - 0s 5ms/step - loss: 18.3515 - mae: 18.3515\n",
      "Epoch 3/5\n",
      "1/1 [==============================] - 0s 16ms/step - loss: 18.0703 - mae: 18.0703\n",
      "Epoch 4/5\n",
      "1/1 [==============================] - 0s 16ms/step - loss: 17.7890 - mae: 17.7890\n",
      "Epoch 5/5\n",
      "1/1 [==============================] - 0s 0s/step - loss: 17.5078 - mae: 17.5078\n"
     ]
    },
    {
     "data": {
      "text/plain": [
       "<keras.src.callbacks.History at 0x14be72eb7c0>"
      ]
     },
     "execution_count": 9,
     "metadata": {},
     "output_type": "execute_result"
    }
   ],
   "source": [
    "# Set random seed\n",
    "tf.random.set_seed(42)\n",
    "\n",
    "# 1.Create  a model using the Sequential API\n",
    "model = tf.keras.Sequential([\n",
    "    tf.keras.layers.Dense(1)\n",
    "])\n",
    "\n",
    "# 2. Compile  the model\n",
    "# mae is short  for mean absolute error\n",
    "# sgd is short for stochastic gradient descent\n",
    "model.compile(loss = tf.keras.losses.mae,  \n",
    "              optimizer=tf.keras.optimizers.SGD(), \n",
    "              metrics = [\"mae\"])\n",
    "\n",
    "# 3.fit he model\n",
    "model.fit(X, y, epochs=5)    # epochs : opportunity going on x and y values\n"
   ]
  },
  {
   "cell_type": "code",
   "execution_count": 10,
   "metadata": {},
   "outputs": [
    {
     "data": {
      "text/plain": [
       "(<tf.Tensor: shape=(8, 1), dtype=float32, numpy=\n",
       " array([[-7.],\n",
       "        [-4.],\n",
       "        [-1.],\n",
       "        [ 2.],\n",
       "        [ 5.],\n",
       "        [ 8.],\n",
       "        [11.],\n",
       "        [14.]], dtype=float32)>,\n",
       " <tf.Tensor: shape=(8, 1), dtype=float32, numpy=\n",
       " array([[ 3.],\n",
       "        [ 6.],\n",
       "        [ 9.],\n",
       "        [12.],\n",
       "        [15.],\n",
       "        [18.],\n",
       "        [21.],\n",
       "        [24.]], dtype=float32)>)"
      ]
     },
     "execution_count": 10,
     "metadata": {},
     "output_type": "execute_result"
    }
   ],
   "source": [
    "X , y"
   ]
  },
  {
   "cell_type": "code",
   "execution_count": 11,
   "metadata": {},
   "outputs": [
    {
     "name": "stdout",
     "output_type": "stream",
     "text": [
      "1/1 [==============================] - 0s 333ms/step\n"
     ]
    },
    {
     "data": {
      "text/plain": [
       "array([[-14.548932]], dtype=float32)"
      ]
     },
     "execution_count": 11,
     "metadata": {},
     "output_type": "execute_result"
    }
   ],
   "source": [
    "# Try and make a prediction using our model\n",
    "y_pred = model.predict([17.0])\n",
    "y_pred"
   ]
  },
  {
   "cell_type": "code",
   "execution_count": 12,
   "metadata": {},
   "outputs": [
    {
     "data": {
      "text/plain": [
       "array([[-3.548932]], dtype=float32)"
      ]
     },
     "execution_count": 12,
     "metadata": {},
     "output_type": "execute_result"
    }
   ],
   "source": [
    "y_pred + 11"
   ]
  },
  {
   "cell_type": "markdown",
   "metadata": {},
   "source": [
    "## improving our model"
   ]
  },
  {
   "cell_type": "markdown",
   "metadata": {},
   "source": [
    "### by altering  the steps  we took to create a model\n",
    "\n",
    "1. **Creating a model** - here  we might add more layers, increase the number of hidden  units( all called neuron)\n",
    "within  each of  the hidden layers, change the activation  function of each layer\n",
    "2. **Compiling a model** -  here we might change the optimization  function  or perhaps the **learning rate** of  the optimization function.\n",
    "3. **Fitting a  model** -  here we might fit a model for more **epochs** (  leave it training for longer) or on more data ( give the model more examples to learn from)"
   ]
  },
  {
   "cell_type": "code",
   "execution_count": 13,
   "metadata": {},
   "outputs": [
    {
     "name": "stdout",
     "output_type": "stream",
     "text": [
      "Epoch 1/100\n"
     ]
    },
    {
     "name": "stdout",
     "output_type": "stream",
     "text": [
      "1/1 [==============================] - 1s 600ms/step - loss: 13.3189 - mae: 13.3189\n",
      "Epoch 2/100\n",
      "1/1 [==============================] - 0s 17ms/step - loss: 13.1864 - mae: 13.1864\n",
      "Epoch 3/100\n",
      "1/1 [==============================] - 0s 10ms/step - loss: 13.0539 - mae: 13.0539\n",
      "Epoch 4/100\n",
      "1/1 [==============================] - 0s 16ms/step - loss: 12.9214 - mae: 12.9214\n",
      "Epoch 5/100\n",
      "1/1 [==============================] - 0s 16ms/step - loss: 12.7889 - mae: 12.7889\n",
      "Epoch 6/100\n",
      "1/1 [==============================] - 0s 16ms/step - loss: 12.6564 - mae: 12.6564\n",
      "Epoch 7/100\n",
      "1/1 [==============================] - 0s 16ms/step - loss: 12.5239 - mae: 12.5239\n",
      "Epoch 8/100\n",
      "1/1 [==============================] - 0s 16ms/step - loss: 12.3914 - mae: 12.3914\n",
      "Epoch 9/100\n",
      "1/1 [==============================] - 0s 16ms/step - loss: 12.2589 - mae: 12.2589\n",
      "Epoch 10/100\n",
      "1/1 [==============================] - 0s 16ms/step - loss: 12.1264 - mae: 12.1264\n",
      "Epoch 11/100\n",
      "1/1 [==============================] - 0s 16ms/step - loss: 11.9939 - mae: 11.9939\n",
      "Epoch 12/100\n",
      "1/1 [==============================] - 0s 16ms/step - loss: 11.8614 - mae: 11.8614\n",
      "Epoch 13/100\n",
      "1/1 [==============================] - 0s 16ms/step - loss: 11.7289 - mae: 11.7289\n",
      "Epoch 14/100\n",
      "1/1 [==============================] - 0s 31ms/step - loss: 11.5964 - mae: 11.5964\n",
      "Epoch 15/100\n",
      "1/1 [==============================] - 0s 16ms/step - loss: 11.4639 - mae: 11.4639\n",
      "Epoch 16/100\n",
      "1/1 [==============================] - 0s 16ms/step - loss: 11.3314 - mae: 11.3314\n",
      "Epoch 17/100\n",
      "1/1 [==============================] - 0s 16ms/step - loss: 11.1989 - mae: 11.1989\n",
      "Epoch 18/100\n",
      "1/1 [==============================] - 0s 16ms/step - loss: 11.0664 - mae: 11.0664\n",
      "Epoch 19/100\n",
      "1/1 [==============================] - 0s 0s/step - loss: 10.9339 - mae: 10.9339\n",
      "Epoch 20/100\n",
      "1/1 [==============================] - 0s 0s/step - loss: 10.8014 - mae: 10.8014\n",
      "Epoch 21/100\n",
      "1/1 [==============================] - 0s 16ms/step - loss: 10.6689 - mae: 10.6689\n",
      "Epoch 22/100\n",
      "1/1 [==============================] - 0s 16ms/step - loss: 10.5364 - mae: 10.5364\n",
      "Epoch 23/100\n",
      "1/1 [==============================] - 0s 16ms/step - loss: 10.4039 - mae: 10.4039\n",
      "Epoch 24/100\n",
      "1/1 [==============================] - 0s 16ms/step - loss: 10.2714 - mae: 10.2714\n",
      "Epoch 25/100\n",
      "1/1 [==============================] - 0s 16ms/step - loss: 10.1389 - mae: 10.1389\n",
      "Epoch 26/100\n",
      "1/1 [==============================] - 0s 0s/step - loss: 10.0064 - mae: 10.0064\n",
      "Epoch 27/100\n",
      "1/1 [==============================] - 0s 0s/step - loss: 9.8739 - mae: 9.8739\n",
      "Epoch 28/100\n",
      "1/1 [==============================] - 0s 12ms/step - loss: 9.7414 - mae: 9.7414\n",
      "Epoch 29/100\n",
      "1/1 [==============================] - 0s 16ms/step - loss: 9.6089 - mae: 9.6089\n",
      "Epoch 30/100\n",
      "1/1 [==============================] - 0s 0s/step - loss: 9.4764 - mae: 9.4764\n",
      "Epoch 31/100\n",
      "1/1 [==============================] - 0s 16ms/step - loss: 9.3439 - mae: 9.3439\n",
      "Epoch 32/100\n",
      "1/1 [==============================] - 0s 16ms/step - loss: 9.2114 - mae: 9.2114\n",
      "Epoch 33/100\n",
      "1/1 [==============================] - 0s 0s/step - loss: 9.0789 - mae: 9.0789\n",
      "Epoch 34/100\n",
      "1/1 [==============================] - 0s 0s/step - loss: 8.9464 - mae: 8.9464\n",
      "Epoch 35/100\n",
      "1/1 [==============================] - 0s 16ms/step - loss: 8.8139 - mae: 8.8139\n",
      "Epoch 36/100\n",
      "1/1 [==============================] - 0s 16ms/step - loss: 8.6814 - mae: 8.6814\n",
      "Epoch 37/100\n",
      "1/1 [==============================] - 0s 16ms/step - loss: 8.5489 - mae: 8.5489\n",
      "Epoch 38/100\n",
      "1/1 [==============================] - 0s 16ms/step - loss: 8.4164 - mae: 8.4164\n",
      "Epoch 39/100\n",
      "1/1 [==============================] - 0s 16ms/step - loss: 8.2839 - mae: 8.2839\n",
      "Epoch 40/100\n",
      "1/1 [==============================] - 0s 16ms/step - loss: 8.1514 - mae: 8.1514\n",
      "Epoch 41/100\n",
      "1/1 [==============================] - 0s 16ms/step - loss: 8.0189 - mae: 8.0189\n",
      "Epoch 42/100\n",
      "1/1 [==============================] - 0s 16ms/step - loss: 7.8864 - mae: 7.8864\n",
      "Epoch 43/100\n",
      "1/1 [==============================] - 0s 0s/step - loss: 7.7539 - mae: 7.7539\n",
      "Epoch 44/100\n",
      "1/1 [==============================] - 0s 0s/step - loss: 7.6214 - mae: 7.6214\n",
      "Epoch 45/100\n",
      "1/1 [==============================] - 0s 16ms/step - loss: 7.4889 - mae: 7.4889\n",
      "Epoch 46/100\n",
      "1/1 [==============================] - 0s 16ms/step - loss: 7.3564 - mae: 7.3564\n",
      "Epoch 47/100\n",
      "1/1 [==============================] - 0s 16ms/step - loss: 7.2239 - mae: 7.2239\n",
      "Epoch 48/100\n",
      "1/1 [==============================] - 0s 16ms/step - loss: 7.1475 - mae: 7.1475\n",
      "Epoch 49/100\n",
      "1/1 [==============================] - 0s 0s/step - loss: 7.1419 - mae: 7.1419\n",
      "Epoch 50/100\n",
      "1/1 [==============================] - 0s 0s/step - loss: 7.1363 - mae: 7.1363\n",
      "Epoch 51/100\n",
      "1/1 [==============================] - 0s 16ms/step - loss: 7.1306 - mae: 7.1306\n",
      "Epoch 52/100\n",
      "1/1 [==============================] - 0s 16ms/step - loss: 7.1250 - mae: 7.1250\n",
      "Epoch 53/100\n",
      "1/1 [==============================] - 0s 16ms/step - loss: 7.1194 - mae: 7.1194\n",
      "Epoch 54/100\n",
      "1/1 [==============================] - 0s 23ms/step - loss: 7.1138 - mae: 7.1138\n",
      "Epoch 55/100\n",
      "1/1 [==============================] - 0s 14ms/step - loss: 7.1081 - mae: 7.1081\n",
      "Epoch 56/100\n",
      "1/1 [==============================] - 0s 16ms/step - loss: 7.1025 - mae: 7.1025\n",
      "Epoch 57/100\n",
      "1/1 [==============================] - 0s 16ms/step - loss: 7.0969 - mae: 7.0969\n",
      "Epoch 58/100\n",
      "1/1 [==============================] - 0s 0s/step - loss: 7.0912 - mae: 7.0912\n",
      "Epoch 59/100\n",
      "1/1 [==============================] - 0s 0s/step - loss: 7.0856 - mae: 7.0856\n",
      "Epoch 60/100\n",
      "1/1 [==============================] - 0s 16ms/step - loss: 7.0800 - mae: 7.0800\n",
      "Epoch 61/100\n",
      "1/1 [==============================] - 0s 16ms/step - loss: 7.0744 - mae: 7.0744\n",
      "Epoch 62/100\n",
      "1/1 [==============================] - 0s 16ms/step - loss: 7.0688 - mae: 7.0688\n",
      "Epoch 63/100\n",
      "1/1 [==============================] - 0s 16ms/step - loss: 7.0631 - mae: 7.0631\n",
      "Epoch 64/100\n",
      "1/1 [==============================] - 0s 0s/step - loss: 7.0575 - mae: 7.0575\n",
      "Epoch 65/100\n",
      "1/1 [==============================] - 0s 16ms/step - loss: 7.0519 - mae: 7.0519\n",
      "Epoch 66/100\n",
      "1/1 [==============================] - 0s 16ms/step - loss: 7.0463 - mae: 7.0463\n",
      "Epoch 67/100\n",
      "1/1 [==============================] - 0s 16ms/step - loss: 7.0406 - mae: 7.0406\n",
      "Epoch 68/100\n",
      "1/1 [==============================] - 0s 16ms/step - loss: 7.0350 - mae: 7.0350\n",
      "Epoch 69/100\n",
      "1/1 [==============================] - 0s 16ms/step - loss: 7.0294 - mae: 7.0294\n",
      "Epoch 70/100\n",
      "1/1 [==============================] - 0s 0s/step - loss: 7.0238 - mae: 7.0238\n",
      "Epoch 71/100\n",
      "1/1 [==============================] - 0s 0s/step - loss: 7.0181 - mae: 7.0181\n",
      "Epoch 72/100\n",
      "1/1 [==============================] - 0s 0s/step - loss: 7.0125 - mae: 7.0125\n",
      "Epoch 73/100\n",
      "1/1 [==============================] - 0s 18ms/step - loss: 7.0069 - mae: 7.0069\n",
      "Epoch 74/100\n",
      "1/1 [==============================] - 0s 16ms/step - loss: 7.0012 - mae: 7.0012\n",
      "Epoch 75/100\n",
      "1/1 [==============================] - 0s 16ms/step - loss: 6.9956 - mae: 6.9956\n",
      "Epoch 76/100\n",
      "1/1 [==============================] - 0s 16ms/step - loss: 6.9900 - mae: 6.9900\n",
      "Epoch 77/100\n",
      "1/1 [==============================] - 0s 16ms/step - loss: 6.9844 - mae: 6.9844\n",
      "Epoch 78/100\n",
      "1/1 [==============================] - 0s 16ms/step - loss: 6.9788 - mae: 6.9788\n",
      "Epoch 79/100\n",
      "1/1 [==============================] - 0s 16ms/step - loss: 6.9731 - mae: 6.9731\n",
      "Epoch 80/100\n",
      "1/1 [==============================] - 0s 16ms/step - loss: 6.9675 - mae: 6.9675\n",
      "Epoch 81/100\n",
      "1/1 [==============================] - 0s 16ms/step - loss: 6.9619 - mae: 6.9619\n",
      "Epoch 82/100\n",
      "1/1 [==============================] - 0s 22ms/step - loss: 6.9563 - mae: 6.9563\n",
      "Epoch 83/100\n",
      "1/1 [==============================] - 0s 16ms/step - loss: 6.9506 - mae: 6.9506\n",
      "Epoch 84/100\n",
      "1/1 [==============================] - 0s 16ms/step - loss: 6.9450 - mae: 6.9450\n",
      "Epoch 85/100\n",
      "1/1 [==============================] - 0s 15ms/step - loss: 6.9394 - mae: 6.9394\n",
      "Epoch 86/100\n",
      "1/1 [==============================] - 0s 16ms/step - loss: 6.9338 - mae: 6.9338\n",
      "Epoch 87/100\n",
      "1/1 [==============================] - 0s 16ms/step - loss: 6.9281 - mae: 6.9281\n",
      "Epoch 88/100\n",
      "1/1 [==============================] - 0s 16ms/step - loss: 6.9225 - mae: 6.9225\n",
      "Epoch 89/100\n",
      "1/1 [==============================] - 0s 0s/step - loss: 6.9169 - mae: 6.9169\n",
      "Epoch 90/100\n",
      "1/1 [==============================] - 0s 0s/step - loss: 6.9113 - mae: 6.9113\n",
      "Epoch 91/100\n",
      "1/1 [==============================] - 0s 16ms/step - loss: 6.9056 - mae: 6.9056\n",
      "Epoch 92/100\n",
      "1/1 [==============================] - 0s 16ms/step - loss: 6.9000 - mae: 6.9000\n",
      "Epoch 93/100\n",
      "1/1 [==============================] - 0s 16ms/step - loss: 6.8944 - mae: 6.8944\n",
      "Epoch 94/100\n",
      "1/1 [==============================] - 0s 16ms/step - loss: 6.8888 - mae: 6.8888\n",
      "Epoch 95/100\n",
      "1/1 [==============================] - 0s 16ms/step - loss: 6.8831 - mae: 6.8831\n",
      "Epoch 96/100\n",
      "1/1 [==============================] - 0s 16ms/step - loss: 6.8775 - mae: 6.8775\n",
      "Epoch 97/100\n",
      "1/1 [==============================] - 0s 16ms/step - loss: 6.8719 - mae: 6.8719\n",
      "Epoch 98/100\n",
      "1/1 [==============================] - 0s 16ms/step - loss: 6.8663 - mae: 6.8663\n",
      "Epoch 99/100\n",
      "1/1 [==============================] - 0s 16ms/step - loss: 6.8606 - mae: 6.8606\n",
      "Epoch 100/100\n",
      "1/1 [==============================] - 0s 0s/step - loss: 6.8550 - mae: 6.8550\n"
     ]
    },
    {
     "data": {
      "text/plain": [
       "<keras.src.callbacks.History at 0x14be98fc550>"
      ]
     },
     "execution_count": 13,
     "metadata": {},
     "output_type": "execute_result"
    }
   ],
   "source": [
    "# lets rebuild our model\n",
    "# 1. Create the model\n",
    "\n",
    "model = tf.keras.Sequential([\n",
    "    tf.keras.layers.Dense(1) \n",
    "])\n",
    " # 2. Compile the model\n",
    "model.compile(loss=tf.keras.losses.mae,\n",
    "              optimizer=tf.keras.optimizers.SGD(),\n",
    "              metrics=[\"mae\"])\n",
    "\n",
    "# 3.  Fit the model (this time 1 we'll train for longer)\n",
    "model.fit(X,y,epochs = 100)"
   ]
  },
  {
   "cell_type": "code",
   "execution_count": 14,
   "metadata": {},
   "outputs": [
    {
     "data": {
      "text/plain": [
       "(<tf.Tensor: shape=(8, 1), dtype=float32, numpy=\n",
       " array([[-7.],\n",
       "        [-4.],\n",
       "        [-1.],\n",
       "        [ 2.],\n",
       "        [ 5.],\n",
       "        [ 8.],\n",
       "        [11.],\n",
       "        [14.]], dtype=float32)>,\n",
       " <tf.Tensor: shape=(8, 1), dtype=float32, numpy=\n",
       " array([[ 3.],\n",
       "        [ 6.],\n",
       "        [ 9.],\n",
       "        [12.],\n",
       "        [15.],\n",
       "        [18.],\n",
       "        [21.],\n",
       "        [24.]], dtype=float32)>)"
      ]
     },
     "execution_count": 14,
     "metadata": {},
     "output_type": "execute_result"
    }
   ],
   "source": [
    "X, y"
   ]
  },
  {
   "cell_type": "code",
   "execution_count": 15,
   "metadata": {},
   "outputs": [
    {
     "name": "stdout",
     "output_type": "stream",
     "text": [
      "1/1 [==============================] - 0s 182ms/step\n"
     ]
    },
    {
     "data": {
      "text/plain": [
       "array([[29.71195]], dtype=float32)"
      ]
     },
     "execution_count": 15,
     "metadata": {},
     "output_type": "execute_result"
    }
   ],
   "source": [
    "# lets see if our model's prediction has improved\n",
    "model.predict([17.0])"
   ]
  },
  {
   "cell_type": "code",
   "execution_count": 16,
   "metadata": {},
   "outputs": [
    {
     "name": "stderr",
     "output_type": "stream",
     "text": [
      "WARNING:absl:`lr` is deprecated in Keras optimizer, please use `learning_rate` or use the legacy optimizer, e.g.,tf.keras.optimizers.legacy.Adam.\n"
     ]
    },
    {
     "name": "stdout",
     "output_type": "stream",
     "text": [
      "Epoch 1/100\n",
      "1/1 [==============================] - 1s 871ms/step - loss: 13.3099 - mae: 13.3099\n",
      "Epoch 2/100\n",
      "1/1 [==============================] - 0s 23ms/step - loss: 13.2440 - mae: 13.2440\n",
      "Epoch 3/100\n",
      "1/1 [==============================] - 0s 3ms/step - loss: 13.1782 - mae: 13.1782\n",
      "Epoch 4/100\n",
      "1/1 [==============================] - 0s 2ms/step - loss: 13.1123 - mae: 13.1123\n",
      "Epoch 5/100\n",
      "1/1 [==============================] - 0s 14ms/step - loss: 13.0463 - mae: 13.0463\n",
      "Epoch 6/100\n",
      "1/1 [==============================] - 0s 16ms/step - loss: 12.9803 - mae: 12.9803\n",
      "Epoch 7/100\n",
      "1/1 [==============================] - 0s 8ms/step - loss: 12.9143 - mae: 12.9143\n",
      "Epoch 8/100\n",
      "1/1 [==============================] - 0s 16ms/step - loss: 12.8482 - mae: 12.8482\n",
      "Epoch 9/100\n",
      "1/1 [==============================] - 0s 11ms/step - loss: 12.7821 - mae: 12.7821\n",
      "Epoch 10/100\n",
      "1/1 [==============================] - 0s 12ms/step - loss: 12.7159 - mae: 12.7159\n",
      "Epoch 11/100\n",
      "1/1 [==============================] - 0s 16ms/step - loss: 12.6497 - mae: 12.6497\n",
      "Epoch 12/100\n",
      "1/1 [==============================] - 0s 13ms/step - loss: 12.5834 - mae: 12.5834\n",
      "Epoch 13/100\n",
      "1/1 [==============================] - 0s 10ms/step - loss: 12.5171 - mae: 12.5171\n",
      "Epoch 14/100\n",
      "1/1 [==============================] - 0s 10ms/step - loss: 12.4508 - mae: 12.4508\n",
      "Epoch 15/100\n",
      "1/1 [==============================] - 0s 26ms/step - loss: 12.3843 - mae: 12.3843\n",
      "Epoch 16/100\n",
      "1/1 [==============================] - 0s 10ms/step - loss: 12.3178 - mae: 12.3178\n",
      "Epoch 17/100\n",
      "1/1 [==============================] - 0s 17ms/step - loss: 12.2512 - mae: 12.2512\n",
      "Epoch 18/100\n",
      "1/1 [==============================] - 0s 10ms/step - loss: 12.1846 - mae: 12.1846\n",
      "Epoch 19/100\n",
      "1/1 [==============================] - 0s 16ms/step - loss: 12.1179 - mae: 12.1179\n",
      "Epoch 20/100\n",
      "1/1 [==============================] - 0s 10ms/step - loss: 12.0511 - mae: 12.0511\n",
      "Epoch 21/100\n",
      "1/1 [==============================] - 0s 11ms/step - loss: 11.9842 - mae: 11.9842\n",
      "Epoch 22/100\n",
      "1/1 [==============================] - 0s 15ms/step - loss: 11.9172 - mae: 11.9172\n",
      "Epoch 23/100\n",
      "1/1 [==============================] - 0s 13ms/step - loss: 11.8501 - mae: 11.8501\n",
      "Epoch 24/100\n",
      "1/1 [==============================] - 0s 16ms/step - loss: 11.7829 - mae: 11.7829\n",
      "Epoch 25/100\n",
      "1/1 [==============================] - 0s 16ms/step - loss: 11.7156 - mae: 11.7156\n",
      "Epoch 26/100\n",
      "1/1 [==============================] - 0s 16ms/step - loss: 11.6481 - mae: 11.6481\n",
      "Epoch 27/100\n",
      "1/1 [==============================] - 0s 16ms/step - loss: 11.5806 - mae: 11.5806\n",
      "Epoch 28/100\n",
      "1/1 [==============================] - 0s 15ms/step - loss: 11.5129 - mae: 11.5129\n",
      "Epoch 29/100\n",
      "1/1 [==============================] - 0s 17ms/step - loss: 11.4450 - mae: 11.4450\n",
      "Epoch 30/100\n",
      "1/1 [==============================] - 0s 14ms/step - loss: 11.3770 - mae: 11.3770\n",
      "Epoch 31/100\n",
      "1/1 [==============================] - 0s 12ms/step - loss: 11.3089 - mae: 11.3089\n",
      "Epoch 32/100\n",
      "1/1 [==============================] - 0s 16ms/step - loss: 11.2405 - mae: 11.2405\n",
      "Epoch 33/100\n",
      "1/1 [==============================] - 0s 16ms/step - loss: 11.1720 - mae: 11.1720\n",
      "Epoch 34/100\n",
      "1/1 [==============================] - 0s 16ms/step - loss: 11.1033 - mae: 11.1033\n",
      "Epoch 35/100\n",
      "1/1 [==============================] - 0s 16ms/step - loss: 11.0345 - mae: 11.0345\n",
      "Epoch 36/100\n",
      "1/1 [==============================] - 0s 16ms/step - loss: 10.9654 - mae: 10.9654\n",
      "Epoch 37/100\n",
      "1/1 [==============================] - 0s 0s/step - loss: 10.8961 - mae: 10.8961\n",
      "Epoch 38/100\n",
      "1/1 [==============================] - 0s 6ms/step - loss: 10.8266 - mae: 10.8266\n",
      "Epoch 39/100\n",
      "1/1 [==============================] - 0s 16ms/step - loss: 10.7569 - mae: 10.7569\n",
      "Epoch 40/100\n",
      "1/1 [==============================] - 0s 0s/step - loss: 10.6869 - mae: 10.6869\n",
      "Epoch 41/100\n",
      "1/1 [==============================] - 0s 0s/step - loss: 10.6167 - mae: 10.6167\n",
      "Epoch 42/100\n",
      "1/1 [==============================] - 0s 0s/step - loss: 10.5462 - mae: 10.5462\n",
      "Epoch 43/100\n",
      "1/1 [==============================] - 0s 16ms/step - loss: 10.4755 - mae: 10.4755\n",
      "Epoch 44/100\n",
      "1/1 [==============================] - 0s 0s/step - loss: 10.4046 - mae: 10.4046\n",
      "Epoch 45/100\n",
      "1/1 [==============================] - 0s 18ms/step - loss: 10.3333 - mae: 10.3333\n",
      "Epoch 46/100\n",
      "1/1 [==============================] - 0s 12ms/step - loss: 10.2618 - mae: 10.2618\n",
      "Epoch 47/100\n",
      "1/1 [==============================] - 0s 0s/step - loss: 10.1900 - mae: 10.1900\n",
      "Epoch 48/100\n",
      "1/1 [==============================] - 0s 16ms/step - loss: 10.1179 - mae: 10.1179\n",
      "Epoch 49/100\n",
      "1/1 [==============================] - 0s 16ms/step - loss: 10.0455 - mae: 10.0455\n",
      "Epoch 50/100\n",
      "1/1 [==============================] - 0s 20ms/step - loss: 9.9728 - mae: 9.9728\n",
      "Epoch 51/100\n",
      "1/1 [==============================] - 0s 17ms/step - loss: 9.8998 - mae: 9.8998\n",
      "Epoch 52/100\n",
      "1/1 [==============================] - 0s 0s/step - loss: 9.8265 - mae: 9.8265\n",
      "Epoch 53/100\n",
      "1/1 [==============================] - 0s 0s/step - loss: 9.7528 - mae: 9.7528\n",
      "Epoch 54/100\n",
      "1/1 [==============================] - 0s 16ms/step - loss: 9.6788 - mae: 9.6788\n",
      "Epoch 55/100\n",
      "1/1 [==============================] - 0s 16ms/step - loss: 9.6045 - mae: 9.6045\n",
      "Epoch 56/100\n",
      "1/1 [==============================] - 0s 31ms/step - loss: 9.5298 - mae: 9.5298\n",
      "Epoch 57/100\n",
      "1/1 [==============================] - 0s 0s/step - loss: 9.4548 - mae: 9.4548\n",
      "Epoch 58/100\n",
      "1/1 [==============================] - 0s 0s/step - loss: 9.3794 - mae: 9.3794\n",
      "Epoch 59/100\n",
      "1/1 [==============================] - 0s 8ms/step - loss: 9.3036 - mae: 9.3036\n",
      "Epoch 60/100\n",
      "1/1 [==============================] - 0s 15ms/step - loss: 9.2275 - mae: 9.2275\n",
      "Epoch 61/100\n",
      "1/1 [==============================] - 0s 18ms/step - loss: 9.1509 - mae: 9.1509\n",
      "Epoch 62/100\n",
      "1/1 [==============================] - 0s 41ms/step - loss: 9.0740 - mae: 9.0740\n",
      "Epoch 63/100\n",
      "1/1 [==============================] - 0s 16ms/step - loss: 8.9967 - mae: 8.9967\n",
      "Epoch 64/100\n",
      "1/1 [==============================] - 0s 18ms/step - loss: 8.9190 - mae: 8.9190\n",
      "Epoch 65/100\n",
      "1/1 [==============================] - 0s 15ms/step - loss: 8.8409 - mae: 8.8409\n",
      "Epoch 66/100\n",
      "1/1 [==============================] - 0s 16ms/step - loss: 8.7624 - mae: 8.7624\n",
      "Epoch 67/100\n",
      "1/1 [==============================] - 0s 16ms/step - loss: 8.6834 - mae: 8.6834\n",
      "Epoch 68/100\n",
      "1/1 [==============================] - 0s 8ms/step - loss: 8.6041 - mae: 8.6041\n",
      "Epoch 69/100\n",
      "1/1 [==============================] - 0s 8ms/step - loss: 8.5243 - mae: 8.5243\n",
      "Epoch 70/100\n",
      "1/1 [==============================] - 0s 18ms/step - loss: 8.4440 - mae: 8.4440\n",
      "Epoch 71/100\n",
      "1/1 [==============================] - 0s 13ms/step - loss: 8.3633 - mae: 8.3633\n",
      "Epoch 72/100\n",
      "1/1 [==============================] - 0s 16ms/step - loss: 8.2822 - mae: 8.2822\n",
      "Epoch 73/100\n",
      "1/1 [==============================] - 0s 17ms/step - loss: 8.2006 - mae: 8.2006\n",
      "Epoch 74/100\n",
      "1/1 [==============================] - 0s 8ms/step - loss: 8.1185 - mae: 8.1185\n",
      "Epoch 75/100\n",
      "1/1 [==============================] - 0s 16ms/step - loss: 8.0360 - mae: 8.0360\n",
      "Epoch 76/100\n",
      "1/1 [==============================] - 0s 25ms/step - loss: 7.9530 - mae: 7.9530\n",
      "Epoch 77/100\n",
      "1/1 [==============================] - 0s 16ms/step - loss: 7.8695 - mae: 7.8695\n",
      "Epoch 78/100\n",
      "1/1 [==============================] - 0s 18ms/step - loss: 7.7855 - mae: 7.7855\n",
      "Epoch 79/100\n",
      "1/1 [==============================] - 0s 7ms/step - loss: 7.7010 - mae: 7.7010\n",
      "Epoch 80/100\n",
      "1/1 [==============================] - 0s 10ms/step - loss: 7.6160 - mae: 7.6160\n",
      "Epoch 81/100\n",
      "1/1 [==============================] - 0s 8ms/step - loss: 7.5306 - mae: 7.5306\n",
      "Epoch 82/100\n",
      "1/1 [==============================] - 0s 8ms/step - loss: 7.4446 - mae: 7.4446\n",
      "Epoch 83/100\n",
      "1/1 [==============================] - 0s 8ms/step - loss: 7.3581 - mae: 7.3581\n",
      "Epoch 84/100\n",
      "1/1 [==============================] - 0s 8ms/step - loss: 7.2710 - mae: 7.2710\n",
      "Epoch 85/100\n",
      "1/1 [==============================] - 0s 10ms/step - loss: 7.1835 - mae: 7.1835\n",
      "Epoch 86/100\n",
      "1/1 [==============================] - 0s 8ms/step - loss: 7.0954 - mae: 7.0954\n",
      "Epoch 87/100\n",
      "1/1 [==============================] - 0s 8ms/step - loss: 7.0068 - mae: 7.0068\n",
      "Epoch 88/100\n",
      "1/1 [==============================] - 0s 16ms/step - loss: 6.9176 - mae: 6.9176\n",
      "Epoch 89/100\n",
      "1/1 [==============================] - 0s 16ms/step - loss: 6.8279 - mae: 6.8279\n",
      "Epoch 90/100\n",
      "1/1 [==============================] - 0s 16ms/step - loss: 6.7543 - mae: 6.7543\n",
      "Epoch 91/100\n",
      "1/1 [==============================] - 0s 13ms/step - loss: 6.7432 - mae: 6.7432\n",
      "Epoch 92/100\n",
      "1/1 [==============================] - 0s 16ms/step - loss: 6.7324 - mae: 6.7324\n",
      "Epoch 93/100\n",
      "1/1 [==============================] - 0s 6ms/step - loss: 6.7218 - mae: 6.7218\n",
      "Epoch 94/100\n",
      "1/1 [==============================] - 0s 8ms/step - loss: 6.7115 - mae: 6.7115\n",
      "Epoch 95/100\n",
      "1/1 [==============================] - 0s 17ms/step - loss: 6.7013 - mae: 6.7013\n",
      "Epoch 96/100\n",
      "1/1 [==============================] - 0s 16ms/step - loss: 6.6913 - mae: 6.6913\n",
      "Epoch 97/100\n",
      "1/1 [==============================] - 0s 6ms/step - loss: 6.6815 - mae: 6.6815\n",
      "Epoch 98/100\n",
      "1/1 [==============================] - 0s 0s/step - loss: 6.6718 - mae: 6.6718\n",
      "Epoch 99/100\n",
      "1/1 [==============================] - 0s 0s/step - loss: 6.6622 - mae: 6.6622\n",
      "Epoch 100/100\n",
      "1/1 [==============================] - 0s 16ms/step - loss: 6.6527 - mae: 6.6527\n"
     ]
    },
    {
     "data": {
      "text/plain": [
       "<keras.src.callbacks.History at 0x14bea9818a0>"
      ]
     },
     "execution_count": 16,
     "metadata": {},
     "output_type": "execute_result"
    }
   ],
   "source": [
    "# lets see if we can  make another to improve  our model\n",
    "\n",
    "#1. create the model  ( this time  with an extra  hidden layer with 50 hidden units)\n",
    "model = tf.keras.Sequential([\n",
    "    tf.keras.layers.Dense(50, activation =None),\n",
    "    tf.keras.layers.Dense(1)\n",
    "])\n",
    "\n",
    "# 2.compile the model\n",
    "model.compile(loss=\"mae\",\n",
    "              optimizer=tf.keras.optimizers.Adam(lr=0.0001),\n",
    "              metrics=[\"mae\"])\n",
    "\n",
    "# 3. fit he model\n",
    "model.fit(X,y,epochs=100)\n"
   ]
  },
  {
   "cell_type": "code",
   "execution_count": 17,
   "metadata": {},
   "outputs": [
    {
     "name": "stdout",
     "output_type": "stream",
     "text": [
      "1/1 [==============================] - 0s 191ms/step\n"
     ]
    },
    {
     "data": {
      "text/plain": [
       "array([[31.57119]], dtype=float32)"
      ]
     },
     "execution_count": 17,
     "metadata": {},
     "output_type": "execute_result"
    }
   ],
   "source": [
    "model.predict([17.0])  # our model is overfitting"
   ]
  },
  {
   "cell_type": "markdown",
   "metadata": {},
   "source": [
    "## Evaluting a Model\n",
    "In practical  a typical  workflow you will  through when  building  neural network is:\n",
    "```\n",
    "Build a model -> fit it  ->  evaluate it  -> tweek the model ->  fit it ->  evaluate it -> tweak a model -> fit it -> evaluate it....\n",
    "```"
   ]
  },
  {
   "cell_type": "code",
   "execution_count": 18,
   "metadata": {},
   "outputs": [
    {
     "data": {
      "text/plain": [
       "tf.float32"
      ]
     },
     "execution_count": 18,
     "metadata": {},
     "output_type": "execute_result"
    }
   ],
   "source": [
    "# make a bigger dataset\n",
    "\n",
    "X = tf.cast(tf.range (-100, 100, 4), dtype= tf.float32)\n",
    "X.dtype"
   ]
  },
  {
   "cell_type": "code",
   "execution_count": 19,
   "metadata": {},
   "outputs": [
    {
     "data": {
      "text/plain": [
       "<tf.Tensor: shape=(50,), dtype=float32, numpy=\n",
       "array([-90., -86., -82., -78., -74., -70., -66., -62., -58., -54., -50.,\n",
       "       -46., -42., -38., -34., -30., -26., -22., -18., -14., -10.,  -6.,\n",
       "        -2.,   2.,   6.,  10.,  14.,  18.,  22.,  26.,  30.,  34.,  38.,\n",
       "        42.,  46.,  50.,  54.,  58.,  62.,  66.,  70.,  74.,  78.,  82.,\n",
       "        86.,  90.,  94.,  98., 102., 106.], dtype=float32)>"
      ]
     },
     "execution_count": 19,
     "metadata": {},
     "output_type": "execute_result"
    }
   ],
   "source": [
    "# make labels for dataset\n",
    "y = X + 10\n",
    "y "
   ]
  },
  {
   "cell_type": "code",
   "execution_count": 20,
   "metadata": {},
   "outputs": [
    {
     "data": {
      "text/plain": [
       "<matplotlib.collections.PathCollection at 0x14bea9805e0>"
      ]
     },
     "execution_count": 20,
     "metadata": {},
     "output_type": "execute_result"
    },
    {
     "data": {
      "image/png": "[encoded data removed]",
      "text/plain": [
       "<Figure size 640x480 with 1 Axes>"
      ]
     },
     "metadata": {},
     "output_type": "display_data"
    }
   ],
   "source": [
    "# Visualize the data\n",
    "plt.plot(X,y)   # or\n",
    "plt.scatter(X,y)"
   ]
  },
  {
   "cell_type": "markdown",
   "metadata": {},
   "source": [
    "### The 3 sets...\n",
    "* **Training set** -  the model learns from this data , which is typically  70-80%  of the total data you have  avialable.\n",
    "* **Validation set**- the model gets tuned on this data, which is typically  10-15%  of the data available.\n",
    "* **Test  set** -  the model gets evaluated on this data to test  what is has learned this set is typically 10-15%  of the total  data available."
   ]
  },
  {
   "cell_type": "code",
   "execution_count": 21,
   "metadata": {},
   "outputs": [
    {
     "data": {
      "text/plain": [
       "50"
      ]
     },
     "execution_count": 21,
     "metadata": {},
     "output_type": "execute_result"
    }
   ],
   "source": [
    "# check the length of how many sample we have\n",
    "len(X)"
   ]
  },
  {
   "cell_type": "code",
   "execution_count": 22,
   "metadata": {},
   "outputs": [],
   "source": [
    "# Split the data into train  and test  sets\n",
    "X_train = X[:40] # first 40  are training samples (80% of the data)\n",
    "y_train = y[:40]\n",
    "\n",
    "X_test = X[40:] # last 10 are test samples (20% of the data)\n",
    "y_test = y[40:]\n",
    "# len(X_train), len(X_test), len(y_train), len(y_test)"
   ]
  },
  {
   "cell_type": "markdown",
   "metadata": {},
   "source": [
    "## Visualizing the data\n",
    "Now we've got our data in training and test sets... let's visualize it again!"
   ]
  },
  {
   "cell_type": "code",
   "execution_count": 23,
   "metadata": {},
   "outputs": [
    {
     "data": {
      "image/png": "[encoded data removed]",
      "text/plain": [
       "<Figure size 1000x700 with 1 Axes>"
      ]
     },
     "metadata": {},
     "output_type": "display_data"
    }
   ],
   "source": [
    "plt.figure(figsize=(10,7))\n",
    "\n",
    "# plot training data in blue \n",
    "plt.scatter(X_train,y_train, c=\"b\", label=\"Training data\")  \n",
    "\n",
    "# ploy test data in green\n",
    "plt.scatter(X_test, y_test, c=\"g\", label=\"Testing data\")\n",
    "plt.legend();"
   ]
  },
  {
   "cell_type": "code",
   "execution_count": 24,
   "metadata": {},
   "outputs": [
    {
     "data": {
      "text/plain": [
       "(<tf.Tensor: shape=(), dtype=float32, numpy=-100.0>,\n",
       " <tf.Tensor: shape=(), dtype=float32, numpy=-90.0>)"
      ]
     },
     "execution_count": 24,
     "metadata": {},
     "output_type": "execute_result"
    }
   ],
   "source": [
    "# lets have a look at  how to build a neural network for our data\n",
    "X[0], y[0]"
   ]
  },
  {
   "cell_type": "code",
   "execution_count": 25,
   "metadata": {},
   "outputs": [],
   "source": [
    "#  lets create a model which  builds automatically by defining the input_shape argument in the first layer\n",
    "tf.random.set_seed(42)\n",
    "# 1.Same create a model\n",
    "model = tf.keras.Sequential([\n",
    "    tf.keras.layers.Dense(10, input_shape=[1], name=\"input_layer\"),\n",
    "    tf.keras.layers.Dense(1, name=\"output_layer\")\n",
    "],name=\"models_1\")\n",
    "# 2.compile the model\n",
    "model.compile(loss =tf.keras.losses.mae,\n",
    "              optimizer = tf.keras.optimizers.SGD(),\n",
    "              metrics = [\"mae\"])\n",
    "\n",
    "\n",
    "\n"
   ]
  },
  {
   "cell_type": "code",
   "execution_count": 26,
   "metadata": {},
   "outputs": [
    {
     "data": {
      "text/plain": [
       "<keras.src.callbacks.History at 0x14beaab8e80>"
      ]
     },
     "execution_count": 26,
     "metadata": {},
     "output_type": "execute_result"
    }
   ],
   "source": [
    "#3. fit the model\n",
    "model.fit(X_train,y_train,epochs=100,verbose=0)"
   ]
  },
  {
   "cell_type": "code",
   "execution_count": 27,
   "metadata": {},
   "outputs": [
    {
     "name": "stdout",
     "output_type": "stream",
     "text": [
      "Model: \"models_1\"\n",
      "_________________________________________________________________\n",
      " Layer (type)                Output Shape              Param #   \n",
      "=================================================================\n",
      " input_layer (Dense)         (None, 10)                20        \n",
      "                                                                 \n",
      " output_layer (Dense)        (None, 1)                 11        \n",
      "                                                                 \n",
      "=================================================================\n",
      "Total params: 31 (124.00 Byte)\n",
      "Trainable params: 31 (124.00 Byte)\n",
      "Non-trainable params: 0 (0.00 Byte)\n",
      "_________________________________________________________________\n"
     ]
    }
   ],
   "source": [
    "model.summary()"
   ]
  },
  {
   "cell_type": "code",
   "execution_count": 28,
   "metadata": {},
   "outputs": [],
   "source": [
    "# from tensorflow.keras.utils import plot_model\n",
    "# plot_model(model=model,show_shapes=False) "
   ]
  },
  {
   "cell_type": "markdown",
   "metadata": {},
   "source": [
    "## Visualizing our models predictions\n",
    "to visualize  precdictions its good idea to plot them against the ground  truth labels.Often  you'll see this in the form of `y_test` or `y_true`  versus  `y_pred` ( ground  truth  versus your model ).."
   ]
  },
  {
   "cell_type": "code",
   "execution_count": 29,
   "metadata": {},
   "outputs": [
    {
     "name": "stdout",
     "output_type": "stream",
     "text": [
      "1/1 [==============================] - 0s 142ms/step\n"
     ]
    },
    {
     "data": {
      "text/plain": [
       "array([[ 71.2516  ],\n",
       "       [ 75.8916  ],\n",
       "       [ 80.5316  ],\n",
       "       [ 85.17161 ],\n",
       "       [ 89.8116  ],\n",
       "       [ 94.45161 ],\n",
       "       [ 99.09161 ],\n",
       "       [103.73161 ],\n",
       "       [108.371605],\n",
       "       [113.011604]], dtype=float32)"
      ]
     },
     "execution_count": 29,
     "metadata": {},
     "output_type": "execute_result"
    }
   ],
   "source": [
    "# make your predictions\n",
    "y_pred =  model.predict(X_test)\n",
    "y_pred"
   ]
  },
  {
   "cell_type": "code",
   "execution_count": 30,
   "metadata": {},
   "outputs": [
    {
     "data": {
      "text/plain": [
       "<tf.Tensor: shape=(10,), dtype=float32, numpy=\n",
       "array([ 70.,  74.,  78.,  82.,  86.,  90.,  94.,  98., 102., 106.],\n",
       "      dtype=float32)>"
      ]
     },
     "execution_count": 30,
     "metadata": {},
     "output_type": "execute_result"
    }
   ],
   "source": [
    "y_test"
   ]
  },
  {
   "cell_type": "code",
   "execution_count": 31,
   "metadata": {},
   "outputs": [],
   "source": [
    "# let's  create a plotting function\n",
    "def plott_predictions(train_data = X_train,\n",
    "                      train_labels= y_train,\n",
    "                      test_data = X_test,\n",
    "                      test_labels=y_test,\n",
    "                      predictions = y_pred):\n",
    "    \"\"\"\n",
    "    Plots training data,test data and compares prediction to ground truth\n",
    "    \"\"\"\n",
    "    plt.figure(figsize=(10,7))\n",
    "\n",
    "    # Plot training data in blue\n",
    "    plt.scatter(train_data,train_labels, c=\"b\", label=\"Training data\")\n",
    "    # plot testting data in Green\n",
    "    plt.scatter(test_data,test_labels,c=\"g\", label=\"Testing data\")\n",
    "    # plott models prediction in Red\n",
    "    plt.scatter(test_data, predictions, c=\"r\", label=\"Predictioin\")\n",
    "\n",
    "    # show the legand\n",
    "    plt.legend();"
   ]
  },
  {
   "cell_type": "code",
   "execution_count": 32,
   "metadata": {},
   "outputs": [
    {
     "data": {
      "image/png": "[encoded data removed]",
      "text/plain": [
       "<Figure size 1000x700 with 1 Axes>"
      ]
     },
     "metadata": {},
     "output_type": "display_data"
    }
   ],
   "source": [
    "plott_predictions(train_data = X_train,\n",
    "                  train_labels= y_train,\n",
    "                  test_data = X_test,\n",
    "                  test_labels=y_test,\n",
    "                  predictions = y_pred)"
   ]
  },
  {
   "cell_type": "markdown",
   "metadata": {},
   "source": [
    "## Evaluting our model's  predictions with  regression evaluation metrics "
   ]
  },
  {
   "cell_type": "code",
   "execution_count": 33,
   "metadata": {},
   "outputs": [
    {
     "name": "stdout",
     "output_type": "stream",
     "text": [
      "1/1 [==============================] - 0s 401ms/step - loss: 4.1316 - mae: 4.1316\n"
     ]
    },
    {
     "data": {
      "text/plain": [
       "[4.131605625152588, 4.131605625152588]"
      ]
     },
     "execution_count": 33,
     "metadata": {},
     "output_type": "execute_result"
    }
   ],
   "source": [
    "#  Evaluate  the model on the test\n",
    "model.evaluate(X_test,y_test)"
   ]
  },
  {
   "cell_type": "code",
   "execution_count": 34,
   "metadata": {},
   "outputs": [
    {
     "data": {
      "text/plain": [
       "<tf.Tensor: shape=(10,), dtype=float32, numpy=\n",
       "array([16.998718, 13.665039, 11.38736 , 10.165678, 10.      , 10.980642,\n",
       "       13.054968, 16.185291, 20.371605, 25.011604], dtype=float32)>"
      ]
     },
     "execution_count": 34,
     "metadata": {},
     "output_type": "execute_result"
    }
   ],
   "source": [
    "# calculate the mean absolute error\n",
    "mae =  tf.metrics.mean_absolute_error(y_true = y_test,\n",
    "                                      y_pred = y_pred)\n",
    "mae"
   ]
  },
  {
   "cell_type": "code",
   "execution_count": 35,
   "metadata": {},
   "outputs": [
    {
     "data": {
      "text/plain": [
       "<tf.Tensor: shape=(10,), dtype=float32, numpy=\n",
       "array([ 71.2516  ,  75.8916  ,  80.5316  ,  85.17161 ,  89.8116  ,\n",
       "        94.45161 ,  99.09161 , 103.73161 , 108.371605, 113.011604],\n",
       "      dtype=float32)>"
      ]
     },
     "execution_count": 35,
     "metadata": {},
     "output_type": "execute_result"
    }
   ],
   "source": [
    "tf.squeeze(y_pred)"
   ]
  },
  {
   "cell_type": "code",
   "execution_count": 36,
   "metadata": {},
   "outputs": [
    {
     "data": {
      "text/plain": [
       "<tf.Tensor: shape=(), dtype=float32, numpy=4.1316056>"
      ]
     },
     "execution_count": 36,
     "metadata": {},
     "output_type": "execute_result"
    }
   ],
   "source": [
    "# calculate  the mean absolute error\n",
    "mae =  tf.metrics.mean_absolute_error(y_true= y_test,\n",
    "                                          y_pred = tf.squeeze(y_pred))\n",
    "mae"
   ]
  },
  {
   "cell_type": "code",
   "execution_count": 37,
   "metadata": {},
   "outputs": [
    {
     "data": {
      "text/plain": [
       "<tf.Tensor: shape=(), dtype=float32, numpy=20.449375>"
      ]
     },
     "execution_count": 37,
     "metadata": {},
     "output_type": "execute_result"
    }
   ],
   "source": [
    "# calculate the mean square error\n",
    "mse = tf.metrics.mean_squared_error(y_true=y_test,\n",
    "                                    y_pred =tf.squeeze(y_pred))\n",
    "mse\n"
   ]
  },
  {
   "cell_type": "code",
   "execution_count": 38,
   "metadata": {},
   "outputs": [
    {
     "data": {
      "text/plain": [
       "<tf.Tensor: shape=(), dtype=float32, numpy=4.1316056>"
      ]
     },
     "execution_count": 38,
     "metadata": {},
     "output_type": "execute_result"
    }
   ],
   "source": [
    "# make some functions to reuse MAE and MSE\n",
    "def mae(y_true, y_pred):\n",
    "    return tf.metrics.mean_absolute_error(y_true= y_test,\n",
    "                                          y_pred = tf.squeeze(y_pred))\n",
    "mae(y_test, y_pred)"
   ]
  },
  {
   "cell_type": "code",
   "execution_count": 39,
   "metadata": {},
   "outputs": [
    {
     "data": {
      "text/plain": [
       "<tf.Tensor: shape=(), dtype=float32, numpy=20.449375>"
      ]
     },
     "execution_count": 39,
     "metadata": {},
     "output_type": "execute_result"
    }
   ],
   "source": [
    "def mse(y_true, y_pred):\n",
    "    return tf.metrics.mean_squared_error(y_true= y_test,\n",
    "                                          y_pred = tf.squeeze(y_pred))\n",
    "mse(y_test, y_pred)"
   ]
  },
  {
   "cell_type": "markdown",
   "metadata": {},
   "source": [
    "###  Running experiments to improve  our model\n",
    "```\n",
    "Build  a model  ->  fit it -> evaluate it -> tweak it -> fit it sooo on\n",
    "```\n",
    "1. Get more Data\n",
    "2. make your model larger\n",
    "3. Train for longer"
   ]
  },
  {
   "cell_type": "code",
   "execution_count": 40,
   "metadata": {},
   "outputs": [
    {
     "name": "stdout",
     "output_type": "stream",
     "text": [
      "Epoch 1/100\n"
     ]
    },
    {
     "name": "stdout",
     "output_type": "stream",
     "text": [
      "2/2 [==============================] - 1s 16ms/step - loss: 53.7963 - mae: 53.7963\n",
      "Epoch 2/100\n",
      "2/2 [==============================] - 0s 12ms/step - loss: 19.9505 - mae: 19.9505\n",
      "Epoch 3/100\n",
      "2/2 [==============================] - 0s 0s/step - loss: 7.6499 - mae: 7.6499\n",
      "Epoch 4/100\n",
      "2/2 [==============================] - 0s 16ms/step - loss: 9.7641 - mae: 9.7641\n",
      "Epoch 5/100\n",
      "2/2 [==============================] - 0s 25ms/step - loss: 11.0513 - mae: 11.0513\n",
      "Epoch 6/100\n",
      "2/2 [==============================] - 0s 0s/step - loss: 10.2094 - mae: 10.2094\n",
      "Epoch 7/100\n",
      "2/2 [==============================] - 0s 16ms/step - loss: 9.2231 - mae: 9.2231\n",
      "Epoch 8/100\n",
      "2/2 [==============================] - 0s 0s/step - loss: 9.1550 - mae: 9.1550\n",
      "Epoch 9/100\n",
      "2/2 [==============================] - 0s 0s/step - loss: 11.7722 - mae: 11.7722\n",
      "Epoch 10/100\n",
      "2/2 [==============================] - 0s 0s/step - loss: 13.6948 - mae: 13.6948\n",
      "Epoch 11/100\n",
      "2/2 [==============================] - 0s 0s/step - loss: 11.7662 - mae: 11.7662\n",
      "Epoch 12/100\n",
      "2/2 [==============================] - 0s 0s/step - loss: 16.4343 - mae: 16.4343\n",
      "Epoch 13/100\n",
      "2/2 [==============================] - 0s 16ms/step - loss: 11.9651 - mae: 11.9651\n",
      "Epoch 14/100\n",
      "2/2 [==============================] - 0s 16ms/step - loss: 13.8995 - mae: 13.8995\n",
      "Epoch 15/100\n",
      "2/2 [==============================] - 0s 13ms/step - loss: 11.2888 - mae: 11.2888\n",
      "Epoch 16/100\n",
      "2/2 [==============================] - 0s 16ms/step - loss: 8.5864 - mae: 8.5864\n",
      "Epoch 17/100\n",
      "2/2 [==============================] - 0s 0s/step - loss: 13.7326 - mae: 13.7326\n",
      "Epoch 18/100\n",
      "2/2 [==============================] - 0s 16ms/step - loss: 11.5825 - mae: 11.5825\n",
      "Epoch 19/100\n",
      "2/2 [==============================] - 0s 16ms/step - loss: 17.7905 - mae: 17.7905\n",
      "Epoch 20/100\n",
      "2/2 [==============================] - 0s 0s/step - loss: 14.9261 - mae: 14.9261\n",
      "Epoch 21/100\n",
      "2/2 [==============================] - 0s 0s/step - loss: 10.8191 - mae: 10.8191\n",
      "Epoch 22/100\n",
      "2/2 [==============================] - 0s 16ms/step - loss: 8.5662 - mae: 8.5662\n",
      "Epoch 23/100\n",
      "2/2 [==============================] - 0s 16ms/step - loss: 9.7508 - mae: 9.7508\n",
      "Epoch 24/100\n",
      "2/2 [==============================] - 0s 16ms/step - loss: 10.9261 - mae: 10.9261\n",
      "Epoch 25/100\n",
      "2/2 [==============================] - 0s 0s/step - loss: 9.1540 - mae: 9.1540\n",
      "Epoch 26/100\n",
      "2/2 [==============================] - 0s 9ms/step - loss: 13.1607 - mae: 13.1607\n",
      "Epoch 27/100\n",
      "2/2 [==============================] - 0s 16ms/step - loss: 10.4619 - mae: 10.4619\n",
      "Epoch 28/100\n",
      "2/2 [==============================] - 0s 16ms/step - loss: 13.5058 - mae: 13.5058\n",
      "Epoch 29/100\n",
      "2/2 [==============================] - 0s 16ms/step - loss: 10.0159 - mae: 10.0159\n",
      "Epoch 30/100\n",
      "2/2 [==============================] - 0s 0s/step - loss: 16.0420 - mae: 16.0420\n",
      "Epoch 31/100\n",
      "2/2 [==============================] - 0s 16ms/step - loss: 23.9208 - mae: 23.9208\n",
      "Epoch 32/100\n",
      "2/2 [==============================] - 0s 16ms/step - loss: 8.0123 - mae: 8.0123\n",
      "Epoch 33/100\n",
      "2/2 [==============================] - 0s 16ms/step - loss: 9.7282 - mae: 9.7282\n",
      "Epoch 34/100\n",
      "2/2 [==============================] - 0s 0s/step - loss: 12.0819 - mae: 12.0819\n",
      "Epoch 35/100\n",
      "2/2 [==============================] - 0s 0s/step - loss: 11.5574 - mae: 11.5574\n",
      "Epoch 36/100\n",
      "2/2 [==============================] - 0s 16ms/step - loss: 12.7550 - mae: 12.7550\n",
      "Epoch 37/100\n",
      "2/2 [==============================] - 0s 16ms/step - loss: 9.4800 - mae: 9.4800\n",
      "Epoch 38/100\n",
      "2/2 [==============================] - 0s 16ms/step - loss: 10.1415 - mae: 10.1415\n",
      "Epoch 39/100\n",
      "2/2 [==============================] - 0s 0s/step - loss: 10.1867 - mae: 10.1867\n",
      "Epoch 40/100\n",
      "2/2 [==============================] - 0s 0s/step - loss: 10.9212 - mae: 10.9212\n",
      "Epoch 41/100\n",
      "2/2 [==============================] - 0s 0s/step - loss: 7.9140 - mae: 7.9140\n",
      "Epoch 42/100\n",
      "2/2 [==============================] - 0s 16ms/step - loss: 10.0949 - mae: 10.0949\n",
      "Epoch 43/100\n",
      "2/2 [==============================] - 0s 0s/step - loss: 8.7053 - mae: 8.7053\n",
      "Epoch 44/100\n",
      "2/2 [==============================] - 0s 16ms/step - loss: 12.2054 - mae: 12.2054\n",
      "Epoch 45/100\n",
      "2/2 [==============================] - 0s 16ms/step - loss: 13.8049 - mae: 13.8049\n",
      "Epoch 46/100\n",
      "2/2 [==============================] - 0s 0s/step - loss: 8.4766 - mae: 8.4766\n",
      "Epoch 47/100\n",
      "2/2 [==============================] - 0s 0s/step - loss: 9.1367 - mae: 9.1367\n",
      "Epoch 48/100\n",
      "2/2 [==============================] - 0s 0s/step - loss: 10.6220 - mae: 10.6220\n",
      "Epoch 49/100\n",
      "2/2 [==============================] - 0s 16ms/step - loss: 7.7539 - mae: 7.7539\n",
      "Epoch 50/100\n",
      "2/2 [==============================] - 0s 16ms/step - loss: 9.5437 - mae: 9.5437\n",
      "Epoch 51/100\n",
      "2/2 [==============================] - 0s 16ms/step - loss: 9.1633 - mae: 9.1633\n",
      "Epoch 52/100\n",
      "2/2 [==============================] - 0s 0s/step - loss: 16.3597 - mae: 16.3597\n",
      "Epoch 53/100\n",
      "2/2 [==============================] - 0s 8ms/step - loss: 14.1361 - mae: 14.1361\n",
      "Epoch 54/100\n",
      "2/2 [==============================] - 0s 16ms/step - loss: 21.1331 - mae: 21.1331\n",
      "Epoch 55/100\n",
      "2/2 [==============================] - 0s 16ms/step - loss: 16.3943 - mae: 16.3943\n",
      "Epoch 56/100\n",
      "2/2 [==============================] - 0s 16ms/step - loss: 9.9883 - mae: 9.9883\n",
      "Epoch 57/100\n",
      "2/2 [==============================] - 0s 0s/step - loss: 9.9640 - mae: 9.9640\n",
      "Epoch 58/100\n",
      "2/2 [==============================] - 0s 0s/step - loss: 9.2247 - mae: 9.2247\n",
      "Epoch 59/100\n",
      "2/2 [==============================] - 0s 16ms/step - loss: 8.4270 - mae: 8.4270\n",
      "Epoch 60/100\n",
      "2/2 [==============================] - 0s 16ms/step - loss: 9.4910 - mae: 9.4910\n",
      "Epoch 61/100\n",
      "2/2 [==============================] - 0s 16ms/step - loss: 11.4381 - mae: 11.4381\n",
      "Epoch 62/100\n",
      "2/2 [==============================] - 0s 0s/step - loss: 11.6968 - mae: 11.6968\n",
      "Epoch 63/100\n",
      "2/2 [==============================] - 0s 0s/step - loss: 7.0885 - mae: 7.0885\n",
      "Epoch 64/100\n",
      "2/2 [==============================] - 0s 0s/step - loss: 16.9747 - mae: 16.9747\n",
      "Epoch 65/100\n",
      "2/2 [==============================] - 0s 0s/step - loss: 12.4671 - mae: 12.4671\n",
      "Epoch 66/100\n",
      "2/2 [==============================] - 0s 16ms/step - loss: 13.0262 - mae: 13.0262\n",
      "Epoch 67/100\n",
      "2/2 [==============================] - 0s 0s/step - loss: 8.0668 - mae: 8.0668\n",
      "Epoch 68/100\n",
      "2/2 [==============================] - 0s 0s/step - loss: 10.1959 - mae: 10.1959\n",
      "Epoch 69/100\n",
      "2/2 [==============================] - 0s 0s/step - loss: 12.3715 - mae: 12.3715\n",
      "Epoch 70/100\n",
      "2/2 [==============================] - 0s 0s/step - loss: 9.0555 - mae: 9.0555\n",
      "Epoch 71/100\n",
      "2/2 [==============================] - 0s 27ms/step - loss: 10.0414 - mae: 10.0414\n",
      "Epoch 72/100\n",
      "2/2 [==============================] - 0s 16ms/step - loss: 10.0556 - mae: 10.0556\n",
      "Epoch 73/100\n",
      "2/2 [==============================] - 0s 0s/step - loss: 12.6168 - mae: 12.6168\n",
      "Epoch 74/100\n",
      "2/2 [==============================] - 0s 16ms/step - loss: 10.3904 - mae: 10.3904\n",
      "Epoch 75/100\n",
      "2/2 [==============================] - 0s 16ms/step - loss: 9.7265 - mae: 9.7265\n",
      "Epoch 76/100\n",
      "2/2 [==============================] - 0s 0s/step - loss: 11.2284 - mae: 11.2284\n",
      "Epoch 77/100\n",
      "2/2 [==============================] - 0s 0s/step - loss: 8.3677 - mae: 8.3677\n",
      "Epoch 78/100\n",
      "2/2 [==============================] - 0s 0s/step - loss: 9.1301 - mae: 9.1301\n",
      "Epoch 79/100\n",
      "2/2 [==============================] - 0s 0s/step - loss: 19.5122 - mae: 19.5122\n",
      "Epoch 80/100\n",
      "2/2 [==============================] - 0s 16ms/step - loss: 14.8937 - mae: 14.8937\n",
      "Epoch 81/100\n",
      "2/2 [==============================] - 0s 16ms/step - loss: 9.0123 - mae: 9.0123\n",
      "Epoch 82/100\n",
      "2/2 [==============================] - 0s 0s/step - loss: 13.0209 - mae: 13.0209\n",
      "Epoch 83/100\n",
      "2/2 [==============================] - 0s 16ms/step - loss: 7.9330 - mae: 7.9330\n",
      "Epoch 84/100\n",
      "2/2 [==============================] - 0s 16ms/step - loss: 7.6936 - mae: 7.6936\n",
      "Epoch 85/100\n",
      "2/2 [==============================] - 0s 0s/step - loss: 10.0401 - mae: 10.0401\n",
      "Epoch 86/100\n",
      "2/2 [==============================] - 0s 0s/step - loss: 9.2499 - mae: 9.2499\n",
      "Epoch 87/100\n",
      "2/2 [==============================] - 0s 0s/step - loss: 12.0277 - mae: 12.0277\n",
      "Epoch 88/100\n",
      "2/2 [==============================] - 0s 0s/step - loss: 10.6464 - mae: 10.6464\n",
      "Epoch 89/100\n",
      "2/2 [==============================] - 0s 16ms/step - loss: 7.2725 - mae: 7.2725\n",
      "Epoch 90/100\n",
      "2/2 [==============================] - 0s 16ms/step - loss: 12.7864 - mae: 12.7864\n",
      "Epoch 91/100\n",
      "2/2 [==============================] - 0s 16ms/step - loss: 7.4752 - mae: 7.4752\n",
      "Epoch 92/100\n",
      "2/2 [==============================] - 0s 0s/step - loss: 6.7615 - mae: 6.7615\n",
      "Epoch 93/100\n",
      "2/2 [==============================] - 0s 0s/step - loss: 11.9377 - mae: 11.9377\n",
      "Epoch 94/100\n",
      "2/2 [==============================] - 0s 0s/step - loss: 8.8744 - mae: 8.8744\n",
      "Epoch 95/100\n",
      "2/2 [==============================] - 0s 16ms/step - loss: 7.7186 - mae: 7.7186\n",
      "Epoch 96/100\n",
      "2/2 [==============================] - 0s 21ms/step - loss: 6.7548 - mae: 6.7548\n",
      "Epoch 97/100\n",
      "2/2 [==============================] - 0s 16ms/step - loss: 8.6228 - mae: 8.6228\n",
      "Epoch 98/100\n",
      "2/2 [==============================] - 0s 16ms/step - loss: 9.4085 - mae: 9.4085\n",
      "Epoch 99/100\n",
      "2/2 [==============================] - 0s 16ms/step - loss: 9.1423 - mae: 9.1423\n",
      "Epoch 100/100\n",
      "2/2 [==============================] - 0s 0s/step - loss: 10.5037 - mae: 10.5037\n"
     ]
    },
    {
     "data": {
      "text/plain": [
       "<keras.src.callbacks.History at 0x14beaa35570>"
      ]
     },
     "execution_count": 40,
     "metadata": {},
     "output_type": "execute_result"
    }
   ],
   "source": [
    "# now start experimenet\n",
    "# lets do 3 model experimenets\n",
    "# set random seed\n",
    "tf.random.set_seed(42)\n",
    "# 1. create a model\n",
    "model_1 = tf.keras.Sequential([\n",
    "    tf.keras.layers.Input(shape=(1,)),\n",
    "    tf.keras.layers.Dense(1)\n",
    "])\n",
    "# 2. compile it\n",
    "model_1.compile(loss =tf.keras.losses.mae,\n",
    "                optimizer = tf.keras.optimizers.SGD(),\n",
    "                metrics =[\"mae\"])\n",
    "# 3.Fit the model\n",
    "model_1.fit(X_train,y_train,epochs=100)\n"
   ]
  },
  {
   "cell_type": "code",
   "execution_count": 41,
   "metadata": {},
   "outputs": [
    {
     "name": "stdout",
     "output_type": "stream",
     "text": [
      "WARNING:tensorflow:5 out of the last 5 calls to <function Model.make_predict_function.<locals>.predict_function at 0x0000014BEBC14F70> triggered tf.function retracing. Tracing is expensive and the excessive number of tracings could be due to (1) creating @tf.function repeatedly in a loop, (2) passing tensors with different shapes, (3) passing Python objects instead of tensors. For (1), please define your @tf.function outside of the loop. For (2), @tf.function has reduce_retracing=True option that can avoid unnecessary retracing. For (3), please refer to https://www.tensorflow.org/guide/function#controlling_retracing and https://www.tensorflow.org/api_docs/python/tf/function for  more details.\n"
     ]
    },
    {
     "name": "stderr",
     "output_type": "stream",
     "text": [
      "WARNING:tensorflow:5 out of the last 5 calls to <function Model.make_predict_function.<locals>.predict_function at 0x0000014BEBC14F70> triggered tf.function retracing. Tracing is expensive and the excessive number of tracings could be due to (1) creating @tf.function repeatedly in a loop, (2) passing tensors with different shapes, (3) passing Python objects instead of tensors. For (1), please define your @tf.function outside of the loop. For (2), @tf.function has reduce_retracing=True option that can avoid unnecessary retracing. For (3), please refer to https://www.tensorflow.org/guide/function#controlling_retracing and https://www.tensorflow.org/api_docs/python/tf/function for  more details.\n"
     ]
    },
    {
     "name": "stdout",
     "output_type": "stream",
     "text": [
      "1/1 [==============================] - 0s 109ms/step\n"
     ]
    },
    {
     "data": {
      "image/png": "[encoded data removed]",
      "text/plain": [
       "<Figure size 1000x700 with 1 Axes>"
      ]
     },
     "metadata": {},
     "output_type": "display_data"
    }
   ],
   "source": [
    "# make and plot prediction for model 1\n",
    "y_preds_1 =model_1.predict(X_test)\n",
    "plott_predictions(predictions=y_preds_1)"
   ]
  },
  {
   "cell_type": "code",
   "execution_count": 42,
   "metadata": {},
   "outputs": [
    {
     "data": {
      "text/plain": [
       "(<tf.Tensor: shape=(), dtype=float32, numpy=14.866147>,\n",
       " <tf.Tensor: shape=(), dtype=float32, numpy=221.82422>)"
      ]
     },
     "execution_count": 42,
     "metadata": {},
     "output_type": "execute_result"
    }
   ],
   "source": [
    "# Calulate model_1 evaluation metrics\n",
    "mae_1 =  mae(y_test,y_preds_1)\n",
    "mse_1 =  mse(y_test,y_preds_1)\n",
    "mae_1,mse_1"
   ]
  },
  {
   "cell_type": "markdown",
   "metadata": {},
   "source": [
    "## Build model 2 \n",
    "which have  2 dense layer and epochs=100 then another 2 dense and epochs =500"
   ]
  },
  {
   "cell_type": "code",
   "execution_count": 43,
   "metadata": {},
   "outputs": [
    {
     "name": "stdout",
     "output_type": "stream",
     "text": [
      "Epoch 1/100\n",
      "2/2 [==============================] - 1s 16ms/step - loss: 21.9346 - mse: 944.4327\n",
      "Epoch 2/100\n",
      "2/2 [==============================] - 0s 16ms/step - loss: 22.8213 - mse: 707.4347\n",
      "Epoch 3/100\n",
      "2/2 [==============================] - 0s 4ms/step - loss: 28.1692 - mse: 1198.0717\n",
      "Epoch 4/100\n",
      "2/2 [==============================] - 0s 7ms/step - loss: 13.5906 - mse: 248.3471\n",
      "Epoch 5/100\n",
      "2/2 [==============================] - 0s 0s/step - loss: 18.3251 - mse: 454.5561\n",
      "Epoch 6/100\n",
      "2/2 [==============================] - 0s 0s/step - loss: 9.2611 - mse: 125.2250\n",
      "Epoch 7/100\n",
      "2/2 [==============================] - 0s 16ms/step - loss: 10.2319 - mse: 138.8449\n",
      "Epoch 8/100\n",
      "2/2 [==============================] - 0s 16ms/step - loss: 11.1909 - mse: 174.4918\n",
      "Epoch 9/100\n",
      "2/2 [==============================] - 0s 16ms/step - loss: 41.7462 - mse: 2777.2598\n",
      "Epoch 10/100\n",
      "2/2 [==============================] - 0s 0s/step - loss: 28.9780 - mse: 1186.9131\n",
      "Epoch 11/100\n",
      "2/2 [==============================] - 0s 0s/step - loss: 8.5405 - mse: 96.2186\n",
      "Epoch 12/100\n",
      "2/2 [==============================] - 0s 16ms/step - loss: 27.4144 - mse: 1033.2384\n",
      "Epoch 13/100\n",
      "2/2 [==============================] - 0s 0s/step - loss: 12.1244 - mse: 175.4113\n",
      "Epoch 14/100\n",
      "2/2 [==============================] - 0s 16ms/step - loss: 34.9313 - mse: 2007.2321\n",
      "Epoch 15/100\n",
      "2/2 [==============================] - 0s 16ms/step - loss: 22.7421 - mse: 735.2719\n",
      "Epoch 16/100\n",
      "2/2 [==============================] - 0s 0s/step - loss: 9.9534 - mse: 124.8334\n",
      "Epoch 17/100\n",
      "2/2 [==============================] - 0s 0s/step - loss: 17.9464 - mse: 428.4114\n",
      "Epoch 18/100\n",
      "2/2 [==============================] - 0s 0s/step - loss: 14.7662 - mse: 344.4097\n",
      "Epoch 19/100\n",
      "2/2 [==============================] - 0s 16ms/step - loss: 11.5880 - mse: 194.9863\n",
      "Epoch 20/100\n",
      "2/2 [==============================] - 0s 16ms/step - loss: 10.5358 - mse: 147.1637\n",
      "Epoch 21/100\n",
      "2/2 [==============================] - 0s 16ms/step - loss: 15.4049 - mse: 323.4529\n",
      "Epoch 22/100\n",
      "2/2 [==============================] - 0s 0s/step - loss: 16.0827 - mse: 360.4162\n",
      "Epoch 23/100\n",
      "2/2 [==============================] - 0s 0s/step - loss: 9.2453 - mse: 118.4437\n",
      "Epoch 24/100\n",
      "2/2 [==============================] - 0s 0s/step - loss: 17.3325 - mse: 412.6558\n",
      "Epoch 25/100\n",
      "2/2 [==============================] - 0s 16ms/step - loss: 15.9837 - mse: 336.2643\n",
      "Epoch 26/100\n",
      "2/2 [==============================] - 0s 16ms/step - loss: 21.0428 - mse: 654.7417\n",
      "Epoch 27/100\n",
      "2/2 [==============================] - 0s 16ms/step - loss: 25.7108 - mse: 1028.9507\n",
      "Epoch 28/100\n",
      "2/2 [==============================] - 0s 0s/step - loss: 18.2414 - mse: 526.1972\n",
      "Epoch 29/100\n",
      "2/2 [==============================] - 0s 0s/step - loss: 9.2282 - mse: 98.6713\n",
      "Epoch 30/100\n",
      "2/2 [==============================] - 0s 15ms/step - loss: 28.8479 - mse: 1480.0588\n",
      "Epoch 31/100\n",
      "2/2 [==============================] - 0s 4ms/step - loss: 52.2215 - mse: 4872.0996\n",
      "Epoch 32/100\n",
      "2/2 [==============================] - 0s 0s/step - loss: 11.8242 - mse: 200.6947\n",
      "Epoch 33/100\n",
      "2/2 [==============================] - 0s 0s/step - loss: 15.3587 - mse: 324.5990\n",
      "Epoch 34/100\n",
      "2/2 [==============================] - 0s 16ms/step - loss: 12.4957 - mse: 203.9551\n",
      "Epoch 35/100\n",
      "2/2 [==============================] - 0s 16ms/step - loss: 9.1469 - mse: 90.2521\n",
      "Epoch 36/100\n",
      "2/2 [==============================] - 0s 0s/step - loss: 16.3155 - mse: 386.3258\n",
      "Epoch 37/100\n",
      "2/2 [==============================] - 0s 16ms/step - loss: 11.1213 - mse: 191.9861\n",
      "Epoch 38/100\n",
      "2/2 [==============================] - 0s 16ms/step - loss: 18.2549 - mse: 440.1061\n",
      "Epoch 39/100\n",
      "2/2 [==============================] - 0s 0s/step - loss: 19.1812 - mse: 537.4406\n",
      "Epoch 40/100\n",
      "2/2 [==============================] - 0s 0s/step - loss: 20.5798 - mse: 618.4764\n",
      "Epoch 41/100\n",
      "2/2 [==============================] - 0s 0s/step - loss: 14.7103 - mse: 269.7161\n",
      "Epoch 42/100\n",
      "2/2 [==============================] - 0s 0s/step - loss: 12.1296 - mse: 178.4170\n",
      "Epoch 43/100\n",
      "2/2 [==============================] - 0s 16ms/step - loss: 10.6584 - mse: 159.8783\n",
      "Epoch 44/100\n",
      "2/2 [==============================] - 0s 16ms/step - loss: 32.0694 - mse: 1689.3181\n",
      "Epoch 45/100\n",
      "2/2 [==============================] - 0s 16ms/step - loss: 12.4028 - mse: 198.1360\n",
      "Epoch 46/100\n",
      "2/2 [==============================] - 0s 31ms/step - loss: 17.3631 - mse: 451.4440\n",
      "Epoch 47/100\n",
      "2/2 [==============================] - 0s 16ms/step - loss: 15.8053 - mse: 341.1808\n",
      "Epoch 48/100\n",
      "2/2 [==============================] - 0s 16ms/step - loss: 8.4002 - mse: 112.7857\n",
      "Epoch 49/100\n",
      "2/2 [==============================] - 0s 16ms/step - loss: 14.2568 - mse: 284.2575\n",
      "Epoch 50/100\n",
      "2/2 [==============================] - 0s 0s/step - loss: 15.1894 - mse: 309.8670\n",
      "Epoch 51/100\n",
      "2/2 [==============================] - 0s 16ms/step - loss: 13.6967 - mse: 257.1616\n",
      "Epoch 52/100\n",
      "2/2 [==============================] - 0s 0s/step - loss: 18.1092 - mse: 463.1242\n",
      "Epoch 53/100\n",
      "2/2 [==============================] - 0s 16ms/step - loss: 22.7810 - mse: 749.7440\n",
      "Epoch 54/100\n",
      "2/2 [==============================] - 0s 0s/step - loss: 26.7749 - mse: 1103.4155\n",
      "Epoch 55/100\n",
      "2/2 [==============================] - 0s 12ms/step - loss: 26.4042 - mse: 1059.7408\n",
      "Epoch 56/100\n",
      "2/2 [==============================] - 0s 16ms/step - loss: 11.3392 - mse: 171.6643\n",
      "Epoch 57/100\n",
      "2/2 [==============================] - 0s 16ms/step - loss: 13.3610 - mse: 225.5103\n",
      "Epoch 58/100\n",
      "2/2 [==============================] - 0s 16ms/step - loss: 9.9466 - mse: 109.5028\n",
      "Epoch 59/100\n",
      "2/2 [==============================] - 0s 0s/step - loss: 13.9229 - mse: 276.1795\n",
      "Epoch 60/100\n",
      "2/2 [==============================] - 0s 16ms/step - loss: 9.9903 - mse: 118.7156\n",
      "Epoch 61/100\n",
      "2/2 [==============================] - 0s 16ms/step - loss: 14.9827 - mse: 308.7675\n",
      "Epoch 62/100\n",
      "2/2 [==============================] - 0s 16ms/step - loss: 11.9295 - mse: 197.0993\n",
      "Epoch 63/100\n",
      "2/2 [==============================] - 0s 0s/step - loss: 10.2870 - mse: 135.3405\n",
      "Epoch 64/100\n",
      "2/2 [==============================] - 0s 0s/step - loss: 23.9201 - mse: 841.0248\n",
      "Epoch 65/100\n",
      "2/2 [==============================] - 0s 0s/step - loss: 10.4644 - mse: 130.4874\n",
      "Epoch 66/100\n",
      "2/2 [==============================] - 0s 16ms/step - loss: 20.9644 - mse: 646.6711\n",
      "Epoch 67/100\n",
      "2/2 [==============================] - 0s 16ms/step - loss: 10.4461 - mse: 126.5294\n",
      "Epoch 68/100\n",
      "2/2 [==============================] - 0s 0s/step - loss: 14.1999 - mse: 303.6834\n",
      "Epoch 69/100\n",
      "2/2 [==============================] - 0s 0s/step - loss: 10.5215 - mse: 126.3055\n",
      "Epoch 70/100\n",
      "2/2 [==============================] - 0s 0s/step - loss: 12.5949 - mse: 201.3455\n",
      "Epoch 71/100\n",
      "2/2 [==============================] - 0s 16ms/step - loss: 13.0265 - mse: 226.8820\n",
      "Epoch 72/100\n",
      "2/2 [==============================] - 0s 16ms/step - loss: 19.4038 - mse: 534.3294\n",
      "Epoch 73/100\n",
      "2/2 [==============================] - 0s 16ms/step - loss: 11.1343 - mse: 192.7654\n",
      "Epoch 74/100\n",
      "2/2 [==============================] - 0s 0s/step - loss: 21.6552 - mse: 729.2589\n",
      "Epoch 75/100\n",
      "2/2 [==============================] - 0s 16ms/step - loss: 7.2163 - mse: 71.4509\n",
      "Epoch 76/100\n",
      "2/2 [==============================] - 0s 0s/step - loss: 9.4480 - mse: 149.0888\n",
      "Epoch 77/100\n",
      "2/2 [==============================] - 0s 16ms/step - loss: 22.1481 - mse: 732.3922\n",
      "Epoch 78/100\n",
      "2/2 [==============================] - 0s 16ms/step - loss: 17.5065 - mse: 465.8150\n",
      "Epoch 79/100\n",
      "2/2 [==============================] - 0s 16ms/step - loss: 14.7312 - mse: 317.5419\n",
      "Epoch 80/100\n",
      "2/2 [==============================] - 0s 0s/step - loss: 24.9265 - mse: 946.6427\n",
      "Epoch 81/100\n",
      "2/2 [==============================] - 0s 30ms/step - loss: 10.8054 - mse: 137.2913\n",
      "Epoch 82/100\n",
      "2/2 [==============================] - 0s 16ms/step - loss: 12.8104 - mse: 233.5779\n",
      "Epoch 83/100\n",
      "2/2 [==============================] - 0s 0s/step - loss: 17.6029 - mse: 404.3010\n",
      "Epoch 84/100\n",
      "2/2 [==============================] - 0s 0s/step - loss: 7.2932 - mse: 73.0751\n",
      "Epoch 85/100\n",
      "2/2 [==============================] - 0s 0s/step - loss: 15.0995 - mse: 318.1976\n",
      "Epoch 86/100\n",
      "2/2 [==============================] - 0s 16ms/step - loss: 15.3926 - mse: 318.1632\n",
      "Epoch 87/100\n",
      "2/2 [==============================] - 0s 16ms/step - loss: 19.3239 - mse: 531.1520\n",
      "Epoch 88/100\n",
      "2/2 [==============================] - 0s 16ms/step - loss: 29.2575 - mse: 1235.5214\n",
      "Epoch 89/100\n",
      "2/2 [==============================] - 0s 0s/step - loss: 10.0882 - mse: 124.0259\n",
      "Epoch 90/100\n",
      "2/2 [==============================] - 0s 0s/step - loss: 21.0647 - mse: 635.2112\n",
      "Epoch 91/100\n",
      "2/2 [==============================] - 0s 16ms/step - loss: 10.4584 - mse: 163.6736\n",
      "Epoch 92/100\n",
      "2/2 [==============================] - 0s 16ms/step - loss: 17.9886 - mse: 442.7142\n",
      "Epoch 93/100\n",
      "2/2 [==============================] - 0s 16ms/step - loss: 6.5459 - mse: 61.1890\n",
      "Epoch 94/100\n",
      "2/2 [==============================] - 0s 0s/step - loss: 11.1180 - mse: 152.8694\n",
      "Epoch 95/100\n",
      "2/2 [==============================] - 0s 16ms/step - loss: 24.3947 - mse: 892.6572\n",
      "Epoch 96/100\n",
      "2/2 [==============================] - 0s 16ms/step - loss: 10.7251 - mse: 172.2746\n",
      "Epoch 97/100\n",
      "2/2 [==============================] - 0s 16ms/step - loss: 15.3734 - mse: 358.3000\n",
      "Epoch 98/100\n",
      "2/2 [==============================] - 0s 0s/step - loss: 8.2409 - mse: 110.6838\n",
      "Epoch 99/100\n",
      "2/2 [==============================] - 0s 0s/step - loss: 16.5538 - mse: 384.7852\n",
      "Epoch 100/100\n",
      "2/2 [==============================] - 0s 0s/step - loss: 14.3217 - mse: 296.4297\n"
     ]
    },
    {
     "data": {
      "text/plain": [
       "<keras.src.callbacks.History at 0x14bebd54940>"
      ]
     },
     "execution_count": 43,
     "metadata": {},
     "output_type": "execute_result"
    }
   ],
   "source": [
    "tf.random.set_seed(42)\n",
    "X_train=tf.reshape(X_train,(-1,1))\n",
    "\n",
    "# create a model\n",
    "model_2 = tf.keras.Sequential([\n",
    "    tf.keras.layers.Dense(10,input_shape=(1,)),\n",
    "    tf.keras.layers.Dense(1)\n",
    "])\n",
    "\n",
    "# compile the model\n",
    "model_2.compile(loss=tf.keras.losses.mae,\n",
    "                optimizer = tf.keras.optimizers.SGD(),\n",
    "                metrics=[\"mse\"])\n",
    "\n",
    "# fit the model\n",
    "model_2.fit(X_train,y_train,epochs=100)\n"
   ]
  },
  {
   "cell_type": "code",
   "execution_count": 44,
   "metadata": {},
   "outputs": [
    {
     "name": "stdout",
     "output_type": "stream",
     "text": [
      "WARNING:tensorflow:6 out of the last 6 calls to <function Model.make_predict_function.<locals>.predict_function at 0x0000014BEBC16290> triggered tf.function retracing. Tracing is expensive and the excessive number of tracings could be due to (1) creating @tf.function repeatedly in a loop, (2) passing tensors with different shapes, (3) passing Python objects instead of tensors. For (1), please define your @tf.function outside of the loop. For (2), @tf.function has reduce_retracing=True option that can avoid unnecessary retracing. For (3), please refer to https://www.tensorflow.org/guide/function#controlling_retracing and https://www.tensorflow.org/api_docs/python/tf/function for  more details.\n"
     ]
    },
    {
     "name": "stderr",
     "output_type": "stream",
     "text": [
      "WARNING:tensorflow:6 out of the last 6 calls to <function Model.make_predict_function.<locals>.predict_function at 0x0000014BEBC16290> triggered tf.function retracing. Tracing is expensive and the excessive number of tracings could be due to (1) creating @tf.function repeatedly in a loop, (2) passing tensors with different shapes, (3) passing Python objects instead of tensors. For (1), please define your @tf.function outside of the loop. For (2), @tf.function has reduce_retracing=True option that can avoid unnecessary retracing. For (3), please refer to https://www.tensorflow.org/guide/function#controlling_retracing and https://www.tensorflow.org/api_docs/python/tf/function for  more details.\n"
     ]
    },
    {
     "name": "stdout",
     "output_type": "stream",
     "text": [
      "1/1 [==============================] - 0s 116ms/step\n"
     ]
    },
    {
     "data": {
      "image/png": "[encoded data removed]",
      "text/plain": [
       "<Figure size 1000x700 with 1 Axes>"
      ]
     },
     "metadata": {},
     "output_type": "display_data"
    }
   ],
   "source": [
    "\n",
    "# make and plot predictions of model 2\n",
    "y_preds_2 =  model_2.predict(X_test)\n",
    "plott_predictions(predictions=y_preds_2)\n"
   ]
  },
  {
   "cell_type": "code",
   "execution_count": 45,
   "metadata": {},
   "outputs": [
    {
     "data": {
      "text/plain": [
       "(<tf.Tensor: shape=(), dtype=float32, numpy=10.951805>,\n",
       " <tf.Tensor: shape=(), dtype=float32, numpy=127.9395>)"
      ]
     },
     "execution_count": 45,
     "metadata": {},
     "output_type": "execute_result"
    }
   ],
   "source": [
    "# calculate model_2 evaluatiton metrics\n",
    "mae_2 = mae(y_test,y_preds_2)\n",
    "mse_2 = mse(y_test,y_preds_2)\n",
    "mae_2,mse_2\n"
   ]
  },
  {
   "cell_type": "markdown",
   "metadata": {},
   "source": [
    "### Build model 3\n",
    "2 layers dense and 500 epochs"
   ]
  },
  {
   "cell_type": "code",
   "execution_count": 46,
   "metadata": {},
   "outputs": [
    {
     "name": "stdout",
     "output_type": "stream",
     "text": [
      "Epoch 1/500\n",
      "2/2 [==============================] - 1s 16ms/step - loss: 41.6937 - mse: 2413.8535\n",
      "Epoch 2/500\n",
      "2/2 [==============================] - 0s 0s/step - loss: 31.7107 - mse: 1343.3020\n",
      "Epoch 3/500\n",
      "2/2 [==============================] - 0s 16ms/step - loss: 36.4887 - mse: 2012.5511\n",
      "Epoch 4/500\n",
      "2/2 [==============================] - 0s 0s/step - loss: 28.5020 - mse: 1193.8086\n",
      "Epoch 5/500\n",
      "2/2 [==============================] - 0s 0s/step - loss: 15.4815 - mse: 307.8334\n",
      "Epoch 6/500\n",
      "2/2 [==============================] - 0s 16ms/step - loss: 12.2911 - mse: 189.1410\n",
      "Epoch 7/500\n",
      "2/2 [==============================] - 0s 16ms/step - loss: 11.5853 - mse: 164.0086\n",
      "Epoch 8/500\n",
      "2/2 [==============================] - 0s 16ms/step - loss: 11.2586 - mse: 181.1942\n",
      "Epoch 9/500\n",
      "2/2 [==============================] - 0s 0s/step - loss: 42.3378 - mse: 2867.8208\n",
      "Epoch 10/500\n",
      "2/2 [==============================] - 0s 0s/step - loss: 29.4913 - mse: 1231.3143\n",
      "Epoch 11/500\n",
      "2/2 [==============================] - 0s 0s/step - loss: 7.7209 - mse: 83.7666\n",
      "Epoch 12/500\n",
      "2/2 [==============================] - 0s 0s/step - loss: 28.5690 - mse: 1116.9441\n",
      "Epoch 13/500\n",
      "2/2 [==============================] - 0s 0s/step - loss: 11.5122 - mse: 145.4213\n",
      "Epoch 14/500\n",
      "2/2 [==============================] - 0s 0s/step - loss: 30.2724 - mse: 1468.4478\n",
      "Epoch 15/500\n",
      "2/2 [==============================] - 0s 0s/step - loss: 20.0320 - mse: 562.8422\n",
      "Epoch 16/500\n",
      "2/2 [==============================] - 0s 16ms/step - loss: 9.9268 - mse: 125.3694\n",
      "Epoch 17/500\n",
      "2/2 [==============================] - 0s 16ms/step - loss: 17.8643 - mse: 423.3743\n",
      "Epoch 18/500\n",
      "2/2 [==============================] - 0s 16ms/step - loss: 14.3375 - mse: 325.9798\n",
      "Epoch 19/500\n",
      "2/2 [==============================] - 0s 16ms/step - loss: 14.4422 - mse: 328.3956\n",
      "Epoch 20/500\n",
      "2/2 [==============================] - 0s 8ms/step - loss: 10.4692 - mse: 148.7364\n",
      "Epoch 21/500\n",
      "2/2 [==============================] - 0s 16ms/step - loss: 15.2209 - mse: 314.3049\n",
      "Epoch 22/500\n",
      "2/2 [==============================] - 0s 16ms/step - loss: 15.5597 - mse: 333.6788\n",
      "Epoch 23/500\n",
      "2/2 [==============================] - 0s 16ms/step - loss: 9.2398 - mse: 118.7330\n",
      "Epoch 24/500\n",
      "2/2 [==============================] - 0s 16ms/step - loss: 17.2511 - mse: 407.6374\n",
      "Epoch 25/500\n",
      "2/2 [==============================] - 0s 16ms/step - loss: 15.9303 - mse: 333.3294\n",
      "Epoch 26/500\n",
      "2/2 [==============================] - 0s 16ms/step - loss: 20.9085 - mse: 648.2764\n",
      "Epoch 27/500\n",
      "2/2 [==============================] - 0s 0s/step - loss: 26.0140 - mse: 1056.3657\n",
      "Epoch 28/500\n",
      "2/2 [==============================] - 0s 0s/step - loss: 18.5054 - mse: 542.1161\n",
      "Epoch 29/500\n",
      "2/2 [==============================] - 0s 3ms/step - loss: 9.2475 - mse: 97.5263\n",
      "Epoch 30/500\n",
      "2/2 [==============================] - 0s 0s/step - loss: 29.1206 - mse: 1516.1633\n",
      "Epoch 31/500\n",
      "2/2 [==============================] - 0s 0s/step - loss: 52.7472 - mse: 4975.7588\n",
      "Epoch 32/500\n",
      "2/2 [==============================] - 0s 0s/step - loss: 11.9437 - mse: 207.9881\n",
      "Epoch 33/500\n",
      "2/2 [==============================] - 0s 16ms/step - loss: 15.5435 - mse: 332.9707\n",
      "Epoch 34/500\n",
      "2/2 [==============================] - 0s 0s/step - loss: 12.6305 - mse: 210.8295\n",
      "Epoch 35/500\n",
      "2/2 [==============================] - 0s 0s/step - loss: 9.2137 - mse: 92.0328\n",
      "Epoch 36/500\n",
      "2/2 [==============================] - 0s 16ms/step - loss: 16.5303 - mse: 397.2884\n",
      "Epoch 37/500\n",
      "2/2 [==============================] - 0s 16ms/step - loss: 11.0741 - mse: 192.3265\n",
      "Epoch 38/500\n",
      "2/2 [==============================] - 0s 0s/step - loss: 18.2023 - mse: 436.2724\n",
      "Epoch 39/500\n",
      "2/2 [==============================] - 0s 16ms/step - loss: 19.1363 - mse: 532.8422\n",
      "Epoch 40/500\n",
      "2/2 [==============================] - 0s 16ms/step - loss: 20.4953 - mse: 613.6219\n",
      "Epoch 41/500\n",
      "2/2 [==============================] - 0s 0s/step - loss: 14.8365 - mse: 275.6768\n",
      "Epoch 42/500\n",
      "2/2 [==============================] - 0s 0s/step - loss: 12.2253 - mse: 183.2261\n",
      "Epoch 43/500\n",
      "2/2 [==============================] - 0s 0s/step - loss: 10.7066 - mse: 164.0394\n",
      "Epoch 44/500\n",
      "2/2 [==============================] - 0s 0s/step - loss: 32.3297 - mse: 1719.6871\n",
      "Epoch 45/500\n",
      "2/2 [==============================] - 0s 16ms/step - loss: 12.4895 - mse: 202.8167\n",
      "Epoch 46/500\n",
      "2/2 [==============================] - 0s 16ms/step - loss: 17.5635 - mse: 462.2989\n",
      "Epoch 47/500\n",
      "2/2 [==============================] - 0s 0s/step - loss: 15.7414 - mse: 338.7564\n",
      "Epoch 48/500\n",
      "2/2 [==============================] - 0s 0s/step - loss: 8.3687 - mse: 112.7451\n",
      "Epoch 49/500\n",
      "2/2 [==============================] - 0s 0s/step - loss: 13.9754 - mse: 268.7458\n",
      "Epoch 50/500\n",
      "2/2 [==============================] - 0s 0s/step - loss: 12.8176 - mse: 215.1184\n",
      "Epoch 51/500\n",
      "2/2 [==============================] - 0s 16ms/step - loss: 14.8314 - mse: 309.0964\n",
      "Epoch 52/500\n",
      "2/2 [==============================] - 0s 16ms/step - loss: 18.7191 - mse: 529.0521\n",
      "Epoch 53/500\n",
      "2/2 [==============================] - 0s 16ms/step - loss: 24.1603 - mse: 827.9479\n",
      "Epoch 54/500\n",
      "2/2 [==============================] - 0s 0s/step - loss: 23.2001 - mse: 806.4258\n",
      "Epoch 55/500\n",
      "2/2 [==============================] - 0s 9ms/step - loss: 24.0556 - mse: 870.8592\n",
      "Epoch 56/500\n",
      "2/2 [==============================] - 0s 16ms/step - loss: 11.1718 - mse: 171.1771\n",
      "Epoch 57/500\n",
      "2/2 [==============================] - 0s 0s/step - loss: 13.1277 - mse: 214.4431\n",
      "Epoch 58/500\n",
      "2/2 [==============================] - 0s 16ms/step - loss: 9.8181 - mse: 106.3847\n",
      "Epoch 59/500\n",
      "2/2 [==============================] - 0s 0s/step - loss: 13.3115 - mse: 249.5579\n",
      "Epoch 60/500\n",
      "2/2 [==============================] - 0s 16ms/step - loss: 10.8758 - mse: 139.4059\n",
      "Epoch 61/500\n",
      "2/2 [==============================] - 0s 16ms/step - loss: 13.4756 - mse: 241.6655\n",
      "Epoch 62/500\n",
      "2/2 [==============================] - 0s 16ms/step - loss: 17.4981 - mse: 467.1887\n",
      "Epoch 63/500\n",
      "2/2 [==============================] - 0s 16ms/step - loss: 9.1629 - mse: 87.7579\n",
      "Epoch 64/500\n",
      "2/2 [==============================] - 0s 0s/step - loss: 18.3673 - mse: 490.3787\n",
      "Epoch 65/500\n",
      "2/2 [==============================] - 0s 12ms/step - loss: 10.1177 - mse: 114.8434\n",
      "Epoch 66/500\n",
      "2/2 [==============================] - 0s 16ms/step - loss: 24.2230 - mse: 885.2425\n",
      "Epoch 67/500\n",
      "2/2 [==============================] - 0s 0s/step - loss: 10.8830 - mse: 142.3985\n",
      "Epoch 68/500\n",
      "2/2 [==============================] - 0s 0s/step - loss: 10.7672 - mse: 158.4898\n",
      "Epoch 69/500\n",
      "2/2 [==============================] - 0s 0s/step - loss: 23.1987 - mse: 777.7067\n",
      "Epoch 70/500\n",
      "2/2 [==============================] - 0s 16ms/step - loss: 8.8263 - mse: 143.3314\n",
      "Epoch 71/500\n",
      "2/2 [==============================] - 0s 16ms/step - loss: 16.0005 - mse: 348.6728\n",
      "Epoch 72/500\n",
      "2/2 [==============================] - 0s 16ms/step - loss: 8.1565 - mse: 109.6562\n",
      "Epoch 73/500\n",
      "2/2 [==============================] - 0s 0s/step - loss: 9.4700 - mse: 152.9112\n",
      "Epoch 74/500\n",
      "2/2 [==============================] - 0s 0s/step - loss: 28.1738 - mse: 1111.7994\n",
      "Epoch 75/500\n",
      "2/2 [==============================] - 0s 16ms/step - loss: 10.1835 - mse: 145.6358\n",
      "Epoch 76/500\n",
      "2/2 [==============================] - 0s 16ms/step - loss: 13.1296 - mse: 217.7050\n",
      "Epoch 77/500\n",
      "2/2 [==============================] - 0s 16ms/step - loss: 18.3355 - mse: 526.8602\n",
      "Epoch 78/500\n",
      "2/2 [==============================] - 0s 0s/step - loss: 9.0133 - mse: 91.0786\n",
      "Epoch 79/500\n",
      "2/2 [==============================] - 0s 0s/step - loss: 29.2780 - mse: 1362.5281\n",
      "Epoch 80/500\n",
      "2/2 [==============================] - 0s 11ms/step - loss: 31.7115 - mse: 1603.8313\n",
      "Epoch 81/500\n",
      "2/2 [==============================] - 0s 16ms/step - loss: 13.9366 - mse: 275.3461\n",
      "Epoch 82/500\n",
      "2/2 [==============================] - 0s 16ms/step - loss: 15.6910 - mse: 339.4031\n",
      "Epoch 83/500\n",
      "2/2 [==============================] - 0s 16ms/step - loss: 11.1807 - mse: 187.2985\n",
      "Epoch 84/500\n",
      "2/2 [==============================] - 0s 0s/step - loss: 7.3131 - mse: 73.4173\n",
      "Epoch 85/500\n",
      "2/2 [==============================] - 0s 0s/step - loss: 15.1213 - mse: 319.0234\n",
      "Epoch 86/500\n",
      "2/2 [==============================] - 0s 0s/step - loss: 15.4127 - mse: 318.8345\n",
      "Epoch 87/500\n",
      "2/2 [==============================] - 0s 16ms/step - loss: 19.3564 - mse: 532.6385\n",
      "Epoch 88/500\n",
      "2/2 [==============================] - 0s 16ms/step - loss: 29.1823 - mse: 1228.7644\n",
      "Epoch 89/500\n",
      "2/2 [==============================] - 0s 16ms/step - loss: 10.0950 - mse: 124.4200\n",
      "Epoch 90/500\n",
      "2/2 [==============================] - 0s 0s/step - loss: 20.9938 - mse: 630.9619\n",
      "Epoch 91/500\n",
      "2/2 [==============================] - 0s 15ms/step - loss: 10.4574 - mse: 164.4353\n",
      "Epoch 92/500\n",
      "2/2 [==============================] - 0s 16ms/step - loss: 17.9189 - mse: 439.1160\n",
      "Epoch 93/500\n",
      "2/2 [==============================] - 0s 0s/step - loss: 6.5689 - mse: 61.9050\n",
      "Epoch 94/500\n",
      "2/2 [==============================] - 0s 0s/step - loss: 11.1106 - mse: 151.8597\n",
      "Epoch 95/500\n",
      "2/2 [==============================] - 0s 31ms/step - loss: 24.2743 - mse: 883.4232\n",
      "Epoch 96/500\n",
      "2/2 [==============================] - 0s 16ms/step - loss: 10.7150 - mse: 173.1165\n",
      "Epoch 97/500\n",
      "2/2 [==============================] - 0s 0s/step - loss: 15.2961 - mse: 354.3366\n",
      "Epoch 98/500\n",
      "2/2 [==============================] - 0s 0s/step - loss: 8.2400 - mse: 111.8142\n",
      "Epoch 99/500\n",
      "2/2 [==============================] - 0s 16ms/step - loss: 16.4669 - mse: 380.9384\n",
      "Epoch 100/500\n",
      "2/2 [==============================] - 0s 16ms/step - loss: 14.2611 - mse: 293.4359\n",
      "Epoch 101/500\n",
      "2/2 [==============================] - 0s 0s/step - loss: 15.2385 - mse: 348.0620\n",
      "Epoch 102/500\n",
      "2/2 [==============================] - 0s 0s/step - loss: 10.7439 - mse: 159.1831\n",
      "Epoch 103/500\n",
      "2/2 [==============================] - 0s 0s/step - loss: 9.1744 - mse: 96.5380\n",
      "Epoch 104/500\n",
      "2/2 [==============================] - 0s 16ms/step - loss: 23.7481 - mse: 844.9418\n",
      "Epoch 105/500\n",
      "2/2 [==============================] - 0s 16ms/step - loss: 10.8265 - mse: 159.7542\n",
      "Epoch 106/500\n",
      "2/2 [==============================] - 0s 0s/step - loss: 11.2811 - mse: 176.4801\n",
      "Epoch 107/500\n",
      "2/2 [==============================] - 0s 16ms/step - loss: 21.2975 - mse: 676.2658\n",
      "Epoch 108/500\n",
      "2/2 [==============================] - 0s 16ms/step - loss: 6.3277 - mse: 57.0681\n",
      "Epoch 109/500\n",
      "2/2 [==============================] - 0s 16ms/step - loss: 10.6113 - mse: 134.1587\n",
      "Epoch 110/500\n",
      "2/2 [==============================] - 0s 0s/step - loss: 10.5501 - mse: 135.3699\n",
      "Epoch 111/500\n",
      "2/2 [==============================] - 0s 16ms/step - loss: 16.7227 - mse: 394.7821\n",
      "Epoch 112/500\n",
      "2/2 [==============================] - 0s 16ms/step - loss: 9.5284 - mse: 120.1576\n",
      "Epoch 113/500\n",
      "2/2 [==============================] - 0s 16ms/step - loss: 17.5996 - mse: 450.3499\n",
      "Epoch 114/500\n",
      "2/2 [==============================] - 0s 0s/step - loss: 16.9708 - mse: 429.6265\n",
      "Epoch 115/500\n",
      "2/2 [==============================] - 0s 7ms/step - loss: 11.0641 - mse: 151.6599\n",
      "Epoch 116/500\n",
      "2/2 [==============================] - 0s 0s/step - loss: 23.0171 - mse: 770.9272\n",
      "Epoch 117/500\n",
      "2/2 [==============================] - 0s 16ms/step - loss: 9.5408 - mse: 126.9395\n",
      "Epoch 118/500\n",
      "2/2 [==============================] - 0s 0s/step - loss: 10.5971 - mse: 137.7353\n",
      "Epoch 119/500\n",
      "2/2 [==============================] - 0s 0s/step - loss: 8.0399 - mse: 76.5217\n",
      "Epoch 120/500\n",
      "2/2 [==============================] - 0s 16ms/step - loss: 29.2881 - mse: 1278.3975\n",
      "Epoch 121/500\n",
      "2/2 [==============================] - 0s 31ms/step - loss: 8.0776 - mse: 70.4764\n",
      "Epoch 122/500\n",
      "2/2 [==============================] - 0s 0s/step - loss: 27.9733 - mse: 1199.1746\n",
      "Epoch 123/500\n",
      "2/2 [==============================] - 0s 16ms/step - loss: 32.4854 - mse: 1548.6075\n",
      "Epoch 124/500\n",
      "2/2 [==============================] - 0s 16ms/step - loss: 19.3222 - mse: 553.5179\n",
      "Epoch 125/500\n",
      "2/2 [==============================] - 0s 0s/step - loss: 9.5131 - mse: 152.4659\n",
      "Epoch 126/500\n",
      "2/2 [==============================] - 0s 0s/step - loss: 9.5882 - mse: 113.1866\n",
      "Epoch 127/500\n",
      "2/2 [==============================] - 0s 0s/step - loss: 12.6893 - mse: 251.5595\n",
      "Epoch 128/500\n",
      "2/2 [==============================] - 0s 16ms/step - loss: 12.7958 - mse: 226.2323\n",
      "Epoch 129/500\n",
      "2/2 [==============================] - 0s 16ms/step - loss: 13.9132 - mse: 310.8044\n",
      "Epoch 130/500\n",
      "2/2 [==============================] - 0s 0s/step - loss: 10.2303 - mse: 121.6693\n",
      "Epoch 131/500\n",
      "2/2 [==============================] - 0s 3ms/step - loss: 21.6564 - mse: 710.4448\n",
      "Epoch 132/500\n",
      "2/2 [==============================] - 0s 0s/step - loss: 8.2721 - mse: 95.8550\n",
      "Epoch 133/500\n",
      "2/2 [==============================] - 0s 0s/step - loss: 9.0533 - mse: 112.3875\n",
      "Epoch 134/500\n",
      "2/2 [==============================] - 0s 0s/step - loss: 16.8657 - mse: 414.5558\n",
      "Epoch 135/500\n",
      "2/2 [==============================] - 0s 16ms/step - loss: 10.6435 - mse: 149.7046\n",
      "Epoch 136/500\n",
      "2/2 [==============================] - 0s 0s/step - loss: 18.4751 - mse: 483.6429\n",
      "Epoch 137/500\n",
      "2/2 [==============================] - 0s 0s/step - loss: 23.4476 - mse: 742.2822\n",
      "Epoch 138/500\n",
      "2/2 [==============================] - 0s 0s/step - loss: 9.2612 - mse: 139.6748\n",
      "Epoch 139/500\n",
      "2/2 [==============================] - 0s 7ms/step - loss: 9.0013 - mse: 143.6085\n",
      "Epoch 140/500\n",
      "2/2 [==============================] - 0s 0s/step - loss: 16.9205 - mse: 412.8631\n",
      "Epoch 141/500\n",
      "2/2 [==============================] - 0s 0s/step - loss: 8.3213 - mse: 75.3750\n",
      "Epoch 142/500\n",
      "2/2 [==============================] - 0s 16ms/step - loss: 33.9526 - mse: 1994.3213\n",
      "Epoch 143/500\n",
      "2/2 [==============================] - 0s 16ms/step - loss: 23.0310 - mse: 741.8801\n",
      "Epoch 144/500\n",
      "2/2 [==============================] - 0s 16ms/step - loss: 11.3445 - mse: 227.8826\n",
      "Epoch 145/500\n",
      "2/2 [==============================] - 0s 0s/step - loss: 25.0588 - mse: 851.0068\n",
      "Epoch 146/500\n",
      "2/2 [==============================] - 0s 0s/step - loss: 11.1206 - mse: 167.3755\n",
      "Epoch 147/500\n",
      "2/2 [==============================] - 0s 16ms/step - loss: 14.1070 - mse: 293.5317\n",
      "Epoch 148/500\n",
      "2/2 [==============================] - 0s 16ms/step - loss: 16.9643 - mse: 394.9266\n",
      "Epoch 149/500\n",
      "2/2 [==============================] - 0s 0s/step - loss: 9.2285 - mse: 108.5662\n",
      "Epoch 150/500\n",
      "2/2 [==============================] - 0s 16ms/step - loss: 7.9296 - mse: 71.2659\n",
      "Epoch 151/500\n",
      "2/2 [==============================] - 0s 16ms/step - loss: 16.4368 - mse: 388.7251\n",
      "Epoch 152/500\n",
      "2/2 [==============================] - 0s 16ms/step - loss: 9.7846 - mse: 119.5201\n",
      "Epoch 153/500\n",
      "2/2 [==============================] - 0s 0s/step - loss: 26.7345 - mse: 1009.4800\n",
      "Epoch 154/500\n",
      "2/2 [==============================] - 0s 0s/step - loss: 11.9469 - mse: 238.5237\n",
      "Epoch 155/500\n",
      "2/2 [==============================] - 0s 0s/step - loss: 15.3083 - mse: 336.9422\n",
      "Epoch 156/500\n",
      "2/2 [==============================] - 0s 0s/step - loss: 16.6999 - mse: 426.4998\n",
      "Epoch 157/500\n",
      "2/2 [==============================] - 0s 5ms/step - loss: 19.1817 - mse: 567.9037\n",
      "Epoch 158/500\n",
      "2/2 [==============================] - 0s 0s/step - loss: 8.2281 - mse: 130.3087\n",
      "Epoch 159/500\n",
      "2/2 [==============================] - 0s 16ms/step - loss: 7.9951 - mse: 108.8724\n",
      "Epoch 160/500\n",
      "2/2 [==============================] - 0s 16ms/step - loss: 21.0091 - mse: 662.4822\n",
      "Epoch 161/500\n",
      "2/2 [==============================] - 0s 16ms/step - loss: 23.6769 - mse: 849.6367\n",
      "Epoch 162/500\n",
      "2/2 [==============================] - 0s 18ms/step - loss: 18.6156 - mse: 494.8686\n",
      "Epoch 163/500\n",
      "2/2 [==============================] - 0s 16ms/step - loss: 17.5714 - mse: 442.9142\n",
      "Epoch 164/500\n",
      "2/2 [==============================] - 0s 16ms/step - loss: 11.0176 - mse: 177.3601\n",
      "Epoch 165/500\n",
      "2/2 [==============================] - 0s 16ms/step - loss: 9.6334 - mse: 179.6612\n",
      "Epoch 166/500\n",
      "2/2 [==============================] - 0s 0s/step - loss: 21.6143 - mse: 683.1718\n",
      "Epoch 167/500\n",
      "2/2 [==============================] - 0s 0s/step - loss: 26.2333 - mse: 1044.6034\n",
      "Epoch 168/500\n",
      "2/2 [==============================] - 0s 0s/step - loss: 9.8634 - mse: 118.5150\n",
      "Epoch 169/500\n",
      "2/2 [==============================] - 0s 0s/step - loss: 22.4953 - mse: 782.4854\n",
      "Epoch 170/500\n",
      "2/2 [==============================] - 0s 16ms/step - loss: 10.1717 - mse: 195.7498\n",
      "Epoch 171/500\n",
      "2/2 [==============================] - 0s 16ms/step - loss: 18.0818 - mse: 504.9516\n",
      "Epoch 172/500\n",
      "2/2 [==============================] - 0s 0s/step - loss: 28.7550 - mse: 1297.9001\n",
      "Epoch 173/500\n",
      "2/2 [==============================] - 0s 0s/step - loss: 16.4692 - mse: 429.5314\n",
      "Epoch 174/500\n",
      "2/2 [==============================] - 0s 16ms/step - loss: 11.2285 - mse: 199.7701\n",
      "Epoch 175/500\n",
      "2/2 [==============================] - 0s 0s/step - loss: 27.6074 - mse: 1099.3904\n",
      "Epoch 176/500\n",
      "2/2 [==============================] - 0s 0s/step - loss: 8.2625 - mse: 77.3783\n",
      "Epoch 177/500\n",
      "2/2 [==============================] - 0s 16ms/step - loss: 9.2590 - mse: 108.9108\n",
      "Epoch 178/500\n",
      "2/2 [==============================] - 0s 16ms/step - loss: 18.0624 - mse: 462.3385\n",
      "Epoch 179/500\n",
      "2/2 [==============================] - 0s 16ms/step - loss: 10.6428 - mse: 148.9475\n",
      "Epoch 180/500\n",
      "2/2 [==============================] - 0s 6ms/step - loss: 7.9033 - mse: 101.6308\n",
      "Epoch 181/500\n",
      "2/2 [==============================] - 0s 0s/step - loss: 17.3220 - mse: 434.8936\n",
      "Epoch 182/500\n",
      "2/2 [==============================] - 0s 0s/step - loss: 10.9911 - mse: 156.5515\n",
      "Epoch 183/500\n",
      "2/2 [==============================] - 0s 0s/step - loss: 11.6678 - mse: 202.8496\n",
      "Epoch 184/500\n",
      "2/2 [==============================] - 0s 0s/step - loss: 30.2560 - mse: 1373.1006\n",
      "Epoch 185/500\n",
      "2/2 [==============================] - 0s 16ms/step - loss: 8.1939 - mse: 130.5314\n",
      "Epoch 186/500\n",
      "2/2 [==============================] - 0s 19ms/step - loss: 18.6923 - mse: 512.7493\n",
      "Epoch 187/500\n",
      "2/2 [==============================] - 0s 16ms/step - loss: 8.7803 - mse: 146.5557\n",
      "Epoch 188/500\n",
      "2/2 [==============================] - 0s 16ms/step - loss: 23.6747 - mse: 819.2627\n",
      "Epoch 189/500\n",
      "2/2 [==============================] - 0s 16ms/step - loss: 9.4024 - mse: 115.7445\n",
      "Epoch 190/500\n",
      "2/2 [==============================] - 0s 0s/step - loss: 17.1536 - mse: 402.4606\n",
      "Epoch 191/500\n",
      "2/2 [==============================] - 0s 0s/step - loss: 8.5765 - mse: 138.0393\n",
      "Epoch 192/500\n",
      "2/2 [==============================] - 0s 16ms/step - loss: 15.1677 - mse: 302.5532\n",
      "Epoch 193/500\n",
      "2/2 [==============================] - 0s 16ms/step - loss: 30.0040 - mse: 1243.9534\n",
      "Epoch 194/500\n",
      "2/2 [==============================] - 0s 16ms/step - loss: 9.6142 - mse: 165.7018\n",
      "Epoch 195/500\n",
      "2/2 [==============================] - 0s 0s/step - loss: 12.0020 - mse: 243.2272\n",
      "Epoch 196/500\n",
      "2/2 [==============================] - 0s 16ms/step - loss: 23.3521 - mse: 788.8928\n",
      "Epoch 197/500\n",
      "2/2 [==============================] - 0s 16ms/step - loss: 18.1403 - mse: 484.4019\n",
      "Epoch 198/500\n",
      "2/2 [==============================] - 0s 16ms/step - loss: 10.8251 - mse: 172.4540\n",
      "Epoch 199/500\n",
      "2/2 [==============================] - 0s 16ms/step - loss: 22.4266 - mse: 733.3418\n",
      "Epoch 200/500\n",
      "2/2 [==============================] - 0s 16ms/step - loss: 17.0751 - mse: 439.3403\n",
      "Epoch 201/500\n",
      "2/2 [==============================] - 0s 16ms/step - loss: 7.3907 - mse: 78.9599\n",
      "Epoch 202/500\n",
      "2/2 [==============================] - 0s 33ms/step - loss: 26.1011 - mse: 922.8410\n",
      "Epoch 203/500\n",
      "2/2 [==============================] - 0s 0s/step - loss: 13.3747 - mse: 259.7048\n",
      "Epoch 204/500\n",
      "2/2 [==============================] - 0s 16ms/step - loss: 18.4246 - mse: 510.4852\n",
      "Epoch 205/500\n",
      "2/2 [==============================] - 0s 8ms/step - loss: 9.2332 - mse: 127.5148\n",
      "Epoch 206/500\n",
      "2/2 [==============================] - 0s 16ms/step - loss: 10.3246 - mse: 138.2293\n",
      "Epoch 207/500\n",
      "2/2 [==============================] - 0s 16ms/step - loss: 20.6607 - mse: 647.4835\n",
      "Epoch 208/500\n",
      "2/2 [==============================] - 0s 7ms/step - loss: 16.1604 - mse: 378.1374\n",
      "Epoch 209/500\n",
      "2/2 [==============================] - 0s 16ms/step - loss: 14.0666 - mse: 308.6849\n",
      "Epoch 210/500\n",
      "2/2 [==============================] - 0s 0s/step - loss: 18.9451 - mse: 522.7472\n",
      "Epoch 211/500\n",
      "2/2 [==============================] - 0s 0s/step - loss: 10.2062 - mse: 146.6180\n",
      "Epoch 212/500\n",
      "2/2 [==============================] - 0s 0s/step - loss: 19.5409 - mse: 573.7443\n",
      "Epoch 213/500\n",
      "2/2 [==============================] - 0s 16ms/step - loss: 14.7313 - mse: 298.9811\n",
      "Epoch 214/500\n",
      "2/2 [==============================] - 0s 16ms/step - loss: 14.3935 - mse: 283.8309\n",
      "Epoch 215/500\n",
      "2/2 [==============================] - 0s 16ms/step - loss: 22.8927 - mse: 774.7613\n",
      "Epoch 216/500\n",
      "2/2 [==============================] - 0s 0s/step - loss: 14.3536 - mse: 318.4713\n",
      "Epoch 217/500\n",
      "2/2 [==============================] - 0s 0s/step - loss: 9.1351 - mse: 113.3630\n",
      "Epoch 218/500\n",
      "2/2 [==============================] - 0s 0s/step - loss: 11.9438 - mse: 192.5697\n",
      "Epoch 219/500\n",
      "2/2 [==============================] - 0s 16ms/step - loss: 6.7653 - mse: 59.6990\n",
      "Epoch 220/500\n",
      "2/2 [==============================] - 0s 16ms/step - loss: 7.1295 - mse: 52.4631\n",
      "Epoch 221/500\n",
      "2/2 [==============================] - 0s 0s/step - loss: 38.3515 - mse: 2539.3049\n",
      "Epoch 222/500\n",
      "2/2 [==============================] - 0s 16ms/step - loss: 38.3474 - mse: 2403.0659\n",
      "Epoch 223/500\n",
      "2/2 [==============================] - 0s 16ms/step - loss: 5.5125 - mse: 54.2437\n",
      "Epoch 224/500\n",
      "2/2 [==============================] - 0s 0s/step - loss: 15.0375 - mse: 339.2097\n",
      "Epoch 225/500\n",
      "2/2 [==============================] - 0s 0s/step - loss: 17.1017 - mse: 380.0101\n",
      "Epoch 226/500\n",
      "2/2 [==============================] - 0s 0s/step - loss: 16.2841 - mse: 391.5958\n",
      "Epoch 227/500\n",
      "2/2 [==============================] - 0s 16ms/step - loss: 16.6336 - mse: 391.5805\n",
      "Epoch 228/500\n",
      "2/2 [==============================] - 0s 16ms/step - loss: 10.0358 - mse: 183.5845\n",
      "Epoch 229/500\n",
      "2/2 [==============================] - 0s 16ms/step - loss: 17.9578 - mse: 450.7224\n",
      "Epoch 230/500\n",
      "2/2 [==============================] - 0s 0s/step - loss: 15.5590 - mse: 313.3425\n",
      "Epoch 231/500\n",
      "2/2 [==============================] - 0s 11ms/step - loss: 21.0601 - mse: 663.4957\n",
      "Epoch 232/500\n",
      "2/2 [==============================] - 0s 0s/step - loss: 25.6150 - mse: 940.1898\n",
      "Epoch 233/500\n",
      "2/2 [==============================] - 0s 6ms/step - loss: 16.5921 - mse: 399.5645\n",
      "Epoch 234/500\n",
      "2/2 [==============================] - 0s 0s/step - loss: 7.3866 - mse: 67.9917\n",
      "Epoch 235/500\n",
      "2/2 [==============================] - 0s 0s/step - loss: 17.2292 - mse: 415.5652\n",
      "Epoch 236/500\n",
      "2/2 [==============================] - 0s 16ms/step - loss: 7.2537 - mse: 70.7799\n",
      "Epoch 237/500\n",
      "2/2 [==============================] - 0s 16ms/step - loss: 9.3615 - mse: 121.2471\n",
      "Epoch 238/500\n",
      "2/2 [==============================] - 0s 16ms/step - loss: 8.2019 - mse: 87.7365\n",
      "Epoch 239/500\n",
      "2/2 [==============================] - 0s 0s/step - loss: 17.2359 - mse: 446.8268\n",
      "Epoch 240/500\n",
      "2/2 [==============================] - 0s 0s/step - loss: 8.9809 - mse: 109.2273\n",
      "Epoch 241/500\n",
      "2/2 [==============================] - 0s 17ms/step - loss: 13.3120 - mse: 276.8874\n",
      "Epoch 242/500\n",
      "2/2 [==============================] - 0s 16ms/step - loss: 8.8833 - mse: 106.6553\n",
      "Epoch 243/500\n",
      "2/2 [==============================] - 0s 16ms/step - loss: 18.9683 - mse: 550.3568\n",
      "Epoch 244/500\n",
      "2/2 [==============================] - 0s 0s/step - loss: 14.0347 - mse: 275.0742\n",
      "Epoch 245/500\n",
      "2/2 [==============================] - 0s 0s/step - loss: 14.6651 - mse: 289.0222\n",
      "Epoch 246/500\n",
      "2/2 [==============================] - 0s 16ms/step - loss: 15.8009 - mse: 369.4411\n",
      "Epoch 247/500\n",
      "2/2 [==============================] - 0s 16ms/step - loss: 17.6755 - mse: 420.4809\n",
      "Epoch 248/500\n",
      "2/2 [==============================] - 0s 16ms/step - loss: 13.2338 - mse: 252.0616\n",
      "Epoch 249/500\n",
      "2/2 [==============================] - 0s 0s/step - loss: 14.5164 - mse: 288.8184\n",
      "Epoch 250/500\n",
      "2/2 [==============================] - 0s 0s/step - loss: 23.2307 - mse: 792.5573\n",
      "Epoch 251/500\n",
      "2/2 [==============================] - 0s 16ms/step - loss: 9.3486 - mse: 119.8203\n",
      "Epoch 252/500\n",
      "2/2 [==============================] - 0s 16ms/step - loss: 36.6648 - mse: 2197.1440\n",
      "Epoch 253/500\n",
      "2/2 [==============================] - 0s 16ms/step - loss: 21.8403 - mse: 669.0511\n",
      "Epoch 254/500\n",
      "2/2 [==============================] - 0s 0s/step - loss: 7.3278 - mse: 78.4973\n",
      "Epoch 255/500\n",
      "2/2 [==============================] - 0s 0s/step - loss: 24.7018 - mse: 881.9174\n",
      "Epoch 256/500\n",
      "2/2 [==============================] - 0s 16ms/step - loss: 12.4499 - mse: 220.8557\n",
      "Epoch 257/500\n",
      "2/2 [==============================] - 0s 16ms/step - loss: 10.6089 - mse: 164.2261\n",
      "Epoch 258/500\n",
      "2/2 [==============================] - 0s 11ms/step - loss: 14.2192 - mse: 307.2530\n",
      "Epoch 259/500\n",
      "2/2 [==============================] - 0s 0s/step - loss: 11.2794 - mse: 187.3668\n",
      "Epoch 260/500\n",
      "2/2 [==============================] - 0s 0s/step - loss: 31.6139 - mse: 1527.1460\n",
      "Epoch 261/500\n",
      "2/2 [==============================] - 0s 47ms/step - loss: 11.2061 - mse: 178.9546\n",
      "Epoch 262/500\n",
      "2/2 [==============================] - 0s 16ms/step - loss: 10.0579 - mse: 139.8595\n",
      "Epoch 263/500\n",
      "2/2 [==============================] - 0s 0s/step - loss: 8.9677 - mse: 103.8563\n",
      "Epoch 264/500\n",
      "2/2 [==============================] - 0s 16ms/step - loss: 21.4885 - mse: 649.2518\n",
      "Epoch 265/500\n",
      "2/2 [==============================] - 0s 16ms/step - loss: 11.4591 - mse: 199.1054\n",
      "Epoch 266/500\n",
      "2/2 [==============================] - 0s 0s/step - loss: 13.2996 - mse: 255.1995\n",
      "Epoch 267/500\n",
      "2/2 [==============================] - 0s 0s/step - loss: 11.0916 - mse: 233.1198\n",
      "Epoch 268/500\n",
      "2/2 [==============================] - 0s 0s/step - loss: 19.1676 - mse: 550.4591\n",
      "Epoch 269/500\n",
      "2/2 [==============================] - 0s 0s/step - loss: 40.6762 - mse: 2565.9160\n",
      "Epoch 270/500\n",
      "2/2 [==============================] - 0s 16ms/step - loss: 12.9199 - mse: 255.8349\n",
      "Epoch 271/500\n",
      "2/2 [==============================] - 0s 16ms/step - loss: 14.7708 - mse: 279.9448\n",
      "Epoch 272/500\n",
      "2/2 [==============================] - 0s 0s/step - loss: 28.5175 - mse: 1116.2878\n",
      "Epoch 273/500\n",
      "2/2 [==============================] - 0s 0s/step - loss: 7.3763 - mse: 84.0266\n",
      "Epoch 274/500\n",
      "2/2 [==============================] - 0s 16ms/step - loss: 6.3685 - mse: 45.8653\n",
      "Epoch 275/500\n",
      "2/2 [==============================] - 0s 16ms/step - loss: 36.8630 - mse: 2081.8716\n",
      "Epoch 276/500\n",
      "2/2 [==============================] - 0s 16ms/step - loss: 8.2994 - mse: 110.1805\n",
      "Epoch 277/500\n",
      "2/2 [==============================] - 0s 0s/step - loss: 27.6868 - mse: 1049.2743\n",
      "Epoch 278/500\n",
      "2/2 [==============================] - 0s 0s/step - loss: 10.6911 - mse: 212.0609\n",
      "Epoch 279/500\n",
      "2/2 [==============================] - 0s 16ms/step - loss: 16.1189 - mse: 390.5020\n",
      "Epoch 280/500\n",
      "2/2 [==============================] - 0s 16ms/step - loss: 21.2508 - mse: 682.2777\n",
      "Epoch 281/500\n",
      "2/2 [==============================] - 0s 16ms/step - loss: 23.7569 - mse: 862.5166\n",
      "Epoch 282/500\n",
      "2/2 [==============================] - 0s 16ms/step - loss: 8.2651 - mse: 96.6234\n",
      "Epoch 283/500\n",
      "2/2 [==============================] - 0s 10ms/step - loss: 8.4495 - mse: 98.5132\n",
      "Epoch 284/500\n",
      "2/2 [==============================] - 0s 16ms/step - loss: 26.5886 - mse: 1072.7081\n",
      "Epoch 285/500\n",
      "2/2 [==============================] - 0s 16ms/step - loss: 14.2033 - mse: 320.7062\n",
      "Epoch 286/500\n",
      "2/2 [==============================] - 0s 16ms/step - loss: 5.2691 - mse: 37.1225\n",
      "Epoch 287/500\n",
      "2/2 [==============================] - 0s 16ms/step - loss: 20.8360 - mse: 650.4218\n",
      "Epoch 288/500\n",
      "2/2 [==============================] - 0s 16ms/step - loss: 27.5670 - mse: 1155.6478\n",
      "Epoch 289/500\n",
      "2/2 [==============================] - 0s 0s/step - loss: 10.4480 - mse: 224.1139\n",
      "Epoch 290/500\n",
      "2/2 [==============================] - 0s 0s/step - loss: 16.3203 - mse: 354.1868\n",
      "Epoch 291/500\n",
      "2/2 [==============================] - 0s 16ms/step - loss: 16.5120 - mse: 399.8450\n",
      "Epoch 292/500\n",
      "2/2 [==============================] - 0s 16ms/step - loss: 7.4409 - mse: 104.5935\n",
      "Epoch 293/500\n",
      "2/2 [==============================] - 0s 16ms/step - loss: 16.5560 - mse: 422.8685\n",
      "Epoch 294/500\n",
      "2/2 [==============================] - 0s 0s/step - loss: 25.3485 - mse: 944.2629\n",
      "Epoch 295/500\n",
      "2/2 [==============================] - 0s 16ms/step - loss: 14.5507 - mse: 308.6638\n",
      "Epoch 296/500\n",
      "2/2 [==============================] - 0s 16ms/step - loss: 4.6826 - mse: 32.9224\n",
      "Epoch 297/500\n",
      "2/2 [==============================] - 0s 0s/step - loss: 7.2836 - mse: 102.4326\n",
      "Epoch 298/500\n",
      "2/2 [==============================] - 0s 16ms/step - loss: 19.5762 - mse: 562.4941\n",
      "Epoch 299/500\n",
      "2/2 [==============================] - 0s 31ms/step - loss: 6.6205 - mse: 56.9693\n",
      "Epoch 300/500\n",
      "2/2 [==============================] - 0s 0s/step - loss: 22.0196 - mse: 727.7407\n",
      "Epoch 301/500\n",
      "2/2 [==============================] - 0s 16ms/step - loss: 9.1291 - mse: 134.0309\n",
      "Epoch 302/500\n",
      "2/2 [==============================] - 0s 0s/step - loss: 11.1754 - mse: 193.0099\n",
      "Epoch 303/500\n",
      "2/2 [==============================] - 0s 0s/step - loss: 9.3340 - mse: 122.6265\n",
      "Epoch 304/500\n",
      "2/2 [==============================] - 0s 16ms/step - loss: 23.6721 - mse: 759.5677\n",
      "Epoch 305/500\n",
      "2/2 [==============================] - 0s 8ms/step - loss: 7.9206 - mse: 87.2790\n",
      "Epoch 306/500\n",
      "2/2 [==============================] - 0s 10ms/step - loss: 23.7183 - mse: 798.9518\n",
      "Epoch 307/500\n",
      "2/2 [==============================] - 0s 16ms/step - loss: 5.8899 - mse: 66.3549\n",
      "Epoch 308/500\n",
      "2/2 [==============================] - 0s 16ms/step - loss: 21.3396 - mse: 694.2643\n",
      "Epoch 309/500\n",
      "2/2 [==============================] - 0s 0s/step - loss: 18.3762 - mse: 486.5051\n",
      "Epoch 310/500\n",
      "2/2 [==============================] - 0s 16ms/step - loss: 4.5003 - mse: 30.7895\n",
      "Epoch 311/500\n",
      "2/2 [==============================] - 0s 16ms/step - loss: 6.5118 - mse: 49.7869\n",
      "Epoch 312/500\n",
      "2/2 [==============================] - 0s 16ms/step - loss: 35.4021 - mse: 2002.5920\n",
      "Epoch 313/500\n",
      "2/2 [==============================] - 0s 16ms/step - loss: 28.8780 - mse: 1208.9249\n",
      "Epoch 314/500\n",
      "2/2 [==============================] - 0s 0s/step - loss: 11.2010 - mse: 271.7458\n",
      "Epoch 315/500\n",
      "2/2 [==============================] - 0s 0s/step - loss: 23.5670 - mse: 807.6201\n",
      "Epoch 316/500\n",
      "2/2 [==============================] - 0s 16ms/step - loss: 14.4003 - mse: 325.2415\n",
      "Epoch 317/500\n",
      "2/2 [==============================] - 0s 16ms/step - loss: 19.9384 - mse: 545.9036\n",
      "Epoch 318/500\n",
      "2/2 [==============================] - 0s 16ms/step - loss: 7.9902 - mse: 82.8359\n",
      "Epoch 319/500\n",
      "2/2 [==============================] - 0s 3ms/step - loss: 18.0757 - mse: 484.6523\n",
      "Epoch 320/500\n",
      "2/2 [==============================] - 0s 516us/step - loss: 10.6168 - mse: 192.9209\n",
      "Epoch 321/500\n",
      "2/2 [==============================] - 0s 0s/step - loss: 7.0107 - mse: 108.3800\n",
      "Epoch 322/500\n",
      "2/2 [==============================] - 0s 8ms/step - loss: 8.6811 - mse: 169.9220\n",
      "Epoch 323/500\n",
      "2/2 [==============================] - 0s 7ms/step - loss: 18.3536 - mse: 521.1031\n",
      "Epoch 324/500\n",
      "2/2 [==============================] - 0s 22ms/step - loss: 6.2983 - mse: 53.0604\n",
      "Epoch 325/500\n",
      "2/2 [==============================] - 0s 0s/step - loss: 14.5803 - mse: 318.6672\n",
      "Epoch 326/500\n",
      "2/2 [==============================] - 0s 13ms/step - loss: 6.9806 - mse: 75.6531\n",
      "Epoch 327/500\n",
      "2/2 [==============================] - 0s 0s/step - loss: 17.5792 - mse: 444.4748\n",
      "Epoch 328/500\n",
      "2/2 [==============================] - 0s 16ms/step - loss: 14.3853 - mse: 291.1751\n",
      "Epoch 329/500\n",
      "2/2 [==============================] - 0s 21ms/step - loss: 17.7023 - mse: 480.6388\n",
      "Epoch 330/500\n",
      "2/2 [==============================] - 0s 16ms/step - loss: 6.7752 - mse: 92.8181\n",
      "Epoch 331/500\n",
      "2/2 [==============================] - 0s 16ms/step - loss: 19.7009 - mse: 589.9386\n",
      "Epoch 332/500\n",
      "2/2 [==============================] - 0s 0s/step - loss: 10.5316 - mse: 172.3580\n",
      "Epoch 333/500\n",
      "2/2 [==============================] - 0s 0s/step - loss: 16.3011 - mse: 394.2423\n",
      "Epoch 334/500\n",
      "2/2 [==============================] - 0s 16ms/step - loss: 9.7332 - mse: 198.6588\n",
      "Epoch 335/500\n",
      "2/2 [==============================] - 0s 16ms/step - loss: 13.0595 - mse: 266.9786\n",
      "Epoch 336/500\n",
      "2/2 [==============================] - 0s 16ms/step - loss: 32.5018 - mse: 1440.8416\n",
      "Epoch 337/500\n",
      "2/2 [==============================] - 0s 0s/step - loss: 11.0471 - mse: 189.7778\n",
      "Epoch 338/500\n",
      "2/2 [==============================] - 0s 0s/step - loss: 19.9721 - mse: 586.9906\n",
      "Epoch 339/500\n",
      "2/2 [==============================] - 0s 16ms/step - loss: 34.2646 - mse: 1756.9143\n",
      "Epoch 340/500\n",
      "2/2 [==============================] - 0s 16ms/step - loss: 8.7099 - mse: 107.6294\n",
      "Epoch 341/500\n",
      "2/2 [==============================] - 0s 16ms/step - loss: 21.9158 - mse: 671.0262\n",
      "Epoch 342/500\n",
      "2/2 [==============================] - 0s 0s/step - loss: 13.8578 - mse: 257.1225\n",
      "Epoch 343/500\n",
      "2/2 [==============================] - 0s 0s/step - loss: 11.7049 - mse: 181.7008\n",
      "Epoch 344/500\n",
      "2/2 [==============================] - 0s 0s/step - loss: 10.6914 - mse: 227.1780\n",
      "Epoch 345/500\n",
      "2/2 [==============================] - 0s 16ms/step - loss: 30.9135 - mse: 1344.0720\n",
      "Epoch 346/500\n",
      "2/2 [==============================] - 0s 16ms/step - loss: 10.6450 - mse: 260.0780\n",
      "Epoch 347/500\n",
      "2/2 [==============================] - 0s 31ms/step - loss: 25.5761 - mse: 916.2554\n",
      "Epoch 348/500\n",
      "2/2 [==============================] - 0s 16ms/step - loss: 13.2558 - mse: 272.5500\n",
      "Epoch 349/500\n",
      "2/2 [==============================] - 0s 31ms/step - loss: 13.0446 - mse: 249.4043\n",
      "Epoch 350/500\n",
      "2/2 [==============================] - 0s 0s/step - loss: 15.4032 - mse: 327.6690\n",
      "Epoch 351/500\n",
      "2/2 [==============================] - 0s 16ms/step - loss: 32.8814 - mse: 1517.7240\n",
      "Epoch 352/500\n",
      "2/2 [==============================] - 0s 31ms/step - loss: 14.0926 - mse: 279.9346\n",
      "Epoch 353/500\n",
      "2/2 [==============================] - 0s 0s/step - loss: 17.7890 - mse: 485.5570\n",
      "Epoch 354/500\n",
      "2/2 [==============================] - 0s 8ms/step - loss: 11.3476 - mse: 232.7327\n",
      "Epoch 355/500\n",
      "2/2 [==============================] - 0s 16ms/step - loss: 26.7810 - mse: 1025.0712\n",
      "Epoch 356/500\n",
      "2/2 [==============================] - 0s 0s/step - loss: 9.7402 - mse: 159.4847\n",
      "Epoch 357/500\n",
      "2/2 [==============================] - 0s 17ms/step - loss: 17.1317 - mse: 442.7033\n",
      "Epoch 358/500\n",
      "2/2 [==============================] - 0s 16ms/step - loss: 15.8107 - mse: 370.9117\n",
      "Epoch 359/500\n",
      "2/2 [==============================] - 0s 0s/step - loss: 11.7069 - mse: 305.8765\n",
      "Epoch 360/500\n",
      "2/2 [==============================] - 0s 16ms/step - loss: 20.2493 - mse: 616.3337\n",
      "Epoch 361/500\n",
      "2/2 [==============================] - 0s 16ms/step - loss: 11.0620 - mse: 222.0168\n",
      "Epoch 362/500\n",
      "2/2 [==============================] - 0s 16ms/step - loss: 6.8481 - mse: 76.4021\n",
      "Epoch 363/500\n",
      "2/2 [==============================] - 0s 16ms/step - loss: 24.0397 - mse: 842.4390\n",
      "Epoch 364/500\n",
      "2/2 [==============================] - 0s 0s/step - loss: 29.8216 - mse: 1292.1508\n",
      "Epoch 365/500\n",
      "2/2 [==============================] - 0s 0s/step - loss: 8.3910 - mse: 108.9843\n",
      "Epoch 366/500\n",
      "2/2 [==============================] - 0s 16ms/step - loss: 6.1155 - mse: 48.6113\n",
      "Epoch 367/500\n",
      "2/2 [==============================] - 0s 16ms/step - loss: 34.9424 - mse: 1854.6615\n",
      "Epoch 368/500\n",
      "2/2 [==============================] - 0s 0s/step - loss: 7.4383 - mse: 101.0448\n",
      "Epoch 369/500\n",
      "2/2 [==============================] - 0s 0s/step - loss: 9.2521 - mse: 129.7865\n",
      "Epoch 370/500\n",
      "2/2 [==============================] - 0s 0s/step - loss: 10.9525 - mse: 207.1381\n",
      "Epoch 371/500\n",
      "2/2 [==============================] - 0s 16ms/step - loss: 9.0145 - mse: 142.0382\n",
      "Epoch 372/500\n",
      "2/2 [==============================] - 0s 16ms/step - loss: 7.7120 - mse: 143.4821\n",
      "Epoch 373/500\n",
      "2/2 [==============================] - 0s 0s/step - loss: 25.0549 - mse: 919.0565\n",
      "Epoch 374/500\n",
      "2/2 [==============================] - 0s 0s/step - loss: 13.2339 - mse: 283.5444\n",
      "Epoch 375/500\n",
      "2/2 [==============================] - 0s 16ms/step - loss: 11.8557 - mse: 213.7929\n",
      "Epoch 376/500\n",
      "2/2 [==============================] - 0s 16ms/step - loss: 14.1287 - mse: 285.2206\n",
      "Epoch 377/500\n",
      "2/2 [==============================] - 0s 0s/step - loss: 15.7227 - mse: 319.1181\n",
      "Epoch 378/500\n",
      "2/2 [==============================] - 0s 11ms/step - loss: 17.0459 - mse: 464.8846\n",
      "Epoch 379/500\n",
      "2/2 [==============================] - 0s 16ms/step - loss: 19.3907 - mse: 536.7992\n",
      "Epoch 380/500\n",
      "2/2 [==============================] - 0s 16ms/step - loss: 15.7505 - mse: 387.3378\n",
      "Epoch 381/500\n",
      "2/2 [==============================] - 0s 0s/step - loss: 11.4664 - mse: 217.5177\n",
      "Epoch 382/500\n",
      "2/2 [==============================] - 0s 16ms/step - loss: 16.3465 - mse: 356.9772\n",
      "Epoch 383/500\n",
      "2/2 [==============================] - 0s 0s/step - loss: 22.1044 - mse: 752.9293\n",
      "Epoch 384/500\n",
      "2/2 [==============================] - 0s 0s/step - loss: 7.7650 - mse: 83.2947\n",
      "Epoch 385/500\n",
      "2/2 [==============================] - 0s 0s/step - loss: 10.6256 - mse: 273.4035\n",
      "Epoch 386/500\n",
      "2/2 [==============================] - 0s 16ms/step - loss: 19.1097 - mse: 571.1002\n",
      "Epoch 387/500\n",
      "2/2 [==============================] - 0s 16ms/step - loss: 26.4561 - mse: 1021.4328\n",
      "Epoch 388/500\n",
      "2/2 [==============================] - 0s 16ms/step - loss: 10.0978 - mse: 174.2211\n",
      "Epoch 389/500\n",
      "2/2 [==============================] - 0s 0s/step - loss: 5.1853 - mse: 40.5816\n",
      "Epoch 390/500\n",
      "2/2 [==============================] - 0s 0s/step - loss: 18.7859 - mse: 511.4430\n",
      "Epoch 391/500\n",
      "2/2 [==============================] - 0s 0s/step - loss: 9.3507 - mse: 261.0598\n",
      "Epoch 392/500\n",
      "2/2 [==============================] - 0s 16ms/step - loss: 14.4159 - mse: 327.2814\n",
      "Epoch 393/500\n",
      "2/2 [==============================] - 0s 16ms/step - loss: 15.4264 - mse: 340.2076\n",
      "Epoch 394/500\n",
      "2/2 [==============================] - 0s 16ms/step - loss: 14.7609 - mse: 321.1279\n",
      "Epoch 395/500\n",
      "2/2 [==============================] - 0s 16ms/step - loss: 24.9980 - mse: 884.0582\n",
      "Epoch 396/500\n",
      "2/2 [==============================] - 0s 0s/step - loss: 19.0889 - mse: 517.2275\n",
      "Epoch 397/500\n",
      "2/2 [==============================] - 0s 16ms/step - loss: 11.6039 - mse: 281.6555\n",
      "Epoch 398/500\n",
      "2/2 [==============================] - 0s 16ms/step - loss: 19.2639 - mse: 582.2928\n",
      "Epoch 399/500\n",
      "2/2 [==============================] - 0s 16ms/step - loss: 25.8452 - mse: 1000.0314\n",
      "Epoch 400/500\n",
      "2/2 [==============================] - 0s 31ms/step - loss: 15.5197 - mse: 348.7737\n",
      "Epoch 401/500\n",
      "2/2 [==============================] - 0s 0s/step - loss: 14.6882 - mse: 282.6856\n",
      "Epoch 402/500\n",
      "2/2 [==============================] - 0s 0s/step - loss: 24.3154 - mse: 840.5065\n",
      "Epoch 403/500\n",
      "2/2 [==============================] - 0s 16ms/step - loss: 16.1953 - mse: 387.9645\n",
      "Epoch 404/500\n",
      "2/2 [==============================] - 0s 0s/step - loss: 10.3945 - mse: 209.9472\n",
      "Epoch 405/500\n",
      "2/2 [==============================] - 0s 0s/step - loss: 6.4017 - mse: 68.2073\n",
      "Epoch 406/500\n",
      "2/2 [==============================] - 0s 0s/step - loss: 17.6492 - mse: 469.9557\n",
      "Epoch 407/500\n",
      "2/2 [==============================] - 0s 16ms/step - loss: 11.0610 - mse: 259.8645\n",
      "Epoch 408/500\n",
      "2/2 [==============================] - 0s 16ms/step - loss: 21.1379 - mse: 682.5658\n",
      "Epoch 409/500\n",
      "2/2 [==============================] - 0s 6ms/step - loss: 30.1171 - mse: 1399.5785\n",
      "Epoch 410/500\n",
      "2/2 [==============================] - 0s 16ms/step - loss: 9.8912 - mse: 240.5260\n",
      "Epoch 411/500\n",
      "2/2 [==============================] - 0s 16ms/step - loss: 14.7516 - mse: 282.3556\n",
      "Epoch 412/500\n",
      "2/2 [==============================] - 0s 0s/step - loss: 21.5202 - mse: 709.1684\n",
      "Epoch 413/500\n",
      "2/2 [==============================] - 0s 0s/step - loss: 13.2087 - mse: 269.6278\n",
      "Epoch 414/500\n",
      "2/2 [==============================] - 0s 16ms/step - loss: 8.2688 - mse: 183.9639\n",
      "Epoch 415/500\n",
      "2/2 [==============================] - 0s 16ms/step - loss: 11.6885 - mse: 243.0208\n",
      "Epoch 416/500\n",
      "2/2 [==============================] - 0s 0s/step - loss: 25.5920 - mse: 911.4966\n",
      "Epoch 417/500\n",
      "2/2 [==============================] - 0s 0s/step - loss: 15.8174 - mse: 381.2714\n",
      "Epoch 418/500\n",
      "2/2 [==============================] - 0s 0s/step - loss: 12.5646 - mse: 232.1428\n",
      "Epoch 419/500\n",
      "2/2 [==============================] - 0s 16ms/step - loss: 15.7268 - mse: 360.0870\n",
      "Epoch 420/500\n",
      "2/2 [==============================] - 0s 16ms/step - loss: 24.4119 - mse: 828.1241\n",
      "Epoch 421/500\n",
      "2/2 [==============================] - 0s 16ms/step - loss: 18.3197 - mse: 489.2164\n",
      "Epoch 422/500\n",
      "2/2 [==============================] - 0s 0s/step - loss: 8.6757 - mse: 203.8692\n",
      "Epoch 423/500\n",
      "2/2 [==============================] - 0s 0s/step - loss: 24.6309 - mse: 859.7666\n",
      "Epoch 424/500\n",
      "2/2 [==============================] - 0s 16ms/step - loss: 16.8892 - mse: 439.5252\n",
      "Epoch 425/500\n",
      "2/2 [==============================] - 0s 16ms/step - loss: 7.3853 - mse: 78.8287\n",
      "Epoch 426/500\n",
      "2/2 [==============================] - 0s 16ms/step - loss: 21.0765 - mse: 614.8560\n",
      "Epoch 427/500\n",
      "2/2 [==============================] - 0s 18ms/step - loss: 6.5562 - mse: 83.0236\n",
      "Epoch 428/500\n",
      "2/2 [==============================] - 0s 16ms/step - loss: 13.4859 - mse: 300.1569\n",
      "Epoch 429/500\n",
      "2/2 [==============================] - 0s 16ms/step - loss: 11.2103 - mse: 202.2752\n",
      "Epoch 430/500\n",
      "2/2 [==============================] - 0s 0s/step - loss: 12.1089 - mse: 274.0644\n",
      "Epoch 431/500\n",
      "2/2 [==============================] - 0s 0s/step - loss: 8.6625 - mse: 139.6403\n",
      "Epoch 432/500\n",
      "2/2 [==============================] - 0s 16ms/step - loss: 18.9134 - mse: 501.8394\n",
      "Epoch 433/500\n",
      "2/2 [==============================] - 0s 16ms/step - loss: 9.4903 - mse: 212.8306\n",
      "Epoch 434/500\n",
      "2/2 [==============================] - 0s 16ms/step - loss: 30.9911 - mse: 1344.4457\n",
      "Epoch 435/500\n",
      "2/2 [==============================] - 0s 16ms/step - loss: 11.8669 - mse: 312.9199\n",
      "Epoch 436/500\n",
      "2/2 [==============================] - 0s 0s/step - loss: 28.7895 - mse: 1209.2592\n",
      "Epoch 437/500\n",
      "2/2 [==============================] - 0s 0s/step - loss: 8.0929 - mse: 181.2821\n",
      "Epoch 438/500\n",
      "2/2 [==============================] - 0s 6ms/step - loss: 12.8335 - mse: 247.8688\n",
      "Epoch 439/500\n",
      "2/2 [==============================] - 0s 16ms/step - loss: 33.9205 - mse: 1592.3297\n",
      "Epoch 440/500\n",
      "2/2 [==============================] - 0s 0s/step - loss: 15.4734 - mse: 311.3394\n",
      "Epoch 441/500\n",
      "2/2 [==============================] - 0s 0s/step - loss: 17.8302 - mse: 516.4662\n",
      "Epoch 442/500\n",
      "2/2 [==============================] - 0s 16ms/step - loss: 17.5822 - mse: 436.2640\n",
      "Epoch 443/500\n",
      "2/2 [==============================] - 0s 16ms/step - loss: 7.6750 - mse: 159.6382\n",
      "Epoch 444/500\n",
      "2/2 [==============================] - 0s 16ms/step - loss: 22.8430 - mse: 762.5476\n",
      "Epoch 445/500\n",
      "2/2 [==============================] - 0s 16ms/step - loss: 12.1433 - mse: 227.5374\n",
      "Epoch 446/500\n",
      "2/2 [==============================] - 0s 0s/step - loss: 10.4813 - mse: 207.4840\n",
      "Epoch 447/500\n",
      "2/2 [==============================] - 0s 16ms/step - loss: 16.9424 - mse: 418.6887\n",
      "Epoch 448/500\n",
      "2/2 [==============================] - 0s 0s/step - loss: 11.6518 - mse: 236.4406\n",
      "Epoch 449/500\n",
      "2/2 [==============================] - 0s 16ms/step - loss: 14.8442 - mse: 306.2372\n",
      "Epoch 450/500\n",
      "2/2 [==============================] - 0s 16ms/step - loss: 17.5987 - mse: 486.2369\n",
      "Epoch 451/500\n",
      "2/2 [==============================] - 0s 16ms/step - loss: 14.6442 - mse: 346.8118\n",
      "Epoch 452/500\n",
      "2/2 [==============================] - 0s 16ms/step - loss: 31.3088 - mse: 1384.6433\n",
      "Epoch 453/500\n",
      "2/2 [==============================] - 0s 12ms/step - loss: 10.5956 - mse: 277.6533\n",
      "Epoch 454/500\n",
      "2/2 [==============================] - 0s 16ms/step - loss: 26.9109 - mse: 1015.1027\n",
      "Epoch 455/500\n",
      "2/2 [==============================] - 0s 8ms/step - loss: 12.1699 - mse: 251.0056\n",
      "Epoch 456/500\n",
      "2/2 [==============================] - 0s 0s/step - loss: 15.3851 - mse: 319.0682\n",
      "Epoch 457/500\n",
      "2/2 [==============================] - 0s 0s/step - loss: 19.1254 - mse: 545.9579\n",
      "Epoch 458/500\n",
      "2/2 [==============================] - 0s 16ms/step - loss: 23.3353 - mse: 805.8076\n",
      "Epoch 459/500\n",
      "2/2 [==============================] - 0s 16ms/step - loss: 16.6975 - mse: 395.5427\n",
      "Epoch 460/500\n",
      "2/2 [==============================] - 0s 0s/step - loss: 3.9869 - mse: 27.3531\n",
      "Epoch 461/500\n",
      "2/2 [==============================] - 0s 16ms/step - loss: 18.4441 - mse: 502.6399\n",
      "Epoch 462/500\n",
      "2/2 [==============================] - 0s 21ms/step - loss: 11.1834 - mse: 280.0510\n",
      "Epoch 463/500\n",
      "2/2 [==============================] - 0s 16ms/step - loss: 26.9430 - mse: 1026.9572\n",
      "Epoch 464/500\n",
      "2/2 [==============================] - 0s 16ms/step - loss: 12.1390 - mse: 239.9837\n",
      "Epoch 465/500\n",
      "2/2 [==============================] - 0s 16ms/step - loss: 7.6558 - mse: 103.1267\n",
      "Epoch 466/500\n",
      "2/2 [==============================] - 0s 16ms/step - loss: 12.6756 - mse: 274.2343\n",
      "Epoch 467/500\n",
      "2/2 [==============================] - 0s 0s/step - loss: 6.1587 - mse: 67.1093\n",
      "Epoch 468/500\n",
      "2/2 [==============================] - 0s 0s/step - loss: 13.8991 - mse: 301.9692\n",
      "Epoch 469/500\n",
      "2/2 [==============================] - 0s 16ms/step - loss: 14.0712 - mse: 317.4330\n",
      "Epoch 470/500\n",
      "2/2 [==============================] - 0s 16ms/step - loss: 3.6511 - mse: 20.9994\n",
      "Epoch 471/500\n",
      "2/2 [==============================] - 0s 16ms/step - loss: 15.4937 - mse: 320.3727\n",
      "Epoch 472/500\n",
      "2/2 [==============================] - 0s 0s/step - loss: 12.2982 - mse: 242.7908\n",
      "Epoch 473/500\n",
      "2/2 [==============================] - 0s 0s/step - loss: 14.6833 - mse: 346.9487\n",
      "Epoch 474/500\n",
      "2/2 [==============================] - 0s 31ms/step - loss: 18.5449 - mse: 535.7518\n",
      "Epoch 475/500\n",
      "2/2 [==============================] - 0s 0s/step - loss: 12.6953 - mse: 252.7566\n",
      "Epoch 476/500\n",
      "2/2 [==============================] - 0s 23ms/step - loss: 13.6796 - mse: 258.6181\n",
      "Epoch 477/500\n",
      "2/2 [==============================] - 0s 0s/step - loss: 30.2622 - mse: 1277.0118\n",
      "Epoch 478/500\n",
      "2/2 [==============================] - 0s 16ms/step - loss: 6.9312 - mse: 141.5698\n",
      "Epoch 479/500\n",
      "2/2 [==============================] - 0s 0s/step - loss: 11.6052 - mse: 255.5906\n",
      "Epoch 480/500\n",
      "2/2 [==============================] - 0s 0s/step - loss: 18.2802 - mse: 514.1729\n",
      "Epoch 481/500\n",
      "2/2 [==============================] - 0s 16ms/step - loss: 16.1349 - mse: 392.4650\n",
      "Epoch 482/500\n",
      "2/2 [==============================] - 0s 16ms/step - loss: 14.9474 - mse: 340.8739\n",
      "Epoch 483/500\n",
      "2/2 [==============================] - 0s 0s/step - loss: 20.3142 - mse: 623.4096\n",
      "Epoch 484/500\n",
      "2/2 [==============================] - 0s 0s/step - loss: 35.7444 - mse: 1958.9900\n",
      "Epoch 485/500\n",
      "2/2 [==============================] - 0s 16ms/step - loss: 14.1922 - mse: 318.7751\n",
      "Epoch 486/500\n",
      "2/2 [==============================] - 0s 16ms/step - loss: 6.8492 - mse: 98.7670\n",
      "Epoch 487/500\n",
      "2/2 [==============================] - 0s 16ms/step - loss: 6.3587 - mse: 71.5903\n",
      "Epoch 488/500\n",
      "2/2 [==============================] - 0s 0s/step - loss: 30.1609 - mse: 1337.0529\n",
      "Epoch 489/500\n",
      "2/2 [==============================] - 0s 16ms/step - loss: 12.5785 - mse: 238.4957\n",
      "Epoch 490/500\n",
      "2/2 [==============================] - 0s 16ms/step - loss: 13.0665 - mse: 248.2427\n",
      "Epoch 491/500\n",
      "2/2 [==============================] - 0s 16ms/step - loss: 24.2788 - mse: 877.7650\n",
      "Epoch 492/500\n",
      "2/2 [==============================] - 0s 16ms/step - loss: 18.8244 - mse: 501.1553\n",
      "Epoch 493/500\n",
      "2/2 [==============================] - 0s 0s/step - loss: 4.8574 - mse: 50.3321\n",
      "Epoch 494/500\n",
      "2/2 [==============================] - 0s 0s/step - loss: 12.1562 - mse: 229.2287\n",
      "Epoch 495/500\n",
      "2/2 [==============================] - 0s 16ms/step - loss: 13.6587 - mse: 250.6895\n",
      "Epoch 496/500\n",
      "2/2 [==============================] - 0s 16ms/step - loss: 12.8711 - mse: 242.4090\n",
      "Epoch 497/500\n",
      "2/2 [==============================] - 0s 16ms/step - loss: 17.9785 - mse: 532.0991\n",
      "Epoch 498/500\n",
      "2/2 [==============================] - 0s 0s/step - loss: 22.7675 - mse: 757.4079\n",
      "Epoch 499/500\n",
      "2/2 [==============================] - 0s 0s/step - loss: 8.6427 - mse: 117.9806\n",
      "Epoch 500/500\n",
      "2/2 [==============================] - 0s 0s/step - loss: 14.4563 - mse: 278.5067\n"
     ]
    },
    {
     "data": {
      "text/plain": [
       "<keras.src.callbacks.History at 0x14becdaa6e0>"
      ]
     },
     "execution_count": 46,
     "metadata": {},
     "output_type": "execute_result"
    }
   ],
   "source": [
    "tf.random.set_seed(42)\n",
    "\n",
    "model_3 = tf.keras.Sequential([\n",
    "    tf.keras.layers.Dense(10,input_shape=(1,)),\n",
    "    tf.keras.layers.Dense(1)\n",
    "])\n",
    "\n",
    "model_3.compile(loss = tf.keras.losses.mae,\n",
    "                optimizer = tf.keras.optimizers.SGD(),\n",
    "                metrics=[\"mse\"])\n",
    "\n",
    "model_3.fit(X_train,y_train,epochs=500)"
   ]
  },
  {
   "cell_type": "code",
   "execution_count": 47,
   "metadata": {},
   "outputs": [
    {
     "name": "stdout",
     "output_type": "stream",
     "text": [
      "1/1 [==============================] - 0s 110ms/step\n"
     ]
    },
    {
     "data": {
      "image/png": "[encoded data removed]",
      "text/plain": [
       "<Figure size 1000x700 with 1 Axes>"
      ]
     },
     "metadata": {},
     "output_type": "display_data"
    }
   ],
   "source": [
    "y_preds_3 =model_3.predict(X_test)\n",
    "plott_predictions(predictions=y_preds_3)"
   ]
  },
  {
   "cell_type": "code",
   "execution_count": 48,
   "metadata": {},
   "outputs": [
    {
     "data": {
      "text/plain": [
       "(<tf.Tensor: shape=(), dtype=float32, numpy=68.15567>,\n",
       " <tf.Tensor: shape=(), dtype=float32, numpy=4730.1475>)"
      ]
     },
     "execution_count": 48,
     "metadata": {},
     "output_type": "execute_result"
    }
   ],
   "source": [
    "mae_3 = mae(y_test,y_preds_3)\n",
    "mse_3 = mse(y_test,y_preds_3)\n",
    "mae_3,mse_3"
   ]
  },
  {
   "cell_type": "markdown",
   "metadata": {},
   "source": [
    "## Comparing the results  of our experiments\n",
    "we'll run some experiments, lets compare the results"
   ]
  },
  {
   "cell_type": "code",
   "execution_count": 49,
   "metadata": {},
   "outputs": [
    {
     "data": {
      "text/html": [
       "<div>\n",
       "<style scoped>\n",
       "    .dataframe tbody tr th:only-of-type {\n",
       "        vertical-align: middle;\n",
       "    }\n",
       "\n",
       "    .dataframe tbody tr th {\n",
       "        vertical-align: top;\n",
       "    }\n",
       "\n",
       "    .dataframe thead th {\n",
       "        text-align: right;\n",
       "    }\n",
       "</style>\n",
       "<table border=\"1\" class=\"dataframe\">\n",
       "  <thead>\n",
       "    <tr style=\"text-align: right;\">\n",
       "      <th></th>\n",
       "      <th>model</th>\n",
       "      <th>mae</th>\n",
       "      <th>mse</th>\n",
       "    </tr>\n",
       "  </thead>\n",
       "  <tbody>\n",
       "    <tr>\n",
       "      <th>0</th>\n",
       "      <td>model_1</td>\n",
       "      <td>14.866147</td>\n",
       "      <td>221.824219</td>\n",
       "    </tr>\n",
       "    <tr>\n",
       "      <th>1</th>\n",
       "      <td>model_2</td>\n",
       "      <td>10.951805</td>\n",
       "      <td>127.939499</td>\n",
       "    </tr>\n",
       "    <tr>\n",
       "      <th>2</th>\n",
       "      <td>model_3</td>\n",
       "      <td>68.155670</td>\n",
       "      <td>4730.147461</td>\n",
       "    </tr>\n",
       "  </tbody>\n",
       "</table>\n",
       "</div>"
      ],
      "text/plain": [
       "     model        mae          mse\n",
       "0  model_1  14.866147   221.824219\n",
       "1  model_2  10.951805   127.939499\n",
       "2  model_3  68.155670  4730.147461"
      ]
     },
     "execution_count": 49,
     "metadata": {},
     "output_type": "execute_result"
    }
   ],
   "source": [
    "# let's compare our model's results using  a pandas DataFrame\n",
    "import pandas as pd\n",
    "model_results = [[\"model_1\",mae_1.numpy(),mse_1.numpy()],\n",
    "                 [\"model_2\",mae_2.numpy(),mse_2.numpy()],\n",
    "                 [\"model_3\",mae_3.numpy(),mse_3.numpy()]]\n",
    "all_results = pd.DataFrame(model_results,columns=[\"model\",\"mae\",\"mse\"])\n",
    "all_results\n",
    "# Tracking  your experiments"
   ]
  },
  {
   "cell_type": "markdown",
   "metadata": {},
   "source": [
    "## Saving our model\n",
    "Saving our models allows us to use them outside of Google colab(or wherever they were trained) such as in  w web  application or a mobile app.\n",
    "\n",
    "there are two main formats we can save our model's too\n",
    "1.  The SavedModel format\n",
    "2.  The HDF5 format"
   ]
  },
  {
   "cell_type": "code",
   "execution_count": 50,
   "metadata": {},
   "outputs": [
    {
     "name": "stdout",
     "output_type": "stream",
     "text": [
      "INFO:tensorflow:Assets written to: best_model_savedModel_format\\assets\n"
     ]
    },
    {
     "name": "stderr",
     "output_type": "stream",
     "text": [
      "INFO:tensorflow:Assets written to: best_model_savedModel_format\\assets\n"
     ]
    }
   ],
   "source": [
    "\n",
    "# save a model using savedmodel format\n",
    "model_2.save(\"best_model_savedModel_format\")"
   ]
  },
  {
   "cell_type": "code",
   "execution_count": 51,
   "metadata": {},
   "outputs": [
    {
     "name": "stderr",
     "output_type": "stream",
     "text": [
      "c:\\Users\\user\\AppData\\Local\\Programs\\Python\\Python310\\lib\\site-packages\\keras\\src\\engine\\training.py:3103: UserWarning: You are saving your model as an HDF5 file via `model.save()`. This file format is considered legacy. We recommend using instead the native Keras format, e.g. `model.save('my_model.keras')`.\n",
      "  saving_api.save_model(\n"
     ]
    }
   ],
   "source": [
    "# save model using HDF5 format\n",
    "model_2.save(\"best_model_HDF5_format.h5\")"
   ]
  },
  {
   "cell_type": "markdown",
   "metadata": {},
   "source": [
    "## Loading in a savedModel"
   ]
  },
  {
   "cell_type": "code",
   "execution_count": 52,
   "metadata": {},
   "outputs": [
    {
     "name": "stdout",
     "output_type": "stream",
     "text": [
      "WARNING:tensorflow:From c:\\Users\\user\\AppData\\Local\\Programs\\Python\\Python310\\lib\\site-packages\\keras\\src\\saving\\legacy\\saved_model\\load.py:107: The name tf.gfile.Exists is deprecated. Please use tf.io.gfile.exists instead.\n",
      "\n"
     ]
    },
    {
     "name": "stderr",
     "output_type": "stream",
     "text": [
      "WARNING:tensorflow:From c:\\Users\\user\\AppData\\Local\\Programs\\Python\\Python310\\lib\\site-packages\\keras\\src\\saving\\legacy\\saved_model\\load.py:107: The name tf.gfile.Exists is deprecated. Please use tf.io.gfile.exists instead.\n",
      "\n"
     ]
    },
    {
     "name": "stdout",
     "output_type": "stream",
     "text": [
      "Model: \"sequential_4\"\n",
      "_________________________________________________________________\n",
      " Layer (type)                Output Shape              Param #   \n",
      "=================================================================\n",
      " dense_5 (Dense)             (None, 10)                20        \n",
      "                                                                 \n",
      " dense_6 (Dense)             (None, 1)                 11        \n",
      "                                                                 \n",
      "=================================================================\n",
      "Total params: 31 (124.00 Byte)\n",
      "Trainable params: 31 (124.00 Byte)\n",
      "Non-trainable params: 0 (0.00 Byte)\n",
      "_________________________________________________________________\n"
     ]
    }
   ],
   "source": [
    "# load  in the  SavedModel format model\n",
    "loaded_SavedModel_format = tf.keras.models.load_model(\"best_model_savedModel_format\")\n",
    "loaded_SavedModel_format.summary()"
   ]
  },
  {
   "cell_type": "code",
   "execution_count": 53,
   "metadata": {},
   "outputs": [
    {
     "name": "stdout",
     "output_type": "stream",
     "text": [
      "1/1 [==============================] - 0s 104ms/step\n",
      "1/1 [==============================] - 0s 86ms/step\n"
     ]
    },
    {
     "data": {
      "text/plain": [
       "array([[ True],\n",
       "       [ True],\n",
       "       [ True],\n",
       "       [ True],\n",
       "       [ True],\n",
       "       [ True],\n",
       "       [ True],\n",
       "       [ True],\n",
       "       [ True],\n",
       "       [ True]])"
      ]
     },
     "execution_count": 53,
     "metadata": {},
     "output_type": "execute_result"
    }
   ],
   "source": [
    "# compare model_2 predictions with  savedmodel format model predictions\n",
    "model_2_preds = model_2.predict(X_test)\n",
    "loaded_SavedModel_format_preds = loaded_SavedModel_format.predict(X_test)\n",
    "model_2_preds == loaded_SavedModel_format_preds"
   ]
  },
  {
   "cell_type": "code",
   "execution_count": 54,
   "metadata": {},
   "outputs": [
    {
     "data": {
      "text/plain": [
       "(<tf.Tensor: shape=(), dtype=float32, numpy=10.951805>,\n",
       " <tf.Tensor: shape=(), dtype=float32, numpy=10.951805>)"
      ]
     },
     "execution_count": 54,
     "metadata": {},
     "output_type": "execute_result"
    }
   ],
   "source": [
    "mae(y_true= y_test, y_pred= model_2_preds), mae(y_true = y_test, y_pred= loaded_SavedModel_format_preds)"
   ]
  },
  {
   "cell_type": "code",
   "execution_count": 56,
   "metadata": {},
   "outputs": [
    {
     "name": "stdout",
     "output_type": "stream",
     "text": [
      "Model: \"sequential_4\"\n",
      "_________________________________________________________________\n",
      " Layer (type)                Output Shape              Param #   \n",
      "=================================================================\n",
      " dense_5 (Dense)             (None, 10)                20        \n",
      "                                                                 \n",
      " dense_6 (Dense)             (None, 1)                 11        \n",
      "                                                                 \n",
      "=================================================================\n",
      "Total params: 31 (124.00 Byte)\n",
      "Trainable params: 31 (124.00 Byte)\n",
      "Non-trainable params: 0 (0.00 Byte)\n",
      "_________________________________________________________________\n"
     ]
    }
   ],
   "source": [
    "# load in a model using the .H5 format\n",
    "loaded_h5_model = tf.keras.models.load_model(\"best_model_HDF5_format.h5\")\n",
    "loaded_h5_model.summary()  \n"
   ]
  },
  {
   "cell_type": "code",
   "execution_count": 59,
   "metadata": {},
   "outputs": [
    {
     "name": "stdout",
     "output_type": "stream",
     "text": [
      "1/1 [==============================] - 0s 92ms/step\n",
      "1/1 [==============================] - 0s 72ms/step\n"
     ]
    },
    {
     "data": {
      "text/plain": [
       "array([[ True],\n",
       "       [ True],\n",
       "       [ True],\n",
       "       [ True],\n",
       "       [ True],\n",
       "       [ True],\n",
       "       [ True],\n",
       "       [ True],\n",
       "       [ True],\n",
       "       [ True]])"
      ]
     },
     "execution_count": 59,
     "metadata": {},
     "output_type": "execute_result"
    }
   ],
   "source": [
    "# check to see if loaded .h5 model predictions match model_2\n",
    "model_2.preds =  model_2.predict(X_test)\n",
    "loaded_h5_model_preds = loaded_h5_model.predict(X_test)\n",
    "model_2_preds == loaded_h5_model_preds"
   ]
  }
 ],
 "metadata": {
  "kernelspec": {
   "display_name": "Python 3",
   "language": "python",
   "name": "python3"
  },
  "language_info": {
   "codemirror_mode": {
    "name": "ipython",
    "version": 3
   },
   "file_extension": ".py",
   "mimetype": "text/x-python",
   "name": "python",
   "nbconvert_exporter": "python",
   "pygments_lexer": "ipython3",
   "version": "3.10.8"
  }
 },
 "nbformat": 4,
 "nbformat_minor": 2
}
