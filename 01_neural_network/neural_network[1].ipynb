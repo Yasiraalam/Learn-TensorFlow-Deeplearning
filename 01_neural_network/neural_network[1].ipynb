{
 "cells": [
  {
   "cell_type": "code",
   "execution_count": 1,
   "metadata": {},
   "outputs": [
    {
     "name": "stdout",
     "output_type": "stream",
     "text": [
      "WARNING:tensorflow:From c:\\Users\\user\\AppData\\Local\\Programs\\Python\\Python310\\lib\\site-packages\\keras\\src\\losses.py:2976: The name tf.losses.sparse_softmax_cross_entropy is deprecated. Please use tf.compat.v1.losses.sparse_softmax_cross_entropy instead.\n",
      "\n"
     ]
    }
   ],
   "source": [
    "import tensorflow as tf\n",
    "import numpy as np\n",
    "# import metapolott\n",
    "import matplotlib.pyplot as  plt\n",
    "\n"
   ]
  },
  {
   "cell_type": "markdown",
   "metadata": {},
   "source": [
    "# Intrduction to Regression with Neural  Network in TensorFlow\n"
   ]
  },
  {
   "cell_type": "markdown",
   "metadata": {},
   "source": [
    "## There are  many difinations  for a regression problem but  in our case, we're  goining to simplify  it: predicting  a numerical variable based  on some other  combination  of variables, even shorter...  predicting  a number"
   ]
  },
  {
   "cell_type": "code",
   "execution_count": 2,
   "metadata": {},
   "outputs": [
    {
     "data": {
      "text/plain": [
       "<matplotlib.collections.PathCollection at 0x13d8435f880>"
      ]
     },
     "execution_count": 2,
     "metadata": {},
     "output_type": "execute_result"
    },
    {
     "data": {
      "image/png": "[encoded data removed]",
      "text/plain": [
       "<Figure size 640x480 with 1 Axes>"
      ]
     },
     "metadata": {},
     "output_type": "display_data"
    }
   ],
   "source": [
    "X = np.array([-7., -4., -1., 2., 5., 8., 11., 14.])\n",
    "y = np.array([3., 6., 9., 12., 15., 18., 21., 24.])\n",
    "plt.scatter(X,y)"
   ]
  },
  {
   "cell_type": "code",
   "execution_count": 3,
   "metadata": {},
   "outputs": [
    {
     "data": {
      "text/plain": [
       "array([ True,  True,  True,  True,  True,  True,  True,  True])"
      ]
     },
     "execution_count": 3,
     "metadata": {},
     "output_type": "execute_result"
    }
   ],
   "source": [
    "y == X + 10"
   ]
  },
  {
   "cell_type": "code",
   "execution_count": 4,
   "metadata": {},
   "outputs": [],
   "source": [
    "X = X.reshape (-1,1)\n",
    "y = y.reshape(-1, 1)"
   ]
  },
  {
   "cell_type": "markdown",
   "metadata": {},
   "source": [
    "## Input and output"
   ]
  },
  {
   "cell_type": "code",
   "execution_count": 5,
   "metadata": {},
   "outputs": [
    {
     "data": {
      "text/plain": [
       "(<tf.Tensor: shape=(3,), dtype=string, numpy=array([b'bedroom', b'bathroom', b'garage'], dtype=object)>,\n",
       " <tf.Tensor: shape=(1,), dtype=int32, numpy=array([939700])>)"
      ]
     },
     "execution_count": 5,
     "metadata": {},
     "output_type": "execute_result"
    }
   ],
   "source": [
    "# Create a demo tensor for  our housing  price  predicttion problem\n",
    "house_info = tf.constant([\"bedroom\", \"bathroom\", \"garage\"])\n",
    "house_price = tf.constant([939700])\n",
    "house_info,house_price "
   ]
  },
  {
   "cell_type": "markdown",
   "metadata": {},
   "source": [
    "## turn our numpy array into tensors"
   ]
  },
  {
   "cell_type": "code",
   "execution_count": 6,
   "metadata": {},
   "outputs": [
    {
     "data": {
      "text/plain": [
       "(<tf.Tensor: shape=(8, 1), dtype=float32, numpy=\n",
       " array([[-7.],\n",
       "        [-4.],\n",
       "        [-1.],\n",
       "        [ 2.],\n",
       "        [ 5.],\n",
       "        [ 8.],\n",
       "        [11.],\n",
       "        [14.]], dtype=float32)>,\n",
       " <tf.Tensor: shape=(8, 1), dtype=float32, numpy=\n",
       " array([[ 3.],\n",
       "        [ 6.],\n",
       "        [ 9.],\n",
       "        [12.],\n",
       "        [15.],\n",
       "        [18.],\n",
       "        [21.],\n",
       "        [24.]], dtype=float32)>)"
      ]
     },
     "execution_count": 6,
     "metadata": {},
     "output_type": "execute_result"
    }
   ],
   "source": [
    "X = tf.cast(tf.constant(X), dtype= tf.float32)\n",
    "y = tf.cast(tf.constant(y), dtype= tf.float32)\n",
    "X,y"
   ]
  },
  {
   "cell_type": "code",
   "execution_count": 7,
   "metadata": {},
   "outputs": [
    {
     "data": {
      "text/plain": [
       "TensorShape([8, 1])"
      ]
     },
     "execution_count": 7,
     "metadata": {},
     "output_type": "execute_result"
    }
   ],
   "source": [
    "X.shape"
   ]
  },
  {
   "cell_type": "code",
   "execution_count": 8,
   "metadata": {},
   "outputs": [
    {
     "data": {
      "text/plain": [
       "<matplotlib.collections.PathCollection at 0x13d86609b40>"
      ]
     },
     "execution_count": 8,
     "metadata": {},
     "output_type": "execute_result"
    },
    {
     "data": {
      "image/png": "[encoded data removed]",
      "text/plain": [
       "<Figure size 640x480 with 1 Axes>"
      ]
     },
     "metadata": {},
     "output_type": "display_data"
    }
   ],
   "source": [
    "plt.scatter(X,y)"
   ]
  },
  {
   "cell_type": "markdown",
   "metadata": {},
   "source": [
    "## Steps in modelling with TensorFlow"
   ]
  },
  {
   "cell_type": "markdown",
   "metadata": {},
   "source": [
    "### 1. **Creating a model** - define  the input  and output layers as well as hidden layer on deep learning model\n",
    "### 2. **Compilling a model** - define the loss function ( in others words, the function which our model how wrong it is) and the optimizer( tells our model how to improve the patterns its learning) and evaluation matrics ( what we can use to interpret the performance of our model).\n",
    "### 3. **Fitting a model** - letting the model try to find patterns between X & y(features and labels)"
   ]
  },
  {
   "cell_type": "code",
   "execution_count": 9,
   "metadata": {},
   "outputs": [
    {
     "name": "stdout",
     "output_type": "stream",
     "text": [
      "WARNING:tensorflow:From c:\\Users\\user\\AppData\\Local\\Programs\\Python\\Python310\\lib\\site-packages\\keras\\src\\backend.py:873: The name tf.get_default_graph is deprecated. Please use tf.compat.v1.get_default_graph instead.\n",
      "\n",
      "Epoch 1/5\n",
      "WARNING:tensorflow:From c:\\Users\\user\\AppData\\Local\\Programs\\Python\\Python310\\lib\\site-packages\\keras\\src\\utils\\tf_utils.py:492: The name tf.ragged.RaggedTensorValue is deprecated. Please use tf.compat.v1.ragged.RaggedTensorValue instead.\n",
      "\n",
      "WARNING:tensorflow:From c:\\Users\\user\\AppData\\Local\\Programs\\Python\\Python310\\lib\\site-packages\\keras\\src\\engine\\base_layer_utils.py:384: The name tf.executing_eagerly_outside_functions is deprecated. Please use tf.compat.v1.executing_eagerly_outside_functions instead.\n",
      "\n",
      "1/1 [==============================] - 1s 1s/step - loss: 12.1399 - mae: 12.1399\n",
      "Epoch 2/5\n",
      "1/1 [==============================] - 0s 11ms/step - loss: 12.0075 - mae: 12.0075\n",
      "Epoch 3/5\n",
      "1/1 [==============================] - 0s 19ms/step - loss: 11.8750 - mae: 11.8750\n",
      "Epoch 4/5\n",
      "1/1 [==============================] - 0s 14ms/step - loss: 11.7425 - mae: 11.7425\n",
      "Epoch 5/5\n",
      "1/1 [==============================] - 0s 14ms/step - loss: 11.6100 - mae: 11.6100\n"
     ]
    },
    {
     "data": {
      "text/plain": [
       "<keras.src.callbacks.History at 0x13d86779ff0>"
      ]
     },
     "execution_count": 9,
     "metadata": {},
     "output_type": "execute_result"
    }
   ],
   "source": [
    "# Set random seed\n",
    "tf.random.set_seed(42)\n",
    "\n",
    "# 1.Create  a model using the Sequential API\n",
    "model = tf.keras.Sequential([\n",
    "    tf.keras.layers.Dense(1)\n",
    "])\n",
    "\n",
    "# 2. Compile  the model\n",
    "# mae is short  for mean absolute error\n",
    "# sgd is short for stochastic gradient descent\n",
    "model.compile(loss = tf.keras.losses.mae,  \n",
    "              optimizer=tf.keras.optimizers.SGD(), \n",
    "              metrics = [\"mae\"])\n",
    "\n",
    "# 3.fit he model\n",
    "model.fit(X, y, epochs=5)    # epochs : opportunity going on x and y values\n"
   ]
  },
  {
   "cell_type": "code",
   "execution_count": 10,
   "metadata": {},
   "outputs": [
    {
     "data": {
      "text/plain": [
       "(<tf.Tensor: shape=(8, 1), dtype=float32, numpy=\n",
       " array([[-7.],\n",
       "        [-4.],\n",
       "        [-1.],\n",
       "        [ 2.],\n",
       "        [ 5.],\n",
       "        [ 8.],\n",
       "        [11.],\n",
       "        [14.]], dtype=float32)>,\n",
       " <tf.Tensor: shape=(8, 1), dtype=float32, numpy=\n",
       " array([[ 3.],\n",
       "        [ 6.],\n",
       "        [ 9.],\n",
       "        [12.],\n",
       "        [15.],\n",
       "        [18.],\n",
       "        [21.],\n",
       "        [24.]], dtype=float32)>)"
      ]
     },
     "execution_count": 10,
     "metadata": {},
     "output_type": "execute_result"
    }
   ],
   "source": [
    "X , y"
   ]
  },
  {
   "cell_type": "code",
   "execution_count": 11,
   "metadata": {},
   "outputs": [
    {
     "name": "stdout",
     "output_type": "stream",
     "text": [
      "1/1 [==============================] - 0s 315ms/step\n"
     ]
    },
    {
     "data": {
      "text/plain": [
       "array([[9.630953]], dtype=float32)"
      ]
     },
     "execution_count": 11,
     "metadata": {},
     "output_type": "execute_result"
    }
   ],
   "source": [
    "# Try and make a prediction using our model\n",
    "y_pred = model.predict([17.0])\n",
    "y_pred"
   ]
  },
  {
   "cell_type": "code",
   "execution_count": 12,
   "metadata": {},
   "outputs": [
    {
     "data": {
      "text/plain": [
       "array([[20.630953]], dtype=float32)"
      ]
     },
     "execution_count": 12,
     "metadata": {},
     "output_type": "execute_result"
    }
   ],
   "source": [
    "y_pred + 11"
   ]
  },
  {
   "cell_type": "markdown",
   "metadata": {},
   "source": [
    "## improving our model"
   ]
  },
  {
   "cell_type": "markdown",
   "metadata": {},
   "source": [
    "### by altering  the steps  we took to create a model\n",
    "\n",
    "1. **Creating a model** - here  we might add more layers, increase the number of hidden  units( all called neuron)\n",
    "within  each of  the hidden layers, change the activation  function of each layer\n",
    "2. **Compiling a model** -  here we might change the optimization  function  or perhaps the **learning rate** of  the optimization function.\n",
    "3. **Fitting a  model** -  here we might fit a model for more **epochs** (  leave it training for longer) or on more data ( give the model more examples to learn from)"
   ]
  },
  {
   "cell_type": "code",
   "execution_count": 13,
   "metadata": {},
   "outputs": [
    {
     "name": "stdout",
     "output_type": "stream",
     "text": [
      "Epoch 1/100\n"
     ]
    },
    {
     "name": "stdout",
     "output_type": "stream",
     "text": [
      "1/1 [==============================] - 1s 675ms/step - loss: 12.5285 - mae: 12.5285\n",
      "Epoch 2/100\n",
      "1/1 [==============================] - 0s 11ms/step - loss: 12.3960 - mae: 12.3960\n",
      "Epoch 3/100\n",
      "1/1 [==============================] - 0s 12ms/step - loss: 12.2635 - mae: 12.2635\n",
      "Epoch 4/100\n",
      "1/1 [==============================] - 0s 12ms/step - loss: 12.1310 - mae: 12.1310\n",
      "Epoch 5/100\n",
      "1/1 [==============================] - 0s 12ms/step - loss: 11.9985 - mae: 11.9985\n",
      "Epoch 6/100\n",
      "1/1 [==============================] - 0s 12ms/step - loss: 11.8660 - mae: 11.8660\n",
      "Epoch 7/100\n",
      "1/1 [==============================] - 0s 12ms/step - loss: 11.7335 - mae: 11.7335\n",
      "Epoch 8/100\n",
      "1/1 [==============================] - 0s 16ms/step - loss: 11.6010 - mae: 11.6010\n",
      "Epoch 9/100\n",
      "1/1 [==============================] - 0s 13ms/step - loss: 11.4685 - mae: 11.4685\n",
      "Epoch 10/100\n",
      "1/1 [==============================] - 0s 13ms/step - loss: 11.3360 - mae: 11.3360\n",
      "Epoch 11/100\n",
      "1/1 [==============================] - 0s 13ms/step - loss: 11.2035 - mae: 11.2035\n",
      "Epoch 12/100\n",
      "1/1 [==============================] - 0s 12ms/step - loss: 11.0710 - mae: 11.0710\n",
      "Epoch 13/100\n",
      "1/1 [==============================] - 0s 11ms/step - loss: 10.9385 - mae: 10.9385\n",
      "Epoch 14/100\n",
      "1/1 [==============================] - 0s 13ms/step - loss: 10.8060 - mae: 10.8060\n",
      "Epoch 15/100\n",
      "1/1 [==============================] - 0s 11ms/step - loss: 10.6735 - mae: 10.6735\n",
      "Epoch 16/100\n",
      "1/1 [==============================] - 0s 11ms/step - loss: 10.5410 - mae: 10.5410\n",
      "Epoch 17/100\n",
      "1/1 [==============================] - 0s 11ms/step - loss: 10.4085 - mae: 10.4085\n",
      "Epoch 18/100\n",
      "1/1 [==============================] - 0s 12ms/step - loss: 10.2760 - mae: 10.2760\n",
      "Epoch 19/100\n",
      "1/1 [==============================] - 0s 13ms/step - loss: 10.1435 - mae: 10.1435\n",
      "Epoch 20/100\n",
      "1/1 [==============================] - 0s 13ms/step - loss: 10.0110 - mae: 10.0110\n",
      "Epoch 21/100\n",
      "1/1 [==============================] - 0s 13ms/step - loss: 9.8785 - mae: 9.8785\n",
      "Epoch 22/100\n",
      "1/1 [==============================] - 0s 12ms/step - loss: 9.7460 - mae: 9.7460\n",
      "Epoch 23/100\n",
      "1/1 [==============================] - 0s 12ms/step - loss: 9.6135 - mae: 9.6135\n",
      "Epoch 24/100\n",
      "1/1 [==============================] - 0s 14ms/step - loss: 9.4810 - mae: 9.4810\n",
      "Epoch 25/100\n",
      "1/1 [==============================] - 0s 13ms/step - loss: 9.3485 - mae: 9.3485\n",
      "Epoch 26/100\n",
      "1/1 [==============================] - 0s 12ms/step - loss: 9.2160 - mae: 9.2160\n",
      "Epoch 27/100\n",
      "1/1 [==============================] - 0s 13ms/step - loss: 9.0835 - mae: 9.0835\n",
      "Epoch 28/100\n",
      "1/1 [==============================] - 0s 15ms/step - loss: 8.9510 - mae: 8.9510\n",
      "Epoch 29/100\n",
      "1/1 [==============================] - 0s 14ms/step - loss: 8.8185 - mae: 8.8185\n",
      "Epoch 30/100\n",
      "1/1 [==============================] - 0s 12ms/step - loss: 8.6860 - mae: 8.6860\n",
      "Epoch 31/100\n",
      "1/1 [==============================] - 0s 13ms/step - loss: 8.5535 - mae: 8.5535\n",
      "Epoch 32/100\n",
      "1/1 [==============================] - 0s 12ms/step - loss: 8.4210 - mae: 8.4210\n",
      "Epoch 33/100\n",
      "1/1 [==============================] - 0s 13ms/step - loss: 8.2885 - mae: 8.2885\n",
      "Epoch 34/100\n",
      "1/1 [==============================] - 0s 10ms/step - loss: 8.1560 - mae: 8.1560\n",
      "Epoch 35/100\n",
      "1/1 [==============================] - 0s 12ms/step - loss: 8.0235 - mae: 8.0235\n",
      "Epoch 36/100\n",
      "1/1 [==============================] - 0s 12ms/step - loss: 7.8910 - mae: 7.8910\n",
      "Epoch 37/100\n",
      "1/1 [==============================] - 0s 12ms/step - loss: 7.7585 - mae: 7.7585\n",
      "Epoch 38/100\n",
      "1/1 [==============================] - 0s 12ms/step - loss: 7.6260 - mae: 7.6260\n",
      "Epoch 39/100\n",
      "1/1 [==============================] - 0s 12ms/step - loss: 7.4935 - mae: 7.4935\n",
      "Epoch 40/100\n",
      "1/1 [==============================] - 0s 11ms/step - loss: 7.3610 - mae: 7.3610\n",
      "Epoch 41/100\n",
      "1/1 [==============================] - 0s 12ms/step - loss: 7.2285 - mae: 7.2285\n",
      "Epoch 42/100\n",
      "1/1 [==============================] - 0s 12ms/step - loss: 7.1925 - mae: 7.1925\n",
      "Epoch 43/100\n",
      "1/1 [==============================] - 0s 11ms/step - loss: 7.1869 - mae: 7.1869\n",
      "Epoch 44/100\n",
      "1/1 [==============================] - 0s 12ms/step - loss: 7.1812 - mae: 7.1812\n",
      "Epoch 45/100\n",
      "1/1 [==============================] - 0s 32ms/step - loss: 7.1756 - mae: 7.1756\n",
      "Epoch 46/100\n",
      "1/1 [==============================] - 0s 12ms/step - loss: 7.1700 - mae: 7.1700\n",
      "Epoch 47/100\n",
      "1/1 [==============================] - 0s 11ms/step - loss: 7.1644 - mae: 7.1644\n",
      "Epoch 48/100\n",
      "1/1 [==============================] - 0s 21ms/step - loss: 7.1588 - mae: 7.1588\n",
      "Epoch 49/100\n",
      "1/1 [==============================] - 0s 13ms/step - loss: 7.1531 - mae: 7.1531\n",
      "Epoch 50/100\n",
      "1/1 [==============================] - 0s 12ms/step - loss: 7.1475 - mae: 7.1475\n",
      "Epoch 51/100\n",
      "1/1 [==============================] - 0s 14ms/step - loss: 7.1419 - mae: 7.1419\n",
      "Epoch 52/100\n",
      "1/1 [==============================] - 0s 11ms/step - loss: 7.1363 - mae: 7.1363\n",
      "Epoch 53/100\n",
      "1/1 [==============================] - 0s 17ms/step - loss: 7.1306 - mae: 7.1306\n",
      "Epoch 54/100\n",
      "1/1 [==============================] - 0s 12ms/step - loss: 7.1250 - mae: 7.1250\n",
      "Epoch 55/100\n",
      "1/1 [==============================] - 0s 13ms/step - loss: 7.1194 - mae: 7.1194\n",
      "Epoch 56/100\n",
      "1/1 [==============================] - 0s 12ms/step - loss: 7.1138 - mae: 7.1138\n",
      "Epoch 57/100\n",
      "1/1 [==============================] - 0s 15ms/step - loss: 7.1081 - mae: 7.1081\n",
      "Epoch 58/100\n",
      "1/1 [==============================] - 0s 12ms/step - loss: 7.1025 - mae: 7.1025\n",
      "Epoch 59/100\n",
      "1/1 [==============================] - 0s 11ms/step - loss: 7.0969 - mae: 7.0969\n",
      "Epoch 60/100\n",
      "1/1 [==============================] - 0s 12ms/step - loss: 7.0913 - mae: 7.0913\n",
      "Epoch 61/100\n",
      "1/1 [==============================] - 0s 13ms/step - loss: 7.0856 - mae: 7.0856\n",
      "Epoch 62/100\n",
      "1/1 [==============================] - 0s 12ms/step - loss: 7.0800 - mae: 7.0800\n",
      "Epoch 63/100\n",
      "1/1 [==============================] - 0s 12ms/step - loss: 7.0744 - mae: 7.0744\n",
      "Epoch 64/100\n",
      "1/1 [==============================] - 0s 12ms/step - loss: 7.0687 - mae: 7.0687\n",
      "Epoch 65/100\n",
      "1/1 [==============================] - 0s 12ms/step - loss: 7.0631 - mae: 7.0631\n",
      "Epoch 66/100\n",
      "1/1 [==============================] - 0s 12ms/step - loss: 7.0575 - mae: 7.0575\n",
      "Epoch 67/100\n",
      "1/1 [==============================] - 0s 11ms/step - loss: 7.0519 - mae: 7.0519\n",
      "Epoch 68/100\n",
      "1/1 [==============================] - 0s 11ms/step - loss: 7.0463 - mae: 7.0463\n",
      "Epoch 69/100\n",
      "1/1 [==============================] - 0s 13ms/step - loss: 7.0406 - mae: 7.0406\n",
      "Epoch 70/100\n",
      "1/1 [==============================] - 0s 12ms/step - loss: 7.0350 - mae: 7.0350\n",
      "Epoch 71/100\n",
      "1/1 [==============================] - 0s 12ms/step - loss: 7.0294 - mae: 7.0294\n",
      "Epoch 72/100\n",
      "1/1 [==============================] - 0s 12ms/step - loss: 7.0238 - mae: 7.0238\n",
      "Epoch 73/100\n",
      "1/1 [==============================] - 0s 12ms/step - loss: 7.0181 - mae: 7.0181\n",
      "Epoch 74/100\n",
      "1/1 [==============================] - 0s 12ms/step - loss: 7.0125 - mae: 7.0125\n",
      "Epoch 75/100\n",
      "1/1 [==============================] - 0s 13ms/step - loss: 7.0069 - mae: 7.0069\n",
      "Epoch 76/100\n",
      "1/1 [==============================] - 0s 14ms/step - loss: 7.0013 - mae: 7.0013\n",
      "Epoch 77/100\n",
      "1/1 [==============================] - 0s 12ms/step - loss: 6.9956 - mae: 6.9956\n",
      "Epoch 78/100\n",
      "1/1 [==============================] - 0s 12ms/step - loss: 6.9900 - mae: 6.9900\n",
      "Epoch 79/100\n",
      "1/1 [==============================] - 0s 13ms/step - loss: 6.9844 - mae: 6.9844\n",
      "Epoch 80/100\n",
      "1/1 [==============================] - 0s 12ms/step - loss: 6.9788 - mae: 6.9788\n",
      "Epoch 81/100\n",
      "1/1 [==============================] - 0s 12ms/step - loss: 6.9731 - mae: 6.9731\n",
      "Epoch 82/100\n",
      "1/1 [==============================] - 0s 12ms/step - loss: 6.9675 - mae: 6.9675\n",
      "Epoch 83/100\n",
      "1/1 [==============================] - 0s 13ms/step - loss: 6.9619 - mae: 6.9619\n",
      "Epoch 84/100\n",
      "1/1 [==============================] - 0s 12ms/step - loss: 6.9563 - mae: 6.9563\n",
      "Epoch 85/100\n",
      "1/1 [==============================] - 0s 31ms/step - loss: 6.9506 - mae: 6.9506\n",
      "Epoch 86/100\n",
      "1/1 [==============================] - 0s 13ms/step - loss: 6.9450 - mae: 6.9450\n",
      "Epoch 87/100\n",
      "1/1 [==============================] - 0s 12ms/step - loss: 6.9394 - mae: 6.9394\n",
      "Epoch 88/100\n",
      "1/1 [==============================] - 0s 16ms/step - loss: 6.9338 - mae: 6.9338\n",
      "Epoch 89/100\n",
      "1/1 [==============================] - 0s 9ms/step - loss: 6.9281 - mae: 6.9281\n",
      "Epoch 90/100\n",
      "1/1 [==============================] - 0s 10ms/step - loss: 6.9225 - mae: 6.9225\n",
      "Epoch 91/100\n",
      "1/1 [==============================] - 0s 33ms/step - loss: 6.9169 - mae: 6.9169\n",
      "Epoch 92/100\n",
      "1/1 [==============================] - 0s 12ms/step - loss: 6.9113 - mae: 6.9113\n",
      "Epoch 93/100\n",
      "1/1 [==============================] - 0s 13ms/step - loss: 6.9056 - mae: 6.9056\n",
      "Epoch 94/100\n",
      "1/1 [==============================] - 0s 15ms/step - loss: 6.9000 - mae: 6.9000\n",
      "Epoch 95/100\n",
      "1/1 [==============================] - 0s 12ms/step - loss: 6.8944 - mae: 6.8944\n",
      "Epoch 96/100\n",
      "1/1 [==============================] - 0s 13ms/step - loss: 6.8888 - mae: 6.8888\n",
      "Epoch 97/100\n",
      "1/1 [==============================] - 0s 13ms/step - loss: 6.8831 - mae: 6.8831\n",
      "Epoch 98/100\n",
      "1/1 [==============================] - 0s 12ms/step - loss: 6.8775 - mae: 6.8775\n",
      "Epoch 99/100\n",
      "1/1 [==============================] - 0s 12ms/step - loss: 6.8719 - mae: 6.8719\n",
      "Epoch 100/100\n",
      "1/1 [==============================] - 0s 14ms/step - loss: 6.8663 - mae: 6.8663\n"
     ]
    },
    {
     "data": {
      "text/plain": [
       "<keras.src.callbacks.History at 0x13d87a9bdc0>"
      ]
     },
     "execution_count": 13,
     "metadata": {},
     "output_type": "execute_result"
    }
   ],
   "source": [
    "# lets rebuild our model\n",
    "# 1. Create the model\n",
    "\n",
    "model = tf.keras.Sequential([\n",
    "    tf.keras.layers.Dense(1) \n",
    "])\n",
    " # 2. Compile the model\n",
    "model.compile(loss=tf.keras.losses.mae,\n",
    "              optimizer=tf.keras.optimizers.SGD(),\n",
    "              metrics=[\"mae\"])\n",
    "\n",
    "# 3.  Fit the model (this time 1 we'll train for longer)\n",
    "model.fit(X,y,epochs = 100)"
   ]
  },
  {
   "cell_type": "code",
   "execution_count": 14,
   "metadata": {},
   "outputs": [
    {
     "data": {
      "text/plain": [
       "(<tf.Tensor: shape=(8, 1), dtype=float32, numpy=\n",
       " array([[-7.],\n",
       "        [-4.],\n",
       "        [-1.],\n",
       "        [ 2.],\n",
       "        [ 5.],\n",
       "        [ 8.],\n",
       "        [11.],\n",
       "        [14.]], dtype=float32)>,\n",
       " <tf.Tensor: shape=(8, 1), dtype=float32, numpy=\n",
       " array([[ 3.],\n",
       "        [ 6.],\n",
       "        [ 9.],\n",
       "        [12.],\n",
       "        [15.],\n",
       "        [18.],\n",
       "        [21.],\n",
       "        [24.]], dtype=float32)>)"
      ]
     },
     "execution_count": 14,
     "metadata": {},
     "output_type": "execute_result"
    }
   ],
   "source": [
    "X, y"
   ]
  },
  {
   "cell_type": "code",
   "execution_count": 15,
   "metadata": {},
   "outputs": [
    {
     "name": "stdout",
     "output_type": "stream",
     "text": [
      "1/1 [==============================] - 0s 186ms/step\n"
     ]
    },
    {
     "data": {
      "text/plain": [
       "array([[29.96641]], dtype=float32)"
      ]
     },
     "execution_count": 15,
     "metadata": {},
     "output_type": "execute_result"
    }
   ],
   "source": [
    "# lets see if our model's prediction has improved\n",
    "model.predict([17.0])"
   ]
  },
  {
   "cell_type": "code",
   "execution_count": 16,
   "metadata": {},
   "outputs": [
    {
     "name": "stderr",
     "output_type": "stream",
     "text": [
      "WARNING:absl:`lr` is deprecated in Keras optimizer, please use `learning_rate` or use the legacy optimizer, e.g.,tf.keras.optimizers.legacy.Adam.\n"
     ]
    },
    {
     "name": "stdout",
     "output_type": "stream",
     "text": [
      "Epoch 1/100\n",
      "1/1 [==============================] - 1s 955ms/step - loss: 13.5017 - mae: 13.5017\n",
      "Epoch 2/100\n",
      "1/1 [==============================] - 0s 13ms/step - loss: 13.4309 - mae: 13.4309\n",
      "Epoch 3/100\n",
      "1/1 [==============================] - 0s 12ms/step - loss: 13.3601 - mae: 13.3601\n",
      "Epoch 4/100\n",
      "1/1 [==============================] - 0s 12ms/step - loss: 13.2894 - mae: 13.2894\n",
      "Epoch 5/100\n",
      "1/1 [==============================] - 0s 12ms/step - loss: 13.2186 - mae: 13.2186\n",
      "Epoch 6/100\n",
      "1/1 [==============================] - 0s 14ms/step - loss: 13.1477 - mae: 13.1477\n",
      "Epoch 7/100\n",
      "1/1 [==============================] - 0s 14ms/step - loss: 13.0769 - mae: 13.0769\n",
      "Epoch 8/100\n",
      "1/1 [==============================] - 0s 13ms/step - loss: 13.0060 - mae: 13.0060\n",
      "Epoch 9/100\n",
      "1/1 [==============================] - 0s 12ms/step - loss: 12.9350 - mae: 12.9350\n",
      "Epoch 10/100\n",
      "1/1 [==============================] - 0s 12ms/step - loss: 12.8640 - mae: 12.8640\n",
      "Epoch 11/100\n",
      "1/1 [==============================] - 0s 16ms/step - loss: 12.7929 - mae: 12.7929\n",
      "Epoch 12/100\n",
      "1/1 [==============================] - 0s 13ms/step - loss: 12.7218 - mae: 12.7218\n",
      "Epoch 13/100\n",
      "1/1 [==============================] - 0s 13ms/step - loss: 12.6506 - mae: 12.6506\n",
      "Epoch 14/100\n",
      "1/1 [==============================] - 0s 12ms/step - loss: 12.5792 - mae: 12.5792\n",
      "Epoch 15/100\n",
      "1/1 [==============================] - 0s 12ms/step - loss: 12.5078 - mae: 12.5078\n",
      "Epoch 16/100\n",
      "1/1 [==============================] - 0s 12ms/step - loss: 12.4363 - mae: 12.4363\n",
      "Epoch 17/100\n",
      "1/1 [==============================] - 0s 12ms/step - loss: 12.3647 - mae: 12.3647\n",
      "Epoch 18/100\n",
      "1/1 [==============================] - 0s 13ms/step - loss: 12.2929 - mae: 12.2929\n",
      "Epoch 19/100\n",
      "1/1 [==============================] - 0s 12ms/step - loss: 12.2211 - mae: 12.2211\n",
      "Epoch 20/100\n",
      "1/1 [==============================] - 0s 12ms/step - loss: 12.1491 - mae: 12.1491\n",
      "Epoch 21/100\n",
      "1/1 [==============================] - 0s 12ms/step - loss: 12.0770 - mae: 12.0770\n",
      "Epoch 22/100\n",
      "1/1 [==============================] - 0s 11ms/step - loss: 12.0048 - mae: 12.0048\n",
      "Epoch 23/100\n",
      "1/1 [==============================] - 0s 12ms/step - loss: 11.9324 - mae: 11.9324\n",
      "Epoch 24/100\n",
      "1/1 [==============================] - 0s 12ms/step - loss: 11.8599 - mae: 11.8599\n",
      "Epoch 25/100\n",
      "1/1 [==============================] - 0s 13ms/step - loss: 11.7872 - mae: 11.7872\n",
      "Epoch 26/100\n",
      "1/1 [==============================] - 0s 12ms/step - loss: 11.7144 - mae: 11.7144\n",
      "Epoch 27/100\n",
      "1/1 [==============================] - 0s 10ms/step - loss: 11.6414 - mae: 11.6414\n",
      "Epoch 28/100\n",
      "1/1 [==============================] - 0s 13ms/step - loss: 11.5683 - mae: 11.5683\n",
      "Epoch 29/100\n",
      "1/1 [==============================] - 0s 13ms/step - loss: 11.4950 - mae: 11.4950\n",
      "Epoch 30/100\n",
      "1/1 [==============================] - 0s 12ms/step - loss: 11.4215 - mae: 11.4215\n",
      "Epoch 31/100\n",
      "1/1 [==============================] - 0s 13ms/step - loss: 11.3478 - mae: 11.3478\n",
      "Epoch 32/100\n",
      "1/1 [==============================] - 0s 12ms/step - loss: 11.2740 - mae: 11.2740\n",
      "Epoch 33/100\n",
      "1/1 [==============================] - 0s 12ms/step - loss: 11.1999 - mae: 11.1999\n",
      "Epoch 34/100\n",
      "1/1 [==============================] - 0s 12ms/step - loss: 11.1257 - mae: 11.1257\n",
      "Epoch 35/100\n",
      "1/1 [==============================] - 0s 13ms/step - loss: 11.0513 - mae: 11.0513\n",
      "Epoch 36/100\n",
      "1/1 [==============================] - 0s 13ms/step - loss: 10.9766 - mae: 10.9766\n",
      "Epoch 37/100\n",
      "1/1 [==============================] - 0s 19ms/step - loss: 10.9017 - mae: 10.9017\n",
      "Epoch 38/100\n",
      "1/1 [==============================] - 0s 13ms/step - loss: 10.8266 - mae: 10.8266\n",
      "Epoch 39/100\n",
      "1/1 [==============================] - 0s 14ms/step - loss: 10.7513 - mae: 10.7513\n",
      "Epoch 40/100\n",
      "1/1 [==============================] - 0s 12ms/step - loss: 10.6757 - mae: 10.6757\n",
      "Epoch 41/100\n",
      "1/1 [==============================] - 0s 13ms/step - loss: 10.5999 - mae: 10.5999\n",
      "Epoch 42/100\n",
      "1/1 [==============================] - 0s 11ms/step - loss: 10.5239 - mae: 10.5239\n",
      "Epoch 43/100\n",
      "1/1 [==============================] - 0s 20ms/step - loss: 10.4476 - mae: 10.4476\n",
      "Epoch 44/100\n",
      "1/1 [==============================] - 0s 13ms/step - loss: 10.3710 - mae: 10.3710\n",
      "Epoch 45/100\n",
      "1/1 [==============================] - 0s 11ms/step - loss: 10.2941 - mae: 10.2941\n",
      "Epoch 46/100\n",
      "1/1 [==============================] - 0s 11ms/step - loss: 10.2170 - mae: 10.2170\n",
      "Epoch 47/100\n",
      "1/1 [==============================] - 0s 11ms/step - loss: 10.1396 - mae: 10.1396\n",
      "Epoch 48/100\n",
      "1/1 [==============================] - 0s 10ms/step - loss: 10.0619 - mae: 10.0619\n",
      "Epoch 49/100\n",
      "1/1 [==============================] - 0s 10ms/step - loss: 9.9839 - mae: 9.9839\n",
      "Epoch 50/100\n",
      "1/1 [==============================] - 0s 9ms/step - loss: 9.9056 - mae: 9.9056\n",
      "Epoch 51/100\n",
      "1/1 [==============================] - 0s 12ms/step - loss: 9.8270 - mae: 9.8270\n",
      "Epoch 52/100\n",
      "1/1 [==============================] - 0s 21ms/step - loss: 9.7481 - mae: 9.7481\n",
      "Epoch 53/100\n",
      "1/1 [==============================] - 0s 11ms/step - loss: 9.6688 - mae: 9.6688\n",
      "Epoch 54/100\n",
      "1/1 [==============================] - 0s 14ms/step - loss: 9.5893 - mae: 9.5893\n",
      "Epoch 55/100\n",
      "1/1 [==============================] - 0s 12ms/step - loss: 9.5094 - mae: 9.5094\n",
      "Epoch 56/100\n",
      "1/1 [==============================] - 0s 12ms/step - loss: 9.4291 - mae: 9.4291\n",
      "Epoch 57/100\n",
      "1/1 [==============================] - 0s 12ms/step - loss: 9.3485 - mae: 9.3485\n",
      "Epoch 58/100\n",
      "1/1 [==============================] - 0s 15ms/step - loss: 9.2675 - mae: 9.2675\n",
      "Epoch 59/100\n",
      "1/1 [==============================] - 0s 11ms/step - loss: 9.1862 - mae: 9.1862\n",
      "Epoch 60/100\n",
      "1/1 [==============================] - 0s 13ms/step - loss: 9.1045 - mae: 9.1045\n",
      "Epoch 61/100\n",
      "1/1 [==============================] - 0s 12ms/step - loss: 9.0224 - mae: 9.0224\n",
      "Epoch 62/100\n",
      "1/1 [==============================] - 0s 13ms/step - loss: 8.9399 - mae: 8.9399\n",
      "Epoch 63/100\n",
      "1/1 [==============================] - 0s 12ms/step - loss: 8.8570 - mae: 8.8570\n",
      "Epoch 64/100\n",
      "1/1 [==============================] - 0s 12ms/step - loss: 8.7738 - mae: 8.7738\n",
      "Epoch 65/100\n",
      "1/1 [==============================] - 0s 12ms/step - loss: 8.6901 - mae: 8.6901\n",
      "Epoch 66/100\n",
      "1/1 [==============================] - 0s 12ms/step - loss: 8.6060 - mae: 8.6060\n",
      "Epoch 67/100\n",
      "1/1 [==============================] - 0s 12ms/step - loss: 8.5215 - mae: 8.5215\n",
      "Epoch 68/100\n",
      "1/1 [==============================] - 0s 13ms/step - loss: 8.4366 - mae: 8.4366\n",
      "Epoch 69/100\n",
      "1/1 [==============================] - 0s 12ms/step - loss: 8.3513 - mae: 8.3513\n",
      "Epoch 70/100\n",
      "1/1 [==============================] - 0s 12ms/step - loss: 8.2655 - mae: 8.2655\n",
      "Epoch 71/100\n",
      "1/1 [==============================] - 0s 10ms/step - loss: 8.1792 - mae: 8.1792\n",
      "Epoch 72/100\n",
      "1/1 [==============================] - 0s 11ms/step - loss: 8.0926 - mae: 8.0926\n",
      "Epoch 73/100\n",
      "1/1 [==============================] - 0s 13ms/step - loss: 8.0054 - mae: 8.0054\n",
      "Epoch 74/100\n",
      "1/1 [==============================] - 0s 38ms/step - loss: 7.9178 - mae: 7.9178\n",
      "Epoch 75/100\n",
      "1/1 [==============================] - 0s 11ms/step - loss: 7.8298 - mae: 7.8298\n",
      "Epoch 76/100\n",
      "1/1 [==============================] - 0s 13ms/step - loss: 7.7412 - mae: 7.7412\n",
      "Epoch 77/100\n",
      "1/1 [==============================] - 0s 18ms/step - loss: 7.6522 - mae: 7.6522\n",
      "Epoch 78/100\n",
      "1/1 [==============================] - 0s 12ms/step - loss: 7.5627 - mae: 7.5627\n",
      "Epoch 79/100\n",
      "1/1 [==============================] - 0s 14ms/step - loss: 7.4727 - mae: 7.4727\n",
      "Epoch 80/100\n",
      "1/1 [==============================] - 0s 17ms/step - loss: 7.3822 - mae: 7.3822\n",
      "Epoch 81/100\n",
      "1/1 [==============================] - 0s 17ms/step - loss: 7.2912 - mae: 7.2912\n",
      "Epoch 82/100\n",
      "1/1 [==============================] - 0s 12ms/step - loss: 7.1997 - mae: 7.1997\n",
      "Epoch 83/100\n",
      "1/1 [==============================] - 0s 12ms/step - loss: 7.1077 - mae: 7.1077\n",
      "Epoch 84/100\n",
      "1/1 [==============================] - 0s 13ms/step - loss: 7.0152 - mae: 7.0152\n",
      "Epoch 85/100\n",
      "1/1 [==============================] - 0s 14ms/step - loss: 6.9222 - mae: 6.9222\n",
      "Epoch 86/100\n",
      "1/1 [==============================] - 0s 14ms/step - loss: 6.8286 - mae: 6.8286\n",
      "Epoch 87/100\n",
      "1/1 [==============================] - 0s 14ms/step - loss: 6.7593 - mae: 6.7593\n",
      "Epoch 88/100\n",
      "1/1 [==============================] - 0s 13ms/step - loss: 6.7483 - mae: 6.7483\n",
      "Epoch 89/100\n",
      "1/1 [==============================] - 0s 11ms/step - loss: 6.7375 - mae: 6.7375\n",
      "Epoch 90/100\n",
      "1/1 [==============================] - 0s 10ms/step - loss: 6.7270 - mae: 6.7270\n",
      "Epoch 91/100\n",
      "1/1 [==============================] - 0s 10ms/step - loss: 6.7167 - mae: 6.7167\n",
      "Epoch 92/100\n",
      "1/1 [==============================] - 0s 10ms/step - loss: 6.7066 - mae: 6.7066\n",
      "Epoch 93/100\n",
      "1/1 [==============================] - 0s 10ms/step - loss: 6.6966 - mae: 6.6966\n",
      "Epoch 94/100\n",
      "1/1 [==============================] - 0s 10ms/step - loss: 6.6868 - mae: 6.6868\n",
      "Epoch 95/100\n",
      "1/1 [==============================] - 0s 10ms/step - loss: 6.6771 - mae: 6.6771\n",
      "Epoch 96/100\n",
      "1/1 [==============================] - 0s 10ms/step - loss: 6.6676 - mae: 6.6676\n",
      "Epoch 97/100\n",
      "1/1 [==============================] - 0s 13ms/step - loss: 6.6581 - mae: 6.6581\n",
      "Epoch 98/100\n",
      "1/1 [==============================] - 0s 12ms/step - loss: 6.6487 - mae: 6.6487\n",
      "Epoch 99/100\n",
      "1/1 [==============================] - 0s 13ms/step - loss: 6.6457 - mae: 6.6457\n",
      "Epoch 100/100\n",
      "1/1 [==============================] - 0s 11ms/step - loss: 6.6531 - mae: 6.6531\n"
     ]
    },
    {
     "data": {
      "text/plain": [
       "<keras.src.callbacks.History at 0x13d87b8c100>"
      ]
     },
     "execution_count": 16,
     "metadata": {},
     "output_type": "execute_result"
    }
   ],
   "source": [
    "# lets see if we can  make another to improve  our model\n",
    "\n",
    "#1. create the model  ( this time  with an extra  hidden layer with 50 hidden units)\n",
    "model = tf.keras.Sequential([\n",
    "    tf.keras.layers.Dense(50, activation =None),\n",
    "    tf.keras.layers.Dense(1)\n",
    "])\n",
    "\n",
    "# 2.compile the model\n",
    "model.compile(loss=\"mae\",\n",
    "              optimizer=tf.keras.optimizers.Adam(lr=0.0001),\n",
    "              metrics=[\"mae\"])\n",
    "\n",
    "# 3. fit he model\n",
    "model.fit(X,y,epochs=100)\n"
   ]
  },
  {
   "cell_type": "code",
   "execution_count": 17,
   "metadata": {},
   "outputs": [
    {
     "name": "stdout",
     "output_type": "stream",
     "text": [
      "1/1 [==============================] - 0s 221ms/step\n"
     ]
    },
    {
     "data": {
      "text/plain": [
       "array([[32.011055]], dtype=float32)"
      ]
     },
     "execution_count": 17,
     "metadata": {},
     "output_type": "execute_result"
    }
   ],
   "source": [
    "model.predict([17.0])  # our model is overfitting"
   ]
  },
  {
   "cell_type": "markdown",
   "metadata": {},
   "source": [
    "## Evaluting a Model\n",
    "In practical  a typical  workflow you will  through when  building  neural network is:\n",
    "```\n",
    "Build a model -> fit it  ->  evaluate it  -> tweek the model ->  fit it ->  evaluate it -> tweak a model -> fit it -> evaluate it....\n",
    "```"
   ]
  },
  {
   "cell_type": "code",
   "execution_count": 18,
   "metadata": {},
   "outputs": [
    {
     "data": {
      "text/plain": [
       "tf.float32"
      ]
     },
     "execution_count": 18,
     "metadata": {},
     "output_type": "execute_result"
    }
   ],
   "source": [
    "# make a bigger dataset\n",
    "\n",
    "X = tf.cast(tf.range (-100, 100, 4), dtype= tf.float32)\n",
    "X.dtype"
   ]
  },
  {
   "cell_type": "code",
   "execution_count": 19,
   "metadata": {},
   "outputs": [
    {
     "data": {
      "text/plain": [
       "<tf.Tensor: shape=(50,), dtype=float32, numpy=\n",
       "array([-90., -86., -82., -78., -74., -70., -66., -62., -58., -54., -50.,\n",
       "       -46., -42., -38., -34., -30., -26., -22., -18., -14., -10.,  -6.,\n",
       "        -2.,   2.,   6.,  10.,  14.,  18.,  22.,  26.,  30.,  34.,  38.,\n",
       "        42.,  46.,  50.,  54.,  58.,  62.,  66.,  70.,  74.,  78.,  82.,\n",
       "        86.,  90.,  94.,  98., 102., 106.], dtype=float32)>"
      ]
     },
     "execution_count": 19,
     "metadata": {},
     "output_type": "execute_result"
    }
   ],
   "source": [
    "# make labels for dataset\n",
    "y = X + 10\n",
    "y "
   ]
  },
  {
   "cell_type": "code",
   "execution_count": 20,
   "metadata": {},
   "outputs": [
    {
     "data": {
      "text/plain": [
       "<matplotlib.collections.PathCollection at 0x13d87be5180>"
      ]
     },
     "execution_count": 20,
     "metadata": {},
     "output_type": "execute_result"
    },
    {
     "data": {
      "image/png": "[encoded data removed]",
      "text/plain": [
       "<Figure size 640x480 with 1 Axes>"
      ]
     },
     "metadata": {},
     "output_type": "display_data"
    }
   ],
   "source": [
    "# Visualize the data\n",
    "plt.plot(X,y)   # or\n",
    "plt.scatter(X,y)"
   ]
  },
  {
   "cell_type": "markdown",
   "metadata": {},
   "source": [
    "### The 3 sets...\n",
    "* **Training set** -  the model learns from this data , which is typically  70-80%  of the total data you have  avialable.\n",
    "* **Validation set**- the model gets tuned on this data, which is typically  10-15%  of the data available.\n",
    "* **Test  set** -  the model gets evaluated on this data to test  what is has learned this set is typically 10-15%  of the total  data available."
   ]
  },
  {
   "cell_type": "code",
   "execution_count": 21,
   "metadata": {},
   "outputs": [
    {
     "data": {
      "text/plain": [
       "50"
      ]
     },
     "execution_count": 21,
     "metadata": {},
     "output_type": "execute_result"
    }
   ],
   "source": [
    "# check the length of how many sample we have\n",
    "len(X)"
   ]
  },
  {
   "cell_type": "code",
   "execution_count": 22,
   "metadata": {},
   "outputs": [],
   "source": [
    "# Split the data into train  and test  sets\n",
    "X_train = X[:40] # first 40  are training samples (80% of the data)\n",
    "y_train = y[:40]\n",
    "\n",
    "X_test = X[40:] # last 10 are test samples (20% of the data)\n",
    "y_test = y[40:]\n",
    "# len(X_train), len(X_test), len(y_train), len(y_test)"
   ]
  },
  {
   "cell_type": "markdown",
   "metadata": {},
   "source": [
    "## Visualizing the data\n",
    "Now we've got our data in training and test sets... let's visualize it again!"
   ]
  },
  {
   "cell_type": "code",
   "execution_count": 23,
   "metadata": {},
   "outputs": [
    {
     "data": {
      "image/png": "[encoded data removed]",
      "text/plain": [
       "<Figure size 1000x700 with 1 Axes>"
      ]
     },
     "metadata": {},
     "output_type": "display_data"
    }
   ],
   "source": [
    "plt.figure(figsize=(10,7))\n",
    "\n",
    "# plot training data in blue \n",
    "plt.scatter(X_train,y_train, c=\"b\", label=\"Training data\")  \n",
    "\n",
    "# ploy test data in green\n",
    "plt.scatter(X_test, y_test, c=\"g\", label=\"Testing data\")\n",
    "plt.legend();"
   ]
  },
  {
   "cell_type": "code",
   "execution_count": 24,
   "metadata": {},
   "outputs": [
    {
     "data": {
      "text/plain": [
       "(<tf.Tensor: shape=(), dtype=float32, numpy=-100.0>,\n",
       " <tf.Tensor: shape=(), dtype=float32, numpy=-90.0>)"
      ]
     },
     "execution_count": 24,
     "metadata": {},
     "output_type": "execute_result"
    }
   ],
   "source": [
    "# lets have a look at  how to build a neural network for our data\n",
    "X[0], y[0]"
   ]
  },
  {
   "cell_type": "code",
   "execution_count": 25,
   "metadata": {},
   "outputs": [],
   "source": [
    "#  lets create a model which  builds automatically by defining the input_shape argument in the first layer\n",
    "tf.random.set_seed(42)\n",
    "# 1.Same create a model\n",
    "model = tf.keras.Sequential([\n",
    "    tf.keras.layers.Dense(10, input_shape=[1], name=\"input_layer\"),\n",
    "    tf.keras.layers.Dense(1, name=\"output_layer\")\n",
    "],name=\"models_1\")\n",
    "# 2.compile the model\n",
    "model.compile(loss =tf.keras.losses.mae,\n",
    "              optimizer = tf.keras.optimizers.SGD(),\n",
    "              metrics = [\"mae\"])\n",
    "\n",
    "\n",
    "\n"
   ]
  },
  {
   "cell_type": "code",
   "execution_count": 26,
   "metadata": {},
   "outputs": [
    {
     "data": {
      "text/plain": [
       "<keras.src.callbacks.History at 0x13d88e8e410>"
      ]
     },
     "execution_count": 26,
     "metadata": {},
     "output_type": "execute_result"
    }
   ],
   "source": [
    "#3. fit the model\n",
    "model.fit(X_train,y_train,epochs=100,verbose=0)"
   ]
  },
  {
   "cell_type": "code",
   "execution_count": 27,
   "metadata": {},
   "outputs": [
    {
     "name": "stdout",
     "output_type": "stream",
     "text": [
      "Model: \"models_1\"\n",
      "_________________________________________________________________\n",
      " Layer (type)                Output Shape              Param #   \n",
      "=================================================================\n",
      " input_layer (Dense)         (None, 10)                20        \n",
      "                                                                 \n",
      " output_layer (Dense)        (None, 1)                 11        \n",
      "                                                                 \n",
      "=================================================================\n",
      "Total params: 31 (124.00 Byte)\n",
      "Trainable params: 31 (124.00 Byte)\n",
      "Non-trainable params: 0 (0.00 Byte)\n",
      "_________________________________________________________________\n"
     ]
    }
   ],
   "source": [
    "model.summary()"
   ]
  },
  {
   "cell_type": "code",
   "execution_count": 28,
   "metadata": {},
   "outputs": [],
   "source": [
    "# from tensorflow.keras.utils import plot_model\n",
    "# plot_model(model=model,show_shapes=False) "
   ]
  },
  {
   "cell_type": "markdown",
   "metadata": {},
   "source": [
    "## Visualizing our models predictions\n",
    "to visualize  precdictions its good idea to plot them against the ground  truth labels.Often  you'll see this in the form of `y_test` or `y_true`  versus  `y_pred` ( ground  truth  versus your model ).."
   ]
  },
  {
   "cell_type": "code",
   "execution_count": 29,
   "metadata": {},
   "outputs": [
    {
     "name": "stdout",
     "output_type": "stream",
     "text": [
      "1/1 [==============================] - 0s 127ms/step\n"
     ]
    },
    {
     "data": {
      "text/plain": [
       "array([[ 76.99033 ],\n",
       "       [ 82.01042 ],\n",
       "       [ 87.03052 ],\n",
       "       [ 92.050606],\n",
       "       [ 97.070694],\n",
       "       [102.09078 ],\n",
       "       [107.11088 ],\n",
       "       [112.130974],\n",
       "       [117.151054],\n",
       "       [122.17114 ]], dtype=float32)"
      ]
     },
     "execution_count": 29,
     "metadata": {},
     "output_type": "execute_result"
    }
   ],
   "source": [
    "# make your predictions\n",
    "y_pred =  model.predict(X_test)\n",
    "y_pred"
   ]
  },
  {
   "cell_type": "code",
   "execution_count": 30,
   "metadata": {},
   "outputs": [
    {
     "data": {
      "text/plain": [
       "<tf.Tensor: shape=(10,), dtype=float32, numpy=\n",
       "array([ 70.,  74.,  78.,  82.,  86.,  90.,  94.,  98., 102., 106.],\n",
       "      dtype=float32)>"
      ]
     },
     "execution_count": 30,
     "metadata": {},
     "output_type": "execute_result"
    }
   ],
   "source": [
    "y_test"
   ]
  },
  {
   "cell_type": "code",
   "execution_count": 31,
   "metadata": {},
   "outputs": [],
   "source": [
    "# let's  create a plotting function\n",
    "def plott_predictions(train_data = X_train,\n",
    "                      train_labels= y_train,\n",
    "                      test_data = X_test,\n",
    "                      test_labels=y_test,\n",
    "                      predictions = y_pred):\n",
    "    \"\"\"\n",
    "    Plots training data,test data and compares prediction to ground truth\n",
    "    \"\"\"\n",
    "    plt.figure(figsize=(10,7))\n",
    "\n",
    "    # Plot training data in blue\n",
    "    plt.scatter(train_data,train_labels, c=\"b\", label=\"Training data\")\n",
    "    # plot testting data in Green\n",
    "    plt.scatter(test_data,test_labels,c=\"g\", label=\"Testing data\")\n",
    "    # plott models prediction in Red\n",
    "    plt.scatter(test_data, predictions, c=\"r\", label=\"Predictioin\")\n",
    "\n",
    "    # show the legand\n",
    "    plt.legend();"
   ]
  },
  {
   "cell_type": "code",
   "execution_count": 32,
   "metadata": {},
   "outputs": [
    {
     "data": {
      "image/png": "[encoded data removed]",
      "text/plain": [
       "<Figure size 1000x700 with 1 Axes>"
      ]
     },
     "metadata": {},
     "output_type": "display_data"
    }
   ],
   "source": [
    "plott_predictions(train_data = X_train,\n",
    "                  train_labels= y_train,\n",
    "                  test_data = X_test,\n",
    "                  test_labels=y_test,\n",
    "                  predictions = y_pred)"
   ]
  },
  {
   "cell_type": "markdown",
   "metadata": {},
   "source": [
    "## Evaluting our model's  predictions with  regression evaluation metrics "
   ]
  },
  {
   "cell_type": "code",
   "execution_count": 33,
   "metadata": {},
   "outputs": [
    {
     "name": "stdout",
     "output_type": "stream",
     "text": [
      "1/1 [==============================] - 0s 258ms/step - loss: 11.5807 - mae: 11.5807\n"
     ]
    },
    {
     "data": {
      "text/plain": [
       "[11.580739974975586, 11.580739974975586]"
      ]
     },
     "execution_count": 33,
     "metadata": {},
     "output_type": "execute_result"
    }
   ],
   "source": [
    "#  Evaluate  the model on the test\n",
    "model.evaluate(X_test,y_test)"
   ]
  },
  {
   "cell_type": "code",
   "execution_count": 34,
   "metadata": {},
   "outputs": [
    {
     "data": {
      "text/plain": [
       "<tf.Tensor: shape=(10,), dtype=float32, numpy=\n",
       "array([13.0058  , 10.797915, 10.      , 10.410121, 12.028277, 14.872625,\n",
       "       19.110878, 24.130974, 29.151056, 34.171143], dtype=float32)>"
      ]
     },
     "execution_count": 34,
     "metadata": {},
     "output_type": "execute_result"
    }
   ],
   "source": [
    "# calculate the mean absolute error\n",
    "mae =  tf.metrics.mean_absolute_error(y_true = y_test,\n",
    "                                      y_pred = y_pred)\n",
    "mae"
   ]
  },
  {
   "cell_type": "code",
   "execution_count": 35,
   "metadata": {},
   "outputs": [
    {
     "data": {
      "text/plain": [
       "<tf.Tensor: shape=(10,), dtype=float32, numpy=\n",
       "array([ 76.99033 ,  82.01042 ,  87.03052 ,  92.050606,  97.070694,\n",
       "       102.09078 , 107.11088 , 112.130974, 117.151054, 122.17114 ],\n",
       "      dtype=float32)>"
      ]
     },
     "execution_count": 35,
     "metadata": {},
     "output_type": "execute_result"
    }
   ],
   "source": [
    "tf.squeeze(y_pred)"
   ]
  },
  {
   "cell_type": "code",
   "execution_count": 36,
   "metadata": {},
   "outputs": [
    {
     "data": {
      "text/plain": [
       "<tf.Tensor: shape=(), dtype=float32, numpy=11.58074>"
      ]
     },
     "execution_count": 36,
     "metadata": {},
     "output_type": "execute_result"
    }
   ],
   "source": [
    "# calculate  the mean absolute error\n",
    "mae =  tf.metrics.mean_absolute_error(y_true= y_test,\n",
    "                                          y_pred = tf.squeeze(y_pred))\n",
    "mae"
   ]
  },
  {
   "cell_type": "code",
   "execution_count": 37,
   "metadata": {},
   "outputs": [
    {
     "data": {
      "text/plain": [
       "<tf.Tensor: shape=(), dtype=float32, numpy=142.69836>"
      ]
     },
     "execution_count": 37,
     "metadata": {},
     "output_type": "execute_result"
    }
   ],
   "source": [
    "# calculate the mean square error\n",
    "mse = tf.metrics.mean_squared_error(y_true=y_test,\n",
    "                                    y_pred =tf.squeeze(y_pred))\n",
    "mse\n"
   ]
  },
  {
   "cell_type": "code",
   "execution_count": 38,
   "metadata": {},
   "outputs": [
    {
     "data": {
      "text/plain": [
       "<tf.Tensor: shape=(), dtype=float32, numpy=11.58074>"
      ]
     },
     "execution_count": 38,
     "metadata": {},
     "output_type": "execute_result"
    }
   ],
   "source": [
    "# make some functions to reuse MAE and MSE\n",
    "def mae(y_true, y_pred):\n",
    "    return tf.metrics.mean_absolute_error(y_true= y_test,\n",
    "                                          y_pred = tf.squeeze(y_pred))\n",
    "mae(y_test, y_pred)"
   ]
  },
  {
   "cell_type": "code",
   "execution_count": 39,
   "metadata": {},
   "outputs": [
    {
     "data": {
      "text/plain": [
       "<tf.Tensor: shape=(), dtype=float32, numpy=142.69836>"
      ]
     },
     "execution_count": 39,
     "metadata": {},
     "output_type": "execute_result"
    }
   ],
   "source": [
    "def mse(y_true, y_pred):\n",
    "    return tf.metrics.mean_squared_error(y_true= y_test,\n",
    "                                          y_pred = tf.squeeze(y_pred))\n",
    "mse(y_test, y_pred)"
   ]
  },
  {
   "cell_type": "markdown",
   "metadata": {},
   "source": [
    "###  Running experiments to improve  our model\n",
    "```\n",
    "Build  a model  ->  fit it -> evaluate it -> tweak it -> fit it sooo on\n",
    "```\n",
    "1. Get more Data\n",
    "2. make your model larger\n",
    "3. Train for longer"
   ]
  },
  {
   "cell_type": "code",
   "execution_count": 40,
   "metadata": {},
   "outputs": [
    {
     "name": "stdout",
     "output_type": "stream",
     "text": [
      "Epoch 1/100\n"
     ]
    },
    {
     "name": "stdout",
     "output_type": "stream",
     "text": [
      "2/2 [==============================] - 1s 16ms/step - loss: 19.1750 - mae: 19.1750\n",
      "Epoch 2/100\n",
      "2/2 [==============================] - 0s 31ms/step - loss: 11.4031 - mae: 11.4031\n",
      "Epoch 3/100\n",
      "2/2 [==============================] - 0s 9ms/step - loss: 11.3402 - mae: 11.3402\n",
      "Epoch 4/100\n",
      "2/2 [==============================] - 0s 10ms/step - loss: 9.5243 - mae: 9.5243\n",
      "Epoch 5/100\n",
      "2/2 [==============================] - 0s 10ms/step - loss: 10.4282 - mae: 10.4282\n",
      "Epoch 6/100\n",
      "2/2 [==============================] - 0s 8ms/step - loss: 9.6588 - mae: 9.6588\n",
      "Epoch 7/100\n",
      "2/2 [==============================] - 0s 16ms/step - loss: 8.7608 - mae: 8.7608\n",
      "Epoch 8/100\n",
      "2/2 [==============================] - 0s 8ms/step - loss: 9.0559 - mae: 9.0559\n",
      "Epoch 9/100\n",
      "2/2 [==============================] - 0s 11ms/step - loss: 19.2367 - mae: 19.2367\n",
      "Epoch 10/100\n",
      "2/2 [==============================] - 0s 10ms/step - loss: 10.3808 - mae: 10.3808\n",
      "Epoch 11/100\n",
      "2/2 [==============================] - 0s 9ms/step - loss: 8.4991 - mae: 8.4991\n",
      "Epoch 12/100\n",
      "2/2 [==============================] - 0s 9ms/step - loss: 10.8764 - mae: 10.8764\n",
      "Epoch 13/100\n",
      "2/2 [==============================] - 0s 8ms/step - loss: 9.9172 - mae: 9.9172\n",
      "Epoch 14/100\n",
      "2/2 [==============================] - 0s 9ms/step - loss: 9.4750 - mae: 9.4750\n",
      "Epoch 15/100\n",
      "2/2 [==============================] - 0s 9ms/step - loss: 13.6949 - mae: 13.6949\n",
      "Epoch 16/100\n",
      "2/2 [==============================] - 0s 11ms/step - loss: 8.9397 - mae: 8.9397\n",
      "Epoch 17/100\n",
      "2/2 [==============================] - 0s 7ms/step - loss: 12.8503 - mae: 12.8503\n",
      "Epoch 18/100\n",
      "2/2 [==============================] - 0s 9ms/step - loss: 10.4842 - mae: 10.4842\n",
      "Epoch 19/100\n",
      "2/2 [==============================] - 0s 9ms/step - loss: 19.2136 - mae: 19.2136\n",
      "Epoch 20/100\n",
      "2/2 [==============================] - 0s 8ms/step - loss: 15.8791 - mae: 15.8791\n",
      "Epoch 21/100\n",
      "2/2 [==============================] - 0s 9ms/step - loss: 11.7111 - mae: 11.7111\n",
      "Epoch 22/100\n",
      "2/2 [==============================] - 0s 8ms/step - loss: 8.9111 - mae: 8.9111\n",
      "Epoch 23/100\n",
      "2/2 [==============================] - 0s 7ms/step - loss: 10.0661 - mae: 10.0661\n",
      "Epoch 24/100\n",
      "2/2 [==============================] - 0s 7ms/step - loss: 15.6061 - mae: 15.6061\n",
      "Epoch 25/100\n",
      "2/2 [==============================] - 0s 7ms/step - loss: 12.0793 - mae: 12.0793\n",
      "Epoch 26/100\n",
      "2/2 [==============================] - 0s 9ms/step - loss: 13.1873 - mae: 13.1873\n",
      "Epoch 27/100\n",
      "2/2 [==============================] - 0s 10ms/step - loss: 10.6582 - mae: 10.6582\n",
      "Epoch 28/100\n",
      "2/2 [==============================] - 0s 9ms/step - loss: 12.8782 - mae: 12.8782\n",
      "Epoch 29/100\n",
      "2/2 [==============================] - 0s 9ms/step - loss: 9.5030 - mae: 9.5030\n",
      "Epoch 30/100\n",
      "2/2 [==============================] - 0s 8ms/step - loss: 16.4032 - mae: 16.4032\n",
      "Epoch 31/100\n",
      "2/2 [==============================] - 0s 6ms/step - loss: 23.5813 - mae: 23.5813\n",
      "Epoch 32/100\n",
      "2/2 [==============================] - 0s 8ms/step - loss: 7.6036 - mae: 7.6036\n",
      "Epoch 33/100\n",
      "2/2 [==============================] - 0s 9ms/step - loss: 9.3012 - mae: 9.3012\n",
      "Epoch 34/100\n",
      "2/2 [==============================] - 0s 8ms/step - loss: 13.6797 - mae: 13.6797\n",
      "Epoch 35/100\n",
      "2/2 [==============================] - 0s 10ms/step - loss: 11.1464 - mae: 11.1464\n",
      "Epoch 36/100\n",
      "2/2 [==============================] - 0s 9ms/step - loss: 13.3685 - mae: 13.3685\n",
      "Epoch 37/100\n",
      "2/2 [==============================] - 0s 7ms/step - loss: 9.4481 - mae: 9.4481\n",
      "Epoch 38/100\n",
      "2/2 [==============================] - 0s 8ms/step - loss: 10.1007 - mae: 10.1007\n",
      "Epoch 39/100\n",
      "2/2 [==============================] - 0s 8ms/step - loss: 10.1983 - mae: 10.1983\n",
      "Epoch 40/100\n",
      "2/2 [==============================] - 0s 9ms/step - loss: 10.9432 - mae: 10.9432\n",
      "Epoch 41/100\n",
      "2/2 [==============================] - 0s 9ms/step - loss: 7.9183 - mae: 7.9183\n",
      "Epoch 42/100\n",
      "2/2 [==============================] - 0s 10ms/step - loss: 10.5787 - mae: 10.5787\n",
      "Epoch 43/100\n",
      "2/2 [==============================] - 0s 10ms/step - loss: 7.2033 - mae: 7.2033\n",
      "Epoch 44/100\n",
      "2/2 [==============================] - 0s 9ms/step - loss: 7.9920 - mae: 7.9920\n",
      "Epoch 45/100\n",
      "2/2 [==============================] - 0s 7ms/step - loss: 9.7852 - mae: 9.7852\n",
      "Epoch 46/100\n",
      "2/2 [==============================] - 0s 8ms/step - loss: 8.8618 - mae: 8.8618\n",
      "Epoch 47/100\n",
      "2/2 [==============================] - 0s 8ms/step - loss: 7.5654 - mae: 7.5654\n",
      "Epoch 48/100\n",
      "2/2 [==============================] - 0s 8ms/step - loss: 8.5654 - mae: 8.5654\n",
      "Epoch 49/100\n",
      "2/2 [==============================] - 0s 9ms/step - loss: 9.9907 - mae: 9.9907\n",
      "Epoch 50/100\n",
      "2/2 [==============================] - 0s 11ms/step - loss: 9.0171 - mae: 9.0171\n",
      "Epoch 51/100\n",
      "2/2 [==============================] - 0s 10ms/step - loss: 10.6606 - mae: 10.6606\n",
      "Epoch 52/100\n",
      "2/2 [==============================] - 0s 8ms/step - loss: 15.2901 - mae: 15.2901\n",
      "Epoch 53/100\n",
      "2/2 [==============================] - 0s 9ms/step - loss: 14.3119 - mae: 14.3119\n",
      "Epoch 54/100\n",
      "2/2 [==============================] - 0s 8ms/step - loss: 21.6081 - mae: 21.6081\n",
      "Epoch 55/100\n",
      "2/2 [==============================] - 0s 15ms/step - loss: 15.9881 - mae: 15.9881\n",
      "Epoch 56/100\n",
      "2/2 [==============================] - 0s 9ms/step - loss: 10.2825 - mae: 10.2825\n",
      "Epoch 57/100\n",
      "2/2 [==============================] - 0s 7ms/step - loss: 9.7604 - mae: 9.7604\n",
      "Epoch 58/100\n",
      "2/2 [==============================] - 0s 7ms/step - loss: 9.0459 - mae: 9.0459\n",
      "Epoch 59/100\n",
      "2/2 [==============================] - 0s 7ms/step - loss: 8.2516 - mae: 8.2516\n",
      "Epoch 60/100\n",
      "2/2 [==============================] - 0s 10ms/step - loss: 9.3478 - mae: 9.3478\n",
      "Epoch 61/100\n",
      "2/2 [==============================] - 0s 8ms/step - loss: 11.1567 - mae: 11.1567\n",
      "Epoch 62/100\n",
      "2/2 [==============================] - 0s 8ms/step - loss: 12.0710 - mae: 12.0710\n",
      "Epoch 63/100\n",
      "2/2 [==============================] - 0s 9ms/step - loss: 7.2622 - mae: 7.2622\n",
      "Epoch 64/100\n",
      "2/2 [==============================] - 0s 8ms/step - loss: 12.4250 - mae: 12.4250\n",
      "Epoch 65/100\n",
      "2/2 [==============================] - 0s 8ms/step - loss: 10.4926 - mae: 10.4926\n",
      "Epoch 66/100\n",
      "2/2 [==============================] - 0s 8ms/step - loss: 15.6043 - mae: 15.6043\n",
      "Epoch 67/100\n",
      "2/2 [==============================] - 0s 7ms/step - loss: 10.0048 - mae: 10.0048\n",
      "Epoch 68/100\n",
      "2/2 [==============================] - 0s 7ms/step - loss: 8.7143 - mae: 8.7143\n",
      "Epoch 69/100\n",
      "2/2 [==============================] - 0s 6ms/step - loss: 13.4805 - mae: 13.4805\n",
      "Epoch 70/100\n",
      "2/2 [==============================] - 0s 11ms/step - loss: 7.4609 - mae: 7.4609\n",
      "Epoch 71/100\n",
      "2/2 [==============================] - 0s 11ms/step - loss: 12.2195 - mae: 12.2195\n",
      "Epoch 72/100\n",
      "2/2 [==============================] - 0s 12ms/step - loss: 8.5252 - mae: 8.5252\n",
      "Epoch 73/100\n",
      "2/2 [==============================] - 0s 10ms/step - loss: 7.0315 - mae: 7.0315\n",
      "Epoch 74/100\n",
      "2/2 [==============================] - 0s 8ms/step - loss: 9.9231 - mae: 9.9231\n",
      "Epoch 75/100\n",
      "2/2 [==============================] - 0s 8ms/step - loss: 9.9297 - mae: 9.9297\n",
      "Epoch 76/100\n",
      "2/2 [==============================] - 0s 7ms/step - loss: 10.0961 - mae: 10.0961\n",
      "Epoch 77/100\n",
      "2/2 [==============================] - 0s 9ms/step - loss: 12.9468 - mae: 12.9468\n",
      "Epoch 78/100\n",
      "2/2 [==============================] - 0s 8ms/step - loss: 11.1416 - mae: 11.1416\n",
      "Epoch 79/100\n",
      "2/2 [==============================] - 0s 8ms/step - loss: 14.6950 - mae: 14.6950\n",
      "Epoch 80/100\n",
      "2/2 [==============================] - 0s 10ms/step - loss: 8.9180 - mae: 8.9180\n",
      "Epoch 81/100\n",
      "2/2 [==============================] - 0s 8ms/step - loss: 10.7611 - mae: 10.7611\n",
      "Epoch 82/100\n",
      "2/2 [==============================] - 0s 7ms/step - loss: 8.3812 - mae: 8.3812\n",
      "Epoch 83/100\n",
      "2/2 [==============================] - 0s 8ms/step - loss: 9.2177 - mae: 9.2177\n",
      "Epoch 84/100\n",
      "2/2 [==============================] - 0s 7ms/step - loss: 8.9348 - mae: 8.9348\n",
      "Epoch 85/100\n",
      "2/2 [==============================] - 0s 8ms/step - loss: 13.1959 - mae: 13.1959\n",
      "Epoch 86/100\n",
      "2/2 [==============================] - 0s 7ms/step - loss: 13.6985 - mae: 13.6985\n",
      "Epoch 87/100\n",
      "2/2 [==============================] - 0s 10ms/step - loss: 13.1826 - mae: 13.1826\n",
      "Epoch 88/100\n",
      "2/2 [==============================] - 0s 9ms/step - loss: 11.5077 - mae: 11.5077\n",
      "Epoch 89/100\n",
      "2/2 [==============================] - 0s 10ms/step - loss: 7.7960 - mae: 7.7960\n",
      "Epoch 90/100\n",
      "2/2 [==============================] - 0s 8ms/step - loss: 10.9216 - mae: 10.9216\n",
      "Epoch 91/100\n",
      "2/2 [==============================] - 0s 7ms/step - loss: 6.7416 - mae: 6.7416\n",
      "Epoch 92/100\n",
      "2/2 [==============================] - 0s 8ms/step - loss: 10.1141 - mae: 10.1141\n",
      "Epoch 93/100\n",
      "2/2 [==============================] - 0s 16ms/step - loss: 7.6007 - mae: 7.6007\n",
      "Epoch 94/100\n",
      "2/2 [==============================] - 0s 8ms/step - loss: 9.2328 - mae: 9.2328\n",
      "Epoch 95/100\n",
      "2/2 [==============================] - 0s 11ms/step - loss: 10.8226 - mae: 10.8226\n",
      "Epoch 96/100\n",
      "2/2 [==============================] - 0s 8ms/step - loss: 10.2879 - mae: 10.2879\n",
      "Epoch 97/100\n",
      "2/2 [==============================] - 0s 29ms/step - loss: 7.6728 - mae: 7.6728\n",
      "Epoch 98/100\n",
      "2/2 [==============================] - 0s 10ms/step - loss: 8.6077 - mae: 8.6077\n",
      "Epoch 99/100\n",
      "2/2 [==============================] - 0s 12ms/step - loss: 9.3861 - mae: 9.3861\n",
      "Epoch 100/100\n",
      "2/2 [==============================] - 0s 11ms/step - loss: 8.8320 - mae: 8.8320\n"
     ]
    },
    {
     "data": {
      "text/plain": [
       "<keras.src.callbacks.History at 0x13d893a7400>"
      ]
     },
     "execution_count": 40,
     "metadata": {},
     "output_type": "execute_result"
    }
   ],
   "source": [
    "# now start experimenet\n",
    "# lets do 3 model experimenets\n",
    "# set random seed\n",
    "tf.random.set_seed(42)\n",
    "# 1. create a model\n",
    "model_1 = tf.keras.Sequential([\n",
    "    tf.keras.layers.Input(shape=(1,)),\n",
    "    tf.keras.layers.Dense(1)\n",
    "])\n",
    "# 2. compile it\n",
    "model_1.compile(loss =tf.keras.losses.mae,\n",
    "                optimizer = tf.keras.optimizers.SGD(),\n",
    "                metrics =[\"mae\"])\n",
    "# 3.Fit the model\n",
    "model_1.fit(X_train,y_train,epochs=100)\n"
   ]
  },
  {
   "cell_type": "code",
   "execution_count": 41,
   "metadata": {},
   "outputs": [
    {
     "name": "stdout",
     "output_type": "stream",
     "text": [
      "WARNING:tensorflow:5 out of the last 5 calls to <function Model.make_predict_function.<locals>.predict_function at 0x0000013D88D44EE0> triggered tf.function retracing. Tracing is expensive and the excessive number of tracings could be due to (1) creating @tf.function repeatedly in a loop, (2) passing tensors with different shapes, (3) passing Python objects instead of tensors. For (1), please define your @tf.function outside of the loop. For (2), @tf.function has reduce_retracing=True option that can avoid unnecessary retracing. For (3), please refer to https://www.tensorflow.org/guide/function#controlling_retracing and https://www.tensorflow.org/api_docs/python/tf/function for  more details.\n"
     ]
    },
    {
     "name": "stderr",
     "output_type": "stream",
     "text": [
      "WARNING:tensorflow:5 out of the last 5 calls to <function Model.make_predict_function.<locals>.predict_function at 0x0000013D88D44EE0> triggered tf.function retracing. Tracing is expensive and the excessive number of tracings could be due to (1) creating @tf.function repeatedly in a loop, (2) passing tensors with different shapes, (3) passing Python objects instead of tensors. For (1), please define your @tf.function outside of the loop. For (2), @tf.function has reduce_retracing=True option that can avoid unnecessary retracing. For (3), please refer to https://www.tensorflow.org/guide/function#controlling_retracing and https://www.tensorflow.org/api_docs/python/tf/function for  more details.\n"
     ]
    },
    {
     "name": "stdout",
     "output_type": "stream",
     "text": [
      "1/1 [==============================] - 0s 123ms/step\n"
     ]
    },
    {
     "data": {
      "image/png": "[encoded data removed]",
      "text/plain": [
       "<Figure size 1000x700 with 1 Axes>"
      ]
     },
     "metadata": {},
     "output_type": "display_data"
    }
   ],
   "source": [
    "# make and plot prediction for model 1\n",
    "y_preds_1 =model_1.predict(X_test)\n",
    "plott_predictions(predictions=y_preds_1)"
   ]
  },
  {
   "cell_type": "code",
   "execution_count": 42,
   "metadata": {},
   "outputs": [
    {
     "data": {
      "text/plain": [
       "(<tf.Tensor: shape=(), dtype=float32, numpy=8.651799>,\n",
       " <tf.Tensor: shape=(), dtype=float32, numpy=81.3771>)"
      ]
     },
     "execution_count": 42,
     "metadata": {},
     "output_type": "execute_result"
    }
   ],
   "source": [
    "# Calulate model_1 evaluation metrics\n",
    "mae_1 =  mae(y_test,y_preds_1)\n",
    "mse_1 =  mse(y_test,y_preds_1)\n",
    "mae_1,mse_1"
   ]
  },
  {
   "cell_type": "markdown",
   "metadata": {},
   "source": [
    "## Build model 2 \n",
    "which have  2 dense layer and epochs=100 then another 2 dense and epochs =500"
   ]
  },
  {
   "cell_type": "code",
   "execution_count": 43,
   "metadata": {},
   "outputs": [
    {
     "name": "stdout",
     "output_type": "stream",
     "text": [
      "Epoch 1/100\n",
      "2/2 [==============================] - 1s 12ms/step - loss: 35.2659 - mse: 1805.3477\n",
      "Epoch 2/100\n",
      "2/2 [==============================] - 0s 7ms/step - loss: 21.8173 - mse: 628.2191\n",
      "Epoch 3/100\n",
      "2/2 [==============================] - 0s 8ms/step - loss: 27.5919 - mse: 1143.2234\n",
      "Epoch 4/100\n",
      "2/2 [==============================] - 0s 8ms/step - loss: 12.4545 - mse: 224.7963\n",
      "Epoch 5/100\n",
      "2/2 [==============================] - 0s 8ms/step - loss: 15.3284 - mse: 300.7028\n",
      "Epoch 6/100\n",
      "2/2 [==============================] - 0s 9ms/step - loss: 12.1692 - mse: 183.5837\n",
      "Epoch 7/100\n",
      "2/2 [==============================] - 0s 8ms/step - loss: 11.4688 - mse: 160.1292\n",
      "Epoch 8/100\n",
      "2/2 [==============================] - 0s 8ms/step - loss: 11.1903 - mse: 175.3540\n",
      "Epoch 9/100\n",
      "2/2 [==============================] - 0s 7ms/step - loss: 41.8544 - mse: 2793.9458\n",
      "Epoch 10/100\n",
      "2/2 [==============================] - 0s 10ms/step - loss: 29.0737 - mse: 1195.1233\n",
      "Epoch 11/100\n",
      "2/2 [==============================] - 0s 8ms/step - loss: 8.5398 - mse: 95.9631\n",
      "Epoch 12/100\n",
      "2/2 [==============================] - 0s 10ms/step - loss: 27.3898 - mse: 1031.5774\n",
      "Epoch 13/100\n",
      "2/2 [==============================] - 0s 7ms/step - loss: 12.1295 - mse: 176.4270\n",
      "Epoch 14/100\n",
      "2/2 [==============================] - 0s 9ms/step - loss: 35.0513 - mse: 2022.5010\n",
      "Epoch 15/100\n",
      "2/2 [==============================] - 0s 9ms/step - loss: 22.8304 - mse: 741.5999\n",
      "Epoch 16/100\n",
      "2/2 [==============================] - 0s 8ms/step - loss: 9.9660 - mse: 124.4053\n",
      "Epoch 17/100\n",
      "2/2 [==============================] - 0s 7ms/step - loss: 18.4020 - mse: 452.0255\n",
      "Epoch 18/100\n",
      "2/2 [==============================] - 0s 10ms/step - loss: 11.2877 - mse: 195.4158\n",
      "Epoch 19/100\n",
      "2/2 [==============================] - 0s 10ms/step - loss: 13.8429 - mse: 297.9893\n",
      "Epoch 20/100\n",
      "2/2 [==============================] - 0s 9ms/step - loss: 11.1409 - mse: 145.5392\n",
      "Epoch 21/100\n",
      "2/2 [==============================] - 0s 9ms/step - loss: 17.1639 - mse: 416.5264\n",
      "Epoch 22/100\n",
      "2/2 [==============================] - 0s 8ms/step - loss: 15.4004 - mse: 326.5627\n",
      "Epoch 23/100\n",
      "2/2 [==============================] - 0s 7ms/step - loss: 9.2241 - mse: 118.0958\n",
      "Epoch 24/100\n",
      "2/2 [==============================] - 0s 9ms/step - loss: 17.2903 - mse: 410.1743\n",
      "Epoch 25/100\n",
      "2/2 [==============================] - 0s 8ms/step - loss: 15.9487 - mse: 334.5175\n",
      "Epoch 26/100\n",
      "2/2 [==============================] - 0s 10ms/step - loss: 20.9739 - mse: 651.3759\n",
      "Epoch 27/100\n",
      "2/2 [==============================] - 0s 14ms/step - loss: 25.8610 - mse: 1042.3743\n",
      "Epoch 28/100\n",
      "2/2 [==============================] - 0s 7ms/step - loss: 18.3699 - mse: 533.8487\n",
      "Epoch 29/100\n",
      "2/2 [==============================] - 0s 7ms/step - loss: 9.2179 - mse: 97.6486\n",
      "Epoch 30/100\n",
      "2/2 [==============================] - 0s 8ms/step - loss: 28.9960 - mse: 1499.1271\n",
      "Epoch 31/100\n",
      "2/2 [==============================] - 0s 10ms/step - loss: 52.5042 - mse: 4927.3901\n",
      "Epoch 32/100\n",
      "2/2 [==============================] - 0s 11ms/step - loss: 11.8681 - mse: 204.1779\n",
      "Epoch 33/100\n",
      "2/2 [==============================] - 0s 9ms/step - loss: 15.4485 - mse: 328.8235\n",
      "Epoch 34/100\n",
      "2/2 [==============================] - 0s 8ms/step - loss: 12.5511 - mse: 207.4239\n",
      "Epoch 35/100\n",
      "2/2 [==============================] - 0s 8ms/step - loss: 9.1655 - mse: 90.9084\n",
      "Epoch 36/100\n",
      "2/2 [==============================] - 0s 8ms/step - loss: 16.4370 - mse: 392.7738\n",
      "Epoch 37/100\n",
      "2/2 [==============================] - 0s 7ms/step - loss: 11.0778 - mse: 191.8116\n",
      "Epoch 38/100\n",
      "2/2 [==============================] - 0s 9ms/step - loss: 18.2090 - mse: 437.0931\n",
      "Epoch 39/100\n",
      "2/2 [==============================] - 0s 10ms/step - loss: 19.1391 - mse: 533.7704\n",
      "Epoch 40/100\n",
      "2/2 [==============================] - 0s 10ms/step - loss: 20.5073 - mse: 614.4755\n",
      "Epoch 41/100\n",
      "2/2 [==============================] - 0s 8ms/step - loss: 14.7836 - mse: 273.7842\n",
      "Epoch 42/100\n",
      "2/2 [==============================] - 0s 8ms/step - loss: 12.1837 - mse: 181.9804\n",
      "Epoch 43/100\n",
      "2/2 [==============================] - 0s 7ms/step - loss: 10.6735 - mse: 163.1143\n",
      "Epoch 44/100\n",
      "2/2 [==============================] - 0s 9ms/step - loss: 32.3185 - mse: 1717.9939\n",
      "Epoch 45/100\n",
      "2/2 [==============================] - 0s 9ms/step - loss: 12.4572 - mse: 201.9916\n",
      "Epoch 46/100\n",
      "2/2 [==============================] - 0s 8ms/step - loss: 17.5557 - mse: 461.8556\n",
      "Epoch 47/100\n",
      "2/2 [==============================] - 0s 8ms/step - loss: 15.7268 - mse: 338.2575\n",
      "Epoch 48/100\n",
      "2/2 [==============================] - 0s 9ms/step - loss: 8.3469 - mse: 112.2512\n",
      "Epoch 49/100\n",
      "2/2 [==============================] - 0s 7ms/step - loss: 13.9497 - mse: 268.0702\n",
      "Epoch 50/100\n",
      "2/2 [==============================] - 0s 8ms/step - loss: 12.8003 - mse: 214.4674\n",
      "Epoch 51/100\n",
      "2/2 [==============================] - 0s 7ms/step - loss: 14.8111 - mse: 308.2328\n",
      "Epoch 52/100\n",
      "2/2 [==============================] - 0s 8ms/step - loss: 18.6976 - mse: 527.6876\n",
      "Epoch 53/100\n",
      "2/2 [==============================] - 0s 8ms/step - loss: 24.1335 - mse: 826.3335\n",
      "Epoch 54/100\n",
      "2/2 [==============================] - 0s 10ms/step - loss: 23.2561 - mse: 810.7274\n",
      "Epoch 55/100\n",
      "2/2 [==============================] - 0s 10ms/step - loss: 24.1193 - mse: 875.7931\n",
      "Epoch 56/100\n",
      "2/2 [==============================] - 0s 8ms/step - loss: 11.1661 - mse: 170.5827\n",
      "Epoch 57/100\n",
      "2/2 [==============================] - 0s 8ms/step - loss: 13.1354 - mse: 215.4721\n",
      "Epoch 58/100\n",
      "2/2 [==============================] - 0s 8ms/step - loss: 9.8143 - mse: 106.3948\n",
      "Epoch 59/100\n",
      "2/2 [==============================] - 0s 10ms/step - loss: 13.3413 - mse: 252.0690\n",
      "Epoch 60/100\n",
      "2/2 [==============================] - 0s 15ms/step - loss: 10.8802 - mse: 140.1165\n",
      "Epoch 61/100\n",
      "2/2 [==============================] - 0s 9ms/step - loss: 13.5048 - mse: 244.1924\n",
      "Epoch 62/100\n",
      "2/2 [==============================] - 0s 14ms/step - loss: 17.8275 - mse: 483.8026\n",
      "Epoch 63/100\n",
      "2/2 [==============================] - 0s 8ms/step - loss: 8.6990 - mse: 91.7014\n",
      "Epoch 64/100\n",
      "2/2 [==============================] - 0s 10ms/step - loss: 16.0945 - mse: 371.5069\n",
      "Epoch 65/100\n",
      "2/2 [==============================] - 0s 9ms/step - loss: 10.7062 - mse: 145.6042\n",
      "Epoch 66/100\n",
      "2/2 [==============================] - 0s 10ms/step - loss: 22.1605 - mse: 727.4833\n",
      "Epoch 67/100\n",
      "2/2 [==============================] - 0s 12ms/step - loss: 10.2327 - mse: 120.5133\n",
      "Epoch 68/100\n",
      "2/2 [==============================] - 0s 9ms/step - loss: 13.4481 - mse: 268.5615\n",
      "Epoch 69/100\n",
      "2/2 [==============================] - 0s 8ms/step - loss: 11.4037 - mse: 162.6708\n",
      "Epoch 70/100\n",
      "2/2 [==============================] - 0s 9ms/step - loss: 13.5890 - mse: 245.4472\n",
      "Epoch 71/100\n",
      "2/2 [==============================] - 0s 8ms/step - loss: 15.6243 - mse: 347.0977\n",
      "Epoch 72/100\n",
      "2/2 [==============================] - 0s 9ms/step - loss: 11.8316 - mse: 168.3073\n",
      "Epoch 73/100\n",
      "2/2 [==============================] - 0s 10ms/step - loss: 16.6327 - mse: 373.1260\n",
      "Epoch 74/100\n",
      "2/2 [==============================] - 0s 7ms/step - loss: 24.2063 - mse: 922.3649\n",
      "Epoch 75/100\n",
      "2/2 [==============================] - 0s 6ms/step - loss: 9.6196 - mse: 148.3350\n",
      "Epoch 76/100\n",
      "2/2 [==============================] - 0s 7ms/step - loss: 12.4763 - mse: 190.0806\n",
      "Epoch 77/100\n",
      "2/2 [==============================] - 0s 7ms/step - loss: 16.7696 - mse: 436.6125\n",
      "Epoch 78/100\n",
      "2/2 [==============================] - 0s 9ms/step - loss: 9.0639 - mse: 96.7030\n",
      "Epoch 79/100\n",
      "2/2 [==============================] - 0s 9ms/step - loss: 24.1302 - mse: 877.4036\n",
      "Epoch 80/100\n",
      "2/2 [==============================] - 0s 9ms/step - loss: 26.9416 - mse: 1122.2883\n",
      "Epoch 81/100\n",
      "2/2 [==============================] - 0s 10ms/step - loss: 11.7481 - mse: 174.5874\n",
      "Epoch 82/100\n",
      "2/2 [==============================] - 0s 7ms/step - loss: 11.9630 - mse: 210.7887\n",
      "Epoch 83/100\n",
      "2/2 [==============================] - 0s 8ms/step - loss: 17.3371 - mse: 391.6335\n",
      "Epoch 84/100\n",
      "2/2 [==============================] - 0s 8ms/step - loss: 6.8208 - mse: 63.3663\n",
      "Epoch 85/100\n",
      "2/2 [==============================] - 0s 10ms/step - loss: 16.0011 - mse: 360.9809\n",
      "Epoch 86/100\n",
      "2/2 [==============================] - 0s 9ms/step - loss: 15.8455 - mse: 334.4881\n",
      "Epoch 87/100\n",
      "2/2 [==============================] - 0s 10ms/step - loss: 20.3067 - mse: 577.5928\n",
      "Epoch 88/100\n",
      "2/2 [==============================] - 0s 11ms/step - loss: 34.1219 - mse: 1709.4053\n",
      "Epoch 89/100\n",
      "2/2 [==============================] - 0s 11ms/step - loss: 10.6156 - mse: 131.8824\n",
      "Epoch 90/100\n",
      "2/2 [==============================] - 0s 10ms/step - loss: 23.5925 - mse: 805.4471\n",
      "Epoch 91/100\n",
      "2/2 [==============================] - 0s 11ms/step - loss: 11.1262 - mse: 159.7631\n",
      "Epoch 92/100\n",
      "2/2 [==============================] - 0s 10ms/step - loss: 20.4547 - mse: 579.2869\n",
      "Epoch 93/100\n",
      "2/2 [==============================] - 0s 8ms/step - loss: 6.7867 - mse: 66.8206\n",
      "Epoch 94/100\n",
      "2/2 [==============================] - 0s 8ms/step - loss: 12.9987 - mse: 230.0096\n",
      "Epoch 95/100\n",
      "2/2 [==============================] - 0s 7ms/step - loss: 18.4149 - mse: 500.1632\n",
      "Epoch 96/100\n",
      "2/2 [==============================] - 0s 9ms/step - loss: 10.3301 - mse: 177.7957\n",
      "Epoch 97/100\n",
      "2/2 [==============================] - 0s 9ms/step - loss: 14.4299 - mse: 314.8113\n",
      "Epoch 98/100\n",
      "2/2 [==============================] - 0s 10ms/step - loss: 6.5496 - mse: 59.9513\n",
      "Epoch 99/100\n",
      "2/2 [==============================] - 0s 9ms/step - loss: 12.5740 - mse: 228.9113\n",
      "Epoch 100/100\n",
      "2/2 [==============================] - 0s 8ms/step - loss: 19.3827 - mse: 552.0278\n"
     ]
    },
    {
     "data": {
      "text/plain": [
       "<keras.src.callbacks.History at 0x13d8ac7d6c0>"
      ]
     },
     "execution_count": 43,
     "metadata": {},
     "output_type": "execute_result"
    }
   ],
   "source": [
    "tf.random.set_seed(42)\n",
    "X_train=tf.reshape(X_train,(-1,1))\n",
    "\n",
    "# create a model\n",
    "model_2 = tf.keras.Sequential([\n",
    "    tf.keras.layers.Dense(10,input_shape=(1,)),\n",
    "    tf.keras.layers.Dense(1)\n",
    "])\n",
    "\n",
    "# compile the model\n",
    "model_2.compile(loss=tf.keras.losses.mae,\n",
    "                optimizer = tf.keras.optimizers.SGD(),\n",
    "                metrics=[\"mse\"])\n",
    "\n",
    "# fit the model\n",
    "model_2.fit(X_train,y_train,epochs=100)\n"
   ]
  },
  {
   "cell_type": "code",
   "execution_count": 44,
   "metadata": {},
   "outputs": [
    {
     "name": "stdout",
     "output_type": "stream",
     "text": [
      "WARNING:tensorflow:6 out of the last 6 calls to <function Model.make_predict_function.<locals>.predict_function at 0x0000013D88E1B880> triggered tf.function retracing. Tracing is expensive and the excessive number of tracings could be due to (1) creating @tf.function repeatedly in a loop, (2) passing tensors with different shapes, (3) passing Python objects instead of tensors. For (1), please define your @tf.function outside of the loop. For (2), @tf.function has reduce_retracing=True option that can avoid unnecessary retracing. For (3), please refer to https://www.tensorflow.org/guide/function#controlling_retracing and https://www.tensorflow.org/api_docs/python/tf/function for  more details.\n"
     ]
    },
    {
     "name": "stderr",
     "output_type": "stream",
     "text": [
      "WARNING:tensorflow:6 out of the last 6 calls to <function Model.make_predict_function.<locals>.predict_function at 0x0000013D88E1B880> triggered tf.function retracing. Tracing is expensive and the excessive number of tracings could be due to (1) creating @tf.function repeatedly in a loop, (2) passing tensors with different shapes, (3) passing Python objects instead of tensors. For (1), please define your @tf.function outside of the loop. For (2), @tf.function has reduce_retracing=True option that can avoid unnecessary retracing. For (3), please refer to https://www.tensorflow.org/guide/function#controlling_retracing and https://www.tensorflow.org/api_docs/python/tf/function for  more details.\n"
     ]
    },
    {
     "name": "stdout",
     "output_type": "stream",
     "text": [
      "1/1 [==============================] - 0s 131ms/step\n"
     ]
    },
    {
     "data": {
      "image/png": "[encoded data removed]",
      "text/plain": [
       "<Figure size 1000x700 with 1 Axes>"
      ]
     },
     "metadata": {},
     "output_type": "display_data"
    }
   ],
   "source": [
    "\n",
    "# make and plot predictions of model 2\n",
    "y_preds_2 =  model_2.predict(X_test)\n",
    "plott_predictions(predictions=y_preds_2)\n"
   ]
  },
  {
   "cell_type": "code",
   "execution_count": 45,
   "metadata": {},
   "outputs": [
    {
     "data": {
      "text/plain": [
       "(<tf.Tensor: shape=(), dtype=float32, numpy=13.477472>,\n",
       " <tf.Tensor: shape=(), dtype=float32, numpy=191.81635>)"
      ]
     },
     "execution_count": 45,
     "metadata": {},
     "output_type": "execute_result"
    }
   ],
   "source": [
    "# calculate model_2 evaluatiton metrics\n",
    "mae_2 = mae(y_test,y_preds_2)\n",
    "mse_2 = mse(y_test,y_preds_2)\n",
    "mae_2,mse_2\n"
   ]
  },
  {
   "cell_type": "markdown",
   "metadata": {},
   "source": [
    "### Build model 3\n",
    "2 layers dense and 500 epochs"
   ]
  },
  {
   "cell_type": "code",
   "execution_count": 46,
   "metadata": {},
   "outputs": [
    {
     "name": "stdout",
     "output_type": "stream",
     "text": [
      "Epoch 1/500\n",
      "2/2 [==============================] - 1s 13ms/step - loss: 31.9432 - mse: 1466.6748\n",
      "Epoch 2/500\n",
      "2/2 [==============================] - 0s 7ms/step - loss: 27.0968 - mse: 948.4582\n",
      "Epoch 3/500\n",
      "2/2 [==============================] - 0s 7ms/step - loss: 31.3778 - mse: 1501.7926\n",
      "Epoch 4/500\n",
      "2/2 [==============================] - 0s 7ms/step - loss: 13.1976 - mse: 247.9947\n",
      "Epoch 5/500\n",
      "2/2 [==============================] - 0s 7ms/step - loss: 17.3560 - mse: 404.4072\n",
      "Epoch 6/500\n",
      "2/2 [==============================] - 0s 9ms/step - loss: 10.1667 - mse: 121.1524\n",
      "Epoch 7/500\n",
      "2/2 [==============================] - 0s 10ms/step - loss: 11.1688 - mse: 151.7772\n",
      "Epoch 8/500\n",
      "2/2 [==============================] - 0s 9ms/step - loss: 11.1302 - mse: 159.6340\n",
      "Epoch 9/500\n",
      "2/2 [==============================] - 0s 7ms/step - loss: 40.7591 - mse: 2624.2178\n",
      "Epoch 10/500\n",
      "2/2 [==============================] - 0s 8ms/step - loss: 28.1172 - mse: 1114.5002\n",
      "Epoch 11/500\n",
      "2/2 [==============================] - 0s 8ms/step - loss: 10.2489 - mse: 148.9740\n",
      "Epoch 12/500\n",
      "2/2 [==============================] - 0s 7ms/step - loss: 25.2562 - mse: 889.4596\n",
      "Epoch 13/500\n",
      "2/2 [==============================] - 0s 7ms/step - loss: 17.1178 - mse: 407.6500\n",
      "Epoch 14/500\n",
      "2/2 [==============================] - 0s 9ms/step - loss: 26.1635 - mse: 1071.5989\n",
      "Epoch 15/500\n",
      "2/2 [==============================] - 0s 8ms/step - loss: 18.1904 - mse: 460.0807\n",
      "Epoch 16/500\n",
      "2/2 [==============================] - 0s 9ms/step - loss: 7.8560 - mse: 89.0919\n",
      "Epoch 17/500\n",
      "2/2 [==============================] - 0s 9ms/step - loss: 22.3086 - mse: 690.2021\n",
      "Epoch 18/500\n",
      "2/2 [==============================] - 0s 7ms/step - loss: 10.8509 - mse: 174.1457\n",
      "Epoch 19/500\n",
      "2/2 [==============================] - 0s 8ms/step - loss: 10.7415 - mse: 140.8211\n",
      "Epoch 20/500\n",
      "2/2 [==============================] - 0s 7ms/step - loss: 12.0641 - mse: 166.2525\n",
      "Epoch 21/500\n",
      "2/2 [==============================] - 0s 6ms/step - loss: 20.2334 - mse: 594.9883\n",
      "Epoch 22/500\n",
      "2/2 [==============================] - 0s 10ms/step - loss: 13.8314 - mse: 245.5352\n",
      "Epoch 23/500\n",
      "2/2 [==============================] - 0s 9ms/step - loss: 9.5601 - mse: 95.3616\n",
      "Epoch 24/500\n",
      "2/2 [==============================] - 0s 10ms/step - loss: 11.9195 - mse: 164.5269\n",
      "Epoch 25/500\n",
      "2/2 [==============================] - 0s 9ms/step - loss: 16.2806 - mse: 388.4498\n",
      "Epoch 26/500\n",
      "2/2 [==============================] - 0s 6ms/step - loss: 16.4684 - mse: 378.0503\n",
      "Epoch 27/500\n",
      "2/2 [==============================] - 0s 10ms/step - loss: 11.6035 - mse: 183.4390\n",
      "Epoch 28/500\n",
      "2/2 [==============================] - 0s 7ms/step - loss: 30.1264 - mse: 1480.5714\n",
      "Epoch 29/500\n",
      "2/2 [==============================] - 0s 9ms/step - loss: 9.2479 - mse: 92.2778\n",
      "Epoch 30/500\n",
      "2/2 [==============================] - 0s 9ms/step - loss: 30.6468 - mse: 1725.7458\n",
      "Epoch 31/500\n",
      "2/2 [==============================] - 0s 8ms/step - loss: 41.9281 - mse: 3072.4116\n",
      "Epoch 32/500\n",
      "2/2 [==============================] - 0s 9ms/step - loss: 11.8771 - mse: 204.8421\n",
      "Epoch 33/500\n",
      "2/2 [==============================] - 0s 7ms/step - loss: 15.4658 - mse: 329.6328\n",
      "Epoch 34/500\n",
      "2/2 [==============================] - 0s 8ms/step - loss: 12.5626 - mse: 208.1071\n",
      "Epoch 35/500\n",
      "2/2 [==============================] - 0s 10ms/step - loss: 9.1701 - mse: 91.0608\n",
      "Epoch 36/500\n",
      "2/2 [==============================] - 0s 47ms/step - loss: 16.4611 - mse: 394.0474\n",
      "Epoch 37/500\n",
      "2/2 [==============================] - 0s 8ms/step - loss: 11.0700 - mse: 191.8076\n",
      "Epoch 38/500\n",
      "2/2 [==============================] - 0s 10ms/step - loss: 18.2005 - mse: 436.5238\n",
      "Epoch 39/500\n",
      "2/2 [==============================] - 0s 11ms/step - loss: 19.1313 - mse: 533.0583\n",
      "Epoch 40/500\n",
      "2/2 [==============================] - 0s 11ms/step - loss: 20.4930 - mse: 613.6816\n",
      "Epoch 41/500\n",
      "2/2 [==============================] - 0s 10ms/step - loss: 14.7998 - mse: 274.6525\n",
      "Epoch 42/500\n",
      "2/2 [==============================] - 0s 8ms/step - loss: 12.1961 - mse: 182.7504\n",
      "Epoch 43/500\n",
      "2/2 [==============================] - 0s 9ms/step - loss: 10.6779 - mse: 163.8230\n",
      "Epoch 44/500\n",
      "2/2 [==============================] - 0s 9ms/step - loss: 32.3701 - mse: 1723.9801\n",
      "Epoch 45/500\n",
      "2/2 [==============================] - 0s 10ms/step - loss: 12.4699 - mse: 202.8388\n",
      "Epoch 46/500\n",
      "2/2 [==============================] - 0s 10ms/step - loss: 17.5966 - mse: 464.0856\n",
      "Epoch 47/500\n",
      "2/2 [==============================] - 0s 7ms/step - loss: 15.7107 - mse: 337.6639\n",
      "Epoch 48/500\n",
      "2/2 [==============================] - 0s 8ms/step - loss: 8.3366 - mse: 112.1757\n",
      "Epoch 49/500\n",
      "2/2 [==============================] - 0s 7ms/step - loss: 13.9349 - mse: 267.8443\n",
      "Epoch 50/500\n",
      "2/2 [==============================] - 0s 10ms/step - loss: 12.7875 - mse: 214.0544\n",
      "Epoch 51/500\n",
      "2/2 [==============================] - 0s 9ms/step - loss: 14.8011 - mse: 307.6381\n",
      "Epoch 52/500\n",
      "2/2 [==============================] - 0s 10ms/step - loss: 18.6893 - mse: 526.7540\n",
      "Epoch 53/500\n",
      "2/2 [==============================] - 0s 10ms/step - loss: 24.1152 - mse: 825.2527\n",
      "Epoch 54/500\n",
      "2/2 [==============================] - 0s 7ms/step - loss: 23.2985 - mse: 814.1035\n",
      "Epoch 55/500\n",
      "2/2 [==============================] - 0s 11ms/step - loss: 24.1688 - mse: 879.6707\n",
      "Epoch 56/500\n",
      "2/2 [==============================] - 0s 10ms/step - loss: 11.1808 - mse: 170.5948\n",
      "Epoch 57/500\n",
      "2/2 [==============================] - 0s 8ms/step - loss: 13.1564 - mse: 216.4580\n",
      "Epoch 58/500\n",
      "2/2 [==============================] - 0s 8ms/step - loss: 9.8258 - mse: 106.6590\n",
      "Epoch 59/500\n",
      "2/2 [==============================] - 0s 7ms/step - loss: 13.3663 - mse: 253.5496\n",
      "Epoch 60/500\n",
      "2/2 [==============================] - 0s 9ms/step - loss: 10.8943 - mse: 140.6757\n",
      "Epoch 61/500\n",
      "2/2 [==============================] - 0s 10ms/step - loss: 13.5265 - mse: 245.4874\n",
      "Epoch 62/500\n",
      "2/2 [==============================] - 0s 9ms/step - loss: 17.8746 - mse: 486.3267\n",
      "Epoch 63/500\n",
      "2/2 [==============================] - 0s 7ms/step - loss: 8.7072 - mse: 91.4357\n",
      "Epoch 64/500\n",
      "2/2 [==============================] - 0s 8ms/step - loss: 16.1306 - mse: 373.2686\n",
      "Epoch 65/500\n",
      "2/2 [==============================] - 0s 8ms/step - loss: 10.7176 - mse: 146.4562\n",
      "Epoch 66/500\n",
      "2/2 [==============================] - 0s 11ms/step - loss: 22.2148 - mse: 731.3607\n",
      "Epoch 67/500\n",
      "2/2 [==============================] - 0s 9ms/step - loss: 10.2473 - mse: 120.9001\n",
      "Epoch 68/500\n",
      "2/2 [==============================] - 0s 10ms/step - loss: 13.4803 - mse: 270.0718\n",
      "Epoch 69/500\n",
      "2/2 [==============================] - 0s 10ms/step - loss: 11.4240 - mse: 163.7628\n",
      "Epoch 70/500\n",
      "2/2 [==============================] - 0s 10ms/step - loss: 14.0326 - mse: 268.2623\n",
      "Epoch 71/500\n",
      "2/2 [==============================] - 0s 10ms/step - loss: 15.5870 - mse: 345.3641\n",
      "Epoch 72/500\n",
      "2/2 [==============================] - 0s 7ms/step - loss: 11.8140 - mse: 167.4665\n",
      "Epoch 73/500\n",
      "2/2 [==============================] - 0s 7ms/step - loss: 16.6011 - mse: 371.5784\n",
      "Epoch 74/500\n",
      "2/2 [==============================] - 0s 8ms/step - loss: 24.1395 - mse: 916.9266\n",
      "Epoch 75/500\n",
      "2/2 [==============================] - 0s 7ms/step - loss: 9.6037 - mse: 148.6413\n",
      "Epoch 76/500\n",
      "2/2 [==============================] - 0s 9ms/step - loss: 12.4570 - mse: 189.3123\n",
      "Epoch 77/500\n",
      "2/2 [==============================] - 0s 11ms/step - loss: 16.7239 - mse: 433.8568\n",
      "Epoch 78/500\n",
      "2/2 [==============================] - 0s 9ms/step - loss: 9.0588 - mse: 96.1894\n",
      "Epoch 79/500\n",
      "2/2 [==============================] - 0s 7ms/step - loss: 24.0729 - mse: 872.6788\n",
      "Epoch 80/500\n",
      "2/2 [==============================] - 0s 7ms/step - loss: 26.8727 - mse: 1115.9583\n",
      "Epoch 81/500\n",
      "2/2 [==============================] - 0s 9ms/step - loss: 11.7177 - mse: 173.1610\n",
      "Epoch 82/500\n",
      "2/2 [==============================] - 0s 9ms/step - loss: 11.9817 - mse: 211.1059\n",
      "Epoch 83/500\n",
      "2/2 [==============================] - 0s 10ms/step - loss: 17.3631 - mse: 392.8575\n",
      "Epoch 84/500\n",
      "2/2 [==============================] - 0s 11ms/step - loss: 7.2423 - mse: 72.9862\n",
      "Epoch 85/500\n",
      "2/2 [==============================] - 0s 7ms/step - loss: 14.9168 - mse: 311.0246\n",
      "Epoch 86/500\n",
      "2/2 [==============================] - 0s 7ms/step - loss: 15.2463 - mse: 314.3184\n",
      "Epoch 87/500\n",
      "2/2 [==============================] - 0s 10ms/step - loss: 19.0331 - mse: 517.8411\n",
      "Epoch 88/500\n",
      "2/2 [==============================] - 0s 9ms/step - loss: 30.0151 - mse: 1305.0657\n",
      "Epoch 89/500\n",
      "2/2 [==============================] - 0s 10ms/step - loss: 10.1917 - mse: 124.0551\n",
      "Epoch 90/500\n",
      "2/2 [==============================] - 0s 36ms/step - loss: 21.6863 - mse: 674.1791\n",
      "Epoch 91/500\n",
      "2/2 [==============================] - 0s 10ms/step - loss: 10.6009 - mse: 160.9112\n",
      "Epoch 92/500\n",
      "2/2 [==============================] - 0s 10ms/step - loss: 18.5463 - mse: 472.1772\n",
      "Epoch 93/500\n",
      "2/2 [==============================] - 0s 8ms/step - loss: 8.1544 - mse: 104.8557\n",
      "Epoch 94/500\n",
      "2/2 [==============================] - 0s 9ms/step - loss: 11.3678 - mse: 167.7671\n",
      "Epoch 95/500\n",
      "2/2 [==============================] - 0s 11ms/step - loss: 25.4963 - mse: 981.9189\n",
      "Epoch 96/500\n",
      "2/2 [==============================] - 0s 10ms/step - loss: 10.9894 - mse: 169.3818\n",
      "Epoch 97/500\n",
      "2/2 [==============================] - 0s 9ms/step - loss: 16.3458 - mse: 407.3183\n",
      "Epoch 98/500\n",
      "2/2 [==============================] - 0s 9ms/step - loss: 6.8213 - mse: 65.6439\n",
      "Epoch 99/500\n",
      "2/2 [==============================] - 0s 9ms/step - loss: 11.6817 - mse: 213.0842\n",
      "Epoch 100/500\n",
      "2/2 [==============================] - 0s 9ms/step - loss: 23.4978 - mse: 767.6266\n",
      "Epoch 101/500\n",
      "2/2 [==============================] - 0s 11ms/step - loss: 21.2789 - mse: 685.3145\n",
      "Epoch 102/500\n",
      "2/2 [==============================] - 0s 8ms/step - loss: 10.7440 - mse: 158.6197\n",
      "Epoch 103/500\n",
      "2/2 [==============================] - 0s 8ms/step - loss: 9.1518 - mse: 95.6500\n",
      "Epoch 104/500\n",
      "2/2 [==============================] - 0s 7ms/step - loss: 23.8909 - mse: 855.1979\n",
      "Epoch 105/500\n",
      "2/2 [==============================] - 0s 9ms/step - loss: 10.8338 - mse: 161.9062\n",
      "Epoch 106/500\n",
      "2/2 [==============================] - 0s 9ms/step - loss: 11.2941 - mse: 178.6390\n",
      "Epoch 107/500\n",
      "2/2 [==============================] - 0s 8ms/step - loss: 21.4850 - mse: 688.5693\n",
      "Epoch 108/500\n",
      "2/2 [==============================] - 0s 10ms/step - loss: 6.5673 - mse: 60.1240\n",
      "Epoch 109/500\n",
      "2/2 [==============================] - 0s 8ms/step - loss: 13.3194 - mse: 248.8758\n",
      "Epoch 110/500\n",
      "2/2 [==============================] - 0s 8ms/step - loss: 7.9677 - mse: 114.6306\n",
      "Epoch 111/500\n",
      "2/2 [==============================] - 0s 11ms/step - loss: 15.7425 - mse: 348.5038\n",
      "Epoch 112/500\n",
      "2/2 [==============================] - 0s 10ms/step - loss: 8.7303 - mse: 91.8292\n",
      "Epoch 113/500\n",
      "2/2 [==============================] - 0s 9ms/step - loss: 22.7072 - mse: 747.8244\n",
      "Epoch 114/500\n",
      "2/2 [==============================] - 0s 8ms/step - loss: 19.0478 - mse: 547.9327\n",
      "Epoch 115/500\n",
      "2/2 [==============================] - 0s 7ms/step - loss: 11.0759 - mse: 153.0442\n",
      "Epoch 116/500\n",
      "2/2 [==============================] - 0s 8ms/step - loss: 23.1605 - mse: 781.2371\n",
      "Epoch 117/500\n",
      "2/2 [==============================] - 0s 9ms/step - loss: 9.5655 - mse: 126.2574\n",
      "Epoch 118/500\n",
      "2/2 [==============================] - 0s 10ms/step - loss: 10.6343 - mse: 138.8366\n",
      "Epoch 119/500\n",
      "2/2 [==============================] - 0s 9ms/step - loss: 8.0240 - mse: 77.3156\n",
      "Epoch 120/500\n",
      "2/2 [==============================] - 0s 7ms/step - loss: 29.5167 - mse: 1299.7747\n",
      "Epoch 121/500\n",
      "2/2 [==============================] - 0s 7ms/step - loss: 8.0617 - mse: 70.3569\n",
      "Epoch 122/500\n",
      "2/2 [==============================] - 0s 8ms/step - loss: 28.1722 - mse: 1219.2854\n",
      "Epoch 123/500\n",
      "2/2 [==============================] - 0s 7ms/step - loss: 32.7331 - mse: 1574.1672\n",
      "Epoch 124/500\n",
      "2/2 [==============================] - 0s 11ms/step - loss: 19.5024 - mse: 564.0937\n",
      "Epoch 125/500\n",
      "2/2 [==============================] - 0s 11ms/step - loss: 9.5545 - mse: 151.3109\n",
      "Epoch 126/500\n",
      "2/2 [==============================] - 0s 28ms/step - loss: 9.6228 - mse: 112.9625\n",
      "Epoch 127/500\n",
      "2/2 [==============================] - 0s 10ms/step - loss: 12.8227 - mse: 257.3561\n",
      "Epoch 128/500\n",
      "2/2 [==============================] - 0s 7ms/step - loss: 13.3563 - mse: 249.5430\n",
      "Epoch 129/500\n",
      "2/2 [==============================] - 0s 13ms/step - loss: 10.1958 - mse: 155.3748\n",
      "Epoch 130/500\n",
      "2/2 [==============================] - 0s 11ms/step - loss: 17.5284 - mse: 431.2945\n",
      "Epoch 131/500\n",
      "2/2 [==============================] - 0s 9ms/step - loss: 9.5041 - mse: 117.1380\n",
      "Epoch 132/500\n",
      "2/2 [==============================] - 0s 9ms/step - loss: 17.4414 - mse: 454.2494\n",
      "Epoch 133/500\n",
      "2/2 [==============================] - 0s 8ms/step - loss: 7.0892 - mse: 65.6828\n",
      "Epoch 134/500\n",
      "2/2 [==============================] - 0s 8ms/step - loss: 23.8101 - mse: 810.5391\n",
      "Epoch 135/500\n",
      "2/2 [==============================] - 0s 8ms/step - loss: 16.6911 - mse: 391.1251\n",
      "Epoch 136/500\n",
      "2/2 [==============================] - 0s 10ms/step - loss: 14.9005 - mse: 310.5677\n",
      "Epoch 137/500\n",
      "2/2 [==============================] - 0s 10ms/step - loss: 23.2198 - mse: 727.5739\n",
      "Epoch 138/500\n",
      "2/2 [==============================] - 0s 8ms/step - loss: 9.1490 - mse: 139.1972\n",
      "Epoch 139/500\n",
      "2/2 [==============================] - 0s 7ms/step - loss: 8.9237 - mse: 143.9933\n",
      "Epoch 140/500\n",
      "2/2 [==============================] - 0s 9ms/step - loss: 16.5190 - mse: 391.3275\n",
      "Epoch 141/500\n",
      "2/2 [==============================] - 0s 8ms/step - loss: 8.4132 - mse: 92.3537\n",
      "Epoch 142/500\n",
      "2/2 [==============================] - 0s 9ms/step - loss: 37.0612 - mse: 2419.9404\n",
      "Epoch 143/500\n",
      "2/2 [==============================] - 0s 8ms/step - loss: 25.6628 - mse: 933.6263\n",
      "Epoch 144/500\n",
      "2/2 [==============================] - 0s 8ms/step - loss: 9.5279 - mse: 144.7673\n",
      "Epoch 145/500\n",
      "2/2 [==============================] - 0s 9ms/step - loss: 26.5787 - mse: 955.3052\n",
      "Epoch 146/500\n",
      "2/2 [==============================] - 0s 8ms/step - loss: 8.7530 - mse: 109.5293\n",
      "Epoch 147/500\n",
      "2/2 [==============================] - 0s 8ms/step - loss: 15.5873 - mse: 310.6530\n",
      "Epoch 148/500\n",
      "2/2 [==============================] - 0s 8ms/step - loss: 18.2683 - mse: 462.8140\n",
      "Epoch 149/500\n",
      "2/2 [==============================] - 0s 7ms/step - loss: 8.2210 - mse: 106.0125\n",
      "Epoch 150/500\n",
      "2/2 [==============================] - 0s 7ms/step - loss: 7.4985 - mse: 66.1133\n",
      "Epoch 151/500\n",
      "2/2 [==============================] - 0s 9ms/step - loss: 18.4189 - mse: 490.6859\n",
      "Epoch 152/500\n",
      "2/2 [==============================] - 0s 9ms/step - loss: 10.3019 - mse: 131.1990\n",
      "Epoch 153/500\n",
      "2/2 [==============================] - 0s 9ms/step - loss: 29.7768 - mse: 1281.3322\n",
      "Epoch 154/500\n",
      "2/2 [==============================] - 0s 12ms/step - loss: 10.5242 - mse: 201.7331\n",
      "Epoch 155/500\n",
      "2/2 [==============================] - 0s 9ms/step - loss: 15.4252 - mse: 345.4134\n",
      "Epoch 156/500\n",
      "2/2 [==============================] - 0s 14ms/step - loss: 16.9573 - mse: 436.6234\n",
      "Epoch 157/500\n",
      "2/2 [==============================] - 0s 8ms/step - loss: 32.9766 - mse: 1762.5404\n",
      "Epoch 158/500\n",
      "2/2 [==============================] - 0s 10ms/step - loss: 10.7397 - mse: 152.2573\n",
      "Epoch 159/500\n",
      "2/2 [==============================] - 0s 8ms/step - loss: 8.9178 - mse: 97.8112\n",
      "Epoch 160/500\n",
      "2/2 [==============================] - 0s 7ms/step - loss: 22.2481 - mse: 717.5460\n",
      "Epoch 161/500\n",
      "2/2 [==============================] - 0s 8ms/step - loss: 11.7500 - mse: 204.5226\n",
      "Epoch 162/500\n",
      "2/2 [==============================] - 0s 7ms/step - loss: 21.6839 - mse: 677.6092\n",
      "Epoch 163/500\n",
      "2/2 [==============================] - 0s 11ms/step - loss: 19.3522 - mse: 539.2751\n",
      "Epoch 164/500\n",
      "2/2 [==============================] - 0s 10ms/step - loss: 11.0745 - mse: 180.2364\n",
      "Epoch 165/500\n",
      "2/2 [==============================] - 0s 8ms/step - loss: 9.5949 - mse: 181.0027\n",
      "Epoch 166/500\n",
      "2/2 [==============================] - 0s 7ms/step - loss: 21.5307 - mse: 678.9150\n",
      "Epoch 167/500\n",
      "2/2 [==============================] - 0s 7ms/step - loss: 26.4355 - mse: 1061.5602\n",
      "Epoch 168/500\n",
      "2/2 [==============================] - 0s 8ms/step - loss: 9.8715 - mse: 118.5396\n",
      "Epoch 169/500\n",
      "2/2 [==============================] - 0s 9ms/step - loss: 22.7196 - mse: 798.1948\n",
      "Epoch 170/500\n",
      "2/2 [==============================] - 0s 10ms/step - loss: 10.1195 - mse: 196.8344\n",
      "Epoch 171/500\n",
      "2/2 [==============================] - 0s 10ms/step - loss: 17.9767 - mse: 500.3806\n",
      "Epoch 172/500\n",
      "2/2 [==============================] - 0s 8ms/step - loss: 29.0048 - mse: 1322.3944\n",
      "Epoch 173/500\n",
      "2/2 [==============================] - 0s 7ms/step - loss: 16.6569 - mse: 438.1845\n",
      "Epoch 174/500\n",
      "2/2 [==============================] - 0s 7ms/step - loss: 11.1922 - mse: 200.8406\n",
      "Epoch 175/500\n",
      "2/2 [==============================] - 0s 11ms/step - loss: 27.5402 - mse: 1094.7491\n",
      "Epoch 176/500\n",
      "2/2 [==============================] - 0s 11ms/step - loss: 8.3064 - mse: 78.3517\n",
      "Epoch 177/500\n",
      "2/2 [==============================] - 0s 15ms/step - loss: 9.2846 - mse: 109.4133\n",
      "Epoch 178/500\n",
      "2/2 [==============================] - 0s 9ms/step - loss: 18.2873 - mse: 472.7769\n",
      "Epoch 179/500\n",
      "2/2 [==============================] - 0s 14ms/step - loss: 10.5319 - mse: 146.2559\n",
      "Epoch 180/500\n",
      "2/2 [==============================] - 0s 10ms/step - loss: 7.9154 - mse: 99.5777\n",
      "Epoch 181/500\n",
      "2/2 [==============================] - 0s 8ms/step - loss: 17.5269 - mse: 444.5801\n",
      "Epoch 182/500\n",
      "2/2 [==============================] - 0s 11ms/step - loss: 11.0570 - mse: 158.5470\n",
      "Epoch 183/500\n",
      "2/2 [==============================] - 0s 8ms/step - loss: 11.7607 - mse: 205.8747\n",
      "Epoch 184/500\n",
      "2/2 [==============================] - 0s 8ms/step - loss: 30.6141 - mse: 1407.3982\n",
      "Epoch 185/500\n",
      "2/2 [==============================] - 0s 10ms/step - loss: 7.5307 - mse: 99.2519\n",
      "Epoch 186/500\n",
      "2/2 [==============================] - 0s 11ms/step - loss: 15.9217 - mse: 366.4232\n",
      "Epoch 187/500\n",
      "2/2 [==============================] - 0s 8ms/step - loss: 8.5698 - mse: 85.2937\n",
      "Epoch 188/500\n",
      "2/2 [==============================] - 0s 8ms/step - loss: 28.9501 - mse: 1194.8264\n",
      "Epoch 189/500\n",
      "2/2 [==============================] - 0s 7ms/step - loss: 13.1216 - mse: 271.9279\n",
      "Epoch 190/500\n",
      "2/2 [==============================] - 0s 10ms/step - loss: 18.2572 - mse: 508.8336\n",
      "Epoch 191/500\n",
      "2/2 [==============================] - 0s 9ms/step - loss: 13.6752 - mse: 262.6809\n",
      "Epoch 192/500\n",
      "2/2 [==============================] - 0s 8ms/step - loss: 13.6825 - mse: 261.5173\n",
      "Epoch 193/500\n",
      "2/2 [==============================] - 0s 10ms/step - loss: 28.5334 - mse: 1131.4192\n",
      "Epoch 194/500\n",
      "2/2 [==============================] - 0s 7ms/step - loss: 7.1207 - mse: 78.2204\n",
      "Epoch 195/500\n",
      "2/2 [==============================] - 0s 8ms/step - loss: 7.0440 - mse: 75.2626\n",
      "Epoch 196/500\n",
      "2/2 [==============================] - 0s 7ms/step - loss: 21.9259 - mse: 705.0141\n",
      "Epoch 197/500\n",
      "2/2 [==============================] - 0s 10ms/step - loss: 21.0105 - mse: 654.4171\n",
      "Epoch 198/500\n",
      "2/2 [==============================] - 0s 10ms/step - loss: 12.5655 - mse: 239.7038\n",
      "Epoch 199/500\n",
      "2/2 [==============================] - 0s 8ms/step - loss: 18.0537 - mse: 467.5020\n",
      "Epoch 200/500\n",
      "2/2 [==============================] - 0s 8ms/step - loss: 13.8822 - mse: 287.9780\n",
      "Epoch 201/500\n",
      "2/2 [==============================] - 0s 10ms/step - loss: 6.0219 - mse: 50.5621\n",
      "Epoch 202/500\n",
      "2/2 [==============================] - 0s 10ms/step - loss: 22.9334 - mse: 749.5952\n",
      "Epoch 203/500\n",
      "2/2 [==============================] - 0s 11ms/step - loss: 8.9526 - mse: 152.5009\n",
      "Epoch 204/500\n",
      "2/2 [==============================] - 0s 12ms/step - loss: 18.9026 - mse: 535.6105\n",
      "Epoch 205/500\n",
      "2/2 [==============================] - 0s 9ms/step - loss: 9.3701 - mse: 126.9341\n",
      "Epoch 206/500\n",
      "2/2 [==============================] - 0s 8ms/step - loss: 11.0096 - mse: 166.0385\n",
      "Epoch 207/500\n",
      "2/2 [==============================] - 0s 11ms/step - loss: 17.4582 - mse: 460.5359\n",
      "Epoch 208/500\n",
      "2/2 [==============================] - 0s 9ms/step - loss: 14.2153 - mse: 292.6026\n",
      "Epoch 209/500\n",
      "2/2 [==============================] - 0s 10ms/step - loss: 16.5180 - mse: 404.5937\n",
      "Epoch 210/500\n",
      "2/2 [==============================] - 0s 10ms/step - loss: 17.9943 - mse: 472.2047\n",
      "Epoch 211/500\n",
      "2/2 [==============================] - 0s 38ms/step - loss: 9.8551 - mse: 145.6133\n",
      "Epoch 212/500\n",
      "2/2 [==============================] - 0s 8ms/step - loss: 18.4505 - mse: 513.8216\n",
      "Epoch 213/500\n",
      "2/2 [==============================] - 0s 10ms/step - loss: 15.0042 - mse: 306.5883\n",
      "Epoch 214/500\n",
      "2/2 [==============================] - 0s 14ms/step - loss: 14.5652 - mse: 292.4158\n",
      "Epoch 215/500\n",
      "2/2 [==============================] - 0s 13ms/step - loss: 23.2591 - mse: 796.9069\n",
      "Epoch 216/500\n",
      "2/2 [==============================] - 0s 11ms/step - loss: 13.4339 - mse: 280.5708\n",
      "Epoch 217/500\n",
      "2/2 [==============================] - 0s 8ms/step - loss: 9.9059 - mse: 138.3276\n",
      "Epoch 218/500\n",
      "2/2 [==============================] - 0s 11ms/step - loss: 12.4951 - mse: 205.2655\n",
      "Epoch 219/500\n",
      "2/2 [==============================] - 0s 12ms/step - loss: 5.2841 - mse: 40.7357\n",
      "Epoch 220/500\n",
      "2/2 [==============================] - 0s 13ms/step - loss: 12.3706 - mse: 242.4743\n",
      "Epoch 221/500\n",
      "2/2 [==============================] - 0s 10ms/step - loss: 22.3409 - mse: 726.2188\n",
      "Epoch 222/500\n",
      "2/2 [==============================] - 0s 12ms/step - loss: 21.4442 - mse: 718.2635\n",
      "Epoch 223/500\n",
      "2/2 [==============================] - 0s 11ms/step - loss: 11.6732 - mse: 197.7622\n",
      "Epoch 224/500\n",
      "2/2 [==============================] - 0s 11ms/step - loss: 15.1461 - mse: 347.3969\n",
      "Epoch 225/500\n",
      "2/2 [==============================] - 0s 12ms/step - loss: 17.2134 - mse: 386.7707\n",
      "Epoch 226/500\n",
      "2/2 [==============================] - 0s 9ms/step - loss: 16.3820 - mse: 398.9641\n",
      "Epoch 227/500\n",
      "2/2 [==============================] - 0s 7ms/step - loss: 16.7691 - mse: 398.8229\n",
      "Epoch 228/500\n",
      "2/2 [==============================] - 0s 10ms/step - loss: 10.1294 - mse: 181.3620\n",
      "Epoch 229/500\n",
      "2/2 [==============================] - 0s 10ms/step - loss: 18.0682 - mse: 458.5033\n",
      "Epoch 230/500\n",
      "2/2 [==============================] - 0s 10ms/step - loss: 15.6264 - mse: 315.0684\n",
      "Epoch 231/500\n",
      "2/2 [==============================] - 0s 9ms/step - loss: 21.2299 - mse: 672.0829\n",
      "Epoch 232/500\n",
      "2/2 [==============================] - 0s 8ms/step - loss: 25.2200 - mse: 909.5352\n",
      "Epoch 233/500\n",
      "2/2 [==============================] - 0s 8ms/step - loss: 16.2774 - mse: 385.9767\n",
      "Epoch 234/500\n",
      "2/2 [==============================] - 0s 21ms/step - loss: 7.2676 - mse: 66.4678\n",
      "Epoch 235/500\n",
      "2/2 [==============================] - 0s 9ms/step - loss: 16.9270 - mse: 401.0849\n",
      "Epoch 236/500\n",
      "2/2 [==============================] - 0s 10ms/step - loss: 7.1118 - mse: 69.7847\n",
      "Epoch 237/500\n",
      "2/2 [==============================] - 0s 9ms/step - loss: 9.1881 - mse: 118.7218\n",
      "Epoch 238/500\n",
      "2/2 [==============================] - 0s 9ms/step - loss: 8.0885 - mse: 86.7423\n",
      "Epoch 239/500\n",
      "2/2 [==============================] - 0s 12ms/step - loss: 17.0023 - mse: 435.6486\n",
      "Epoch 240/500\n",
      "2/2 [==============================] - 0s 10ms/step - loss: 8.8473 - mse: 107.7655\n",
      "Epoch 241/500\n",
      "2/2 [==============================] - 0s 10ms/step - loss: 13.1343 - mse: 272.3559\n",
      "Epoch 242/500\n",
      "2/2 [==============================] - 0s 10ms/step - loss: 8.7779 - mse: 104.5157\n",
      "Epoch 243/500\n",
      "2/2 [==============================] - 0s 7ms/step - loss: 18.7473 - mse: 537.6153\n",
      "Epoch 244/500\n",
      "2/2 [==============================] - 0s 8ms/step - loss: 14.0762 - mse: 275.9726\n",
      "Epoch 245/500\n",
      "2/2 [==============================] - 0s 8ms/step - loss: 14.7032 - mse: 291.1470\n",
      "Epoch 246/500\n",
      "2/2 [==============================] - 0s 12ms/step - loss: 15.8243 - mse: 371.9471\n",
      "Epoch 247/500\n",
      "2/2 [==============================] - 0s 8ms/step - loss: 17.7072 - mse: 422.9188\n",
      "Epoch 248/500\n",
      "2/2 [==============================] - 0s 8ms/step - loss: 13.2617 - mse: 252.1209\n",
      "Epoch 249/500\n",
      "2/2 [==============================] - 0s 7ms/step - loss: 14.5234 - mse: 289.5657\n",
      "Epoch 250/500\n",
      "2/2 [==============================] - 0s 9ms/step - loss: 23.2611 - mse: 795.0065\n",
      "Epoch 251/500\n",
      "2/2 [==============================] - 0s 9ms/step - loss: 9.2914 - mse: 118.6352\n",
      "Epoch 252/500\n",
      "2/2 [==============================] - 0s 9ms/step - loss: 36.5539 - mse: 2181.6919\n",
      "Epoch 253/500\n",
      "2/2 [==============================] - 0s 9ms/step - loss: 21.7443 - mse: 663.2394\n",
      "Epoch 254/500\n",
      "2/2 [==============================] - 0s 11ms/step - loss: 7.2749 - mse: 78.3274\n",
      "Epoch 255/500\n",
      "2/2 [==============================] - 0s 7ms/step - loss: 24.6317 - mse: 876.4305\n",
      "Epoch 256/500\n",
      "2/2 [==============================] - 0s 8ms/step - loss: 12.3837 - mse: 219.1537\n",
      "Epoch 257/500\n",
      "2/2 [==============================] - 0s 10ms/step - loss: 10.5538 - mse: 163.0423\n",
      "Epoch 258/500\n",
      "2/2 [==============================] - 0s 9ms/step - loss: 14.1907 - mse: 306.3743\n",
      "Epoch 259/500\n",
      "2/2 [==============================] - 0s 10ms/step - loss: 11.2447 - mse: 186.6624\n",
      "Epoch 260/500\n",
      "2/2 [==============================] - 0s 11ms/step - loss: 31.6337 - mse: 1528.0164\n",
      "Epoch 261/500\n",
      "2/2 [==============================] - 0s 9ms/step - loss: 11.1610 - mse: 178.0050\n",
      "Epoch 262/500\n",
      "2/2 [==============================] - 0s 9ms/step - loss: 10.0176 - mse: 139.2080\n",
      "Epoch 263/500\n",
      "2/2 [==============================] - 0s 9ms/step - loss: 8.9312 - mse: 103.3975\n",
      "Epoch 264/500\n",
      "2/2 [==============================] - 0s 15ms/step - loss: 21.5331 - mse: 652.4062\n",
      "Epoch 265/500\n",
      "2/2 [==============================] - 0s 10ms/step - loss: 11.4247 - mse: 198.7452\n",
      "Epoch 266/500\n",
      "2/2 [==============================] - 0s 10ms/step - loss: 13.2562 - mse: 254.1096\n",
      "Epoch 267/500\n",
      "2/2 [==============================] - 0s 17ms/step - loss: 11.0574 - mse: 233.5732\n",
      "Epoch 268/500\n",
      "2/2 [==============================] - 0s 10ms/step - loss: 21.7069 - mse: 673.2985\n",
      "Epoch 269/500\n",
      "2/2 [==============================] - 0s 28ms/step - loss: 32.9481 - mse: 1629.0023\n",
      "Epoch 270/500\n",
      "2/2 [==============================] - 0s 7ms/step - loss: 9.7296 - mse: 132.3457\n",
      "Epoch 271/500\n",
      "2/2 [==============================] - 0s 8ms/step - loss: 7.7001 - mse: 112.1684\n",
      "Epoch 272/500\n",
      "2/2 [==============================] - 0s 11ms/step - loss: 28.4980 - mse: 1115.8356\n",
      "Epoch 273/500\n",
      "2/2 [==============================] - 0s 9ms/step - loss: 7.3762 - mse: 83.1459\n",
      "Epoch 274/500\n",
      "2/2 [==============================] - 0s 11ms/step - loss: 6.3148 - mse: 44.8856\n",
      "Epoch 275/500\n",
      "2/2 [==============================] - 0s 9ms/step - loss: 37.2150 - mse: 2125.1089\n",
      "Epoch 276/500\n",
      "2/2 [==============================] - 0s 8ms/step - loss: 8.2757 - mse: 108.2968\n",
      "Epoch 277/500\n",
      "2/2 [==============================] - 0s 7ms/step - loss: 27.9932 - mse: 1075.0172\n",
      "Epoch 278/500\n",
      "2/2 [==============================] - 0s 9ms/step - loss: 10.5976 - mse: 213.4555\n",
      "Epoch 279/500\n",
      "2/2 [==============================] - 0s 10ms/step - loss: 16.0463 - mse: 385.4799\n",
      "Epoch 280/500\n",
      "2/2 [==============================] - 0s 9ms/step - loss: 21.1146 - mse: 675.4958\n",
      "Epoch 281/500\n",
      "2/2 [==============================] - 0s 9ms/step - loss: 24.0923 - mse: 887.6665\n",
      "Epoch 282/500\n",
      "2/2 [==============================] - 0s 10ms/step - loss: 8.3080 - mse: 97.6908\n",
      "Epoch 283/500\n",
      "2/2 [==============================] - 0s 7ms/step - loss: 9.0493 - mse: 119.7874\n",
      "Epoch 284/500\n",
      "2/2 [==============================] - 0s 11ms/step - loss: 23.0336 - mse: 788.9248\n",
      "Epoch 285/500\n",
      "2/2 [==============================] - 0s 8ms/step - loss: 12.0819 - mse: 237.3962\n",
      "Epoch 286/500\n",
      "2/2 [==============================] - 0s 9ms/step - loss: 6.8717 - mse: 83.3116\n",
      "Epoch 287/500\n",
      "2/2 [==============================] - 0s 9ms/step - loss: 24.3833 - mse: 853.0724\n",
      "Epoch 288/500\n",
      "2/2 [==============================] - 0s 9ms/step - loss: 20.6058 - mse: 632.2179\n",
      "Epoch 289/500\n",
      "2/2 [==============================] - 0s 11ms/step - loss: 11.8354 - mse: 246.8033\n",
      "Epoch 290/500\n",
      "2/2 [==============================] - 0s 8ms/step - loss: 16.4173 - mse: 359.8453\n",
      "Epoch 291/500\n",
      "2/2 [==============================] - 0s 8ms/step - loss: 16.6407 - mse: 406.7877\n",
      "Epoch 292/500\n",
      "2/2 [==============================] - 0s 13ms/step - loss: 8.1191 - mse: 135.9446\n",
      "Epoch 293/500\n",
      "2/2 [==============================] - 0s 9ms/step - loss: 16.1014 - mse: 379.3711\n",
      "Epoch 294/500\n",
      "2/2 [==============================] - 0s 9ms/step - loss: 24.4187 - mse: 885.6053\n",
      "Epoch 295/500\n",
      "2/2 [==============================] - 0s 10ms/step - loss: 13.8437 - mse: 280.3034\n",
      "Epoch 296/500\n",
      "2/2 [==============================] - 0s 9ms/step - loss: 6.0949 - mse: 58.7623\n",
      "Epoch 297/500\n",
      "2/2 [==============================] - 0s 12ms/step - loss: 10.9490 - mse: 252.2962\n",
      "Epoch 298/500\n",
      "2/2 [==============================] - 0s 10ms/step - loss: 23.1930 - mse: 788.6090\n",
      "Epoch 299/500\n",
      "2/2 [==============================] - 0s 8ms/step - loss: 17.6510 - mse: 465.6137\n",
      "Epoch 300/500\n",
      "2/2 [==============================] - 0s 9ms/step - loss: 6.9357 - mse: 63.8212\n",
      "Epoch 301/500\n",
      "2/2 [==============================] - 0s 12ms/step - loss: 25.0838 - mse: 890.5322\n",
      "Epoch 302/500\n",
      "2/2 [==============================] - 0s 9ms/step - loss: 8.8492 - mse: 114.7252\n",
      "Epoch 303/500\n",
      "2/2 [==============================] - 0s 9ms/step - loss: 17.7014 - mse: 458.5357\n",
      "Epoch 304/500\n",
      "2/2 [==============================] - 0s 12ms/step - loss: 10.9363 - mse: 172.5910\n",
      "Epoch 305/500\n",
      "2/2 [==============================] - 0s 10ms/step - loss: 12.8734 - mse: 270.6392\n",
      "Epoch 306/500\n",
      "2/2 [==============================] - 0s 8ms/step - loss: 8.3565 - mse: 93.6734\n",
      "Epoch 307/500\n",
      "2/2 [==============================] - 0s 12ms/step - loss: 13.5708 - mse: 277.9250\n",
      "Epoch 308/500\n",
      "2/2 [==============================] - 0s 11ms/step - loss: 7.4010 - mse: 77.9009\n",
      "Epoch 309/500\n",
      "2/2 [==============================] - 0s 7ms/step - loss: 9.4325 - mse: 138.3817\n",
      "Epoch 310/500\n",
      "2/2 [==============================] - 0s 9ms/step - loss: 10.6932 - mse: 197.7856\n",
      "Epoch 311/500\n",
      "2/2 [==============================] - 0s 10ms/step - loss: 13.2665 - mse: 253.8393\n",
      "Epoch 312/500\n",
      "2/2 [==============================] - 0s 8ms/step - loss: 29.9736 - mse: 1241.6460\n",
      "Epoch 313/500\n",
      "2/2 [==============================] - 0s 9ms/step - loss: 7.6051 - mse: 103.8885\n",
      "Epoch 314/500\n",
      "2/2 [==============================] - 0s 10ms/step - loss: 9.8912 - mse: 239.9071\n",
      "Epoch 315/500\n",
      "2/2 [==============================] - 0s 10ms/step - loss: 23.7491 - mse: 819.9391\n",
      "Epoch 316/500\n",
      "2/2 [==============================] - 0s 9ms/step - loss: 16.4259 - mse: 405.6826\n",
      "Epoch 317/500\n",
      "2/2 [==============================] - 0s 8ms/step - loss: 21.1097 - mse: 608.1443\n",
      "Epoch 318/500\n",
      "2/2 [==============================] - 0s 11ms/step - loss: 7.9188 - mse: 81.4770\n",
      "Epoch 319/500\n",
      "2/2 [==============================] - 0s 10ms/step - loss: 18.0150 - mse: 481.4932\n",
      "Epoch 320/500\n",
      "2/2 [==============================] - 0s 10ms/step - loss: 10.5534 - mse: 191.5677\n",
      "Epoch 321/500\n",
      "2/2 [==============================] - 0s 24ms/step - loss: 6.9411 - mse: 107.6670\n",
      "Epoch 322/500\n",
      "2/2 [==============================] - 0s 10ms/step - loss: 9.1953 - mse: 202.9312\n",
      "Epoch 323/500\n",
      "2/2 [==============================] - 0s 8ms/step - loss: 17.8420 - mse: 482.7719\n",
      "Epoch 324/500\n",
      "2/2 [==============================] - 0s 9ms/step - loss: 15.9302 - mse: 338.6909\n",
      "Epoch 325/500\n",
      "2/2 [==============================] - 0s 11ms/step - loss: 17.5953 - mse: 494.2796\n",
      "Epoch 326/500\n",
      "2/2 [==============================] - 0s 12ms/step - loss: 23.9535 - mse: 868.8920\n",
      "Epoch 327/500\n",
      "2/2 [==============================] - 0s 11ms/step - loss: 10.2952 - mse: 174.8192\n",
      "Epoch 328/500\n",
      "2/2 [==============================] - 0s 14ms/step - loss: 13.1177 - mse: 248.4666\n",
      "Epoch 329/500\n",
      "2/2 [==============================] - 0s 8ms/step - loss: 15.9792 - mse: 384.3936\n",
      "Epoch 330/500\n",
      "2/2 [==============================] - 0s 10ms/step - loss: 14.3208 - mse: 281.2132\n",
      "Epoch 331/500\n",
      "2/2 [==============================] - 0s 9ms/step - loss: 25.7591 - mse: 949.1881\n",
      "Epoch 332/500\n",
      "2/2 [==============================] - 0s 7ms/step - loss: 17.1621 - mse: 421.6624\n",
      "Epoch 333/500\n",
      "2/2 [==============================] - 0s 8ms/step - loss: 8.4621 - mse: 104.2924\n",
      "Epoch 334/500\n",
      "2/2 [==============================] - 0s 11ms/step - loss: 13.3804 - mse: 273.7446\n",
      "Epoch 335/500\n",
      "2/2 [==============================] - 0s 10ms/step - loss: 13.0606 - mse: 263.8050\n",
      "Epoch 336/500\n",
      "2/2 [==============================] - 0s 10ms/step - loss: 32.5617 - mse: 1446.7294\n",
      "Epoch 337/500\n",
      "2/2 [==============================] - 0s 8ms/step - loss: 11.0933 - mse: 189.5658\n",
      "Epoch 338/500\n",
      "2/2 [==============================] - 0s 9ms/step - loss: 20.0705 - mse: 592.0121\n",
      "Epoch 339/500\n",
      "2/2 [==============================] - 0s 8ms/step - loss: 33.9849 - mse: 1725.4008\n",
      "Epoch 340/500\n",
      "2/2 [==============================] - 0s 10ms/step - loss: 8.6083 - mse: 105.4962\n",
      "Epoch 341/500\n",
      "2/2 [==============================] - 0s 8ms/step - loss: 21.7053 - mse: 658.0372\n",
      "Epoch 342/500\n",
      "2/2 [==============================] - 0s 9ms/step - loss: 14.0126 - mse: 262.2260\n",
      "Epoch 343/500\n",
      "2/2 [==============================] - 0s 11ms/step - loss: 11.5373 - mse: 177.9261\n",
      "Epoch 344/500\n",
      "2/2 [==============================] - 0s 11ms/step - loss: 10.6450 - mse: 233.8284\n",
      "Epoch 345/500\n",
      "2/2 [==============================] - 0s 11ms/step - loss: 30.8187 - mse: 1336.7195\n",
      "Epoch 346/500\n",
      "2/2 [==============================] - 0s 25ms/step - loss: 10.5741 - mse: 267.5201\n",
      "Epoch 347/500\n",
      "2/2 [==============================] - 0s 9ms/step - loss: 25.4312 - mse: 907.0479\n",
      "Epoch 348/500\n",
      "2/2 [==============================] - 0s 9ms/step - loss: 13.5867 - mse: 284.0551\n",
      "Epoch 349/500\n",
      "2/2 [==============================] - 0s 12ms/step - loss: 12.9091 - mse: 249.2260\n",
      "Epoch 350/500\n",
      "2/2 [==============================] - 0s 8ms/step - loss: 15.3468 - mse: 322.0005\n",
      "Epoch 351/500\n",
      "2/2 [==============================] - 0s 10ms/step - loss: 32.8028 - mse: 1511.1537\n",
      "Epoch 352/500\n",
      "2/2 [==============================] - 0s 9ms/step - loss: 13.8457 - mse: 270.3893\n",
      "Epoch 353/500\n",
      "2/2 [==============================] - 0s 10ms/step - loss: 17.8191 - mse: 488.3037\n",
      "Epoch 354/500\n",
      "2/2 [==============================] - 0s 9ms/step - loss: 11.3620 - mse: 231.4435\n",
      "Epoch 355/500\n",
      "2/2 [==============================] - 0s 9ms/step - loss: 26.8198 - mse: 1028.1355\n",
      "Epoch 356/500\n",
      "2/2 [==============================] - 0s 9ms/step - loss: 9.6674 - mse: 157.9180\n",
      "Epoch 357/500\n",
      "2/2 [==============================] - 0s 10ms/step - loss: 17.0478 - mse: 438.5421\n",
      "Epoch 358/500\n",
      "2/2 [==============================] - 0s 11ms/step - loss: 15.7022 - mse: 366.4811\n",
      "Epoch 359/500\n",
      "2/2 [==============================] - 0s 9ms/step - loss: 11.7028 - mse: 303.4182\n",
      "Epoch 360/500\n",
      "2/2 [==============================] - 0s 9ms/step - loss: 20.2712 - mse: 618.2460\n",
      "Epoch 361/500\n",
      "2/2 [==============================] - 0s 8ms/step - loss: 10.9994 - mse: 220.7539\n",
      "Epoch 362/500\n",
      "2/2 [==============================] - 0s 8ms/step - loss: 6.7950 - mse: 76.2533\n",
      "Epoch 363/500\n",
      "2/2 [==============================] - 0s 10ms/step - loss: 24.0024 - mse: 839.1097\n",
      "Epoch 364/500\n",
      "2/2 [==============================] - 0s 8ms/step - loss: 29.7642 - mse: 1286.7114\n",
      "Epoch 365/500\n",
      "2/2 [==============================] - 0s 10ms/step - loss: 8.3303 - mse: 107.9856\n",
      "Epoch 366/500\n",
      "2/2 [==============================] - 0s 8ms/step - loss: 6.0696 - mse: 48.2179\n",
      "Epoch 367/500\n",
      "2/2 [==============================] - 0s 9ms/step - loss: 34.9512 - mse: 1854.7585\n",
      "Epoch 368/500\n",
      "2/2 [==============================] - 0s 8ms/step - loss: 7.3905 - mse: 100.4304\n",
      "Epoch 369/500\n",
      "2/2 [==============================] - 0s 6ms/step - loss: 9.2228 - mse: 129.4398\n",
      "Epoch 370/500\n",
      "2/2 [==============================] - 0s 10ms/step - loss: 10.9413 - mse: 206.9373\n",
      "Epoch 371/500\n",
      "2/2 [==============================] - 0s 8ms/step - loss: 9.0039 - mse: 141.9660\n",
      "Epoch 372/500\n",
      "2/2 [==============================] - 0s 10ms/step - loss: 7.6754 - mse: 143.8855\n",
      "Epoch 373/500\n",
      "2/2 [==============================] - 0s 9ms/step - loss: 25.0279 - mse: 917.6241\n",
      "Epoch 374/500\n",
      "2/2 [==============================] - 0s 9ms/step - loss: 13.2858 - mse: 285.1739\n",
      "Epoch 375/500\n",
      "2/2 [==============================] - 0s 7ms/step - loss: 11.8207 - mse: 213.3662\n",
      "Epoch 376/500\n",
      "2/2 [==============================] - 0s 10ms/step - loss: 14.1038 - mse: 283.7969\n",
      "Epoch 377/500\n",
      "2/2 [==============================] - 0s 9ms/step - loss: 15.6842 - mse: 318.0016\n",
      "Epoch 378/500\n",
      "2/2 [==============================] - 0s 9ms/step - loss: 16.9915 - mse: 462.6748\n",
      "Epoch 379/500\n",
      "2/2 [==============================] - 0s 26ms/step - loss: 19.4853 - mse: 540.9559\n",
      "Epoch 380/500\n",
      "2/2 [==============================] - 0s 9ms/step - loss: 15.8468 - mse: 390.7228\n",
      "Epoch 381/500\n",
      "2/2 [==============================] - 0s 9ms/step - loss: 11.4224 - mse: 217.6119\n",
      "Epoch 382/500\n",
      "2/2 [==============================] - 0s 8ms/step - loss: 16.3056 - mse: 354.8116\n",
      "Epoch 383/500\n",
      "2/2 [==============================] - 0s 11ms/step - loss: 22.0476 - mse: 749.8451\n",
      "Epoch 384/500\n",
      "2/2 [==============================] - 0s 10ms/step - loss: 7.7825 - mse: 84.0340\n",
      "Epoch 385/500\n",
      "2/2 [==============================] - 0s 8ms/step - loss: 10.5731 - mse: 276.2734\n",
      "Epoch 386/500\n",
      "2/2 [==============================] - 0s 8ms/step - loss: 19.0246 - mse: 567.4535\n",
      "Epoch 387/500\n",
      "2/2 [==============================] - 0s 12ms/step - loss: 15.4006 - mse: 366.6035\n",
      "Epoch 388/500\n",
      "2/2 [==============================] - 0s 10ms/step - loss: 5.8758 - mse: 73.3567\n",
      "Epoch 389/500\n",
      "2/2 [==============================] - 0s 9ms/step - loss: 18.0366 - mse: 511.3834\n",
      "Epoch 390/500\n",
      "2/2 [==============================] - 0s 8ms/step - loss: 24.7879 - mse: 909.7823\n",
      "Epoch 391/500\n",
      "2/2 [==============================] - 0s 11ms/step - loss: 16.4573 - mse: 410.3742\n",
      "Epoch 392/500\n",
      "2/2 [==============================] - 0s 9ms/step - loss: 8.3711 - mse: 171.9518\n",
      "Epoch 393/500\n",
      "2/2 [==============================] - 0s 10ms/step - loss: 18.1485 - mse: 513.8647\n",
      "Epoch 394/500\n",
      "2/2 [==============================] - 0s 7ms/step - loss: 14.1961 - mse: 277.9577\n",
      "Epoch 395/500\n",
      "2/2 [==============================] - 0s 8ms/step - loss: 28.6816 - mse: 1141.4221\n",
      "Epoch 396/500\n",
      "2/2 [==============================] - 0s 9ms/step - loss: 8.1547 - mse: 108.6107\n",
      "Epoch 397/500\n",
      "2/2 [==============================] - 0s 10ms/step - loss: 10.4864 - mse: 204.9599\n",
      "Epoch 398/500\n",
      "2/2 [==============================] - 0s 10ms/step - loss: 7.3410 - mse: 80.9541\n",
      "Epoch 399/500\n",
      "2/2 [==============================] - 0s 9ms/step - loss: 15.6069 - mse: 368.9458\n",
      "Epoch 400/500\n",
      "2/2 [==============================] - 0s 9ms/step - loss: 6.6946 - mse: 60.9804\n",
      "Epoch 401/500\n",
      "2/2 [==============================] - 0s 7ms/step - loss: 7.9949 - mse: 114.9311\n",
      "Epoch 402/500\n",
      "2/2 [==============================] - 0s 9ms/step - loss: 16.4533 - mse: 390.8344\n",
      "Epoch 403/500\n",
      "2/2 [==============================] - 0s 9ms/step - loss: 12.3310 - mse: 295.2270\n",
      "Epoch 404/500\n",
      "2/2 [==============================] - 0s 10ms/step - loss: 22.9122 - mse: 737.6069\n",
      "Epoch 405/500\n",
      "2/2 [==============================] - 0s 8ms/step - loss: 18.1449 - mse: 503.0035\n",
      "Epoch 406/500\n",
      "2/2 [==============================] - 0s 8ms/step - loss: 7.0359 - mse: 76.0066\n",
      "Epoch 407/500\n",
      "2/2 [==============================] - 0s 7ms/step - loss: 12.6719 - mse: 270.8325\n",
      "Epoch 408/500\n",
      "2/2 [==============================] - 0s 10ms/step - loss: 5.6385 - mse: 41.4739\n",
      "Epoch 409/500\n",
      "2/2 [==============================] - 0s 10ms/step - loss: 31.3223 - mse: 1519.6406\n",
      "Epoch 410/500\n",
      "2/2 [==============================] - 0s 9ms/step - loss: 9.2156 - mse: 220.5493\n",
      "Epoch 411/500\n",
      "2/2 [==============================] - 0s 8ms/step - loss: 14.8456 - mse: 285.5497\n",
      "Epoch 412/500\n",
      "2/2 [==============================] - 0s 9ms/step - loss: 21.7150 - mse: 721.6467\n",
      "Epoch 413/500\n",
      "2/2 [==============================] - 0s 8ms/step - loss: 12.6473 - mse: 248.6377\n",
      "Epoch 414/500\n",
      "2/2 [==============================] - 0s 8ms/step - loss: 6.0178 - mse: 87.7923\n",
      "Epoch 415/500\n",
      "2/2 [==============================] - 0s 7ms/step - loss: 13.2167 - mse: 239.8167\n",
      "Epoch 416/500\n",
      "2/2 [==============================] - 0s 10ms/step - loss: 27.4183 - mse: 1038.1094\n",
      "Epoch 417/500\n",
      "2/2 [==============================] - 0s 9ms/step - loss: 10.6572 - mse: 207.8342\n",
      "Epoch 418/500\n",
      "2/2 [==============================] - 0s 9ms/step - loss: 12.8023 - mse: 236.1573\n",
      "Epoch 419/500\n",
      "2/2 [==============================] - 0s 22ms/step - loss: 15.8558 - mse: 373.4418\n",
      "Epoch 420/500\n",
      "2/2 [==============================] - 0s 9ms/step - loss: 24.7247 - mse: 848.4164\n",
      "Epoch 421/500\n",
      "2/2 [==============================] - 0s 11ms/step - loss: 17.5421 - mse: 453.2939\n",
      "Epoch 422/500\n",
      "2/2 [==============================] - 0s 10ms/step - loss: 8.6826 - mse: 188.4792\n",
      "Epoch 423/500\n",
      "2/2 [==============================] - 0s 9ms/step - loss: 24.9100 - mse: 877.9110\n",
      "Epoch 424/500\n",
      "2/2 [==============================] - 0s 8ms/step - loss: 16.2605 - mse: 414.8710\n",
      "Epoch 425/500\n",
      "2/2 [==============================] - 0s 9ms/step - loss: 7.1139 - mse: 74.8500\n",
      "Epoch 426/500\n",
      "2/2 [==============================] - 0s 9ms/step - loss: 20.3695 - mse: 574.1271\n",
      "Epoch 427/500\n",
      "2/2 [==============================] - 0s 10ms/step - loss: 6.2878 - mse: 84.0445\n",
      "Epoch 428/500\n",
      "2/2 [==============================] - 0s 8ms/step - loss: 13.0421 - mse: 289.3997\n",
      "Epoch 429/500\n",
      "2/2 [==============================] - 0s 8ms/step - loss: 10.8246 - mse: 193.7060\n",
      "Epoch 430/500\n",
      "2/2 [==============================] - 0s 10ms/step - loss: 11.6874 - mse: 266.1608\n",
      "Epoch 431/500\n",
      "2/2 [==============================] - 0s 8ms/step - loss: 7.8649 - mse: 111.5969\n",
      "Epoch 432/500\n",
      "2/2 [==============================] - 0s 6ms/step - loss: 22.0965 - mse: 672.7258\n",
      "Epoch 433/500\n",
      "2/2 [==============================] - 0s 8ms/step - loss: 6.9684 - mse: 107.3814\n",
      "Epoch 434/500\n",
      "2/2 [==============================] - 0s 8ms/step - loss: 32.0143 - mse: 1430.3691\n",
      "Epoch 435/500\n",
      "2/2 [==============================] - 0s 9ms/step - loss: 13.0342 - mse: 282.5165\n",
      "Epoch 436/500\n",
      "2/2 [==============================] - 0s 10ms/step - loss: 28.1888 - mse: 1165.6249\n",
      "Epoch 437/500\n",
      "2/2 [==============================] - 0s 9ms/step - loss: 3.8304 - mse: 21.9023\n",
      "Epoch 438/500\n",
      "2/2 [==============================] - 0s 10ms/step - loss: 15.0635 - mse: 373.3347\n",
      "Epoch 439/500\n",
      "2/2 [==============================] - 0s 8ms/step - loss: 45.7530 - mse: 3630.3315\n",
      "Epoch 440/500\n",
      "2/2 [==============================] - 0s 9ms/step - loss: 26.0064 - mse: 1045.3235\n",
      "Epoch 441/500\n",
      "2/2 [==============================] - 0s 9ms/step - loss: 5.8786 - mse: 49.1357\n",
      "Epoch 442/500\n",
      "2/2 [==============================] - 0s 8ms/step - loss: 23.1896 - mse: 759.8993\n",
      "Epoch 443/500\n",
      "2/2 [==============================] - 0s 10ms/step - loss: 6.8780 - mse: 75.6343\n",
      "Epoch 444/500\n",
      "2/2 [==============================] - 0s 8ms/step - loss: 20.8026 - mse: 630.0577\n",
      "Epoch 445/500\n",
      "2/2 [==============================] - 0s 42ms/step - loss: 13.7649 - mse: 266.1443\n",
      "Epoch 446/500\n",
      "2/2 [==============================] - 0s 8ms/step - loss: 16.3275 - mse: 422.2384\n",
      "Epoch 447/500\n",
      "2/2 [==============================] - 0s 16ms/step - loss: 8.0452 - mse: 102.5841\n",
      "Epoch 448/500\n",
      "2/2 [==============================] - 0s 9ms/step - loss: 13.2384 - mse: 249.5874\n",
      "Epoch 449/500\n",
      "2/2 [==============================] - 0s 9ms/step - loss: 15.9877 - mse: 365.1480\n",
      "Epoch 450/500\n",
      "2/2 [==============================] - 0s 8ms/step - loss: 16.9525 - mse: 437.8439\n",
      "Epoch 451/500\n",
      "2/2 [==============================] - 0s 9ms/step - loss: 14.3536 - mse: 311.5672\n",
      "Epoch 452/500\n",
      "2/2 [==============================] - 0s 10ms/step - loss: 30.7785 - mse: 1342.7205\n",
      "Epoch 453/500\n",
      "2/2 [==============================] - 0s 10ms/step - loss: 9.0873 - mse: 242.7197\n",
      "Epoch 454/500\n",
      "2/2 [==============================] - 0s 9ms/step - loss: 27.1265 - mse: 1031.2004\n",
      "Epoch 455/500\n",
      "2/2 [==============================] - 0s 8ms/step - loss: 11.5827 - mse: 236.8635\n",
      "Epoch 456/500\n",
      "2/2 [==============================] - 0s 10ms/step - loss: 15.5877 - mse: 328.7429\n",
      "Epoch 457/500\n",
      "2/2 [==============================] - 0s 9ms/step - loss: 19.1946 - mse: 550.0418\n",
      "Epoch 458/500\n",
      "2/2 [==============================] - 0s 8ms/step - loss: 23.2047 - mse: 794.7440\n",
      "Epoch 459/500\n",
      "2/2 [==============================] - 0s 8ms/step - loss: 16.6347 - mse: 394.6413\n",
      "Epoch 460/500\n",
      "2/2 [==============================] - 0s 10ms/step - loss: 7.3864 - mse: 168.2106\n",
      "Epoch 461/500\n",
      "2/2 [==============================] - 0s 10ms/step - loss: 15.5573 - mse: 325.5882\n",
      "Epoch 462/500\n",
      "2/2 [==============================] - 0s 9ms/step - loss: 15.2328 - mse: 362.6859\n",
      "Epoch 463/500\n",
      "2/2 [==============================] - 0s 8ms/step - loss: 16.8934 - mse: 432.2849\n",
      "Epoch 464/500\n",
      "2/2 [==============================] - 0s 8ms/step - loss: 11.2757 - mse: 227.0073\n",
      "Epoch 465/500\n",
      "2/2 [==============================] - 0s 7ms/step - loss: 21.6525 - mse: 706.8712\n",
      "Epoch 466/500\n",
      "2/2 [==============================] - 0s 10ms/step - loss: 24.7563 - mse: 879.9813\n",
      "Epoch 467/500\n",
      "2/2 [==============================] - 0s 11ms/step - loss: 14.6292 - mse: 322.7557\n",
      "Epoch 468/500\n",
      "2/2 [==============================] - 0s 9ms/step - loss: 10.3956 - mse: 262.5917\n",
      "Epoch 469/500\n",
      "2/2 [==============================] - 0s 7ms/step - loss: 27.4455 - mse: 1057.0823\n",
      "Epoch 470/500\n",
      "2/2 [==============================] - 0s 11ms/step - loss: 12.2762 - mse: 264.2986\n",
      "Epoch 471/500\n",
      "2/2 [==============================] - 0s 8ms/step - loss: 11.8468 - mse: 244.6823\n",
      "Epoch 472/500\n",
      "2/2 [==============================] - 0s 7ms/step - loss: 15.5740 - mse: 345.6033\n",
      "Epoch 473/500\n",
      "2/2 [==============================] - 0s 9ms/step - loss: 15.6284 - mse: 415.8816\n",
      "Epoch 474/500\n",
      "2/2 [==============================] - 0s 8ms/step - loss: 19.9849 - mse: 578.7928\n",
      "Epoch 475/500\n",
      "2/2 [==============================] - 0s 8ms/step - loss: 5.5950 - mse: 84.5438\n",
      "Epoch 476/500\n",
      "2/2 [==============================] - 0s 9ms/step - loss: 13.0561 - mse: 243.5559\n",
      "Epoch 477/500\n",
      "2/2 [==============================] - 0s 10ms/step - loss: 28.9839 - mse: 1176.8573\n",
      "Epoch 478/500\n",
      "2/2 [==============================] - 0s 9ms/step - loss: 6.1755 - mse: 73.2876\n",
      "Epoch 479/500\n",
      "2/2 [==============================] - 0s 10ms/step - loss: 4.2518 - mse: 31.8406\n",
      "Epoch 480/500\n",
      "2/2 [==============================] - 0s 17ms/step - loss: 21.4216 - mse: 692.9295\n",
      "Epoch 481/500\n",
      "2/2 [==============================] - 0s 8ms/step - loss: 22.0478 - mse: 715.6580\n",
      "Epoch 482/500\n",
      "2/2 [==============================] - 0s 9ms/step - loss: 11.1650 - mse: 212.7151\n",
      "Epoch 483/500\n",
      "2/2 [==============================] - 0s 7ms/step - loss: 5.2582 - mse: 55.5569\n",
      "Epoch 484/500\n",
      "2/2 [==============================] - 0s 10ms/step - loss: 30.3112 - mse: 1288.0247\n",
      "Epoch 485/500\n",
      "2/2 [==============================] - 0s 19ms/step - loss: 8.6039 - mse: 231.9934\n",
      "Epoch 486/500\n",
      "2/2 [==============================] - 0s 7ms/step - loss: 18.8287 - mse: 541.6932\n",
      "Epoch 487/500\n",
      "2/2 [==============================] - 0s 9ms/step - loss: 13.5496 - mse: 304.8797\n",
      "Epoch 488/500\n",
      "2/2 [==============================] - 0s 10ms/step - loss: 10.6353 - mse: 180.6108\n",
      "Epoch 489/500\n",
      "2/2 [==============================] - 0s 10ms/step - loss: 16.0702 - mse: 351.6517\n",
      "Epoch 490/500\n",
      "2/2 [==============================] - 0s 9ms/step - loss: 14.2787 - mse: 283.6687\n",
      "Epoch 491/500\n",
      "2/2 [==============================] - 0s 8ms/step - loss: 26.3695 - mse: 1012.8426\n",
      "Epoch 492/500\n",
      "2/2 [==============================] - 0s 8ms/step - loss: 13.7600 - mse: 307.0324\n",
      "Epoch 493/500\n",
      "2/2 [==============================] - 0s 8ms/step - loss: 10.3647 - mse: 310.6672\n",
      "Epoch 494/500\n",
      "2/2 [==============================] - 0s 8ms/step - loss: 12.9266 - mse: 231.1679\n",
      "Epoch 495/500\n",
      "2/2 [==============================] - 0s 11ms/step - loss: 13.9225 - mse: 262.3057\n",
      "Epoch 496/500\n",
      "2/2 [==============================] - 0s 9ms/step - loss: 12.1709 - mse: 233.4620\n",
      "Epoch 497/500\n",
      "2/2 [==============================] - 0s 8ms/step - loss: 17.2570 - mse: 498.9803\n",
      "Epoch 498/500\n",
      "2/2 [==============================] - 0s 8ms/step - loss: 24.3613 - mse: 879.0179\n",
      "Epoch 499/500\n",
      "2/2 [==============================] - 0s 7ms/step - loss: 10.0321 - mse: 152.3629\n",
      "Epoch 500/500\n",
      "2/2 [==============================] - 0s 8ms/step - loss: 14.5432 - mse: 287.1054\n"
     ]
    },
    {
     "data": {
      "text/plain": [
       "<keras.src.callbacks.History at 0x13d8ad3b790>"
      ]
     },
     "execution_count": 46,
     "metadata": {},
     "output_type": "execute_result"
    }
   ],
   "source": [
    "tf.random.set_seed(42)\n",
    "\n",
    "model_3 = tf.keras.Sequential([\n",
    "    tf.keras.layers.Dense(10,input_shape=(1,)),\n",
    "    tf.keras.layers.Dense(1)\n",
    "])\n",
    "\n",
    "model_3.compile(loss = tf.keras.losses.mae,\n",
    "                optimizer = tf.keras.optimizers.SGD(),\n",
    "                metrics=[\"mse\"])\n",
    "\n",
    "model_3.fit(X_train,y_train,epochs=500)"
   ]
  },
  {
   "cell_type": "code",
   "execution_count": 47,
   "metadata": {},
   "outputs": [
    {
     "name": "stdout",
     "output_type": "stream",
     "text": [
      "1/1 [==============================] - 0s 134ms/step\n"
     ]
    },
    {
     "data": {
      "image/png": "[encoded data removed]",
      "text/plain": [
       "<Figure size 1000x700 with 1 Axes>"
      ]
     },
     "metadata": {},
     "output_type": "display_data"
    }
   ],
   "source": [
    "y_preds_3 =model_3.predict(X_test)\n",
    "plott_predictions(predictions=y_preds_3)"
   ]
  },
  {
   "cell_type": "code",
   "execution_count": 48,
   "metadata": {},
   "outputs": [
    {
     "data": {
      "text/plain": [
       "(<tf.Tensor: shape=(), dtype=float32, numpy=68.415215>,\n",
       " <tf.Tensor: shape=(), dtype=float32, numpy=4766.404>)"
      ]
     },
     "execution_count": 48,
     "metadata": {},
     "output_type": "execute_result"
    }
   ],
   "source": [
    "mae_3 = mae(y_test,y_preds_3)\n",
    "mse_3 = mse(y_test,y_preds_3)\n",
    "mae_3,mse_3"
   ]
  },
  {
   "cell_type": "markdown",
   "metadata": {},
   "source": [
    "## Comparing the results  of our experiments\n",
    "we'll run some experiments, lets compare the results"
   ]
  },
  {
   "cell_type": "code",
   "execution_count": 49,
   "metadata": {},
   "outputs": [
    {
     "data": {
      "text/html": [
       "<div>\n",
       "<style scoped>\n",
       "    .dataframe tbody tr th:only-of-type {\n",
       "        vertical-align: middle;\n",
       "    }\n",
       "\n",
       "    .dataframe tbody tr th {\n",
       "        vertical-align: top;\n",
       "    }\n",
       "\n",
       "    .dataframe thead th {\n",
       "        text-align: right;\n",
       "    }\n",
       "</style>\n",
       "<table border=\"1\" class=\"dataframe\">\n",
       "  <thead>\n",
       "    <tr style=\"text-align: right;\">\n",
       "      <th></th>\n",
       "      <th>model</th>\n",
       "      <th>mae</th>\n",
       "      <th>mse</th>\n",
       "    </tr>\n",
       "  </thead>\n",
       "  <tbody>\n",
       "    <tr>\n",
       "      <th>0</th>\n",
       "      <td>model_1</td>\n",
       "      <td>8.651799</td>\n",
       "      <td>81.377098</td>\n",
       "    </tr>\n",
       "    <tr>\n",
       "      <th>1</th>\n",
       "      <td>model_2</td>\n",
       "      <td>13.477472</td>\n",
       "      <td>191.816345</td>\n",
       "    </tr>\n",
       "    <tr>\n",
       "      <th>2</th>\n",
       "      <td>model_3</td>\n",
       "      <td>68.415215</td>\n",
       "      <td>4766.403809</td>\n",
       "    </tr>\n",
       "  </tbody>\n",
       "</table>\n",
       "</div>"
      ],
      "text/plain": [
       "     model        mae          mse\n",
       "0  model_1   8.651799    81.377098\n",
       "1  model_2  13.477472   191.816345\n",
       "2  model_3  68.415215  4766.403809"
      ]
     },
     "execution_count": 49,
     "metadata": {},
     "output_type": "execute_result"
    }
   ],
   "source": [
    "# let's compare our model's results using  a pandas DataFrame\n",
    "import pandas as pd\n",
    "model_results = [[\"model_1\",mae_1.numpy(),mse_1.numpy()],\n",
    "                 [\"model_2\",mae_2.numpy(),mse_2.numpy()],\n",
    "                 [\"model_3\",mae_3.numpy(),mse_3.numpy()]]\n",
    "all_results = pd.DataFrame(model_results,columns=[\"model\",\"mae\",\"mse\"])\n",
    "all_results\n",
    "# Tracking  your experiments"
   ]
  },
  {
   "cell_type": "markdown",
   "metadata": {},
   "source": [
    "## Saving our model\n",
    "Saving our models allows us to use them outside of Google colab(or wherever they were trained) such as in  w web  application or a mobile app.\n",
    "\n",
    "there are two main formats we can save our model's too\n",
    "1.  The SavedModel format\n",
    "2.  The HDF5 format"
   ]
  },
  {
   "cell_type": "code",
   "execution_count": 50,
   "metadata": {},
   "outputs": [
    {
     "name": "stdout",
     "output_type": "stream",
     "text": [
      "INFO:tensorflow:Assets written to: best_model_savedModel_format\\assets\n"
     ]
    },
    {
     "name": "stderr",
     "output_type": "stream",
     "text": [
      "INFO:tensorflow:Assets written to: best_model_savedModel_format\\assets\n"
     ]
    }
   ],
   "source": [
    "\n",
    "# save a model using savedmodel format\n",
    "model_2.save(\"best_model_savedModel_format\")"
   ]
  },
  {
   "cell_type": "code",
   "execution_count": 51,
   "metadata": {},
   "outputs": [
    {
     "name": "stderr",
     "output_type": "stream",
     "text": [
      "c:\\Users\\user\\AppData\\Local\\Programs\\Python\\Python310\\lib\\site-packages\\keras\\src\\engine\\training.py:3103: UserWarning: You are saving your model as an HDF5 file via `model.save()`. This file format is considered legacy. We recommend using instead the native Keras format, e.g. `model.save('my_model.keras')`.\n",
      "  saving_api.save_model(\n"
     ]
    }
   ],
   "source": [
    "# save model using HDF5 format\n",
    "model_2.save(\"best_model_HDF5_format.h5\")"
   ]
  },
  {
   "cell_type": "markdown",
   "metadata": {},
   "source": [
    "## Loading in a savedModel"
   ]
  },
  {
   "cell_type": "code",
   "execution_count": 52,
   "metadata": {},
   "outputs": [
    {
     "name": "stdout",
     "output_type": "stream",
     "text": [
      "WARNING:tensorflow:From c:\\Users\\user\\AppData\\Local\\Programs\\Python\\Python310\\lib\\site-packages\\keras\\src\\saving\\legacy\\saved_model\\load.py:107: The name tf.gfile.Exists is deprecated. Please use tf.io.gfile.exists instead.\n",
      "\n"
     ]
    },
    {
     "name": "stderr",
     "output_type": "stream",
     "text": [
      "WARNING:tensorflow:From c:\\Users\\user\\AppData\\Local\\Programs\\Python\\Python310\\lib\\site-packages\\keras\\src\\saving\\legacy\\saved_model\\load.py:107: The name tf.gfile.Exists is deprecated. Please use tf.io.gfile.exists instead.\n",
      "\n"
     ]
    },
    {
     "name": "stdout",
     "output_type": "stream",
     "text": [
      "Model: \"sequential_4\"\n",
      "_________________________________________________________________\n",
      " Layer (type)                Output Shape              Param #   \n",
      "=================================================================\n",
      " dense_5 (Dense)             (None, 10)                20        \n",
      "                                                                 \n",
      " dense_6 (Dense)             (None, 1)                 11        \n",
      "                                                                 \n",
      "=================================================================\n",
      "Total params: 31 (124.00 Byte)\n",
      "Trainable params: 31 (124.00 Byte)\n",
      "Non-trainable params: 0 (0.00 Byte)\n",
      "_________________________________________________________________\n"
     ]
    }
   ],
   "source": [
    "# load  in the  SavedModel format model\n",
    "loaded_SavedModel_format = tf.keras.models.load_model(\"best_model_savedModel_format\")\n",
    "loaded_SavedModel_format.summary()"
   ]
  },
  {
   "cell_type": "code",
   "execution_count": 53,
   "metadata": {},
   "outputs": [
    {
     "name": "stdout",
     "output_type": "stream",
     "text": [
      "1/1 [==============================] - 0s 83ms/step\n",
      "1/1 [==============================] - 0s 104ms/step\n"
     ]
    },
    {
     "data": {
      "text/plain": [
       "array([[ True],\n",
       "       [ True],\n",
       "       [ True],\n",
       "       [ True],\n",
       "       [ True],\n",
       "       [ True],\n",
       "       [ True],\n",
       "       [ True],\n",
       "       [ True],\n",
       "       [ True]])"
      ]
     },
     "execution_count": 53,
     "metadata": {},
     "output_type": "execute_result"
    }
   ],
   "source": [
    "# compare model_2 predictions with  savedmodel format model predictions\n",
    "model_2_preds = model_2.predict(X_test)\n",
    "loaded_SavedModel_format_preds = loaded_SavedModel_format.predict(X_test)\n",
    "model_2_preds == loaded_SavedModel_format_preds"
   ]
  },
  {
   "cell_type": "code",
   "execution_count": 54,
   "metadata": {},
   "outputs": [
    {
     "data": {
      "text/plain": [
       "(<tf.Tensor: shape=(), dtype=float32, numpy=13.477472>,\n",
       " <tf.Tensor: shape=(), dtype=float32, numpy=13.477472>)"
      ]
     },
     "execution_count": 54,
     "metadata": {},
     "output_type": "execute_result"
    }
   ],
   "source": [
    "mae(y_true= y_test, y_pred= model_2_preds), mae(y_true = y_test, y_pred= loaded_SavedModel_format_preds)"
   ]
  },
  {
   "cell_type": "code",
   "execution_count": 55,
   "metadata": {},
   "outputs": [
    {
     "name": "stdout",
     "output_type": "stream",
     "text": [
      "Model: \"sequential_4\"\n",
      "_________________________________________________________________\n",
      " Layer (type)                Output Shape              Param #   \n",
      "=================================================================\n",
      " dense_5 (Dense)             (None, 10)                20        \n",
      "                                                                 \n",
      " dense_6 (Dense)             (None, 1)                 11        \n",
      "                                                                 \n",
      "=================================================================\n",
      "Total params: 31 (124.00 Byte)\n",
      "Trainable params: 31 (124.00 Byte)\n",
      "Non-trainable params: 0 (0.00 Byte)\n",
      "_________________________________________________________________\n"
     ]
    }
   ],
   "source": [
    "# load in a model using the .H5 format\n",
    "loaded_h5_model = tf.keras.models.load_model(\"best_model_HDF5_format.h5\")\n",
    "loaded_h5_model.summary()  \n"
   ]
  },
  {
   "cell_type": "code",
   "execution_count": 56,
   "metadata": {},
   "outputs": [
    {
     "name": "stdout",
     "output_type": "stream",
     "text": [
      "1/1 [==============================] - 0s 89ms/step\n"
     ]
    },
    {
     "name": "stdout",
     "output_type": "stream",
     "text": [
      "1/1 [==============================] - 0s 164ms/step\n"
     ]
    },
    {
     "data": {
      "text/plain": [
       "array([[ True],\n",
       "       [ True],\n",
       "       [ True],\n",
       "       [ True],\n",
       "       [ True],\n",
       "       [ True],\n",
       "       [ True],\n",
       "       [ True],\n",
       "       [ True],\n",
       "       [ True]])"
      ]
     },
     "execution_count": 56,
     "metadata": {},
     "output_type": "execute_result"
    }
   ],
   "source": [
    "# check to see if loaded .h5 model predictions match model_2\n",
    "model_2.preds =  model_2.predict(X_test)\n",
    "loaded_h5_model_preds = loaded_h5_model.predict(X_test)\n",
    "model_2_preds == loaded_h5_model_preds"
   ]
  },
  {
   "cell_type": "code",
   "execution_count": 57,
   "metadata": {},
   "outputs": [],
   "source": [
    "import tensorflow as tf\n",
    "import pandas as pd\n",
    "import matplotlib.pyplot as plt"
   ]
  },
  {
   "cell_type": "code",
   "execution_count": 58,
   "metadata": {},
   "outputs": [
    {
     "data": {
      "text/html": [
       "<div>\n",
       "<style scoped>\n",
       "    .dataframe tbody tr th:only-of-type {\n",
       "        vertical-align: middle;\n",
       "    }\n",
       "\n",
       "    .dataframe tbody tr th {\n",
       "        vertical-align: top;\n",
       "    }\n",
       "\n",
       "    .dataframe thead th {\n",
       "        text-align: right;\n",
       "    }\n",
       "</style>\n",
       "<table border=\"1\" class=\"dataframe\">\n",
       "  <thead>\n",
       "    <tr style=\"text-align: right;\">\n",
       "      <th></th>\n",
       "      <th>age</th>\n",
       "      <th>sex</th>\n",
       "      <th>bmi</th>\n",
       "      <th>children</th>\n",
       "      <th>smoker</th>\n",
       "      <th>region</th>\n",
       "      <th>charges</th>\n",
       "    </tr>\n",
       "  </thead>\n",
       "  <tbody>\n",
       "    <tr>\n",
       "      <th>0</th>\n",
       "      <td>19</td>\n",
       "      <td>female</td>\n",
       "      <td>27.900</td>\n",
       "      <td>0</td>\n",
       "      <td>yes</td>\n",
       "      <td>southwest</td>\n",
       "      <td>16884.92400</td>\n",
       "    </tr>\n",
       "    <tr>\n",
       "      <th>1</th>\n",
       "      <td>18</td>\n",
       "      <td>male</td>\n",
       "      <td>33.770</td>\n",
       "      <td>1</td>\n",
       "      <td>no</td>\n",
       "      <td>southeast</td>\n",
       "      <td>1725.55230</td>\n",
       "    </tr>\n",
       "    <tr>\n",
       "      <th>2</th>\n",
       "      <td>28</td>\n",
       "      <td>male</td>\n",
       "      <td>33.000</td>\n",
       "      <td>3</td>\n",
       "      <td>no</td>\n",
       "      <td>southeast</td>\n",
       "      <td>4449.46200</td>\n",
       "    </tr>\n",
       "    <tr>\n",
       "      <th>3</th>\n",
       "      <td>33</td>\n",
       "      <td>male</td>\n",
       "      <td>22.705</td>\n",
       "      <td>0</td>\n",
       "      <td>no</td>\n",
       "      <td>northwest</td>\n",
       "      <td>21984.47061</td>\n",
       "    </tr>\n",
       "    <tr>\n",
       "      <th>4</th>\n",
       "      <td>32</td>\n",
       "      <td>male</td>\n",
       "      <td>28.880</td>\n",
       "      <td>0</td>\n",
       "      <td>no</td>\n",
       "      <td>northwest</td>\n",
       "      <td>3866.85520</td>\n",
       "    </tr>\n",
       "    <tr>\n",
       "      <th>...</th>\n",
       "      <td>...</td>\n",
       "      <td>...</td>\n",
       "      <td>...</td>\n",
       "      <td>...</td>\n",
       "      <td>...</td>\n",
       "      <td>...</td>\n",
       "      <td>...</td>\n",
       "    </tr>\n",
       "    <tr>\n",
       "      <th>1333</th>\n",
       "      <td>50</td>\n",
       "      <td>male</td>\n",
       "      <td>30.970</td>\n",
       "      <td>3</td>\n",
       "      <td>no</td>\n",
       "      <td>northwest</td>\n",
       "      <td>10600.54830</td>\n",
       "    </tr>\n",
       "    <tr>\n",
       "      <th>1334</th>\n",
       "      <td>18</td>\n",
       "      <td>female</td>\n",
       "      <td>31.920</td>\n",
       "      <td>0</td>\n",
       "      <td>no</td>\n",
       "      <td>northeast</td>\n",
       "      <td>2205.98080</td>\n",
       "    </tr>\n",
       "    <tr>\n",
       "      <th>1335</th>\n",
       "      <td>18</td>\n",
       "      <td>female</td>\n",
       "      <td>36.850</td>\n",
       "      <td>0</td>\n",
       "      <td>no</td>\n",
       "      <td>southeast</td>\n",
       "      <td>1629.83350</td>\n",
       "    </tr>\n",
       "    <tr>\n",
       "      <th>1336</th>\n",
       "      <td>21</td>\n",
       "      <td>female</td>\n",
       "      <td>25.800</td>\n",
       "      <td>0</td>\n",
       "      <td>no</td>\n",
       "      <td>southwest</td>\n",
       "      <td>2007.94500</td>\n",
       "    </tr>\n",
       "    <tr>\n",
       "      <th>1337</th>\n",
       "      <td>61</td>\n",
       "      <td>female</td>\n",
       "      <td>29.070</td>\n",
       "      <td>0</td>\n",
       "      <td>yes</td>\n",
       "      <td>northwest</td>\n",
       "      <td>29141.36030</td>\n",
       "    </tr>\n",
       "  </tbody>\n",
       "</table>\n",
       "<p>1338 rows × 7 columns</p>\n",
       "</div>"
      ],
      "text/plain": [
       "      age     sex     bmi  children smoker     region      charges\n",
       "0      19  female  27.900         0    yes  southwest  16884.92400\n",
       "1      18    male  33.770         1     no  southeast   1725.55230\n",
       "2      28    male  33.000         3     no  southeast   4449.46200\n",
       "3      33    male  22.705         0     no  northwest  21984.47061\n",
       "4      32    male  28.880         0     no  northwest   3866.85520\n",
       "...   ...     ...     ...       ...    ...        ...          ...\n",
       "1333   50    male  30.970         3     no  northwest  10600.54830\n",
       "1334   18  female  31.920         0     no  northeast   2205.98080\n",
       "1335   18  female  36.850         0     no  southeast   1629.83350\n",
       "1336   21  female  25.800         0     no  southwest   2007.94500\n",
       "1337   61  female  29.070         0    yes  northwest  29141.36030\n",
       "\n",
       "[1338 rows x 7 columns]"
      ]
     },
     "execution_count": 58,
     "metadata": {},
     "output_type": "execute_result"
    }
   ],
   "source": [
    "# Read in the  insurance dataset\n",
    "insurance = pd.read_csv(\"https://raw.githubusercontent.com/stedy/Machine-Learning-with-R-datasets/master/insurance.csv\")\n",
    "insurance"
   ]
  },
  {
   "cell_type": "code",
   "execution_count": 59,
   "metadata": {},
   "outputs": [
    {
     "data": {
      "text/html": [
       "<div>\n",
       "<style scoped>\n",
       "    .dataframe tbody tr th:only-of-type {\n",
       "        vertical-align: middle;\n",
       "    }\n",
       "\n",
       "    .dataframe tbody tr th {\n",
       "        vertical-align: top;\n",
       "    }\n",
       "\n",
       "    .dataframe thead th {\n",
       "        text-align: right;\n",
       "    }\n",
       "</style>\n",
       "<table border=\"1\" class=\"dataframe\">\n",
       "  <thead>\n",
       "    <tr style=\"text-align: right;\">\n",
       "      <th></th>\n",
       "      <th>age</th>\n",
       "      <th>bmi</th>\n",
       "      <th>children</th>\n",
       "      <th>charges</th>\n",
       "      <th>sex_female</th>\n",
       "      <th>sex_male</th>\n",
       "      <th>smoker_no</th>\n",
       "      <th>smoker_yes</th>\n",
       "      <th>region_northeast</th>\n",
       "      <th>region_northwest</th>\n",
       "      <th>region_southeast</th>\n",
       "      <th>region_southwest</th>\n",
       "    </tr>\n",
       "  </thead>\n",
       "  <tbody>\n",
       "    <tr>\n",
       "      <th>0</th>\n",
       "      <td>19</td>\n",
       "      <td>27.900</td>\n",
       "      <td>0</td>\n",
       "      <td>16884.92400</td>\n",
       "      <td>True</td>\n",
       "      <td>False</td>\n",
       "      <td>False</td>\n",
       "      <td>True</td>\n",
       "      <td>False</td>\n",
       "      <td>False</td>\n",
       "      <td>False</td>\n",
       "      <td>True</td>\n",
       "    </tr>\n",
       "    <tr>\n",
       "      <th>1</th>\n",
       "      <td>18</td>\n",
       "      <td>33.770</td>\n",
       "      <td>1</td>\n",
       "      <td>1725.55230</td>\n",
       "      <td>False</td>\n",
       "      <td>True</td>\n",
       "      <td>True</td>\n",
       "      <td>False</td>\n",
       "      <td>False</td>\n",
       "      <td>False</td>\n",
       "      <td>True</td>\n",
       "      <td>False</td>\n",
       "    </tr>\n",
       "    <tr>\n",
       "      <th>2</th>\n",
       "      <td>28</td>\n",
       "      <td>33.000</td>\n",
       "      <td>3</td>\n",
       "      <td>4449.46200</td>\n",
       "      <td>False</td>\n",
       "      <td>True</td>\n",
       "      <td>True</td>\n",
       "      <td>False</td>\n",
       "      <td>False</td>\n",
       "      <td>False</td>\n",
       "      <td>True</td>\n",
       "      <td>False</td>\n",
       "    </tr>\n",
       "    <tr>\n",
       "      <th>3</th>\n",
       "      <td>33</td>\n",
       "      <td>22.705</td>\n",
       "      <td>0</td>\n",
       "      <td>21984.47061</td>\n",
       "      <td>False</td>\n",
       "      <td>True</td>\n",
       "      <td>True</td>\n",
       "      <td>False</td>\n",
       "      <td>False</td>\n",
       "      <td>True</td>\n",
       "      <td>False</td>\n",
       "      <td>False</td>\n",
       "    </tr>\n",
       "    <tr>\n",
       "      <th>4</th>\n",
       "      <td>32</td>\n",
       "      <td>28.880</td>\n",
       "      <td>0</td>\n",
       "      <td>3866.85520</td>\n",
       "      <td>False</td>\n",
       "      <td>True</td>\n",
       "      <td>True</td>\n",
       "      <td>False</td>\n",
       "      <td>False</td>\n",
       "      <td>True</td>\n",
       "      <td>False</td>\n",
       "      <td>False</td>\n",
       "    </tr>\n",
       "  </tbody>\n",
       "</table>\n",
       "</div>"
      ],
      "text/plain": [
       "   age     bmi  children      charges  sex_female  sex_male  smoker_no  \\\n",
       "0   19  27.900         0  16884.92400        True     False      False   \n",
       "1   18  33.770         1   1725.55230       False      True       True   \n",
       "2   28  33.000         3   4449.46200       False      True       True   \n",
       "3   33  22.705         0  21984.47061       False      True       True   \n",
       "4   32  28.880         0   3866.85520       False      True       True   \n",
       "\n",
       "   smoker_yes  region_northeast  region_northwest  region_southeast  \\\n",
       "0        True             False             False             False   \n",
       "1       False             False             False              True   \n",
       "2       False             False             False              True   \n",
       "3       False             False              True             False   \n",
       "4       False             False              True             False   \n",
       "\n",
       "   region_southwest  \n",
       "0              True  \n",
       "1             False  \n",
       "2             False  \n",
       "3             False  \n",
       "4             False  "
      ]
     },
     "execution_count": 59,
     "metadata": {},
     "output_type": "execute_result"
    }
   ],
   "source": [
    "# let's  try one-hot encode our Dataframe so it's all numbers\n",
    "insurance_one_hot = pd.get_dummies(insurance)\n",
    "insurance_one_hot.head()"
   ]
  },
  {
   "cell_type": "code",
   "execution_count": 60,
   "metadata": {},
   "outputs": [],
   "source": [
    "# create  X & y  values (features and labels)\n",
    "X = insurance_one_hot.drop(\"charges\",axis=1)\n",
    "y = insurance_one_hot[\"charges\"]\n"
   ]
  },
  {
   "cell_type": "code",
   "execution_count": 61,
   "metadata": {},
   "outputs": [
    {
     "data": {
      "text/html": [
       "<div>\n",
       "<style scoped>\n",
       "    .dataframe tbody tr th:only-of-type {\n",
       "        vertical-align: middle;\n",
       "    }\n",
       "\n",
       "    .dataframe tbody tr th {\n",
       "        vertical-align: top;\n",
       "    }\n",
       "\n",
       "    .dataframe thead th {\n",
       "        text-align: right;\n",
       "    }\n",
       "</style>\n",
       "<table border=\"1\" class=\"dataframe\">\n",
       "  <thead>\n",
       "    <tr style=\"text-align: right;\">\n",
       "      <th></th>\n",
       "      <th>age</th>\n",
       "      <th>bmi</th>\n",
       "      <th>children</th>\n",
       "      <th>sex_female</th>\n",
       "      <th>sex_male</th>\n",
       "      <th>smoker_no</th>\n",
       "      <th>smoker_yes</th>\n",
       "      <th>region_northeast</th>\n",
       "      <th>region_northwest</th>\n",
       "      <th>region_southeast</th>\n",
       "      <th>region_southwest</th>\n",
       "    </tr>\n",
       "  </thead>\n",
       "  <tbody>\n",
       "    <tr>\n",
       "      <th>0</th>\n",
       "      <td>19</td>\n",
       "      <td>27.900</td>\n",
       "      <td>0</td>\n",
       "      <td>True</td>\n",
       "      <td>False</td>\n",
       "      <td>False</td>\n",
       "      <td>True</td>\n",
       "      <td>False</td>\n",
       "      <td>False</td>\n",
       "      <td>False</td>\n",
       "      <td>True</td>\n",
       "    </tr>\n",
       "    <tr>\n",
       "      <th>1</th>\n",
       "      <td>18</td>\n",
       "      <td>33.770</td>\n",
       "      <td>1</td>\n",
       "      <td>False</td>\n",
       "      <td>True</td>\n",
       "      <td>True</td>\n",
       "      <td>False</td>\n",
       "      <td>False</td>\n",
       "      <td>False</td>\n",
       "      <td>True</td>\n",
       "      <td>False</td>\n",
       "    </tr>\n",
       "    <tr>\n",
       "      <th>2</th>\n",
       "      <td>28</td>\n",
       "      <td>33.000</td>\n",
       "      <td>3</td>\n",
       "      <td>False</td>\n",
       "      <td>True</td>\n",
       "      <td>True</td>\n",
       "      <td>False</td>\n",
       "      <td>False</td>\n",
       "      <td>False</td>\n",
       "      <td>True</td>\n",
       "      <td>False</td>\n",
       "    </tr>\n",
       "    <tr>\n",
       "      <th>3</th>\n",
       "      <td>33</td>\n",
       "      <td>22.705</td>\n",
       "      <td>0</td>\n",
       "      <td>False</td>\n",
       "      <td>True</td>\n",
       "      <td>True</td>\n",
       "      <td>False</td>\n",
       "      <td>False</td>\n",
       "      <td>True</td>\n",
       "      <td>False</td>\n",
       "      <td>False</td>\n",
       "    </tr>\n",
       "    <tr>\n",
       "      <th>4</th>\n",
       "      <td>32</td>\n",
       "      <td>28.880</td>\n",
       "      <td>0</td>\n",
       "      <td>False</td>\n",
       "      <td>True</td>\n",
       "      <td>True</td>\n",
       "      <td>False</td>\n",
       "      <td>False</td>\n",
       "      <td>True</td>\n",
       "      <td>False</td>\n",
       "      <td>False</td>\n",
       "    </tr>\n",
       "  </tbody>\n",
       "</table>\n",
       "</div>"
      ],
      "text/plain": [
       "   age     bmi  children  sex_female  sex_male  smoker_no  smoker_yes  \\\n",
       "0   19  27.900         0        True     False      False        True   \n",
       "1   18  33.770         1       False      True       True       False   \n",
       "2   28  33.000         3       False      True       True       False   \n",
       "3   33  22.705         0       False      True       True       False   \n",
       "4   32  28.880         0       False      True       True       False   \n",
       "\n",
       "   region_northeast  region_northwest  region_southeast  region_southwest  \n",
       "0             False             False             False              True  \n",
       "1             False             False              True             False  \n",
       "2             False             False              True             False  \n",
       "3             False              True             False             False  \n",
       "4             False              True             False             False  "
      ]
     },
     "execution_count": 61,
     "metadata": {},
     "output_type": "execute_result"
    }
   ],
   "source": [
    "# view x\n",
    "X.head()"
   ]
  },
  {
   "cell_type": "code",
   "execution_count": 62,
   "metadata": {},
   "outputs": [],
   "source": [
    "# Create training and test sets \n",
    "from sklearn.model_selection import train_test_split\n"
   ]
  },
  {
   "cell_type": "code",
   "execution_count": 63,
   "metadata": {},
   "outputs": [
    {
     "name": "stdout",
     "output_type": "stream",
     "text": [
      "Epoch 1/100\n",
      "2/2 [==============================] - 1s 17ms/step - loss: 44.0838 - mae: 44.0838\n",
      "Epoch 2/100\n",
      "2/2 [==============================] - 0s 10ms/step - loss: 41.0705 - mae: 41.0705\n",
      "Epoch 3/100\n",
      "2/2 [==============================] - 0s 7ms/step - loss: 38.1756 - mae: 38.1756\n",
      "Epoch 4/100\n",
      "2/2 [==============================] - 0s 8ms/step - loss: 35.2047 - mae: 35.2047\n",
      "Epoch 5/100\n",
      "2/2 [==============================] - 0s 7ms/step - loss: 32.3080 - mae: 32.3080\n",
      "Epoch 6/100\n",
      "2/2 [==============================] - 0s 10ms/step - loss: 29.3984 - mae: 29.3984\n",
      "Epoch 7/100\n",
      "2/2 [==============================] - 0s 10ms/step - loss: 26.3819 - mae: 26.3819\n",
      "Epoch 8/100\n",
      "2/2 [==============================] - 0s 9ms/step - loss: 23.2655 - mae: 23.2655\n",
      "Epoch 9/100\n",
      "2/2 [==============================] - 0s 7ms/step - loss: 20.3208 - mae: 20.3208\n",
      "Epoch 10/100\n",
      "2/2 [==============================] - 0s 7ms/step - loss: 17.3986 - mae: 17.3986\n",
      "Epoch 11/100\n",
      "2/2 [==============================] - 0s 8ms/step - loss: 14.2544 - mae: 14.2544\n",
      "Epoch 12/100\n",
      "2/2 [==============================] - 0s 12ms/step - loss: 11.3578 - mae: 11.3578\n",
      "Epoch 13/100\n",
      "2/2 [==============================] - 0s 8ms/step - loss: 8.7377 - mae: 8.7377\n",
      "Epoch 14/100\n",
      "2/2 [==============================] - 0s 9ms/step - loss: 7.8036 - mae: 7.8036\n",
      "Epoch 15/100\n",
      "2/2 [==============================] - 0s 9ms/step - loss: 9.0068 - mae: 9.0068\n",
      "Epoch 16/100\n",
      "2/2 [==============================] - 0s 10ms/step - loss: 10.0095 - mae: 10.0095\n",
      "Epoch 17/100\n",
      "2/2 [==============================] - 0s 9ms/step - loss: 10.4627 - mae: 10.4627\n",
      "Epoch 18/100\n",
      "2/2 [==============================] - 0s 7ms/step - loss: 10.6901 - mae: 10.6901\n",
      "Epoch 19/100\n",
      "2/2 [==============================] - 0s 8ms/step - loss: 10.5423 - mae: 10.5423\n",
      "Epoch 20/100\n",
      "2/2 [==============================] - 0s 7ms/step - loss: 10.1074 - mae: 10.1074\n",
      "Epoch 21/100\n",
      "2/2 [==============================] - 0s 10ms/step - loss: 9.4382 - mae: 9.4382\n",
      "Epoch 22/100\n",
      "2/2 [==============================] - 0s 10ms/step - loss: 8.7173 - mae: 8.7173\n",
      "Epoch 23/100\n",
      "2/2 [==============================] - 0s 9ms/step - loss: 7.7412 - mae: 7.7412\n",
      "Epoch 24/100\n",
      "2/2 [==============================] - 0s 8ms/step - loss: 7.6948 - mae: 7.6948\n",
      "Epoch 25/100\n",
      "2/2 [==============================] - 0s 7ms/step - loss: 8.0022 - mae: 8.0022\n",
      "Epoch 26/100\n",
      "2/2 [==============================] - 0s 7ms/step - loss: 8.2344 - mae: 8.2344\n",
      "Epoch 27/100\n",
      "2/2 [==============================] - 0s 7ms/step - loss: 8.1692 - mae: 8.1692\n",
      "Epoch 28/100\n",
      "2/2 [==============================] - 0s 10ms/step - loss: 7.9172 - mae: 7.9172\n",
      "Epoch 29/100\n",
      "2/2 [==============================] - 0s 9ms/step - loss: 7.5594 - mae: 7.5594\n",
      "Epoch 30/100\n",
      "2/2 [==============================] - 0s 10ms/step - loss: 7.3869 - mae: 7.3869\n",
      "Epoch 31/100\n",
      "2/2 [==============================] - 0s 7ms/step - loss: 7.4229 - mae: 7.4229\n",
      "Epoch 32/100\n",
      "2/2 [==============================] - 0s 8ms/step - loss: 7.4554 - mae: 7.4554\n",
      "Epoch 33/100\n",
      "2/2 [==============================] - 0s 9ms/step - loss: 7.3612 - mae: 7.3612\n",
      "Epoch 34/100\n",
      "2/2 [==============================] - 0s 9ms/step - loss: 7.2933 - mae: 7.2933\n",
      "Epoch 35/100\n",
      "2/2 [==============================] - 0s 9ms/step - loss: 7.3265 - mae: 7.3265\n",
      "Epoch 36/100\n",
      "2/2 [==============================] - 0s 8ms/step - loss: 7.4312 - mae: 7.4312\n",
      "Epoch 37/100\n",
      "2/2 [==============================] - 0s 7ms/step - loss: 7.4925 - mae: 7.4925\n",
      "Epoch 38/100\n",
      "2/2 [==============================] - 0s 7ms/step - loss: 7.4168 - mae: 7.4168\n",
      "Epoch 39/100\n",
      "2/2 [==============================] - 0s 7ms/step - loss: 7.2945 - mae: 7.2945\n",
      "Epoch 40/100\n",
      "2/2 [==============================] - 0s 11ms/step - loss: 7.1794 - mae: 7.1794\n",
      "Epoch 41/100\n",
      "2/2 [==============================] - 0s 12ms/step - loss: 7.1806 - mae: 7.1806\n",
      "Epoch 42/100\n",
      "2/2 [==============================] - 0s 8ms/step - loss: 7.2057 - mae: 7.2057\n",
      "Epoch 43/100\n",
      "2/2 [==============================] - 0s 10ms/step - loss: 7.1706 - mae: 7.1706\n",
      "Epoch 44/100\n",
      "2/2 [==============================] - 0s 32ms/step - loss: 7.0999 - mae: 7.0999\n",
      "Epoch 45/100\n",
      "2/2 [==============================] - 0s 10ms/step - loss: 7.0817 - mae: 7.0817\n",
      "Epoch 46/100\n",
      "2/2 [==============================] - 0s 7ms/step - loss: 7.1412 - mae: 7.1412\n",
      "Epoch 47/100\n",
      "2/2 [==============================] - 0s 10ms/step - loss: 7.2395 - mae: 7.2395\n",
      "Epoch 48/100\n",
      "2/2 [==============================] - 0s 8ms/step - loss: 7.2635 - mae: 7.2635\n",
      "Epoch 49/100\n",
      "2/2 [==============================] - 0s 10ms/step - loss: 7.1858 - mae: 7.1858\n",
      "Epoch 50/100\n",
      "2/2 [==============================] - 0s 7ms/step - loss: 7.0464 - mae: 7.0464\n",
      "Epoch 51/100\n",
      "2/2 [==============================] - 0s 8ms/step - loss: 6.9561 - mae: 6.9561\n",
      "Epoch 52/100\n",
      "2/2 [==============================] - 0s 8ms/step - loss: 7.0103 - mae: 7.0103\n",
      "Epoch 53/100\n",
      "2/2 [==============================] - 0s 11ms/step - loss: 6.9535 - mae: 6.9535\n",
      "Epoch 54/100\n",
      "2/2 [==============================] - 0s 10ms/step - loss: 6.9061 - mae: 6.9061\n",
      "Epoch 55/100\n",
      "2/2 [==============================] - 0s 9ms/step - loss: 6.9906 - mae: 6.9906\n",
      "Epoch 56/100\n",
      "2/2 [==============================] - 0s 7ms/step - loss: 7.0033 - mae: 7.0033\n",
      "Epoch 57/100\n",
      "2/2 [==============================] - 0s 7ms/step - loss: 6.8840 - mae: 6.8840\n",
      "Epoch 58/100\n",
      "2/2 [==============================] - 0s 7ms/step - loss: 6.8376 - mae: 6.8376\n",
      "Epoch 59/100\n",
      "2/2 [==============================] - 0s 9ms/step - loss: 6.9378 - mae: 6.9378\n",
      "Epoch 60/100\n",
      "2/2 [==============================] - 0s 11ms/step - loss: 6.9543 - mae: 6.9543\n",
      "Epoch 61/100\n",
      "2/2 [==============================] - 0s 9ms/step - loss: 6.8133 - mae: 6.8133\n",
      "Epoch 62/100\n",
      "2/2 [==============================] - 0s 9ms/step - loss: 6.7390 - mae: 6.7390\n",
      "Epoch 63/100\n",
      "2/2 [==============================] - 0s 8ms/step - loss: 6.7615 - mae: 6.7615\n",
      "Epoch 64/100\n",
      "2/2 [==============================] - 0s 11ms/step - loss: 6.8477 - mae: 6.8477\n",
      "Epoch 65/100\n",
      "2/2 [==============================] - 0s 10ms/step - loss: 6.8314 - mae: 6.8314\n",
      "Epoch 66/100\n",
      "2/2 [==============================] - 0s 7ms/step - loss: 6.7194 - mae: 6.7194\n",
      "Epoch 67/100\n",
      "2/2 [==============================] - 0s 8ms/step - loss: 6.6248 - mae: 6.6248\n",
      "Epoch 68/100\n",
      "2/2 [==============================] - 0s 8ms/step - loss: 6.6360 - mae: 6.6360\n",
      "Epoch 69/100\n",
      "2/2 [==============================] - 0s 10ms/step - loss: 6.6147 - mae: 6.6147\n",
      "Epoch 70/100\n",
      "2/2 [==============================] - 0s 10ms/step - loss: 6.5973 - mae: 6.5973\n",
      "Epoch 71/100\n",
      "2/2 [==============================] - 0s 9ms/step - loss: 6.5394 - mae: 6.5394\n",
      "Epoch 72/100\n",
      "2/2 [==============================] - 0s 8ms/step - loss: 6.5244 - mae: 6.5244\n",
      "Epoch 73/100\n",
      "2/2 [==============================] - 0s 10ms/step - loss: 6.5388 - mae: 6.5388\n",
      "Epoch 74/100\n",
      "2/2 [==============================] - 0s 44ms/step - loss: 6.5819 - mae: 6.5819\n",
      "Epoch 75/100\n",
      "2/2 [==============================] - 0s 10ms/step - loss: 6.5564 - mae: 6.5564\n",
      "Epoch 76/100\n",
      "2/2 [==============================] - 0s 11ms/step - loss: 6.4283 - mae: 6.4283\n",
      "Epoch 77/100\n",
      "2/2 [==============================] - 0s 8ms/step - loss: 6.4051 - mae: 6.4051\n",
      "Epoch 78/100\n",
      "2/2 [==============================] - 0s 8ms/step - loss: 6.4395 - mae: 6.4395\n",
      "Epoch 79/100\n",
      "2/2 [==============================] - 0s 7ms/step - loss: 6.4329 - mae: 6.4329\n",
      "Epoch 80/100\n",
      "2/2 [==============================] - 0s 11ms/step - loss: 6.3559 - mae: 6.3559\n",
      "Epoch 81/100\n",
      "2/2 [==============================] - 0s 9ms/step - loss: 6.3028 - mae: 6.3028\n",
      "Epoch 82/100\n",
      "2/2 [==============================] - 0s 11ms/step - loss: 6.3003 - mae: 6.3003\n",
      "Epoch 83/100\n",
      "2/2 [==============================] - 0s 8ms/step - loss: 6.2767 - mae: 6.2767\n",
      "Epoch 84/100\n",
      "2/2 [==============================] - 0s 9ms/step - loss: 6.2584 - mae: 6.2584\n",
      "Epoch 85/100\n",
      "2/2 [==============================] - 0s 10ms/step - loss: 6.2174 - mae: 6.2174\n",
      "Epoch 86/100\n",
      "2/2 [==============================] - 0s 10ms/step - loss: 6.2165 - mae: 6.2165\n",
      "Epoch 87/100\n",
      "2/2 [==============================] - 0s 7ms/step - loss: 6.1270 - mae: 6.1270\n",
      "Epoch 88/100\n",
      "2/2 [==============================] - 0s 7ms/step - loss: 6.2053 - mae: 6.2053\n",
      "Epoch 89/100\n",
      "2/2 [==============================] - 0s 8ms/step - loss: 6.3550 - mae: 6.3550\n",
      "Epoch 90/100\n",
      "2/2 [==============================] - 0s 7ms/step - loss: 6.1265 - mae: 6.1265\n",
      "Epoch 91/100\n",
      "2/2 [==============================] - 0s 10ms/step - loss: 6.1441 - mae: 6.1441\n",
      "Epoch 92/100\n",
      "2/2 [==============================] - 0s 10ms/step - loss: 6.2272 - mae: 6.2272\n",
      "Epoch 93/100\n",
      "2/2 [==============================] - 0s 9ms/step - loss: 6.1782 - mae: 6.1782\n",
      "Epoch 94/100\n",
      "2/2 [==============================] - 0s 8ms/step - loss: 6.0193 - mae: 6.0193\n",
      "Epoch 95/100\n",
      "2/2 [==============================] - 0s 9ms/step - loss: 5.9845 - mae: 5.9845\n",
      "Epoch 96/100\n",
      "2/2 [==============================] - 0s 9ms/step - loss: 6.0585 - mae: 6.0585\n",
      "Epoch 97/100\n",
      "2/2 [==============================] - 0s 10ms/step - loss: 5.9456 - mae: 5.9456\n",
      "Epoch 98/100\n",
      "2/2 [==============================] - 0s 12ms/step - loss: 5.8779 - mae: 5.8779\n",
      "Epoch 99/100\n",
      "2/2 [==============================] - 0s 40ms/step - loss: 5.9021 - mae: 5.9021\n",
      "Epoch 100/100\n",
      "2/2 [==============================] - 0s 11ms/step - loss: 5.9137 - mae: 5.9137\n"
     ]
    },
    {
     "data": {
      "text/plain": [
       "<keras.src.callbacks.History at 0x13d86713730>"
      ]
     },
     "execution_count": 63,
     "metadata": {},
     "output_type": "execute_result"
    }
   ],
   "source": [
    "# Build a neural  network (sort or like model_2 above)\n",
    "tf.random.set_seed(42)\n",
    "\n",
    "# 1. create a model\n",
    "insurance_model = tf.keras.Sequential([\n",
    "    tf.keras.layers.Dense(100,input_shape=(1,)),\n",
    "    tf.keras.layers.Dense(10),\n",
    "    tf.keras.layers.Dense(1)\n",
    "])\n",
    "\n",
    "# 2. compile the model\n",
    "insurance_model.compile(loss=tf.keras.losses.mae,\n",
    "                        optimizer =tf.keras.optimizers.Adam(),\n",
    "                        metrics =[\"mae\"])\n",
    "# 3. fit the model\n",
    "insurance_model.fit(X_train,y_train,epochs=100,verbose=1)"
   ]
  },
  {
   "cell_type": "code",
   "execution_count": 64,
   "metadata": {},
   "outputs": [
    {
     "name": "stdout",
     "output_type": "stream",
     "text": [
      "1/1 [==============================] - 0s 226ms/step - loss: 15.6105 - mae: 15.6105\n"
     ]
    },
    {
     "data": {
      "text/plain": [
       "[15.610461235046387, 15.610461235046387]"
      ]
     },
     "execution_count": 64,
     "metadata": {},
     "output_type": "execute_result"
    }
   ],
   "source": [
    "insurance_model.evaluate(X_test,y_test)"
   ]
  },
  {
   "cell_type": "markdown",
   "metadata": {},
   "source": [
    "## Right now it looks  like our model  isn't performing too well...let's try and improve it"
   ]
  },
  {
   "cell_type": "code",
   "execution_count": 65,
   "metadata": {},
   "outputs": [
    {
     "name": "stdout",
     "output_type": "stream",
     "text": [
      "Epoch 1/200\n",
      "2/2 [==============================] - 1s 12ms/step - loss: 57.0338 - mae: 57.0338\n",
      "Epoch 2/200\n",
      "2/2 [==============================] - 0s 9ms/step - loss: 52.1392 - mae: 52.1392\n",
      "Epoch 3/200\n",
      "2/2 [==============================] - 0s 10ms/step - loss: 47.4817 - mae: 47.4817\n",
      "Epoch 4/200\n",
      "2/2 [==============================] - 0s 10ms/step - loss: 42.7278 - mae: 42.7278\n",
      "Epoch 5/200\n",
      "2/2 [==============================] - 0s 7ms/step - loss: 38.0870 - mae: 38.0870\n",
      "Epoch 6/200\n",
      "2/2 [==============================] - 0s 8ms/step - loss: 33.4325 - mae: 33.4325\n",
      "Epoch 7/200\n",
      "2/2 [==============================] - 0s 10ms/step - loss: 28.7160 - mae: 28.7160\n",
      "Epoch 8/200\n",
      "2/2 [==============================] - 0s 11ms/step - loss: 23.8626 - mae: 23.8626\n",
      "Epoch 9/200\n",
      "2/2 [==============================] - 0s 8ms/step - loss: 19.3615 - mae: 19.3615\n",
      "Epoch 10/200\n",
      "2/2 [==============================] - 0s 8ms/step - loss: 15.0409 - mae: 15.0409\n",
      "Epoch 11/200\n",
      "2/2 [==============================] - 0s 8ms/step - loss: 10.7829 - mae: 10.7829\n",
      "Epoch 12/200\n",
      "2/2 [==============================] - 0s 7ms/step - loss: 8.0065 - mae: 8.0065\n",
      "Epoch 13/200\n",
      "2/2 [==============================] - 0s 9ms/step - loss: 9.2686 - mae: 9.2686\n",
      "Epoch 14/200\n",
      "2/2 [==============================] - 0s 11ms/step - loss: 10.4912 - mae: 10.4912\n",
      "Epoch 15/200\n",
      "2/2 [==============================] - 0s 9ms/step - loss: 11.1074 - mae: 11.1074\n",
      "Epoch 16/200\n",
      "2/2 [==============================] - 0s 7ms/step - loss: 11.2947 - mae: 11.2947\n",
      "Epoch 17/200\n",
      "2/2 [==============================] - 0s 8ms/step - loss: 11.1373 - mae: 11.1373\n",
      "Epoch 18/200\n",
      "2/2 [==============================] - 0s 7ms/step - loss: 10.5739 - mae: 10.5739\n",
      "Epoch 19/200\n",
      "2/2 [==============================] - 0s 28ms/step - loss: 9.8654 - mae: 9.8654\n",
      "Epoch 20/200\n",
      "2/2 [==============================] - 0s 9ms/step - loss: 8.9060 - mae: 8.9060\n",
      "Epoch 21/200\n",
      "2/2 [==============================] - 0s 10ms/step - loss: 7.7104 - mae: 7.7104\n",
      "Epoch 22/200\n",
      "2/2 [==============================] - 0s 9ms/step - loss: 7.7504 - mae: 7.7504\n",
      "Epoch 23/200\n",
      "2/2 [==============================] - 0s 10ms/step - loss: 8.4016 - mae: 8.4016\n",
      "Epoch 24/200\n",
      "2/2 [==============================] - 0s 12ms/step - loss: 8.7426 - mae: 8.7426\n",
      "Epoch 25/200\n",
      "2/2 [==============================] - 0s 11ms/step - loss: 8.5076 - mae: 8.5076\n",
      "Epoch 26/200\n",
      "2/2 [==============================] - 0s 8ms/step - loss: 7.8888 - mae: 7.8888\n",
      "Epoch 27/200\n",
      "2/2 [==============================] - 0s 8ms/step - loss: 7.3781 - mae: 7.3781\n",
      "Epoch 28/200\n",
      "2/2 [==============================] - 0s 7ms/step - loss: 7.4568 - mae: 7.4568\n",
      "Epoch 29/200\n",
      "2/2 [==============================] - 0s 10ms/step - loss: 7.6675 - mae: 7.6675\n",
      "Epoch 30/200\n",
      "2/2 [==============================] - 0s 9ms/step - loss: 7.3129 - mae: 7.3129\n",
      "Epoch 31/200\n",
      "2/2 [==============================] - 0s 10ms/step - loss: 7.1960 - mae: 7.1960\n",
      "Epoch 32/200\n",
      "2/2 [==============================] - 0s 8ms/step - loss: 7.5434 - mae: 7.5434\n",
      "Epoch 33/200\n",
      "2/2 [==============================] - 0s 7ms/step - loss: 7.7001 - mae: 7.7001\n",
      "Epoch 34/200\n",
      "2/2 [==============================] - 0s 10ms/step - loss: 7.5568 - mae: 7.5568\n",
      "Epoch 35/200\n",
      "2/2 [==============================] - 0s 9ms/step - loss: 7.2944 - mae: 7.2944\n",
      "Epoch 36/200\n",
      "2/2 [==============================] - 0s 9ms/step - loss: 7.1237 - mae: 7.1237\n",
      "Epoch 37/200\n",
      "2/2 [==============================] - 0s 8ms/step - loss: 7.0746 - mae: 7.0746\n",
      "Epoch 38/200\n",
      "2/2 [==============================] - 0s 7ms/step - loss: 7.0431 - mae: 7.0431\n",
      "Epoch 39/200\n",
      "2/2 [==============================] - 0s 7ms/step - loss: 7.0120 - mae: 7.0120\n",
      "Epoch 40/200\n",
      "2/2 [==============================] - 0s 9ms/step - loss: 6.9844 - mae: 6.9844\n",
      "Epoch 41/200\n",
      "2/2 [==============================] - 0s 9ms/step - loss: 6.9498 - mae: 6.9498\n",
      "Epoch 42/200\n",
      "2/2 [==============================] - 0s 9ms/step - loss: 6.9280 - mae: 6.9280\n",
      "Epoch 43/200\n",
      "2/2 [==============================] - 0s 8ms/step - loss: 6.9013 - mae: 6.9013\n",
      "Epoch 44/200\n",
      "2/2 [==============================] - 0s 7ms/step - loss: 6.8737 - mae: 6.8737\n",
      "Epoch 45/200\n",
      "2/2 [==============================] - 0s 7ms/step - loss: 6.8215 - mae: 6.8215\n",
      "Epoch 46/200\n",
      "2/2 [==============================] - 0s 8ms/step - loss: 6.8453 - mae: 6.8453\n",
      "Epoch 47/200\n",
      "2/2 [==============================] - 0s 11ms/step - loss: 6.9264 - mae: 6.9264\n",
      "Epoch 48/200\n",
      "2/2 [==============================] - 0s 9ms/step - loss: 6.9425 - mae: 6.9425\n",
      "Epoch 49/200\n",
      "2/2 [==============================] - 0s 36ms/step - loss: 6.8779 - mae: 6.8779\n",
      "Epoch 50/200\n",
      "2/2 [==============================] - 0s 10ms/step - loss: 6.7551 - mae: 6.7551\n",
      "Epoch 51/200\n",
      "2/2 [==============================] - 0s 8ms/step - loss: 6.6512 - mae: 6.6512\n",
      "Epoch 52/200\n",
      "2/2 [==============================] - 0s 11ms/step - loss: 6.6749 - mae: 6.6749\n",
      "Epoch 53/200\n",
      "2/2 [==============================] - 0s 9ms/step - loss: 6.5919 - mae: 6.5919\n",
      "Epoch 54/200\n",
      "2/2 [==============================] - 0s 12ms/step - loss: 6.5970 - mae: 6.5970\n",
      "Epoch 55/200\n",
      "2/2 [==============================] - 0s 9ms/step - loss: 6.6344 - mae: 6.6344\n",
      "Epoch 56/200\n",
      "2/2 [==============================] - 0s 8ms/step - loss: 6.5322 - mae: 6.5322\n",
      "Epoch 57/200\n",
      "2/2 [==============================] - 0s 7ms/step - loss: 6.4826 - mae: 6.4826\n",
      "Epoch 58/200\n",
      "2/2 [==============================] - 0s 10ms/step - loss: 6.6766 - mae: 6.6766\n",
      "Epoch 59/200\n",
      "2/2 [==============================] - 0s 9ms/step - loss: 6.5381 - mae: 6.5381\n",
      "Epoch 60/200\n",
      "2/2 [==============================] - 0s 9ms/step - loss: 6.4180 - mae: 6.4180\n",
      "Epoch 61/200\n",
      "2/2 [==============================] - 0s 11ms/step - loss: 6.4612 - mae: 6.4612\n",
      "Epoch 62/200\n",
      "2/2 [==============================] - 0s 7ms/step - loss: 6.4394 - mae: 6.4394\n",
      "Epoch 63/200\n",
      "2/2 [==============================] - 0s 7ms/step - loss: 6.3690 - mae: 6.3690\n",
      "Epoch 64/200\n",
      "2/2 [==============================] - 0s 8ms/step - loss: 6.2610 - mae: 6.2610\n",
      "Epoch 65/200\n",
      "2/2 [==============================] - 0s 7ms/step - loss: 6.2320 - mae: 6.2320\n",
      "Epoch 66/200\n",
      "2/2 [==============================] - 0s 9ms/step - loss: 6.2193 - mae: 6.2193\n",
      "Epoch 67/200\n",
      "2/2 [==============================] - 0s 9ms/step - loss: 6.1783 - mae: 6.1783\n",
      "Epoch 68/200\n",
      "2/2 [==============================] - 0s 10ms/step - loss: 6.1383 - mae: 6.1383\n",
      "Epoch 69/200\n",
      "2/2 [==============================] - 0s 8ms/step - loss: 6.1201 - mae: 6.1201\n",
      "Epoch 70/200\n",
      "2/2 [==============================] - 0s 8ms/step - loss: 6.0944 - mae: 6.0944\n",
      "Epoch 71/200\n",
      "2/2 [==============================] - 0s 7ms/step - loss: 6.0087 - mae: 6.0087\n",
      "Epoch 72/200\n",
      "2/2 [==============================] - 0s 10ms/step - loss: 6.1979 - mae: 6.1979\n",
      "Epoch 73/200\n",
      "2/2 [==============================] - 0s 10ms/step - loss: 6.1761 - mae: 6.1761\n",
      "Epoch 74/200\n",
      "2/2 [==============================] - 0s 11ms/step - loss: 5.9103 - mae: 5.9103\n",
      "Epoch 75/200\n",
      "2/2 [==============================] - 0s 7ms/step - loss: 6.0622 - mae: 6.0622\n",
      "Epoch 76/200\n",
      "2/2 [==============================] - 0s 10ms/step - loss: 6.0989 - mae: 6.0989\n",
      "Epoch 77/200\n",
      "2/2 [==============================] - 0s 8ms/step - loss: 5.9386 - mae: 5.9386\n",
      "Epoch 78/200\n",
      "2/2 [==============================] - 0s 10ms/step - loss: 5.9004 - mae: 5.9004\n",
      "Epoch 79/200\n",
      "2/2 [==============================] - 0s 24ms/step - loss: 5.8116 - mae: 5.8116\n",
      "Epoch 80/200\n",
      "2/2 [==============================] - 0s 10ms/step - loss: 5.7314 - mae: 5.7314\n",
      "Epoch 81/200\n",
      "2/2 [==============================] - 0s 9ms/step - loss: 5.6981 - mae: 5.6981\n",
      "Epoch 82/200\n",
      "2/2 [==============================] - 0s 20ms/step - loss: 5.6473 - mae: 5.6473\n",
      "Epoch 83/200\n",
      "2/2 [==============================] - 0s 18ms/step - loss: 5.6065 - mae: 5.6065\n",
      "Epoch 84/200\n",
      "2/2 [==============================] - 0s 11ms/step - loss: 5.5787 - mae: 5.5787\n",
      "Epoch 85/200\n",
      "2/2 [==============================] - 0s 7ms/step - loss: 5.5520 - mae: 5.5520\n",
      "Epoch 86/200\n",
      "2/2 [==============================] - 0s 7ms/step - loss: 5.4912 - mae: 5.4912\n",
      "Epoch 87/200\n",
      "2/2 [==============================] - 0s 8ms/step - loss: 5.4834 - mae: 5.4834\n",
      "Epoch 88/200\n",
      "2/2 [==============================] - 0s 9ms/step - loss: 5.3992 - mae: 5.3992\n",
      "Epoch 89/200\n",
      "2/2 [==============================] - 0s 9ms/step - loss: 5.5081 - mae: 5.5081\n",
      "Epoch 90/200\n",
      "2/2 [==============================] - 0s 9ms/step - loss: 5.3287 - mae: 5.3287\n",
      "Epoch 91/200\n",
      "2/2 [==============================] - 0s 7ms/step - loss: 5.4292 - mae: 5.4292\n",
      "Epoch 92/200\n",
      "2/2 [==============================] - 0s 8ms/step - loss: 5.4990 - mae: 5.4990\n",
      "Epoch 93/200\n",
      "2/2 [==============================] - 0s 7ms/step - loss: 5.3149 - mae: 5.3149\n",
      "Epoch 94/200\n",
      "2/2 [==============================] - 0s 9ms/step - loss: 5.1939 - mae: 5.1939\n",
      "Epoch 95/200\n",
      "2/2 [==============================] - 0s 10ms/step - loss: 5.1697 - mae: 5.1697\n",
      "Epoch 96/200\n",
      "2/2 [==============================] - 0s 11ms/step - loss: 5.1295 - mae: 5.1295\n",
      "Epoch 97/200\n",
      "2/2 [==============================] - 0s 7ms/step - loss: 5.0364 - mae: 5.0364\n",
      "Epoch 98/200\n",
      "2/2 [==============================] - 0s 8ms/step - loss: 4.9683 - mae: 4.9683\n",
      "Epoch 99/200\n",
      "2/2 [==============================] - 0s 9ms/step - loss: 5.0136 - mae: 5.0136\n",
      "Epoch 100/200\n",
      "2/2 [==============================] - 0s 10ms/step - loss: 4.9331 - mae: 4.9331\n",
      "Epoch 101/200\n",
      "2/2 [==============================] - 0s 10ms/step - loss: 4.8468 - mae: 4.8468\n",
      "Epoch 102/200\n",
      "2/2 [==============================] - 0s 7ms/step - loss: 4.7869 - mae: 4.7869\n",
      "Epoch 103/200\n",
      "2/2 [==============================] - 0s 7ms/step - loss: 4.7523 - mae: 4.7523\n",
      "Epoch 104/200\n",
      "2/2 [==============================] - 0s 7ms/step - loss: 4.6922 - mae: 4.6922\n",
      "Epoch 105/200\n",
      "2/2 [==============================] - 0s 9ms/step - loss: 4.6412 - mae: 4.6412\n",
      "Epoch 106/200\n",
      "2/2 [==============================] - 0s 10ms/step - loss: 4.6040 - mae: 4.6040\n",
      "Epoch 107/200\n",
      "2/2 [==============================] - 0s 11ms/step - loss: 4.5245 - mae: 4.5245\n",
      "Epoch 108/200\n",
      "2/2 [==============================] - 0s 8ms/step - loss: 4.5185 - mae: 4.5185\n",
      "Epoch 109/200\n",
      "2/2 [==============================] - 0s 13ms/step - loss: 4.4669 - mae: 4.4669\n",
      "Epoch 110/200\n",
      "2/2 [==============================] - 0s 9ms/step - loss: 4.3786 - mae: 4.3786\n",
      "Epoch 111/200\n",
      "2/2 [==============================] - 0s 9ms/step - loss: 4.3082 - mae: 4.3082\n",
      "Epoch 112/200\n",
      "2/2 [==============================] - 0s 30ms/step - loss: 4.3224 - mae: 4.3224\n",
      "Epoch 113/200\n",
      "2/2 [==============================] - 0s 10ms/step - loss: 4.2189 - mae: 4.2189\n",
      "Epoch 114/200\n",
      "2/2 [==============================] - 0s 7ms/step - loss: 4.1467 - mae: 4.1467\n",
      "Epoch 115/200\n",
      "2/2 [==============================] - 0s 7ms/step - loss: 4.1137 - mae: 4.1137\n",
      "Epoch 116/200\n",
      "2/2 [==============================] - 0s 10ms/step - loss: 4.0511 - mae: 4.0511\n",
      "Epoch 117/200\n",
      "2/2 [==============================] - 0s 10ms/step - loss: 3.9794 - mae: 3.9794\n",
      "Epoch 118/200\n",
      "2/2 [==============================] - 0s 9ms/step - loss: 3.9664 - mae: 3.9664\n",
      "Epoch 119/200\n",
      "2/2 [==============================] - 0s 8ms/step - loss: 3.8648 - mae: 3.8648\n",
      "Epoch 120/200\n",
      "2/2 [==============================] - 0s 7ms/step - loss: 3.7769 - mae: 3.7769\n",
      "Epoch 121/200\n",
      "2/2 [==============================] - 0s 11ms/step - loss: 3.7981 - mae: 3.7981\n",
      "Epoch 122/200\n",
      "2/2 [==============================] - 0s 10ms/step - loss: 3.7614 - mae: 3.7614\n",
      "Epoch 123/200\n",
      "2/2 [==============================] - 0s 9ms/step - loss: 3.6933 - mae: 3.6933\n",
      "Epoch 124/200\n",
      "2/2 [==============================] - 0s 7ms/step - loss: 3.5504 - mae: 3.5504\n",
      "Epoch 125/200\n",
      "2/2 [==============================] - 0s 8ms/step - loss: 3.7842 - mae: 3.7842\n",
      "Epoch 126/200\n",
      "2/2 [==============================] - 0s 7ms/step - loss: 3.5133 - mae: 3.5133\n",
      "Epoch 127/200\n",
      "2/2 [==============================] - 0s 25ms/step - loss: 3.5010 - mae: 3.5010\n",
      "Epoch 128/200\n",
      "2/2 [==============================] - 0s 9ms/step - loss: 3.5371 - mae: 3.5371\n",
      "Epoch 129/200\n",
      "2/2 [==============================] - 0s 8ms/step - loss: 3.2801 - mae: 3.2801\n",
      "Epoch 130/200\n",
      "2/2 [==============================] - 0s 8ms/step - loss: 3.2277 - mae: 3.2277\n",
      "Epoch 131/200\n",
      "2/2 [==============================] - 0s 8ms/step - loss: 3.0773 - mae: 3.0773\n",
      "Epoch 132/200\n",
      "2/2 [==============================] - 0s 10ms/step - loss: 3.0845 - mae: 3.0845\n",
      "Epoch 133/200\n",
      "2/2 [==============================] - 0s 10ms/step - loss: 2.9638 - mae: 2.9638\n",
      "Epoch 134/200\n",
      "2/2 [==============================] - 0s 10ms/step - loss: 2.8348 - mae: 2.8348\n",
      "Epoch 135/200\n",
      "2/2 [==============================] - 0s 11ms/step - loss: 2.8180 - mae: 2.8180\n",
      "Epoch 136/200\n",
      "2/2 [==============================] - 0s 17ms/step - loss: 2.6697 - mae: 2.6697\n",
      "Epoch 137/200\n",
      "2/2 [==============================] - 0s 11ms/step - loss: 2.6400 - mae: 2.6400\n",
      "Epoch 138/200\n",
      "2/2 [==============================] - 0s 9ms/step - loss: 2.5023 - mae: 2.5023\n",
      "Epoch 139/200\n",
      "2/2 [==============================] - 0s 10ms/step - loss: 2.4549 - mae: 2.4549\n",
      "Epoch 140/200\n",
      "2/2 [==============================] - 0s 9ms/step - loss: 2.3770 - mae: 2.3770\n",
      "Epoch 141/200\n",
      "2/2 [==============================] - 0s 7ms/step - loss: 2.2727 - mae: 2.2727\n",
      "Epoch 142/200\n",
      "2/2 [==============================] - 0s 12ms/step - loss: 2.1394 - mae: 2.1394\n",
      "Epoch 143/200\n",
      "2/2 [==============================] - 0s 9ms/step - loss: 2.2495 - mae: 2.2495\n",
      "Epoch 144/200\n",
      "2/2 [==============================] - 0s 9ms/step - loss: 2.1344 - mae: 2.1344\n",
      "Epoch 145/200\n",
      "2/2 [==============================] - 0s 7ms/step - loss: 1.9421 - mae: 1.9421\n",
      "Epoch 146/200\n",
      "2/2 [==============================] - 0s 7ms/step - loss: 1.7705 - mae: 1.7705\n",
      "Epoch 147/200\n",
      "2/2 [==============================] - 0s 7ms/step - loss: 1.7157 - mae: 1.7157\n",
      "Epoch 148/200\n",
      "2/2 [==============================] - 0s 9ms/step - loss: 1.8277 - mae: 1.8277\n",
      "Epoch 149/200\n",
      "2/2 [==============================] - 0s 10ms/step - loss: 1.7976 - mae: 1.7976\n",
      "Epoch 150/200\n",
      "2/2 [==============================] - 0s 10ms/step - loss: 1.4762 - mae: 1.4762\n",
      "Epoch 151/200\n",
      "2/2 [==============================] - 0s 7ms/step - loss: 1.3814 - mae: 1.3814\n",
      "Epoch 152/200\n",
      "2/2 [==============================] - 0s 7ms/step - loss: 1.2696 - mae: 1.2696\n",
      "Epoch 153/200\n",
      "2/2 [==============================] - 0s 7ms/step - loss: 1.0773 - mae: 1.0773\n",
      "Epoch 154/200\n",
      "2/2 [==============================] - 0s 11ms/step - loss: 1.0195 - mae: 1.0195\n",
      "Epoch 155/200\n",
      "2/2 [==============================] - 0s 10ms/step - loss: 0.8645 - mae: 0.8645\n",
      "Epoch 156/200\n",
      "2/2 [==============================] - 0s 9ms/step - loss: 0.7860 - mae: 0.7860\n",
      "Epoch 157/200\n",
      "2/2 [==============================] - 0s 8ms/step - loss: 1.1041 - mae: 1.1041\n",
      "Epoch 158/200\n",
      "2/2 [==============================] - 0s 7ms/step - loss: 0.6692 - mae: 0.6692\n",
      "Epoch 159/200\n",
      "2/2 [==============================] - 0s 8ms/step - loss: 1.3702 - mae: 1.3702\n",
      "Epoch 160/200\n",
      "2/2 [==============================] - 0s 10ms/step - loss: 0.7140 - mae: 0.7140\n",
      "Epoch 161/200\n",
      "2/2 [==============================] - 0s 32ms/step - loss: 0.9065 - mae: 0.9065\n",
      "Epoch 162/200\n",
      "2/2 [==============================] - 0s 8ms/step - loss: 0.6725 - mae: 0.6725\n",
      "Epoch 163/200\n",
      "2/2 [==============================] - 0s 13ms/step - loss: 0.5285 - mae: 0.5285\n",
      "Epoch 164/200\n",
      "2/2 [==============================] - 0s 22ms/step - loss: 0.6794 - mae: 0.6794\n",
      "Epoch 165/200\n",
      "2/2 [==============================] - 0s 8ms/step - loss: 0.7343 - mae: 0.7343\n",
      "Epoch 166/200\n",
      "2/2 [==============================] - 0s 10ms/step - loss: 0.4131 - mae: 0.4131\n",
      "Epoch 167/200\n",
      "2/2 [==============================] - 0s 8ms/step - loss: 1.1693 - mae: 1.1693\n",
      "Epoch 168/200\n",
      "2/2 [==============================] - 0s 10ms/step - loss: 0.2664 - mae: 0.2664\n",
      "Epoch 169/200\n",
      "2/2 [==============================] - 0s 7ms/step - loss: 0.7193 - mae: 0.7193\n",
      "Epoch 170/200\n",
      "2/2 [==============================] - 0s 9ms/step - loss: 0.8550 - mae: 0.8550\n",
      "Epoch 171/200\n",
      "2/2 [==============================] - 0s 8ms/step - loss: 0.5493 - mae: 0.5493\n",
      "Epoch 172/200\n",
      "2/2 [==============================] - 0s 9ms/step - loss: 0.4127 - mae: 0.4127\n",
      "Epoch 173/200\n",
      "2/2 [==============================] - 0s 9ms/step - loss: 1.0000 - mae: 1.0000\n",
      "Epoch 174/200\n",
      "2/2 [==============================] - 0s 10ms/step - loss: 0.7757 - mae: 0.7757\n",
      "Epoch 175/200\n",
      "2/2 [==============================] - 0s 8ms/step - loss: 1.3751 - mae: 1.3751\n",
      "Epoch 176/200\n",
      "2/2 [==============================] - 0s 8ms/step - loss: 1.9450 - mae: 1.9450\n",
      "Epoch 177/200\n",
      "2/2 [==============================] - 0s 8ms/step - loss: 0.6220 - mae: 0.6220\n",
      "Epoch 178/200\n",
      "2/2 [==============================] - 0s 10ms/step - loss: 1.4289 - mae: 1.4289\n",
      "Epoch 179/200\n",
      "2/2 [==============================] - 0s 10ms/step - loss: 0.8425 - mae: 0.8425\n",
      "Epoch 180/200\n",
      "2/2 [==============================] - 0s 10ms/step - loss: 1.0855 - mae: 1.0855\n",
      "Epoch 181/200\n",
      "2/2 [==============================] - 0s 7ms/step - loss: 0.7796 - mae: 0.7796\n",
      "Epoch 182/200\n",
      "2/2 [==============================] - 0s 8ms/step - loss: 1.3133 - mae: 1.3133\n",
      "Epoch 183/200\n",
      "2/2 [==============================] - 0s 7ms/step - loss: 1.7264 - mae: 1.7264\n",
      "Epoch 184/200\n",
      "2/2 [==============================] - 0s 11ms/step - loss: 0.4229 - mae: 0.4229\n",
      "Epoch 185/200\n",
      "2/2 [==============================] - 0s 10ms/step - loss: 2.5137 - mae: 2.5137\n",
      "Epoch 186/200\n",
      "2/2 [==============================] - 0s 10ms/step - loss: 2.4543 - mae: 2.4543\n",
      "Epoch 187/200\n",
      "2/2 [==============================] - 0s 8ms/step - loss: 0.7213 - mae: 0.7213\n",
      "Epoch 188/200\n",
      "2/2 [==============================] - 0s 14ms/step - loss: 1.5755 - mae: 1.5755\n",
      "Epoch 189/200\n",
      "2/2 [==============================] - 0s 9ms/step - loss: 1.2519 - mae: 1.2519\n",
      "Epoch 190/200\n",
      "2/2 [==============================] - 0s 9ms/step - loss: 0.6240 - mae: 0.6240\n",
      "Epoch 191/200\n",
      "2/2 [==============================] - 0s 25ms/step - loss: 0.9811 - mae: 0.9811\n",
      "Epoch 192/200\n",
      "2/2 [==============================] - 0s 11ms/step - loss: 0.4416 - mae: 0.4416\n",
      "Epoch 193/200\n",
      "2/2 [==============================] - 0s 9ms/step - loss: 0.3600 - mae: 0.3600\n",
      "Epoch 194/200\n",
      "2/2 [==============================] - 0s 10ms/step - loss: 0.8621 - mae: 0.8621\n",
      "Epoch 195/200\n",
      "2/2 [==============================] - 0s 9ms/step - loss: 0.3019 - mae: 0.3019\n",
      "Epoch 196/200\n",
      "2/2 [==============================] - 0s 10ms/step - loss: 1.0124 - mae: 1.0124\n",
      "Epoch 197/200\n",
      "2/2 [==============================] - 0s 7ms/step - loss: 0.3188 - mae: 0.3188\n",
      "Epoch 198/200\n",
      "2/2 [==============================] - 0s 8ms/step - loss: 1.1869 - mae: 1.1869\n",
      "Epoch 199/200\n",
      "2/2 [==============================] - 0s 7ms/step - loss: 0.4462 - mae: 0.4462\n",
      "Epoch 200/200\n",
      "2/2 [==============================] - 0s 7ms/step - loss: 1.1605 - mae: 1.1605\n"
     ]
    }
   ],
   "source": [
    "# Build a neural  network (sort or like model_2 above)\n",
    "tf.random.set_seed(42)\n",
    "\n",
    "# 1. create a model\n",
    "insurance_model_2 = tf.keras.Sequential([\n",
    "    tf.keras.layers.Dense(100,input_shape=(1,)),\n",
    "    tf.keras.layers.Dense(10),\n",
    "    tf.keras.layers.Dense(1)\n",
    "])\n",
    "\n",
    "# 2. compile the model\n",
    "insurance_model_2.compile(loss=tf.keras.losses.mae,\n",
    "                        optimizer =tf.keras.optimizers.Adam(),\n",
    "                        metrics =[\"mae\"])\n",
    "# 3. fit the model\n",
    "histroy= insurance_model_2.fit(X_train,y_train,epochs=200,verbose=1)"
   ]
  },
  {
   "cell_type": "code",
   "execution_count": 66,
   "metadata": {},
   "outputs": [
    {
     "data": {
      "text/plain": [
       "Text(0.5, 0, 'epochs')"
      ]
     },
     "execution_count": 66,
     "metadata": {},
     "output_type": "execute_result"
    },
    {
     "data": {
      "image/png": "[encoded data removed]",
      "text/plain": [
       "<Figure size 640x480 with 1 Axes>"
      ]
     },
     "metadata": {},
     "output_type": "display_data"
    }
   ],
   "source": [
    "pd.DataFrame(histroy.history).plot()\n",
    "plt.ylabel(\"loss\")\n",
    "plt.xlabel(\"epochs\")"
   ]
  },
  {
   "cell_type": "markdown",
   "metadata": {},
   "source": [
    "## Preprocessing data ( normalization and standardization )\n",
    "In terms of scaling values, neural networks tends to prefer normalization.\n",
    "If you're not sure on which to use, you could try  both and see  which performs better."
   ]
  },
  {
   "cell_type": "code",
   "execution_count": 67,
   "metadata": {},
   "outputs": [
    {
     "data": {
      "text/plain": [
       "<Axes: ylabel='Frequency'>"
      ]
     },
     "execution_count": 67,
     "metadata": {},
     "output_type": "execute_result"
    },
    {
     "data": {
      "image/png": "[encoded data removed]",
      "text/plain": [
       "<Figure size 640x480 with 1 Axes>"
      ]
     },
     "metadata": {},
     "output_type": "display_data"
    }
   ],
   "source": [
    "X[\"age\"].plot(kind=\"hist\")"
   ]
  },
  {
   "cell_type": "code",
   "execution_count": 68,
   "metadata": {},
   "outputs": [
    {
     "data": {
      "text/plain": [
       "<Axes: ylabel='Frequency'>"
      ]
     },
     "execution_count": 68,
     "metadata": {},
     "output_type": "execute_result"
    },
    {
     "data": {
      "image/png": "[encoded data removed]",
      "text/plain": [
       "<Figure size 640x480 with 1 Axes>"
      ]
     },
     "metadata": {},
     "output_type": "display_data"
    }
   ],
   "source": [
    "X[\"bmi\"].plot(kind=\"hist\")"
   ]
  },
  {
   "cell_type": "markdown",
   "metadata": {},
   "source": [
    "### To prepare our data, we can borrow  a few classes from Scikit-Learn"
   ]
  },
  {
   "cell_type": "code",
   "execution_count": 69,
   "metadata": {},
   "outputs": [],
   "source": [
    "from sklearn.compose import make_column_transformer\n",
    "from sklearn.preprocessing import MinMaxScaler,OneHotEncoder\n",
    "from sklearn.model_selection import train_test_split\n",
    "\n",
    "# Create a Column transformer\n",
    "ct = make_column_transformer(\n",
    "    (MinMaxScaler(),[\"age\",\"bmi\",\"children\"]), # turn all values in these columns between 0 and 1\n",
    "    (OneHotEncoder(handle_unknown=\"ignore\"),[\"sex\",\"smoker\",\"region\"])\n",
    ") \n",
    "\n",
    "# Create x and y\n",
    "X = insurance.drop(\"charges\",axis=1)\n",
    "y = insurance[\"charges\"]\n",
    "\n",
    "# Build our train and test sets\n",
    "X_train,X_test,y_train, y_test = train_test_split(X,y,test_size=0.2,random_state=42) \\\n",
    "\n",
    "# Fit the Column transformer to  our training data\n",
    "ct.fit(X_train)\n",
    "\n",
    "# Transform training and test data witht normalization (MinMaxScaler) adn OneHotEncoder\n",
    "X_train_normal = ct.transform(X_train)\n",
    "X_test_normal = ct.transform(X_test)"
   ]
  },
  {
   "cell_type": "code",
   "execution_count": 70,
   "metadata": {},
   "outputs": [
    {
     "data": {
      "text/plain": [
       "age                19\n",
       "sex            female\n",
       "bmi              27.9\n",
       "children            0\n",
       "smoker            yes\n",
       "region      southwest\n",
       "Name: 0, dtype: object"
      ]
     },
     "execution_count": 70,
     "metadata": {},
     "output_type": "execute_result"
    }
   ],
   "source": [
    "# What does our data looks like now\n",
    "X_train.loc[0] "
   ]
  },
  {
   "cell_type": "code",
   "execution_count": 71,
   "metadata": {},
   "outputs": [
    {
     "data": {
      "text/plain": [
       "array([0.60869565, 0.10734463, 0.4       , 1.        , 0.        ,\n",
       "       1.        , 0.        , 0.        , 1.        , 0.        ,\n",
       "       0.        ])"
      ]
     },
     "execution_count": 71,
     "metadata": {},
     "output_type": "execute_result"
    }
   ],
   "source": [
    "X_train_normal[0]"
   ]
  },
  {
   "cell_type": "code",
   "execution_count": 72,
   "metadata": {},
   "outputs": [
    {
     "data": {
      "text/plain": [
       "((1070, 6), (1070, 11))"
      ]
     },
     "execution_count": 72,
     "metadata": {},
     "output_type": "execute_result"
    }
   ],
   "source": [
    "X_train.shape,X_train_normal.shape"
   ]
  },
  {
   "cell_type": "markdown",
   "metadata": {},
   "source": [
    "Beautiful! Our data has been normalized  and one hot encoded. Now  let's Build a neural network model  on it  and see how it goes."
   ]
  },
  {
   "cell_type": "code",
   "execution_count": 73,
   "metadata": {},
   "outputs": [
    {
     "name": "stdout",
     "output_type": "stream",
     "text": [
      "Epoch 1/100\n"
     ]
    },
    {
     "name": "stdout",
     "output_type": "stream",
     "text": [
      "34/34 [==============================] - 1s 4ms/step - loss: 13343.2637 - mae: 13343.2637\n",
      "Epoch 2/100\n",
      "34/34 [==============================] - 0s 4ms/step - loss: 13333.6758 - mae: 13333.6758\n",
      "Epoch 3/100\n",
      "34/34 [==============================] - 0s 4ms/step - loss: 13310.3896 - mae: 13310.3896\n",
      "Epoch 4/100\n",
      "34/34 [==============================] - 0s 3ms/step - loss: 13262.9521 - mae: 13262.9521\n",
      "Epoch 5/100\n",
      "34/34 [==============================] - 0s 3ms/step - loss: 13180.7217 - mae: 13180.7217\n",
      "Epoch 6/100\n",
      "34/34 [==============================] - 0s 3ms/step - loss: 13053.2734 - mae: 13053.2734\n",
      "Epoch 7/100\n",
      "34/34 [==============================] - 0s 3ms/step - loss: 12870.6074 - mae: 12870.6074\n",
      "Epoch 8/100\n",
      "34/34 [==============================] - 0s 3ms/step - loss: 12622.7363 - mae: 12622.7363\n",
      "Epoch 9/100\n",
      "34/34 [==============================] - 0s 3ms/step - loss: 12299.5117 - mae: 12299.5117\n",
      "Epoch 10/100\n",
      "34/34 [==============================] - 0s 4ms/step - loss: 11897.6582 - mae: 11897.6582\n",
      "Epoch 11/100\n",
      "34/34 [==============================] - 0s 4ms/step - loss: 11427.5293 - mae: 11427.5293\n",
      "Epoch 12/100\n",
      "34/34 [==============================] - 0s 4ms/step - loss: 10926.1699 - mae: 10926.1699\n",
      "Epoch 13/100\n",
      "34/34 [==============================] - 0s 4ms/step - loss: 10427.4043 - mae: 10427.4043\n",
      "Epoch 14/100\n",
      "34/34 [==============================] - 0s 4ms/step - loss: 9936.1406 - mae: 9936.1406\n",
      "Epoch 15/100\n",
      "34/34 [==============================] - 0s 4ms/step - loss: 9473.4141 - mae: 9473.4141\n",
      "Epoch 16/100\n",
      "34/34 [==============================] - 0s 4ms/step - loss: 9062.9619 - mae: 9062.9619\n",
      "Epoch 17/100\n",
      "34/34 [==============================] - 0s 4ms/step - loss: 8724.3477 - mae: 8724.3477\n",
      "Epoch 18/100\n",
      "34/34 [==============================] - 0s 4ms/step - loss: 8447.9336 - mae: 8447.9336\n",
      "Epoch 19/100\n",
      "34/34 [==============================] - 0s 4ms/step - loss: 8237.2939 - mae: 8237.2939\n",
      "Epoch 20/100\n",
      "34/34 [==============================] - 0s 4ms/step - loss: 8092.6470 - mae: 8092.6470\n",
      "Epoch 21/100\n",
      "34/34 [==============================] - 0s 4ms/step - loss: 7985.0552 - mae: 7985.0552\n",
      "Epoch 22/100\n",
      "34/34 [==============================] - 0s 4ms/step - loss: 7911.3384 - mae: 7911.3384\n",
      "Epoch 23/100\n",
      "34/34 [==============================] - 0s 4ms/step - loss: 7853.6226 - mae: 7853.6226\n",
      "Epoch 24/100\n",
      "34/34 [==============================] - 0s 6ms/step - loss: 7802.1602 - mae: 7802.1602\n",
      "Epoch 25/100\n",
      "34/34 [==============================] - 0s 4ms/step - loss: 7763.9697 - mae: 7763.9697\n",
      "Epoch 26/100\n",
      "34/34 [==============================] - 0s 3ms/step - loss: 7712.3652 - mae: 7712.3652\n",
      "Epoch 27/100\n",
      "34/34 [==============================] - 0s 4ms/step - loss: 7670.2559 - mae: 7670.2559\n",
      "Epoch 28/100\n",
      "34/34 [==============================] - 0s 4ms/step - loss: 7627.7954 - mae: 7627.7954\n",
      "Epoch 29/100\n",
      "34/34 [==============================] - 0s 4ms/step - loss: 7585.1450 - mae: 7585.1450\n",
      "Epoch 30/100\n",
      "34/34 [==============================] - 0s 4ms/step - loss: 7541.8857 - mae: 7541.8857\n",
      "Epoch 31/100\n",
      "34/34 [==============================] - 0s 4ms/step - loss: 7498.0884 - mae: 7498.0884\n",
      "Epoch 32/100\n",
      "34/34 [==============================] - 0s 4ms/step - loss: 7454.0571 - mae: 7454.0571\n",
      "Epoch 33/100\n",
      "34/34 [==============================] - 0s 4ms/step - loss: 7409.8306 - mae: 7409.8306\n",
      "Epoch 34/100\n",
      "34/34 [==============================] - 0s 4ms/step - loss: 7361.6406 - mae: 7361.6406\n",
      "Epoch 35/100\n",
      "34/34 [==============================] - 0s 4ms/step - loss: 7315.1025 - mae: 7315.1025\n",
      "Epoch 36/100\n",
      "34/34 [==============================] - 0s 4ms/step - loss: 7265.0679 - mae: 7265.0679\n",
      "Epoch 37/100\n",
      "34/34 [==============================] - 0s 3ms/step - loss: 7214.8828 - mae: 7214.8828\n",
      "Epoch 38/100\n",
      "34/34 [==============================] - 0s 6ms/step - loss: 7164.0405 - mae: 7164.0405\n",
      "Epoch 39/100\n",
      "34/34 [==============================] - 0s 4ms/step - loss: 7109.3569 - mae: 7109.3569\n",
      "Epoch 40/100\n",
      "34/34 [==============================] - 0s 4ms/step - loss: 7054.0620 - mae: 7054.0620\n",
      "Epoch 41/100\n",
      "34/34 [==============================] - 0s 3ms/step - loss: 6997.8521 - mae: 6997.8521\n",
      "Epoch 42/100\n",
      "34/34 [==============================] - 0s 4ms/step - loss: 6939.1309 - mae: 6939.1309\n",
      "Epoch 43/100\n",
      "34/34 [==============================] - 0s 4ms/step - loss: 6876.5986 - mae: 6876.5986\n",
      "Epoch 44/100\n",
      "34/34 [==============================] - 0s 4ms/step - loss: 6810.6768 - mae: 6810.6768\n",
      "Epoch 45/100\n",
      "34/34 [==============================] - 0s 4ms/step - loss: 6743.7920 - mae: 6743.7920\n",
      "Epoch 46/100\n",
      "34/34 [==============================] - 0s 4ms/step - loss: 6675.0889 - mae: 6675.0889\n",
      "Epoch 47/100\n",
      "34/34 [==============================] - 0s 4ms/step - loss: 6604.2832 - mae: 6604.2832\n",
      "Epoch 48/100\n",
      "34/34 [==============================] - 0s 4ms/step - loss: 6525.4961 - mae: 6525.4961\n",
      "Epoch 49/100\n",
      "34/34 [==============================] - 0s 4ms/step - loss: 6446.9395 - mae: 6446.9395\n",
      "Epoch 50/100\n",
      "34/34 [==============================] - 0s 4ms/step - loss: 6361.3862 - mae: 6361.3862\n",
      "Epoch 51/100\n",
      "34/34 [==============================] - 0s 5ms/step - loss: 6277.2358 - mae: 6277.2358\n",
      "Epoch 52/100\n",
      "34/34 [==============================] - 0s 4ms/step - loss: 6184.3169 - mae: 6184.3169\n",
      "Epoch 53/100\n",
      "34/34 [==============================] - 0s 4ms/step - loss: 6088.7466 - mae: 6088.7466\n",
      "Epoch 54/100\n",
      "34/34 [==============================] - 0s 3ms/step - loss: 5990.3799 - mae: 5990.3799\n",
      "Epoch 55/100\n",
      "34/34 [==============================] - 0s 4ms/step - loss: 5883.3101 - mae: 5883.3101\n",
      "Epoch 56/100\n",
      "34/34 [==============================] - 0s 4ms/step - loss: 5775.3335 - mae: 5775.3335\n",
      "Epoch 57/100\n",
      "34/34 [==============================] - 0s 5ms/step - loss: 5659.9453 - mae: 5659.9453\n",
      "Epoch 58/100\n",
      "34/34 [==============================] - 0s 4ms/step - loss: 5542.8496 - mae: 5542.8496\n",
      "Epoch 59/100\n",
      "34/34 [==============================] - 0s 4ms/step - loss: 5425.3491 - mae: 5425.3491\n",
      "Epoch 60/100\n",
      "34/34 [==============================] - 0s 4ms/step - loss: 5302.5557 - mae: 5302.5557\n",
      "Epoch 61/100\n",
      "34/34 [==============================] - 0s 4ms/step - loss: 5175.8643 - mae: 5175.8643\n",
      "Epoch 62/100\n",
      "34/34 [==============================] - 0s 4ms/step - loss: 5046.3813 - mae: 5046.3813\n",
      "Epoch 63/100\n",
      "34/34 [==============================] - 0s 3ms/step - loss: 4917.5781 - mae: 4917.5781\n",
      "Epoch 64/100\n",
      "34/34 [==============================] - 0s 4ms/step - loss: 4786.0776 - mae: 4786.0776\n",
      "Epoch 65/100\n",
      "34/34 [==============================] - 0s 4ms/step - loss: 4659.4053 - mae: 4659.4053\n",
      "Epoch 66/100\n",
      "34/34 [==============================] - 0s 3ms/step - loss: 4534.3013 - mae: 4534.3013\n",
      "Epoch 67/100\n",
      "34/34 [==============================] - 0s 4ms/step - loss: 4425.3013 - mae: 4425.3013\n",
      "Epoch 68/100\n",
      "34/34 [==============================] - 0s 4ms/step - loss: 4317.9536 - mae: 4317.9536\n",
      "Epoch 69/100\n",
      "34/34 [==============================] - 0s 4ms/step - loss: 4216.3525 - mae: 4216.3525\n",
      "Epoch 70/100\n",
      "34/34 [==============================] - 0s 4ms/step - loss: 4122.7783 - mae: 4122.7783\n",
      "Epoch 71/100\n",
      "34/34 [==============================] - 0s 4ms/step - loss: 4035.0244 - mae: 4035.0244\n",
      "Epoch 72/100\n",
      "34/34 [==============================] - 0s 4ms/step - loss: 3958.9009 - mae: 3958.9009\n",
      "Epoch 73/100\n",
      "34/34 [==============================] - 0s 4ms/step - loss: 3892.7886 - mae: 3892.7886\n",
      "Epoch 74/100\n",
      "34/34 [==============================] - 0s 4ms/step - loss: 3838.0684 - mae: 3838.0684\n",
      "Epoch 75/100\n",
      "34/34 [==============================] - 0s 4ms/step - loss: 3794.0178 - mae: 3794.0178\n",
      "Epoch 76/100\n",
      "34/34 [==============================] - 0s 4ms/step - loss: 3759.2732 - mae: 3759.2732\n",
      "Epoch 77/100\n",
      "34/34 [==============================] - 0s 4ms/step - loss: 3731.7249 - mae: 3731.7249\n",
      "Epoch 78/100\n",
      "34/34 [==============================] - 0s 5ms/step - loss: 3712.3088 - mae: 3712.3088\n",
      "Epoch 79/100\n",
      "34/34 [==============================] - 0s 5ms/step - loss: 3696.9739 - mae: 3696.9739\n",
      "Epoch 80/100\n",
      "34/34 [==============================] - 0s 4ms/step - loss: 3686.7524 - mae: 3686.7524\n",
      "Epoch 81/100\n",
      "34/34 [==============================] - 0s 4ms/step - loss: 3678.8818 - mae: 3678.8818\n",
      "Epoch 82/100\n",
      "34/34 [==============================] - 0s 4ms/step - loss: 3674.6104 - mae: 3674.6104\n",
      "Epoch 83/100\n",
      "34/34 [==============================] - 0s 4ms/step - loss: 3667.6033 - mae: 3667.6033\n",
      "Epoch 84/100\n",
      "34/34 [==============================] - 0s 4ms/step - loss: 3664.4045 - mae: 3664.4045\n",
      "Epoch 85/100\n",
      "34/34 [==============================] - 0s 4ms/step - loss: 3662.2996 - mae: 3662.2996\n",
      "Epoch 86/100\n",
      "34/34 [==============================] - 0s 4ms/step - loss: 3660.0513 - mae: 3660.0513\n",
      "Epoch 87/100\n",
      "34/34 [==============================] - 0s 4ms/step - loss: 3656.8508 - mae: 3656.8508\n",
      "Epoch 88/100\n",
      "34/34 [==============================] - 0s 4ms/step - loss: 3654.4360 - mae: 3654.4360\n",
      "Epoch 89/100\n",
      "34/34 [==============================] - 0s 4ms/step - loss: 3652.3645 - mae: 3652.3645\n",
      "Epoch 90/100\n",
      "34/34 [==============================] - 0s 4ms/step - loss: 3650.8528 - mae: 3650.8528\n",
      "Epoch 91/100\n",
      "34/34 [==============================] - 0s 5ms/step - loss: 3647.9846 - mae: 3647.9846\n",
      "Epoch 92/100\n",
      "34/34 [==============================] - 0s 4ms/step - loss: 3647.1436 - mae: 3647.1436\n",
      "Epoch 93/100\n",
      "34/34 [==============================] - 0s 4ms/step - loss: 3644.9119 - mae: 3644.9119\n",
      "Epoch 94/100\n",
      "34/34 [==============================] - 0s 4ms/step - loss: 3643.2041 - mae: 3643.2041\n",
      "Epoch 95/100\n",
      "34/34 [==============================] - 0s 4ms/step - loss: 3644.4390 - mae: 3644.4390\n",
      "Epoch 96/100\n",
      "34/34 [==============================] - 0s 4ms/step - loss: 3640.9673 - mae: 3640.9673\n",
      "Epoch 97/100\n",
      "34/34 [==============================] - 0s 4ms/step - loss: 3638.6978 - mae: 3638.6978\n",
      "Epoch 98/100\n",
      "34/34 [==============================] - 0s 4ms/step - loss: 3636.5698 - mae: 3636.5698\n",
      "Epoch 99/100\n",
      "34/34 [==============================] - 0s 4ms/step - loss: 3635.8777 - mae: 3635.8777\n",
      "Epoch 100/100\n",
      "34/34 [==============================] - 0s 4ms/step - loss: 3634.4846 - mae: 3634.4846\n"
     ]
    },
    {
     "data": {
      "text/plain": [
       "<keras.src.callbacks.History at 0x13d89238e50>"
      ]
     },
     "execution_count": 73,
     "metadata": {},
     "output_type": "execute_result"
    }
   ],
   "source": [
    "# Build a neural network model  to fit our normalized data\n",
    "tf.random.set_seed(42)\n",
    "\n",
    "# creatte a model\n",
    "insurance_model_4= tf.keras.Sequential([\n",
    "    tf.keras.layers.Dense(100),\n",
    "    tf.keras.layers.Dense(10),\n",
    "    tf.keras.layers.Dense(1)\n",
    "])\n",
    "# compile the model\n",
    "insurance_model_4.compile(loss=tf.keras.losses.mae,\n",
    "                          optimizer = tf.keras.optimizers.Adam(),\n",
    "                          metrics =[\"mae\"])\n",
    "\n",
    "# fit the model\n",
    "insurance_model_4.fit(X_train_normal,y_train,epochs=100)"
   ]
  },
  {
   "cell_type": "code",
   "execution_count": 74,
   "metadata": {},
   "outputs": [
    {
     "name": "stdout",
     "output_type": "stream",
     "text": [
      "9/9 [==============================] - 0s 6ms/step - loss: 3437.4006 - mae: 3437.4006\n"
     ]
    },
    {
     "data": {
      "text/plain": [
       "[3437.400634765625, 3437.400634765625]"
      ]
     },
     "execution_count": 74,
     "metadata": {},
     "output_type": "execute_result"
    }
   ],
   "source": [
    "# evaluate our insurance model trained  on normalized  data\n",
    "insurance_model_4.evaluate(X_test_normal,y_test)"
   ]
  }
 ],
 "metadata": {
  "kernelspec": {
   "display_name": "Python 3",
   "language": "python",
   "name": "python3"
  },
  "language_info": {
   "codemirror_mode": {
    "name": "ipython",
    "version": 3
   },
   "file_extension": ".py",
   "mimetype": "text/x-python",
   "name": "python",
   "nbconvert_exporter": "python",
   "pygments_lexer": "ipython3",
   "version": "3.10.8"
  }
 },
 "nbformat": 4,
 "nbformat_minor": 2
}
