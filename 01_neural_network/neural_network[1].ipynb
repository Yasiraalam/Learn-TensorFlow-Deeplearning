{
 "cells": [
  {
   "cell_type": "code",
   "execution_count": 47,
   "metadata": {},
   "outputs": [],
   "source": [
    "import tensorflow as tf\n",
    "import numpy as np\n",
    "# import metapolott\n",
    "import matplotlib.pyplot as  plt\n",
    "\n"
   ]
  },
  {
   "cell_type": "markdown",
   "metadata": {},
   "source": [
    "# Intrduction to Regression with Neural  Network in TensorFlow\n"
   ]
  },
  {
   "cell_type": "markdown",
   "metadata": {},
   "source": [
    "## There are  many difinations  for a regression problem but  in our case, we're  goining to simplify  it: predicting  a numerical variable based  on some other  combination  of variables, even shorter...  predicting  a number"
   ]
  },
  {
   "cell_type": "code",
   "execution_count": 48,
   "metadata": {},
   "outputs": [
    {
     "data": {
      "text/plain": [
       "<matplotlib.collections.PathCollection at 0x1f720ce02b0>"
      ]
     },
     "execution_count": 48,
     "metadata": {},
     "output_type": "execute_result"
    },
    {
     "data": {
      "image/png": "[encoded data removed]",
      "text/plain": [
       "<Figure size 640x480 with 1 Axes>"
      ]
     },
     "metadata": {},
     "output_type": "display_data"
    }
   ],
   "source": [
    "X = np.array([-7., -4., -1., 2., 5., 8., 11., 14.])\n",
    "y = np.array([3., 6., 9., 12., 15., 18., 21., 24.])\n",
    "plt.scatter(X,y)"
   ]
  },
  {
   "cell_type": "code",
   "execution_count": 49,
   "metadata": {},
   "outputs": [
    {
     "data": {
      "text/plain": [
       "array([ True,  True,  True,  True,  True,  True,  True,  True])"
      ]
     },
     "execution_count": 49,
     "metadata": {},
     "output_type": "execute_result"
    }
   ],
   "source": [
    "y == X + 10"
   ]
  },
  {
   "cell_type": "code",
   "execution_count": 50,
   "metadata": {},
   "outputs": [],
   "source": [
    "X = X.reshape (-1,1)\n",
    "y = y.reshape(-1, 1)"
   ]
  },
  {
   "cell_type": "markdown",
   "metadata": {},
   "source": [
    "## Input and output"
   ]
  },
  {
   "cell_type": "code",
   "execution_count": 51,
   "metadata": {},
   "outputs": [
    {
     "data": {
      "text/plain": [
       "(<tf.Tensor: shape=(3,), dtype=string, numpy=array([b'bedroom', b'bathroom', b'garage'], dtype=object)>,\n",
       " <tf.Tensor: shape=(1,), dtype=int32, numpy=array([939700])>)"
      ]
     },
     "execution_count": 51,
     "metadata": {},
     "output_type": "execute_result"
    }
   ],
   "source": [
    "# Create a demo tensor for  our housing  price  predicttion problem\n",
    "house_info = tf.constant([\"bedroom\", \"bathroom\", \"garage\"])\n",
    "house_price = tf.constant([939700])\n",
    "house_info,house_price "
   ]
  },
  {
   "cell_type": "markdown",
   "metadata": {},
   "source": [
    "## turn our numpy array into tensors"
   ]
  },
  {
   "cell_type": "code",
   "execution_count": 52,
   "metadata": {},
   "outputs": [
    {
     "data": {
      "text/plain": [
       "(<tf.Tensor: shape=(8, 1), dtype=float32, numpy=\n",
       " array([[-7.],\n",
       "        [-4.],\n",
       "        [-1.],\n",
       "        [ 2.],\n",
       "        [ 5.],\n",
       "        [ 8.],\n",
       "        [11.],\n",
       "        [14.]], dtype=float32)>,\n",
       " <tf.Tensor: shape=(8, 1), dtype=float32, numpy=\n",
       " array([[ 3.],\n",
       "        [ 6.],\n",
       "        [ 9.],\n",
       "        [12.],\n",
       "        [15.],\n",
       "        [18.],\n",
       "        [21.],\n",
       "        [24.]], dtype=float32)>)"
      ]
     },
     "execution_count": 52,
     "metadata": {},
     "output_type": "execute_result"
    }
   ],
   "source": [
    "X = tf.cast(tf.constant(X), dtype= tf.float32)\n",
    "y = tf.cast(tf.constant(y), dtype= tf.float32)\n",
    "X,y"
   ]
  },
  {
   "cell_type": "code",
   "execution_count": 53,
   "metadata": {},
   "outputs": [
    {
     "data": {
      "text/plain": [
       "TensorShape([8, 1])"
      ]
     },
     "execution_count": 53,
     "metadata": {},
     "output_type": "execute_result"
    }
   ],
   "source": [
    "X.shape"
   ]
  },
  {
   "cell_type": "code",
   "execution_count": 54,
   "metadata": {},
   "outputs": [
    {
     "data": {
      "text/plain": [
       "<matplotlib.collections.PathCollection at 0x1f720c36a40>"
      ]
     },
     "execution_count": 54,
     "metadata": {},
     "output_type": "execute_result"
    },
    {
     "data": {
      "image/png": "[encoded data removed]",
      "text/plain": [
       "<Figure size 640x480 with 1 Axes>"
      ]
     },
     "metadata": {},
     "output_type": "display_data"
    }
   ],
   "source": [
    "plt.scatter(X,y)"
   ]
  },
  {
   "cell_type": "markdown",
   "metadata": {},
   "source": [
    "## Steps in modelling with TensorFlow"
   ]
  },
  {
   "cell_type": "markdown",
   "metadata": {},
   "source": [
    "### 1. **Creating a model** - define  the input  and output layers as well as hidden layer on deep learning model\n",
    "### 2. **Compilling a model** - define the loss function ( in others words, the function which our model how wrong it is) and the optimizer( tells our model how to improve the patterns its learning) and evaluation matrics ( what we can use to interpret the performance of our model).\n",
    "### 3. **Fitting a model** - letting the model try to find patterns between X & y(features and labels)"
   ]
  },
  {
   "cell_type": "code",
   "execution_count": 55,
   "metadata": {},
   "outputs": [
    {
     "name": "stdout",
     "output_type": "stream",
     "text": [
      "Epoch 1/5\n"
     ]
    },
    {
     "name": "stdout",
     "output_type": "stream",
     "text": [
      "1/1 [==============================] - 1s 831ms/step - loss: 9.9792 - mae: 9.9792\n",
      "Epoch 2/5\n",
      "1/1 [==============================] - 0s 12ms/step - loss: 9.8467 - mae: 9.8467\n",
      "Epoch 3/5\n",
      "1/1 [==============================] - 0s 16ms/step - loss: 9.7142 - mae: 9.7142\n",
      "Epoch 4/5\n",
      "1/1 [==============================] - 0s 16ms/step - loss: 9.5817 - mae: 9.5817\n",
      "Epoch 5/5\n",
      "1/1 [==============================] - 0s 16ms/step - loss: 9.4492 - mae: 9.4492\n"
     ]
    },
    {
     "data": {
      "text/plain": [
       "<keras.src.callbacks.History at 0x1f723388a90>"
      ]
     },
     "execution_count": 55,
     "metadata": {},
     "output_type": "execute_result"
    }
   ],
   "source": [
    "# Set random seed\n",
    "tf.random.set_seed(42)\n",
    "\n",
    "# 1.Create  a model using the Sequential API\n",
    "model = tf.keras.Sequential([\n",
    "    tf.keras.layers.Dense(1)\n",
    "])\n",
    "\n",
    "# 2. Compile  the model\n",
    "# mae is short  for mean absolute error\n",
    "# sgd is short for stochastic gradient descent\n",
    "model.compile(loss = tf.keras.losses.mae,  \n",
    "              optimizer=tf.keras.optimizers.SGD(), \n",
    "              metrics = [\"mae\"])\n",
    "\n",
    "# 3.fit he model\n",
    "model.fit(X, y, epochs=5)    # epochs : opportunity going on x and y values\n"
   ]
  },
  {
   "cell_type": "code",
   "execution_count": 56,
   "metadata": {},
   "outputs": [
    {
     "data": {
      "text/plain": [
       "(<tf.Tensor: shape=(8, 1), dtype=float32, numpy=\n",
       " array([[-7.],\n",
       "        [-4.],\n",
       "        [-1.],\n",
       "        [ 2.],\n",
       "        [ 5.],\n",
       "        [ 8.],\n",
       "        [11.],\n",
       "        [14.]], dtype=float32)>,\n",
       " <tf.Tensor: shape=(8, 1), dtype=float32, numpy=\n",
       " array([[ 3.],\n",
       "        [ 6.],\n",
       "        [ 9.],\n",
       "        [12.],\n",
       "        [15.],\n",
       "        [18.],\n",
       "        [21.],\n",
       "        [24.]], dtype=float32)>)"
      ]
     },
     "execution_count": 56,
     "metadata": {},
     "output_type": "execute_result"
    }
   ],
   "source": [
    "X , y"
   ]
  },
  {
   "cell_type": "code",
   "execution_count": 57,
   "metadata": {},
   "outputs": [
    {
     "name": "stdout",
     "output_type": "stream",
     "text": [
      "WARNING:tensorflow:5 out of the last 5 calls to <function Model.make_predict_function.<locals>.predict_function at 0x000001F72335F760> triggered tf.function retracing. Tracing is expensive and the excessive number of tracings could be due to (1) creating @tf.function repeatedly in a loop, (2) passing tensors with different shapes, (3) passing Python objects instead of tensors. For (1), please define your @tf.function outside of the loop. For (2), @tf.function has reduce_retracing=True option that can avoid unnecessary retracing. For (3), please refer to https://www.tensorflow.org/guide/function#controlling_retracing and https://www.tensorflow.org/api_docs/python/tf/function for  more details.\n"
     ]
    },
    {
     "name": "stderr",
     "output_type": "stream",
     "text": [
      "WARNING:tensorflow:5 out of the last 5 calls to <function Model.make_predict_function.<locals>.predict_function at 0x000001F72335F760> triggered tf.function retracing. Tracing is expensive and the excessive number of tracings could be due to (1) creating @tf.function repeatedly in a loop, (2) passing tensors with different shapes, (3) passing Python objects instead of tensors. For (1), please define your @tf.function outside of the loop. For (2), @tf.function has reduce_retracing=True option that can avoid unnecessary retracing. For (3), please refer to https://www.tensorflow.org/guide/function#controlling_retracing and https://www.tensorflow.org/api_docs/python/tf/function for  more details.\n"
     ]
    },
    {
     "name": "stdout",
     "output_type": "stream",
     "text": [
      "1/1 [==============================] - 0s 147ms/step\n"
     ]
    },
    {
     "data": {
      "text/plain": [
       "array([[20.126253]], dtype=float32)"
      ]
     },
     "execution_count": 57,
     "metadata": {},
     "output_type": "execute_result"
    }
   ],
   "source": [
    "# Try and make a prediction using our model\n",
    "y_pred = model.predict([17.0])\n",
    "y_pred"
   ]
  },
  {
   "cell_type": "code",
   "execution_count": 58,
   "metadata": {},
   "outputs": [
    {
     "data": {
      "text/plain": [
       "array([[31.126253]], dtype=float32)"
      ]
     },
     "execution_count": 58,
     "metadata": {},
     "output_type": "execute_result"
    }
   ],
   "source": [
    "y_pred + 11"
   ]
  },
  {
   "cell_type": "markdown",
   "metadata": {},
   "source": [
    "## improving our model"
   ]
  },
  {
   "cell_type": "markdown",
   "metadata": {},
   "source": [
    "### by altering  the steps  we took to create a model\n",
    "\n",
    "1. **Creating a model** - here  we might add more layers, increase the number of hidden  units( all called neuron)\n",
    "within  each of  the hidden layers, change the activation  function of each layer\n",
    "2. **Compiling a model** -  here we might change the optimization  function  or perhaps the **learning rate** of  the optimization function.\n",
    "3. **Fitting a  model** -  here we might fit a model for more **epochs** (  leave it training for longer) or on more data ( give the model more examples to learn from)"
   ]
  },
  {
   "cell_type": "code",
   "execution_count": 59,
   "metadata": {},
   "outputs": [
    {
     "name": "stdout",
     "output_type": "stream",
     "text": [
      "Epoch 1/100\n",
      "1/1 [==============================] - 0s 422ms/step - loss: 13.6009 - mae: 13.6009\n",
      "Epoch 2/100\n",
      "1/1 [==============================] - 0s 16ms/step - loss: 13.4684 - mae: 13.4684\n",
      "Epoch 3/100\n",
      "1/1 [==============================] - 0s 16ms/step - loss: 13.3359 - mae: 13.3359\n",
      "Epoch 4/100\n",
      "1/1 [==============================] - 0s 16ms/step - loss: 13.2034 - mae: 13.2034\n",
      "Epoch 5/100\n",
      "1/1 [==============================] - 0s 16ms/step - loss: 13.0709 - mae: 13.0709\n",
      "Epoch 6/100\n",
      "1/1 [==============================] - 0s 16ms/step - loss: 12.9384 - mae: 12.9384\n",
      "Epoch 7/100\n",
      "1/1 [==============================] - 0s 0s/step - loss: 12.8059 - mae: 12.8059\n",
      "Epoch 8/100\n",
      "1/1 [==============================] - 0s 0s/step - loss: 12.6734 - mae: 12.6734\n",
      "Epoch 9/100\n",
      "1/1 [==============================] - 0s 0s/step - loss: 12.5409 - mae: 12.5409\n",
      "Epoch 10/100\n",
      "1/1 [==============================] - 0s 16ms/step - loss: 12.4084 - mae: 12.4084\n",
      "Epoch 11/100\n",
      "1/1 [==============================] - 0s 16ms/step - loss: 12.2759 - mae: 12.2759\n",
      "Epoch 12/100\n",
      "1/1 [==============================] - 0s 16ms/step - loss: 12.1434 - mae: 12.1434\n",
      "Epoch 13/100\n",
      "1/1 [==============================] - 0s 16ms/step - loss: 12.0109 - mae: 12.0109\n",
      "Epoch 14/100\n",
      "1/1 [==============================] - 0s 16ms/step - loss: 11.8784 - mae: 11.8784\n",
      "Epoch 15/100\n",
      "1/1 [==============================] - 0s 16ms/step - loss: 11.7459 - mae: 11.7459\n",
      "Epoch 16/100\n",
      "1/1 [==============================] - 0s 16ms/step - loss: 11.6134 - mae: 11.6134\n",
      "Epoch 17/100\n",
      "1/1 [==============================] - 0s 16ms/step - loss: 11.4809 - mae: 11.4809\n",
      "Epoch 18/100\n",
      "1/1 [==============================] - 0s 16ms/step - loss: 11.3484 - mae: 11.3484\n",
      "Epoch 19/100\n",
      "1/1 [==============================] - 0s 16ms/step - loss: 11.2159 - mae: 11.2159\n",
      "Epoch 20/100\n",
      "1/1 [==============================] - 0s 16ms/step - loss: 11.0834 - mae: 11.0834\n",
      "Epoch 21/100\n",
      "1/1 [==============================] - 0s 16ms/step - loss: 10.9509 - mae: 10.9509\n",
      "Epoch 22/100\n",
      "1/1 [==============================] - 0s 16ms/step - loss: 10.8184 - mae: 10.8184\n",
      "Epoch 23/100\n",
      "1/1 [==============================] - 0s 16ms/step - loss: 10.6859 - mae: 10.6859\n",
      "Epoch 24/100\n",
      "1/1 [==============================] - 0s 16ms/step - loss: 10.5534 - mae: 10.5534\n",
      "Epoch 25/100\n",
      "1/1 [==============================] - 0s 0s/step - loss: 10.4209 - mae: 10.4209\n",
      "Epoch 26/100\n",
      "1/1 [==============================] - 0s 0s/step - loss: 10.2884 - mae: 10.2884\n",
      "Epoch 27/100\n",
      "1/1 [==============================] - 0s 0s/step - loss: 10.1559 - mae: 10.1559\n",
      "Epoch 28/100\n",
      "1/1 [==============================] - 0s 0s/step - loss: 10.0234 - mae: 10.0234\n",
      "Epoch 29/100\n",
      "1/1 [==============================] - 0s 0s/step - loss: 9.8909 - mae: 9.8909\n",
      "Epoch 30/100\n",
      "1/1 [==============================] - 0s 0s/step - loss: 9.7584 - mae: 9.7584\n",
      "Epoch 31/100\n",
      "1/1 [==============================] - 0s 0s/step - loss: 9.6259 - mae: 9.6259\n",
      "Epoch 32/100\n",
      "1/1 [==============================] - 0s 0s/step - loss: 9.4934 - mae: 9.4934\n",
      "Epoch 33/100\n",
      "1/1 [==============================] - 0s 16ms/step - loss: 9.3609 - mae: 9.3609\n",
      "Epoch 34/100\n",
      "1/1 [==============================] - 0s 16ms/step - loss: 9.2284 - mae: 9.2284\n",
      "Epoch 35/100\n",
      "1/1 [==============================] - 0s 16ms/step - loss: 9.0959 - mae: 9.0959\n",
      "Epoch 36/100\n",
      "1/1 [==============================] - 0s 16ms/step - loss: 8.9634 - mae: 8.9634\n",
      "Epoch 37/100\n",
      "1/1 [==============================] - 0s 16ms/step - loss: 8.8309 - mae: 8.8309\n",
      "Epoch 38/100\n",
      "1/1 [==============================] - 0s 16ms/step - loss: 8.6984 - mae: 8.6984\n",
      "Epoch 39/100\n",
      "1/1 [==============================] - 0s 16ms/step - loss: 8.5659 - mae: 8.5659\n",
      "Epoch 40/100\n",
      "1/1 [==============================] - 0s 16ms/step - loss: 8.4334 - mae: 8.4334\n",
      "Epoch 41/100\n",
      "1/1 [==============================] - 0s 16ms/step - loss: 8.3009 - mae: 8.3009\n",
      "Epoch 42/100\n",
      "1/1 [==============================] - 0s 16ms/step - loss: 8.1684 - mae: 8.1684\n",
      "Epoch 43/100\n",
      "1/1 [==============================] - 0s 0s/step - loss: 8.0359 - mae: 8.0359\n",
      "Epoch 44/100\n",
      "1/1 [==============================] - 0s 0s/step - loss: 7.9034 - mae: 7.9034\n",
      "Epoch 45/100\n",
      "1/1 [==============================] - 0s 38ms/step - loss: 7.7709 - mae: 7.7709\n",
      "Epoch 46/100\n",
      "1/1 [==============================] - 0s 16ms/step - loss: 7.6384 - mae: 7.6384\n",
      "Epoch 47/100\n",
      "1/1 [==============================] - 0s 16ms/step - loss: 7.5059 - mae: 7.5059\n",
      "Epoch 48/100\n",
      "1/1 [==============================] - 0s 47ms/step - loss: 7.3734 - mae: 7.3734\n",
      "Epoch 49/100\n",
      "1/1 [==============================] - 0s 16ms/step - loss: 7.2409 - mae: 7.2409\n",
      "Epoch 50/100\n",
      "1/1 [==============================] - 0s 16ms/step - loss: 7.1325 - mae: 7.1325\n",
      "Epoch 51/100\n",
      "1/1 [==============================] - 0s 31ms/step - loss: 7.1269 - mae: 7.1269\n",
      "Epoch 52/100\n",
      "1/1 [==============================] - 0s 16ms/step - loss: 7.1213 - mae: 7.1213\n",
      "Epoch 53/100\n",
      "1/1 [==============================] - 0s 16ms/step - loss: 7.1156 - mae: 7.1156\n",
      "Epoch 54/100\n",
      "1/1 [==============================] - 0s 0s/step - loss: 7.1100 - mae: 7.1100\n",
      "Epoch 55/100\n",
      "1/1 [==============================] - 0s 16ms/step - loss: 7.1044 - mae: 7.1044\n",
      "Epoch 56/100\n",
      "1/1 [==============================] - 0s 16ms/step - loss: 7.0988 - mae: 7.0988\n",
      "Epoch 57/100\n",
      "1/1 [==============================] - 0s 16ms/step - loss: 7.0931 - mae: 7.0931\n",
      "Epoch 58/100\n",
      "1/1 [==============================] - 0s 16ms/step - loss: 7.0875 - mae: 7.0875\n",
      "Epoch 59/100\n",
      "1/1 [==============================] - 0s 16ms/step - loss: 7.0819 - mae: 7.0819\n",
      "Epoch 60/100\n",
      "1/1 [==============================] - 0s 16ms/step - loss: 7.0763 - mae: 7.0763\n",
      "Epoch 61/100\n",
      "1/1 [==============================] - 0s 16ms/step - loss: 7.0706 - mae: 7.0706\n",
      "Epoch 62/100\n",
      "1/1 [==============================] - 0s 16ms/step - loss: 7.0650 - mae: 7.0650\n",
      "Epoch 63/100\n",
      "1/1 [==============================] - 0s 16ms/step - loss: 7.0594 - mae: 7.0594\n",
      "Epoch 64/100\n",
      "1/1 [==============================] - 0s 16ms/step - loss: 7.0538 - mae: 7.0538\n",
      "Epoch 65/100\n",
      "1/1 [==============================] - 0s 16ms/step - loss: 7.0481 - mae: 7.0481\n",
      "Epoch 66/100\n",
      "1/1 [==============================] - 0s 16ms/step - loss: 7.0425 - mae: 7.0425\n",
      "Epoch 67/100\n",
      "1/1 [==============================] - 0s 0s/step - loss: 7.0369 - mae: 7.0369\n",
      "Epoch 68/100\n",
      "1/1 [==============================] - 0s 0s/step - loss: 7.0312 - mae: 7.0312\n",
      "Epoch 69/100\n",
      "1/1 [==============================] - 0s 0s/step - loss: 7.0256 - mae: 7.0256\n",
      "Epoch 70/100\n",
      "1/1 [==============================] - 0s 16ms/step - loss: 7.0200 - mae: 7.0200\n",
      "Epoch 71/100\n",
      "1/1 [==============================] - 0s 16ms/step - loss: 7.0144 - mae: 7.0144\n",
      "Epoch 72/100\n",
      "1/1 [==============================] - 0s 16ms/step - loss: 7.0087 - mae: 7.0087\n",
      "Epoch 73/100\n",
      "1/1 [==============================] - 0s 16ms/step - loss: 7.0031 - mae: 7.0031\n",
      "Epoch 74/100\n",
      "1/1 [==============================] - 0s 16ms/step - loss: 6.9975 - mae: 6.9975\n",
      "Epoch 75/100\n",
      "1/1 [==============================] - 0s 16ms/step - loss: 6.9919 - mae: 6.9919\n",
      "Epoch 76/100\n",
      "1/1 [==============================] - 0s 16ms/step - loss: 6.9863 - mae: 6.9863\n",
      "Epoch 77/100\n",
      "1/1 [==============================] - 0s 16ms/step - loss: 6.9806 - mae: 6.9806\n",
      "Epoch 78/100\n",
      "1/1 [==============================] - 0s 16ms/step - loss: 6.9750 - mae: 6.9750\n",
      "Epoch 79/100\n",
      "1/1 [==============================] - 0s 16ms/step - loss: 6.9694 - mae: 6.9694\n",
      "Epoch 80/100\n",
      "1/1 [==============================] - 0s 16ms/step - loss: 6.9638 - mae: 6.9638\n",
      "Epoch 81/100\n",
      "1/1 [==============================] - 0s 16ms/step - loss: 6.9581 - mae: 6.9581\n",
      "Epoch 82/100\n",
      "1/1 [==============================] - 0s 0s/step - loss: 6.9525 - mae: 6.9525\n",
      "Epoch 83/100\n",
      "1/1 [==============================] - 0s 0s/step - loss: 6.9469 - mae: 6.9469\n",
      "Epoch 84/100\n",
      "1/1 [==============================] - 0s 0s/step - loss: 6.9412 - mae: 6.9412\n",
      "Epoch 85/100\n",
      "1/1 [==============================] - 0s 0s/step - loss: 6.9356 - mae: 6.9356\n",
      "Epoch 86/100\n",
      "1/1 [==============================] - 0s 0s/step - loss: 6.9300 - mae: 6.9300\n",
      "Epoch 87/100\n",
      "1/1 [==============================] - 0s 16ms/step - loss: 6.9244 - mae: 6.9244\n",
      "Epoch 88/100\n",
      "1/1 [==============================] - 0s 16ms/step - loss: 6.9187 - mae: 6.9187\n",
      "Epoch 89/100\n",
      "1/1 [==============================] - 0s 16ms/step - loss: 6.9131 - mae: 6.9131\n",
      "Epoch 90/100\n",
      "1/1 [==============================] - 0s 16ms/step - loss: 6.9075 - mae: 6.9075\n",
      "Epoch 91/100\n",
      "1/1 [==============================] - 0s 16ms/step - loss: 6.9019 - mae: 6.9019\n",
      "Epoch 92/100\n",
      "1/1 [==============================] - 0s 16ms/step - loss: 6.8963 - mae: 6.8963\n",
      "Epoch 93/100\n",
      "1/1 [==============================] - 0s 16ms/step - loss: 6.8906 - mae: 6.8906\n",
      "Epoch 94/100\n",
      "1/1 [==============================] - 0s 16ms/step - loss: 6.8850 - mae: 6.8850\n",
      "Epoch 95/100\n",
      "1/1 [==============================] - 0s 16ms/step - loss: 6.8794 - mae: 6.8794\n",
      "Epoch 96/100\n",
      "1/1 [==============================] - 0s 31ms/step - loss: 6.8738 - mae: 6.8738\n",
      "Epoch 97/100\n",
      "1/1 [==============================] - 0s 16ms/step - loss: 6.8681 - mae: 6.8681\n",
      "Epoch 98/100\n",
      "1/1 [==============================] - 0s 16ms/step - loss: 6.8625 - mae: 6.8625\n",
      "Epoch 99/100\n",
      "1/1 [==============================] - 0s 16ms/step - loss: 6.8569 - mae: 6.8569\n",
      "Epoch 100/100\n",
      "1/1 [==============================] - 0s 16ms/step - loss: 6.8513 - mae: 6.8513\n"
     ]
    },
    {
     "data": {
      "text/plain": [
       "<keras.src.callbacks.History at 0x1f7236b3b50>"
      ]
     },
     "execution_count": 59,
     "metadata": {},
     "output_type": "execute_result"
    }
   ],
   "source": [
    "# lets rebuild our model\n",
    "# 1. Create the model\n",
    "\n",
    "model = tf.keras.Sequential([\n",
    "    tf.keras.layers.Dense(1) \n",
    "])\n",
    " # 2. Compile the model\n",
    "model.compile(loss=tf.keras.losses.mae,\n",
    "              optimizer=tf.keras.optimizers.SGD(),\n",
    "              metrics=[\"mae\"])\n",
    "\n",
    "# 3.  Fit the model (this time 1 we'll train for longer)\n",
    "model.fit(X,y,epochs = 100)"
   ]
  },
  {
   "cell_type": "code",
   "execution_count": 60,
   "metadata": {},
   "outputs": [
    {
     "data": {
      "text/plain": [
       "(<tf.Tensor: shape=(8, 1), dtype=float32, numpy=\n",
       " array([[-7.],\n",
       "        [-4.],\n",
       "        [-1.],\n",
       "        [ 2.],\n",
       "        [ 5.],\n",
       "        [ 8.],\n",
       "        [11.],\n",
       "        [14.]], dtype=float32)>,\n",
       " <tf.Tensor: shape=(8, 1), dtype=float32, numpy=\n",
       " array([[ 3.],\n",
       "        [ 6.],\n",
       "        [ 9.],\n",
       "        [12.],\n",
       "        [15.],\n",
       "        [18.],\n",
       "        [21.],\n",
       "        [24.]], dtype=float32)>)"
      ]
     },
     "execution_count": 60,
     "metadata": {},
     "output_type": "execute_result"
    }
   ],
   "source": [
    "X, y"
   ]
  },
  {
   "cell_type": "code",
   "execution_count": 61,
   "metadata": {},
   "outputs": [
    {
     "name": "stdout",
     "output_type": "stream",
     "text": [
      "WARNING:tensorflow:6 out of the last 6 calls to <function Model.make_predict_function.<locals>.predict_function at 0x000001F723689750> triggered tf.function retracing. Tracing is expensive and the excessive number of tracings could be due to (1) creating @tf.function repeatedly in a loop, (2) passing tensors with different shapes, (3) passing Python objects instead of tensors. For (1), please define your @tf.function outside of the loop. For (2), @tf.function has reduce_retracing=True option that can avoid unnecessary retracing. For (3), please refer to https://www.tensorflow.org/guide/function#controlling_retracing and https://www.tensorflow.org/api_docs/python/tf/function for  more details.\n"
     ]
    },
    {
     "name": "stderr",
     "output_type": "stream",
     "text": [
      "WARNING:tensorflow:6 out of the last 6 calls to <function Model.make_predict_function.<locals>.predict_function at 0x000001F723689750> triggered tf.function retracing. Tracing is expensive and the excessive number of tracings could be due to (1) creating @tf.function repeatedly in a loop, (2) passing tensors with different shapes, (3) passing Python objects instead of tensors. For (1), please define your @tf.function outside of the loop. For (2), @tf.function has reduce_retracing=True option that can avoid unnecessary retracing. For (3), please refer to https://www.tensorflow.org/guide/function#controlling_retracing and https://www.tensorflow.org/api_docs/python/tf/function for  more details.\n"
     ]
    },
    {
     "name": "stdout",
     "output_type": "stream",
     "text": [
      "1/1 [==============================] - 0s 171ms/step\n"
     ]
    },
    {
     "data": {
      "text/plain": [
       "array([[29.537357]], dtype=float32)"
      ]
     },
     "execution_count": 61,
     "metadata": {},
     "output_type": "execute_result"
    }
   ],
   "source": [
    "# lets see if our model's prediction has improved\n",
    "model.predict([17.0])"
   ]
  },
  {
   "cell_type": "code",
   "execution_count": 62,
   "metadata": {},
   "outputs": [
    {
     "name": "stderr",
     "output_type": "stream",
     "text": [
      "WARNING:absl:`lr` is deprecated in Keras optimizer, please use `learning_rate` or use the legacy optimizer, e.g.,tf.keras.optimizers.legacy.Adam.\n"
     ]
    },
    {
     "name": "stdout",
     "output_type": "stream",
     "text": [
      "Epoch 1/100\n",
      "1/1 [==============================] - 1s 709ms/step - loss: 12.8156 - mae: 12.8156\n",
      "Epoch 2/100\n",
      "1/1 [==============================] - 0s 16ms/step - loss: 12.7449 - mae: 12.7449\n",
      "Epoch 3/100\n",
      "1/1 [==============================] - 0s 0s/step - loss: 12.6742 - mae: 12.6742\n",
      "Epoch 4/100\n",
      "1/1 [==============================] - 0s 0s/step - loss: 12.6034 - mae: 12.6034\n",
      "Epoch 5/100\n",
      "1/1 [==============================] - 0s 0s/step - loss: 12.5327 - mae: 12.5327\n",
      "Epoch 6/100\n",
      "1/1 [==============================] - 0s 16ms/step - loss: 12.4619 - mae: 12.4619\n",
      "Epoch 7/100\n",
      "1/1 [==============================] - 0s 16ms/step - loss: 12.3911 - mae: 12.3911\n",
      "Epoch 8/100\n",
      "1/1 [==============================] - 0s 16ms/step - loss: 12.3203 - mae: 12.3203\n",
      "Epoch 9/100\n",
      "1/1 [==============================] - 0s 16ms/step - loss: 12.2495 - mae: 12.2495\n",
      "Epoch 10/100\n",
      "1/1 [==============================] - 0s 16ms/step - loss: 12.1786 - mae: 12.1786\n",
      "Epoch 11/100\n",
      "1/1 [==============================] - 0s 16ms/step - loss: 12.1077 - mae: 12.1077\n",
      "Epoch 12/100\n",
      "1/1 [==============================] - 0s 16ms/step - loss: 12.0368 - mae: 12.0368\n",
      "Epoch 13/100\n",
      "1/1 [==============================] - 0s 0s/step - loss: 11.9658 - mae: 11.9658\n",
      "Epoch 14/100\n",
      "1/1 [==============================] - 0s 16ms/step - loss: 11.8947 - mae: 11.8947\n",
      "Epoch 15/100\n",
      "1/1 [==============================] - 0s 16ms/step - loss: 11.8236 - mae: 11.8236\n",
      "Epoch 16/100\n",
      "1/1 [==============================] - 0s 16ms/step - loss: 11.7524 - mae: 11.7524\n",
      "Epoch 17/100\n",
      "1/1 [==============================] - 0s 16ms/step - loss: 11.6812 - mae: 11.6812\n",
      "Epoch 18/100\n",
      "1/1 [==============================] - 0s 16ms/step - loss: 11.6098 - mae: 11.6098\n",
      "Epoch 19/100\n",
      "1/1 [==============================] - 0s 16ms/step - loss: 11.5384 - mae: 11.5384\n",
      "Epoch 20/100\n",
      "1/1 [==============================] - 0s 16ms/step - loss: 11.4669 - mae: 11.4669\n",
      "Epoch 21/100\n",
      "1/1 [==============================] - 0s 16ms/step - loss: 11.3953 - mae: 11.3953\n",
      "Epoch 22/100\n",
      "1/1 [==============================] - 0s 0s/step - loss: 11.3236 - mae: 11.3236\n",
      "Epoch 23/100\n",
      "1/1 [==============================] - 0s 0s/step - loss: 11.2517 - mae: 11.2517\n",
      "Epoch 24/100\n",
      "1/1 [==============================] - 0s 0s/step - loss: 11.1798 - mae: 11.1798\n",
      "Epoch 25/100\n",
      "1/1 [==============================] - 0s 31ms/step - loss: 11.1077 - mae: 11.1077\n",
      "Epoch 26/100\n",
      "1/1 [==============================] - 0s 16ms/step - loss: 11.0355 - mae: 11.0355\n",
      "Epoch 27/100\n",
      "1/1 [==============================] - 0s 0s/step - loss: 10.9632 - mae: 10.9632\n",
      "Epoch 28/100\n",
      "1/1 [==============================] - 0s 37ms/step - loss: 10.8907 - mae: 10.8907\n",
      "Epoch 29/100\n",
      "1/1 [==============================] - 0s 16ms/step - loss: 10.8181 - mae: 10.8181\n",
      "Epoch 30/100\n",
      "1/1 [==============================] - 0s 16ms/step - loss: 10.7453 - mae: 10.7453\n",
      "Epoch 31/100\n",
      "1/1 [==============================] - 0s 16ms/step - loss: 10.6723 - mae: 10.6723\n",
      "Epoch 32/100\n",
      "1/1 [==============================] - 0s 0s/step - loss: 10.5992 - mae: 10.5992\n",
      "Epoch 33/100\n",
      "1/1 [==============================] - 0s 16ms/step - loss: 10.5259 - mae: 10.5259\n",
      "Epoch 34/100\n",
      "1/1 [==============================] - 0s 31ms/step - loss: 10.4525 - mae: 10.4525\n",
      "Epoch 35/100\n",
      "1/1 [==============================] - 0s 16ms/step - loss: 10.3788 - mae: 10.3788\n",
      "Epoch 36/100\n",
      "1/1 [==============================] - 0s 16ms/step - loss: 10.3050 - mae: 10.3050\n",
      "Epoch 37/100\n",
      "1/1 [==============================] - 0s 16ms/step - loss: 10.2309 - mae: 10.2309\n",
      "Epoch 38/100\n",
      "1/1 [==============================] - 0s 16ms/step - loss: 10.1567 - mae: 10.1567\n",
      "Epoch 39/100\n",
      "1/1 [==============================] - 0s 900us/step - loss: 10.0822 - mae: 10.0822\n",
      "Epoch 40/100\n",
      "1/1 [==============================] - 0s 0s/step - loss: 10.0075 - mae: 10.0075\n",
      "Epoch 41/100\n",
      "1/1 [==============================] - 0s 0s/step - loss: 9.9326 - mae: 9.9326\n",
      "Epoch 42/100\n",
      "1/1 [==============================] - 0s 0s/step - loss: 9.8574 - mae: 9.8574\n",
      "Epoch 43/100\n",
      "1/1 [==============================] - 0s 0s/step - loss: 9.7820 - mae: 9.7820\n",
      "Epoch 44/100\n",
      "1/1 [==============================] - 0s 0s/step - loss: 9.7063 - mae: 9.7063\n",
      "Epoch 45/100\n",
      "1/1 [==============================] - 0s 0s/step - loss: 9.6304 - mae: 9.6304\n",
      "Epoch 46/100\n",
      "1/1 [==============================] - 0s 0s/step - loss: 9.5542 - mae: 9.5542\n",
      "Epoch 47/100\n",
      "1/1 [==============================] - 0s 0s/step - loss: 9.4778 - mae: 9.4778\n",
      "Epoch 48/100\n",
      "1/1 [==============================] - 0s 0s/step - loss: 9.4010 - mae: 9.4010\n",
      "Epoch 49/100\n",
      "1/1 [==============================] - 0s 16ms/step - loss: 9.3240 - mae: 9.3240\n",
      "Epoch 50/100\n",
      "1/1 [==============================] - 0s 16ms/step - loss: 9.2467 - mae: 9.2467\n",
      "Epoch 51/100\n",
      "1/1 [==============================] - 0s 16ms/step - loss: 9.1691 - mae: 9.1691\n",
      "Epoch 52/100\n",
      "1/1 [==============================] - 0s 16ms/step - loss: 9.0911 - mae: 9.0911\n",
      "Epoch 53/100\n",
      "1/1 [==============================] - 0s 16ms/step - loss: 9.0129 - mae: 9.0129\n",
      "Epoch 54/100\n",
      "1/1 [==============================] - 0s 20ms/step - loss: 8.9343 - mae: 8.9343\n",
      "Epoch 55/100\n",
      "1/1 [==============================] - 0s 16ms/step - loss: 8.8555 - mae: 8.8555\n",
      "Epoch 56/100\n",
      "1/1 [==============================] - 0s 16ms/step - loss: 8.7762 - mae: 8.7762\n",
      "Epoch 57/100\n",
      "1/1 [==============================] - 0s 16ms/step - loss: 8.6967 - mae: 8.6967\n",
      "Epoch 58/100\n",
      "1/1 [==============================] - 0s 16ms/step - loss: 8.6168 - mae: 8.6168\n",
      "Epoch 59/100\n",
      "1/1 [==============================] - 0s 16ms/step - loss: 8.5365 - mae: 8.5365\n",
      "Epoch 60/100\n",
      "1/1 [==============================] - 0s 16ms/step - loss: 8.4559 - mae: 8.4559\n",
      "Epoch 61/100\n",
      "1/1 [==============================] - 0s 16ms/step - loss: 8.3749 - mae: 8.3749\n",
      "Epoch 62/100\n",
      "1/1 [==============================] - 0s 16ms/step - loss: 8.2936 - mae: 8.2936\n",
      "Epoch 63/100\n",
      "1/1 [==============================] - 0s 16ms/step - loss: 8.2119 - mae: 8.2119\n",
      "Epoch 64/100\n",
      "1/1 [==============================] - 0s 31ms/step - loss: 8.1297 - mae: 8.1297\n",
      "Epoch 65/100\n",
      "1/1 [==============================] - 0s 0s/step - loss: 8.0472 - mae: 8.0472\n",
      "Epoch 66/100\n",
      "1/1 [==============================] - 0s 0s/step - loss: 7.9643 - mae: 7.9643\n",
      "Epoch 67/100\n",
      "1/1 [==============================] - 0s 31ms/step - loss: 7.8810 - mae: 7.8810\n",
      "Epoch 68/100\n",
      "1/1 [==============================] - 0s 16ms/step - loss: 7.7973 - mae: 7.7973\n",
      "Epoch 69/100\n",
      "1/1 [==============================] - 0s 16ms/step - loss: 7.7132 - mae: 7.7132\n",
      "Epoch 70/100\n",
      "1/1 [==============================] - 0s 16ms/step - loss: 7.6286 - mae: 7.6286\n",
      "Epoch 71/100\n",
      "1/1 [==============================] - 0s 31ms/step - loss: 7.5437 - mae: 7.5437\n",
      "Epoch 72/100\n",
      "1/1 [==============================] - 0s 16ms/step - loss: 7.4582 - mae: 7.4582\n",
      "Epoch 73/100\n",
      "1/1 [==============================] - 0s 0s/step - loss: 7.3724 - mae: 7.3724\n",
      "Epoch 74/100\n",
      "1/1 [==============================] - 0s 0s/step - loss: 7.2861 - mae: 7.2861\n",
      "Epoch 75/100\n",
      "1/1 [==============================] - 0s 0s/step - loss: 7.1993 - mae: 7.1993\n",
      "Epoch 76/100\n",
      "1/1 [==============================] - 0s 16ms/step - loss: 7.1121 - mae: 7.1121\n",
      "Epoch 77/100\n",
      "1/1 [==============================] - 0s 16ms/step - loss: 7.0244 - mae: 7.0244\n",
      "Epoch 78/100\n",
      "1/1 [==============================] - 0s 16ms/step - loss: 6.9363 - mae: 6.9363\n",
      "Epoch 79/100\n",
      "1/1 [==============================] - 0s 16ms/step - loss: 6.8778 - mae: 6.8778\n",
      "Epoch 80/100\n",
      "1/1 [==============================] - 0s 16ms/step - loss: 6.8679 - mae: 6.8679\n",
      "Epoch 81/100\n",
      "1/1 [==============================] - 0s 16ms/step - loss: 6.8583 - mae: 6.8583\n",
      "Epoch 82/100\n",
      "1/1 [==============================] - 0s 16ms/step - loss: 6.8488 - mae: 6.8488\n",
      "Epoch 83/100\n",
      "1/1 [==============================] - 0s 16ms/step - loss: 6.8395 - mae: 6.8395\n",
      "Epoch 84/100\n",
      "1/1 [==============================] - 0s 16ms/step - loss: 6.8304 - mae: 6.8304\n",
      "Epoch 85/100\n",
      "1/1 [==============================] - 0s 16ms/step - loss: 6.8214 - mae: 6.8214\n",
      "Epoch 86/100\n",
      "1/1 [==============================] - 0s 16ms/step - loss: 6.8125 - mae: 6.8125\n",
      "Epoch 87/100\n",
      "1/1 [==============================] - 0s 0s/step - loss: 6.8038 - mae: 6.8038\n",
      "Epoch 88/100\n",
      "1/1 [==============================] - 0s 0s/step - loss: 6.7951 - mae: 6.7951\n",
      "Epoch 89/100\n",
      "1/1 [==============================] - 0s 0s/step - loss: 6.7865 - mae: 6.7865\n",
      "Epoch 90/100\n",
      "1/1 [==============================] - 0s 0s/step - loss: 6.7780 - mae: 6.7780\n",
      "Epoch 91/100\n",
      "1/1 [==============================] - 0s 0s/step - loss: 6.7696 - mae: 6.7696\n",
      "Epoch 92/100\n",
      "1/1 [==============================] - 0s 16ms/step - loss: 6.7612 - mae: 6.7612\n",
      "Epoch 93/100\n",
      "1/1 [==============================] - 0s 16ms/step - loss: 6.7693 - mae: 6.7693\n",
      "Epoch 94/100\n",
      "1/1 [==============================] - 0s 16ms/step - loss: 6.7735 - mae: 6.7735\n",
      "Epoch 95/100\n",
      "1/1 [==============================] - 0s 16ms/step - loss: 6.7717 - mae: 6.7717\n",
      "Epoch 96/100\n",
      "1/1 [==============================] - 0s 16ms/step - loss: 6.7645 - mae: 6.7645\n",
      "Epoch 97/100\n",
      "1/1 [==============================] - 0s 16ms/step - loss: 6.7524 - mae: 6.7524\n",
      "Epoch 98/100\n",
      "1/1 [==============================] - 0s 16ms/step - loss: 6.7360 - mae: 6.7360\n",
      "Epoch 99/100\n",
      "1/1 [==============================] - 0s 16ms/step - loss: 6.7157 - mae: 6.7157\n",
      "Epoch 100/100\n",
      "1/1 [==============================] - 0s 16ms/step - loss: 6.7053 - mae: 6.7053\n"
     ]
    },
    {
     "data": {
      "text/plain": [
       "<keras.src.callbacks.History at 0x1f7237846a0>"
      ]
     },
     "execution_count": 62,
     "metadata": {},
     "output_type": "execute_result"
    }
   ],
   "source": [
    "# lets see if we can  make another to improve  our model\n",
    "\n",
    "#1. create the model  ( this time  with an extra  hidden layer with 50 hidden units)\n",
    "model = tf.keras.Sequential([\n",
    "    tf.keras.layers.Dense(50, activation =None),\n",
    "    tf.keras.layers.Dense(1)\n",
    "])\n",
    "\n",
    "# 2.compile the model\n",
    "model.compile(loss=\"mae\",\n",
    "              optimizer=tf.keras.optimizers.Adam(lr=0.0001),\n",
    "              metrics=[\"mae\"])\n",
    "\n",
    "# 3. fit he model\n",
    "model.fit(X,y,epochs=100)\n"
   ]
  },
  {
   "cell_type": "code",
   "execution_count": 63,
   "metadata": {},
   "outputs": [
    {
     "name": "stdout",
     "output_type": "stream",
     "text": [
      "1/1 [==============================] - 0s 180ms/step\n"
     ]
    },
    {
     "data": {
      "text/plain": [
       "array([[31.691828]], dtype=float32)"
      ]
     },
     "execution_count": 63,
     "metadata": {},
     "output_type": "execute_result"
    }
   ],
   "source": [
    "model.predict([17.0])  # our model is overfitting"
   ]
  },
  {
   "cell_type": "markdown",
   "metadata": {},
   "source": [
    "## Evaluting a Model\n",
    "In practical  a typical  workflow you will  through when  building  neural network is:\n",
    "```\n",
    "Build a model -> fit it  ->  evaluate it  -> tweek the model ->  fit it ->  evaluate it -> tweak a model -> fit it -> evaluate it....\n",
    "```"
   ]
  },
  {
   "cell_type": "code",
   "execution_count": 64,
   "metadata": {},
   "outputs": [
    {
     "data": {
      "text/plain": [
       "tf.float32"
      ]
     },
     "execution_count": 64,
     "metadata": {},
     "output_type": "execute_result"
    }
   ],
   "source": [
    "# make a bigger dataset\n",
    "\n",
    "X = tf.cast(tf.range (-100, 100, 4), dtype= tf.float32)\n",
    "X.dtype"
   ]
  },
  {
   "cell_type": "code",
   "execution_count": 65,
   "metadata": {},
   "outputs": [
    {
     "data": {
      "text/plain": [
       "<tf.Tensor: shape=(50,), dtype=float32, numpy=\n",
       "array([-90., -86., -82., -78., -74., -70., -66., -62., -58., -54., -50.,\n",
       "       -46., -42., -38., -34., -30., -26., -22., -18., -14., -10.,  -6.,\n",
       "        -2.,   2.,   6.,  10.,  14.,  18.,  22.,  26.,  30.,  34.,  38.,\n",
       "        42.,  46.,  50.,  54.,  58.,  62.,  66.,  70.,  74.,  78.,  82.,\n",
       "        86.,  90.,  94.,  98., 102., 106.], dtype=float32)>"
      ]
     },
     "execution_count": 65,
     "metadata": {},
     "output_type": "execute_result"
    }
   ],
   "source": [
    "# make labels for dataset\n",
    "y = X + 10\n",
    "y "
   ]
  },
  {
   "cell_type": "code",
   "execution_count": 66,
   "metadata": {},
   "outputs": [
    {
     "data": {
      "text/plain": [
       "<matplotlib.collections.PathCollection at 0x1f725245150>"
      ]
     },
     "execution_count": 66,
     "metadata": {},
     "output_type": "execute_result"
    },
    {
     "data": {
      "image/png": "[encoded data removed]",
      "text/plain": [
       "<Figure size 640x480 with 1 Axes>"
      ]
     },
     "metadata": {},
     "output_type": "display_data"
    }
   ],
   "source": [
    "# Visualize the data\n",
    "plt.plot(X,y)   # or\n",
    "plt.scatter(X,y)"
   ]
  },
  {
   "cell_type": "markdown",
   "metadata": {},
   "source": [
    "### The 3 sets...\n",
    "* **Training set** -  the model learns from this data , which is typically  70-80%  of the total data you have  avialable.\n",
    "* **Validation set**- the model gets tuned on this data, which is typically  10-15%  of the data available.\n",
    "* **Test  set** -  the model gets evaluated on this data to test  what is has learned this set is typically 10-15%  of the total  data available."
   ]
  },
  {
   "cell_type": "code",
   "execution_count": 67,
   "metadata": {},
   "outputs": [
    {
     "data": {
      "text/plain": [
       "50"
      ]
     },
     "execution_count": 67,
     "metadata": {},
     "output_type": "execute_result"
    }
   ],
   "source": [
    "# check the length of how many sample we have\n",
    "len(X)"
   ]
  },
  {
   "cell_type": "code",
   "execution_count": 87,
   "metadata": {},
   "outputs": [
    {
     "data": {
      "text/plain": [
       "(40, 10, 40, 10)"
      ]
     },
     "execution_count": 87,
     "metadata": {},
     "output_type": "execute_result"
    }
   ],
   "source": [
    "# Split the data into train  and test  sets\n",
    "X_train = X[:40] # first 40  are training samples (80% of the data)\n",
    "y_train = y[:40]\n",
    "\n",
    "X_test = X[40:] # last 10 are test samples (20% of the data)\n",
    "y_test = y[40:]\n",
    "\n",
    "len(X_train), len(X_test), len(y_train), len(y_test)"
   ]
  },
  {
   "cell_type": "markdown",
   "metadata": {},
   "source": [
    "## Visualizing the data\n",
    "Now we've got our data in training and test sets... let's visualize it again!"
   ]
  },
  {
   "cell_type": "code",
   "execution_count": 69,
   "metadata": {},
   "outputs": [
    {
     "data": {
      "image/png": "[encoded data removed]",
      "text/plain": [
       "<Figure size 1000x700 with 1 Axes>"
      ]
     },
     "metadata": {},
     "output_type": "display_data"
    }
   ],
   "source": [
    "plt.figure(figsize=(10,7))\n",
    "\n",
    "# plot training data in blue \n",
    "plt.scatter(X_train,y_train, c=\"b\", label=\"Training data\")  \n",
    "\n",
    "# ploy test data in green\n",
    "plt.scatter(X_test, y_test, c=\"g\", label=\"Testing data\")\n",
    "plt.legend();"
   ]
  },
  {
   "cell_type": "code",
   "execution_count": 70,
   "metadata": {},
   "outputs": [
    {
     "data": {
      "text/plain": [
       "(<tf.Tensor: shape=(), dtype=float32, numpy=-100.0>,\n",
       " <tf.Tensor: shape=(), dtype=float32, numpy=-90.0>)"
      ]
     },
     "execution_count": 70,
     "metadata": {},
     "output_type": "execute_result"
    }
   ],
   "source": [
    "# lets have a look at  how to build a neural network for our data\n",
    "X[0], y[0]"
   ]
  },
  {
   "cell_type": "code",
   "execution_count": 71,
   "metadata": {},
   "outputs": [],
   "source": [
    "#  lets create a model which  builds automatically by defining the input_shape argument in the first layer\n",
    "tf.random.set_seed(42)\n",
    "# 1.Same create a model\n",
    "model = tf.keras.Sequential([\n",
    "    tf.keras.layers.Dense(10, input_shape=[1], name=\"input_layer\"),\n",
    "    tf.keras.layers.Dense(1, name=\"output_layer\")\n",
    "],name=\"models_1\")\n",
    "# 2.compile the model\n",
    "model.compile(loss =tf.keras.losses.mae,\n",
    "              optimizer = tf.keras.optimizers.SGD(),\n",
    "              metrics = [\"mae\"])\n",
    "\n",
    "\n",
    "\n"
   ]
  },
  {
   "cell_type": "code",
   "execution_count": 72,
   "metadata": {},
   "outputs": [
    {
     "data": {
      "text/plain": [
       "<keras.src.callbacks.History at 0x1f7255db970>"
      ]
     },
     "execution_count": 72,
     "metadata": {},
     "output_type": "execute_result"
    }
   ],
   "source": [
    "#3. fit the model\n",
    "model.fit(X_train,y_train,epochs=100,verbose=0)"
   ]
  },
  {
   "cell_type": "code",
   "execution_count": 73,
   "metadata": {},
   "outputs": [
    {
     "name": "stdout",
     "output_type": "stream",
     "text": [
      "Model: \"models_1\"\n",
      "_________________________________________________________________\n",
      " Layer (type)                Output Shape              Param #   \n",
      "=================================================================\n",
      " input_layer (Dense)         (None, 10)                20        \n",
      "                                                                 \n",
      " output_layer (Dense)        (None, 1)                 11        \n",
      "                                                                 \n",
      "=================================================================\n",
      "Total params: 31 (124.00 Byte)\n",
      "Trainable params: 31 (124.00 Byte)\n",
      "Non-trainable params: 0 (0.00 Byte)\n",
      "_________________________________________________________________\n"
     ]
    }
   ],
   "source": [
    "model.summary()"
   ]
  },
  {
   "cell_type": "code",
   "execution_count": 74,
   "metadata": {},
   "outputs": [],
   "source": [
    "# from tensorflow.keras.utils import plot_model\n",
    "# plot_model(model=model,show_shapes=False) "
   ]
  },
  {
   "cell_type": "markdown",
   "metadata": {},
   "source": [
    "## Visualizing our models predictions\n",
    "to visualize  precdictions its good idea to plot them against the ground  truth labels.Often  you'll see this in the form of `y_test` or `y_true`  versus  `y_pred` ( ground  truth  versus your model ).."
   ]
  },
  {
   "cell_type": "code",
   "execution_count": 75,
   "metadata": {},
   "outputs": [
    {
     "name": "stdout",
     "output_type": "stream",
     "text": [
      "1/1 [==============================] - 0s 150ms/step\n"
     ]
    },
    {
     "data": {
      "text/plain": [
       "array([[ 71.2879  ],\n",
       "       [ 75.9306  ],\n",
       "       [ 80.5733  ],\n",
       "       [ 85.215996],\n",
       "       [ 89.858696],\n",
       "       [ 94.50138 ],\n",
       "       [ 99.14408 ],\n",
       "       [103.78677 ],\n",
       "       [108.429474],\n",
       "       [113.072174]], dtype=float32)"
      ]
     },
     "execution_count": 75,
     "metadata": {},
     "output_type": "execute_result"
    }
   ],
   "source": [
    "# make your predictions\n",
    "y_pred =  model.predict(X_test)\n",
    "y_pred"
   ]
  },
  {
   "cell_type": "code",
   "execution_count": 76,
   "metadata": {},
   "outputs": [
    {
     "data": {
      "text/plain": [
       "<tf.Tensor: shape=(10,), dtype=float32, numpy=\n",
       "array([ 70.,  74.,  78.,  82.,  86.,  90.,  94.,  98., 102., 106.],\n",
       "      dtype=float32)>"
      ]
     },
     "execution_count": 76,
     "metadata": {},
     "output_type": "execute_result"
    }
   ],
   "source": [
    "y_test"
   ]
  },
  {
   "cell_type": "code",
   "execution_count": 77,
   "metadata": {},
   "outputs": [],
   "source": [
    "# let's  create a plotting function\n",
    "def plott_predictions(train_data = X_train,\n",
    "                      train_labels= y_train,\n",
    "                      test_data = X_test,\n",
    "                      test_labels=y_test,\n",
    "                      predictions = y_pred):\n",
    "    \"\"\"\n",
    "    Plots training data,test data and compares prediction to ground truth\n",
    "    \"\"\"\n",
    "    plt.figure(figsize=(10,7))\n",
    "\n",
    "    # Plot training data in blue\n",
    "    plt.scatter(train_data,train_labels, c=\"b\", label=\"Training data\")\n",
    "    # plot testting data in Green\n",
    "    plt.scatter(test_data,test_labels,c=\"g\", label=\"Testing data\")\n",
    "    # plott models prediction in Red\n",
    "    plt.scatter(test_data, predictions, c=\"r\", label=\"Predictioin\")\n",
    "\n",
    "    # show the legand\n",
    "    plt.legend();"
   ]
  },
  {
   "cell_type": "code",
   "execution_count": 78,
   "metadata": {},
   "outputs": [
    {
     "data": {
      "image/png": "[encoded data removed]",
      "text/plain": [
       "<Figure size 1000x700 with 1 Axes>"
      ]
     },
     "metadata": {},
     "output_type": "display_data"
    }
   ],
   "source": [
    "plott_predictions(train_data = X_train,\n",
    "                  train_labels= y_train,\n",
    "                  test_data = X_test,\n",
    "                  test_labels=y_test,\n",
    "                  predictions = y_pred)"
   ]
  },
  {
   "cell_type": "markdown",
   "metadata": {},
   "source": [
    "## Evaluting our model's  predictions with  regression evaluation metrics "
   ]
  },
  {
   "cell_type": "code",
   "execution_count": 79,
   "metadata": {},
   "outputs": [
    {
     "name": "stdout",
     "output_type": "stream",
     "text": [
      "1/1 [==============================] - 0s 172ms/step - loss: 4.1800 - mae: 4.1800\n"
     ]
    },
    {
     "data": {
      "text/plain": [
       "[4.1800384521484375, 4.1800384521484375]"
      ]
     },
     "execution_count": 79,
     "metadata": {},
     "output_type": "execute_result"
    }
   ],
   "source": [
    "#  Evaluate  the model on the test\n",
    "model.evaluate(X_test,y_test)"
   ]
  },
  {
   "cell_type": "code",
   "execution_count": 80,
   "metadata": {},
   "outputs": [
    {
     "data": {
      "text/plain": [
       "<tf.Tensor: shape=(10,), dtype=float32, numpy=\n",
       "array([16.969677, 13.641638, 11.370679, 10.156801, 10.      , 11.000552,\n",
       "       13.086449, 16.22942 , 20.429474, 25.072174], dtype=float32)>"
      ]
     },
     "execution_count": 80,
     "metadata": {},
     "output_type": "execute_result"
    }
   ],
   "source": [
    "# calculate the mean absolute error\n",
    "mae =  tf.metrics.mean_absolute_error(y_true = y_test,\n",
    "                                      y_pred = y_pred)\n",
    "mae"
   ]
  },
  {
   "cell_type": "code",
   "execution_count": 81,
   "metadata": {},
   "outputs": [
    {
     "data": {
      "text/plain": [
       "<tf.Tensor: shape=(10,), dtype=float32, numpy=\n",
       "array([ 71.2879  ,  75.9306  ,  80.5733  ,  85.215996,  89.858696,\n",
       "        94.50138 ,  99.14408 , 103.78677 , 108.429474, 113.072174],\n",
       "      dtype=float32)>"
      ]
     },
     "execution_count": 81,
     "metadata": {},
     "output_type": "execute_result"
    }
   ],
   "source": [
    "tf.squeeze(y_pred)"
   ]
  },
  {
   "cell_type": "code",
   "execution_count": 82,
   "metadata": {},
   "outputs": [
    {
     "data": {
      "text/plain": [
       "<tf.Tensor: shape=(), dtype=float32, numpy=4.1800385>"
      ]
     },
     "execution_count": 82,
     "metadata": {},
     "output_type": "execute_result"
    }
   ],
   "source": [
    "# calculate  the mean absolute error\n",
    "mae =  tf.metrics.mean_absolute_error(y_true= y_test,\n",
    "                                          y_pred = tf.squeeze(y_pred))\n",
    "mae"
   ]
  },
  {
   "cell_type": "code",
   "execution_count": 83,
   "metadata": {},
   "outputs": [
    {
     "data": {
      "text/plain": [
       "<tf.Tensor: shape=(), dtype=float32, numpy=20.880451>"
      ]
     },
     "execution_count": 83,
     "metadata": {},
     "output_type": "execute_result"
    }
   ],
   "source": [
    "# calculate the mean square error\n",
    "mse = tf.metrics.mean_squared_error(y_true=y_test,\n",
    "                                    y_pred =tf.squeeze(y_pred))\n",
    "mse\n"
   ]
  },
  {
   "cell_type": "code",
   "execution_count": 84,
   "metadata": {},
   "outputs": [
    {
     "data": {
      "text/plain": [
       "<tf.Tensor: shape=(), dtype=float32, numpy=4.1800385>"
      ]
     },
     "execution_count": 84,
     "metadata": {},
     "output_type": "execute_result"
    }
   ],
   "source": [
    "# make some functions to reuse MAE and MSE\n",
    "def mae(y_true, y_pred):\n",
    "    return tf.metrics.mean_absolute_error(y_true= y_test,\n",
    "                                          y_pred = tf.squeeze(y_pred))\n",
    "mae(y_test, y_pred)"
   ]
  },
  {
   "cell_type": "code",
   "execution_count": 85,
   "metadata": {},
   "outputs": [
    {
     "data": {
      "text/plain": [
       "<tf.Tensor: shape=(), dtype=float32, numpy=20.880451>"
      ]
     },
     "execution_count": 85,
     "metadata": {},
     "output_type": "execute_result"
    }
   ],
   "source": [
    "def mse(y_true, y_pred):\n",
    "    return tf.metrics.mean_squared_error(y_true= y_test,\n",
    "                                          y_pred = tf.squeeze(y_pred))\n",
    "mse(y_test, y_pred)"
   ]
  },
  {
   "cell_type": "markdown",
   "metadata": {},
   "source": [
    "###  Running experiments to improve  our model\n",
    "```\n",
    "Build  a model  ->  fit it -> evaluate it -> tweak it -> fit it sooo on\n",
    "```\n",
    "1. Get more Data\n",
    "2. make your model larger\n",
    "3. Train for longer"
   ]
  },
  {
   "cell_type": "code",
   "execution_count": 88,
   "metadata": {},
   "outputs": [
    {
     "name": "stdout",
     "output_type": "stream",
     "text": [
      "Epoch 1/100\n"
     ]
    },
    {
     "ename": "ValueError",
     "evalue": "in user code:\n\n    File \"c:\\Users\\user\\AppData\\Local\\Programs\\Python\\Python310\\lib\\site-packages\\keras\\src\\engine\\training.py\", line 1401, in train_function  *\n        return step_function(self, iterator)\n    File \"c:\\Users\\user\\AppData\\Local\\Programs\\Python\\Python310\\lib\\site-packages\\keras\\src\\engine\\training.py\", line 1384, in step_function  **\n        outputs = model.distribute_strategy.run(run_step, args=(data,))\n    File \"c:\\Users\\user\\AppData\\Local\\Programs\\Python\\Python310\\lib\\site-packages\\keras\\src\\engine\\training.py\", line 1373, in run_step  **\n        outputs = model.train_step(data)\n    File \"c:\\Users\\user\\AppData\\Local\\Programs\\Python\\Python310\\lib\\site-packages\\keras\\src\\engine\\training.py\", line 1150, in train_step\n        y_pred = self(x, training=True)\n    File \"c:\\Users\\user\\AppData\\Local\\Programs\\Python\\Python310\\lib\\site-packages\\keras\\src\\utils\\traceback_utils.py\", line 70, in error_handler\n        raise e.with_traceback(filtered_tb) from None\n    File \"c:\\Users\\user\\AppData\\Local\\Programs\\Python\\Python310\\lib\\site-packages\\keras\\src\\engine\\input_spec.py\", line 253, in assert_input_compatibility\n        raise ValueError(\n\n    ValueError: Exception encountered when calling layer 'sequential_13' (type Sequential).\n    \n    Input 0 of layer \"dense_15\" is incompatible with the layer: expected min_ndim=2, found ndim=1. Full shape received: (None,)\n    \n    Call arguments received by layer 'sequential_13' (type Sequential):\n      • inputs=tf.Tensor(shape=(None,), dtype=float32)\n      • training=True\n      • mask=None\n",
     "output_type": "error",
     "traceback": [
      "\u001b[1;31m---------------------------------------------------------------------------\u001b[0m",
      "\u001b[1;31mValueError\u001b[0m                                Traceback (most recent call last)",
      "Cell \u001b[1;32mIn [88], line 15\u001b[0m\n\u001b[0;32m     10\u001b[0m model_1\u001b[38;5;241m.\u001b[39mcompile(loss \u001b[38;5;241m=\u001b[39mtf\u001b[38;5;241m.\u001b[39mkeras\u001b[38;5;241m.\u001b[39mlosses\u001b[38;5;241m.\u001b[39mmae,\n\u001b[0;32m     11\u001b[0m                 optimizer \u001b[38;5;241m=\u001b[39m tf\u001b[38;5;241m.\u001b[39mkeras\u001b[38;5;241m.\u001b[39moptimizers\u001b[38;5;241m.\u001b[39mSGD(),\n\u001b[0;32m     12\u001b[0m                 metrics \u001b[38;5;241m=\u001b[39m[\u001b[38;5;124m\"\u001b[39m\u001b[38;5;124mmae\u001b[39m\u001b[38;5;124m\"\u001b[39m])\n\u001b[0;32m     14\u001b[0m \u001b[38;5;66;03m# 3.Fit the model\u001b[39;00m\n\u001b[1;32m---> 15\u001b[0m \u001b[43mmodel_1\u001b[49m\u001b[38;5;241;43m.\u001b[39;49m\u001b[43mfit\u001b[49m\u001b[43m(\u001b[49m\u001b[43mX\u001b[49m\u001b[43m,\u001b[49m\u001b[43my\u001b[49m\u001b[43m,\u001b[49m\u001b[43mepochs\u001b[49m\u001b[38;5;241;43m=\u001b[39;49m\u001b[38;5;241;43m100\u001b[39;49m\u001b[43m)\u001b[49m\n",
      "File \u001b[1;32mc:\\Users\\user\\AppData\\Local\\Programs\\Python\\Python310\\lib\\site-packages\\keras\\src\\utils\\traceback_utils.py:70\u001b[0m, in \u001b[0;36mfilter_traceback.<locals>.error_handler\u001b[1;34m(*args, **kwargs)\u001b[0m\n\u001b[0;32m     67\u001b[0m     filtered_tb \u001b[38;5;241m=\u001b[39m _process_traceback_frames(e\u001b[38;5;241m.\u001b[39m__traceback__)\n\u001b[0;32m     68\u001b[0m     \u001b[38;5;66;03m# To get the full stack trace, call:\u001b[39;00m\n\u001b[0;32m     69\u001b[0m     \u001b[38;5;66;03m# `tf.debugging.disable_traceback_filtering()`\u001b[39;00m\n\u001b[1;32m---> 70\u001b[0m     \u001b[38;5;28;01mraise\u001b[39;00m e\u001b[38;5;241m.\u001b[39mwith_traceback(filtered_tb) \u001b[38;5;28;01mfrom\u001b[39;00m \u001b[38;5;28mNone\u001b[39m\n\u001b[0;32m     71\u001b[0m \u001b[38;5;28;01mfinally\u001b[39;00m:\n\u001b[0;32m     72\u001b[0m     \u001b[38;5;28;01mdel\u001b[39;00m filtered_tb\n",
      "File \u001b[1;32m~\\AppData\\Local\\Temp\\__autograph_generated_fileez6k1lsp.py:15\u001b[0m, in \u001b[0;36mouter_factory.<locals>.inner_factory.<locals>.tf__train_function\u001b[1;34m(iterator)\u001b[0m\n\u001b[0;32m     13\u001b[0m \u001b[38;5;28;01mtry\u001b[39;00m:\n\u001b[0;32m     14\u001b[0m     do_return \u001b[38;5;241m=\u001b[39m \u001b[38;5;28;01mTrue\u001b[39;00m\n\u001b[1;32m---> 15\u001b[0m     retval_ \u001b[38;5;241m=\u001b[39m ag__\u001b[38;5;241m.\u001b[39mconverted_call(ag__\u001b[38;5;241m.\u001b[39mld(step_function), (ag__\u001b[38;5;241m.\u001b[39mld(\u001b[38;5;28mself\u001b[39m), ag__\u001b[38;5;241m.\u001b[39mld(iterator)), \u001b[38;5;28;01mNone\u001b[39;00m, fscope)\n\u001b[0;32m     16\u001b[0m \u001b[38;5;28;01mexcept\u001b[39;00m:\n\u001b[0;32m     17\u001b[0m     do_return \u001b[38;5;241m=\u001b[39m \u001b[38;5;28;01mFalse\u001b[39;00m\n",
      "\u001b[1;31mValueError\u001b[0m: in user code:\n\n    File \"c:\\Users\\user\\AppData\\Local\\Programs\\Python\\Python310\\lib\\site-packages\\keras\\src\\engine\\training.py\", line 1401, in train_function  *\n        return step_function(self, iterator)\n    File \"c:\\Users\\user\\AppData\\Local\\Programs\\Python\\Python310\\lib\\site-packages\\keras\\src\\engine\\training.py\", line 1384, in step_function  **\n        outputs = model.distribute_strategy.run(run_step, args=(data,))\n    File \"c:\\Users\\user\\AppData\\Local\\Programs\\Python\\Python310\\lib\\site-packages\\keras\\src\\engine\\training.py\", line 1373, in run_step  **\n        outputs = model.train_step(data)\n    File \"c:\\Users\\user\\AppData\\Local\\Programs\\Python\\Python310\\lib\\site-packages\\keras\\src\\engine\\training.py\", line 1150, in train_step\n        y_pred = self(x, training=True)\n    File \"c:\\Users\\user\\AppData\\Local\\Programs\\Python\\Python310\\lib\\site-packages\\keras\\src\\utils\\traceback_utils.py\", line 70, in error_handler\n        raise e.with_traceback(filtered_tb) from None\n    File \"c:\\Users\\user\\AppData\\Local\\Programs\\Python\\Python310\\lib\\site-packages\\keras\\src\\engine\\input_spec.py\", line 253, in assert_input_compatibility\n        raise ValueError(\n\n    ValueError: Exception encountered when calling layer 'sequential_13' (type Sequential).\n    \n    Input 0 of layer \"dense_15\" is incompatible with the layer: expected min_ndim=2, found ndim=1. Full shape received: (None,)\n    \n    Call arguments received by layer 'sequential_13' (type Sequential):\n      • inputs=tf.Tensor(shape=(None,), dtype=float32)\n      • training=True\n      • mask=None\n"
     ]
    }
   ],
   "source": [
    "# now start experimenet\n",
    "# lets do 3 model experimenets\n",
    "# set random seed\n",
    "tf.random.set_seed(42)\n",
    "# 1. create a model\n",
    "model_1 = tf.keras.Sequential([\n",
    "    tf.keras.layers.Dense(1)\n",
    "])\n",
    "# 2. compile it\n",
    "model_1.compile(loss =tf.keras.losses.mae,\n",
    "                optimizer = tf.keras.optimizers.SGD(),\n",
    "                metrics =[\"mae\"])\n",
    "\n",
    "# 3.Fit the model\n",
    "model_1.fit(X_train,y_train,epochs=100)\n",
    "\n",
    "\n"
   ]
  },
  {
   "cell_type": "code",
   "execution_count": 89,
   "metadata": {},
   "outputs": [
    {
     "name": "stdout",
     "output_type": "stream",
     "text": [
      "Epoch 1/5\n"
     ]
    },
    {
     "ename": "ValueError",
     "evalue": "in user code:\n\n    File \"c:\\Users\\user\\AppData\\Local\\Programs\\Python\\Python310\\lib\\site-packages\\keras\\src\\engine\\training.py\", line 1401, in train_function  *\n        return step_function(self, iterator)\n    File \"c:\\Users\\user\\AppData\\Local\\Programs\\Python\\Python310\\lib\\site-packages\\keras\\src\\engine\\training.py\", line 1384, in step_function  **\n        outputs = model.distribute_strategy.run(run_step, args=(data,))\n    File \"c:\\Users\\user\\AppData\\Local\\Programs\\Python\\Python310\\lib\\site-packages\\keras\\src\\engine\\training.py\", line 1373, in run_step  **\n        outputs = model.train_step(data)\n    File \"c:\\Users\\user\\AppData\\Local\\Programs\\Python\\Python310\\lib\\site-packages\\keras\\src\\engine\\training.py\", line 1150, in train_step\n        y_pred = self(x, training=True)\n    File \"c:\\Users\\user\\AppData\\Local\\Programs\\Python\\Python310\\lib\\site-packages\\keras\\src\\utils\\traceback_utils.py\", line 70, in error_handler\n        raise e.with_traceback(filtered_tb) from None\n    File \"c:\\Users\\user\\AppData\\Local\\Programs\\Python\\Python310\\lib\\site-packages\\keras\\src\\engine\\input_spec.py\", line 253, in assert_input_compatibility\n        raise ValueError(\n\n    ValueError: Exception encountered when calling layer 'sequential_14' (type Sequential).\n    \n    Input 0 of layer \"dense_16\" is incompatible with the layer: expected min_ndim=2, found ndim=1. Full shape received: (None,)\n    \n    Call arguments received by layer 'sequential_14' (type Sequential):\n      • inputs=tf.Tensor(shape=(None,), dtype=float32)\n      • training=True\n      • mask=None\n",
     "output_type": "error",
     "traceback": [
      "\u001b[1;31m---------------------------------------------------------------------------\u001b[0m",
      "\u001b[1;31mValueError\u001b[0m                                Traceback (most recent call last)",
      "Cell \u001b[1;32mIn [89], line 11\u001b[0m\n\u001b[0;32m      6\u001b[0m model\u001b[38;5;241m.\u001b[39mcompile(loss\u001b[38;5;241m=\u001b[39mtf\u001b[38;5;241m.\u001b[39mkeras\u001b[38;5;241m.\u001b[39mlosses\u001b[38;5;241m.\u001b[39mmae, \u001b[38;5;66;03m# mae is short for mean absolute error\u001b[39;00m\n\u001b[0;32m      7\u001b[0m               optimizer\u001b[38;5;241m=\u001b[39mtf\u001b[38;5;241m.\u001b[39mkeras\u001b[38;5;241m.\u001b[39moptimizers\u001b[38;5;241m.\u001b[39mSGD(), \u001b[38;5;66;03m# SGD is short for stochastic gradient descent\u001b[39;00m\n\u001b[0;32m      8\u001b[0m               metrics\u001b[38;5;241m=\u001b[39m[\u001b[38;5;124m\"\u001b[39m\u001b[38;5;124mmae\u001b[39m\u001b[38;5;124m\"\u001b[39m])\n\u001b[0;32m     10\u001b[0m \u001b[38;5;66;03m# Fit the model\u001b[39;00m\n\u001b[1;32m---> 11\u001b[0m \u001b[43mmodel\u001b[49m\u001b[38;5;241;43m.\u001b[39;49m\u001b[43mfit\u001b[49m\u001b[43m(\u001b[49m\u001b[43mX_train\u001b[49m\u001b[43m,\u001b[49m\u001b[43m \u001b[49m\u001b[43my_train\u001b[49m\u001b[43m,\u001b[49m\u001b[43m \u001b[49m\u001b[43mepochs\u001b[49m\u001b[38;5;241;43m=\u001b[39;49m\u001b[38;5;241;43m5\u001b[39;49m\u001b[43m)\u001b[49m\n",
      "File \u001b[1;32mc:\\Users\\user\\AppData\\Local\\Programs\\Python\\Python310\\lib\\site-packages\\keras\\src\\utils\\traceback_utils.py:70\u001b[0m, in \u001b[0;36mfilter_traceback.<locals>.error_handler\u001b[1;34m(*args, **kwargs)\u001b[0m\n\u001b[0;32m     67\u001b[0m     filtered_tb \u001b[38;5;241m=\u001b[39m _process_traceback_frames(e\u001b[38;5;241m.\u001b[39m__traceback__)\n\u001b[0;32m     68\u001b[0m     \u001b[38;5;66;03m# To get the full stack trace, call:\u001b[39;00m\n\u001b[0;32m     69\u001b[0m     \u001b[38;5;66;03m# `tf.debugging.disable_traceback_filtering()`\u001b[39;00m\n\u001b[1;32m---> 70\u001b[0m     \u001b[38;5;28;01mraise\u001b[39;00m e\u001b[38;5;241m.\u001b[39mwith_traceback(filtered_tb) \u001b[38;5;28;01mfrom\u001b[39;00m \u001b[38;5;28mNone\u001b[39m\n\u001b[0;32m     71\u001b[0m \u001b[38;5;28;01mfinally\u001b[39;00m:\n\u001b[0;32m     72\u001b[0m     \u001b[38;5;28;01mdel\u001b[39;00m filtered_tb\n",
      "File \u001b[1;32m~\\AppData\\Local\\Temp\\__autograph_generated_fileez6k1lsp.py:15\u001b[0m, in \u001b[0;36mouter_factory.<locals>.inner_factory.<locals>.tf__train_function\u001b[1;34m(iterator)\u001b[0m\n\u001b[0;32m     13\u001b[0m \u001b[38;5;28;01mtry\u001b[39;00m:\n\u001b[0;32m     14\u001b[0m     do_return \u001b[38;5;241m=\u001b[39m \u001b[38;5;28;01mTrue\u001b[39;00m\n\u001b[1;32m---> 15\u001b[0m     retval_ \u001b[38;5;241m=\u001b[39m ag__\u001b[38;5;241m.\u001b[39mconverted_call(ag__\u001b[38;5;241m.\u001b[39mld(step_function), (ag__\u001b[38;5;241m.\u001b[39mld(\u001b[38;5;28mself\u001b[39m), ag__\u001b[38;5;241m.\u001b[39mld(iterator)), \u001b[38;5;28;01mNone\u001b[39;00m, fscope)\n\u001b[0;32m     16\u001b[0m \u001b[38;5;28;01mexcept\u001b[39;00m:\n\u001b[0;32m     17\u001b[0m     do_return \u001b[38;5;241m=\u001b[39m \u001b[38;5;28;01mFalse\u001b[39;00m\n",
      "\u001b[1;31mValueError\u001b[0m: in user code:\n\n    File \"c:\\Users\\user\\AppData\\Local\\Programs\\Python\\Python310\\lib\\site-packages\\keras\\src\\engine\\training.py\", line 1401, in train_function  *\n        return step_function(self, iterator)\n    File \"c:\\Users\\user\\AppData\\Local\\Programs\\Python\\Python310\\lib\\site-packages\\keras\\src\\engine\\training.py\", line 1384, in step_function  **\n        outputs = model.distribute_strategy.run(run_step, args=(data,))\n    File \"c:\\Users\\user\\AppData\\Local\\Programs\\Python\\Python310\\lib\\site-packages\\keras\\src\\engine\\training.py\", line 1373, in run_step  **\n        outputs = model.train_step(data)\n    File \"c:\\Users\\user\\AppData\\Local\\Programs\\Python\\Python310\\lib\\site-packages\\keras\\src\\engine\\training.py\", line 1150, in train_step\n        y_pred = self(x, training=True)\n    File \"c:\\Users\\user\\AppData\\Local\\Programs\\Python\\Python310\\lib\\site-packages\\keras\\src\\utils\\traceback_utils.py\", line 70, in error_handler\n        raise e.with_traceback(filtered_tb) from None\n    File \"c:\\Users\\user\\AppData\\Local\\Programs\\Python\\Python310\\lib\\site-packages\\keras\\src\\engine\\input_spec.py\", line 253, in assert_input_compatibility\n        raise ValueError(\n\n    ValueError: Exception encountered when calling layer 'sequential_14' (type Sequential).\n    \n    Input 0 of layer \"dense_16\" is incompatible with the layer: expected min_ndim=2, found ndim=1. Full shape received: (None,)\n    \n    Call arguments received by layer 'sequential_14' (type Sequential):\n      • inputs=tf.Tensor(shape=(None,), dtype=float32)\n      • training=True\n      • mask=None\n"
     ]
    }
   ],
   "source": [
    "model = tf.keras.Sequential([\n",
    "  tf.keras.layers.Dense(1)\n",
    "])\n",
    "\n",
    "# Compile the model\n",
    "model.compile(loss=tf.keras.losses.mae, # mae is short for mean absolute error\n",
    "              optimizer=tf.keras.optimizers.SGD(), # SGD is short for stochastic gradient descent\n",
    "              metrics=[\"mae\"])\n",
    "# Fit the model\n",
    "model.fit(X_train, y_train, epochs=5)"
   ]
  }
 ],
 "metadata": {
  "kernelspec": {
   "display_name": "Python 3",
   "language": "python",
   "name": "python3"
  },
  "language_info": {
   "codemirror_mode": {
    "name": "ipython",
    "version": 3
   },
   "file_extension": ".py",
   "mimetype": "text/x-python",
   "name": "python",
   "nbconvert_exporter": "python",
   "pygments_lexer": "ipython3",
   "version": "3.10.8"
  }
 },
 "nbformat": 4,
 "nbformat_minor": 2
}
