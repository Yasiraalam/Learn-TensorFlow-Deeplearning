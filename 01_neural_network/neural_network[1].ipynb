{
 "cells": [
  {
   "cell_type": "code",
   "execution_count": 1,
   "metadata": {},
   "outputs": [
    {
     "name": "stdout",
     "output_type": "stream",
     "text": [
      "WARNING:tensorflow:From c:\\Users\\user\\AppData\\Local\\Programs\\Python\\Python310\\lib\\site-packages\\keras\\src\\losses.py:2976: The name tf.losses.sparse_softmax_cross_entropy is deprecated. Please use tf.compat.v1.losses.sparse_softmax_cross_entropy instead.\n",
      "\n"
     ]
    }
   ],
   "source": [
    "import tensorflow as tf\n",
    "import numpy as np\n",
    "# import metapolott\n",
    "import matplotlib.pyplot as  plt\n",
    "\n"
   ]
  },
  {
   "cell_type": "markdown",
   "metadata": {},
   "source": [
    "# Intrduction to Regression with Neural  Network in TensorFlow\n"
   ]
  },
  {
   "cell_type": "markdown",
   "metadata": {},
   "source": [
    "## There are  many difinations  for a regression problem but  in our case, we're  goining to simplify  it: predicting  a numerical variable based  on some other  combination  of variables, even shorter...  predicting  a number"
   ]
  },
  {
   "cell_type": "code",
   "execution_count": 2,
   "metadata": {},
   "outputs": [
    {
     "data": {
      "text/plain": [
       "<matplotlib.collections.PathCollection at 0x253e48de410>"
      ]
     },
     "execution_count": 2,
     "metadata": {},
     "output_type": "execute_result"
    },
    {
     "data": {
      "image/png": "[encoded data removed]",
      "text/plain": [
       "<Figure size 640x480 with 1 Axes>"
      ]
     },
     "metadata": {},
     "output_type": "display_data"
    }
   ],
   "source": [
    "X = np.array([-7., -4., -1., 2., 5., 8., 11., 14.])\n",
    "y = np.array([3., 6., 9., 12., 15., 18., 21., 24.])\n",
    "plt.scatter(X,y)"
   ]
  },
  {
   "cell_type": "code",
   "execution_count": 3,
   "metadata": {},
   "outputs": [
    {
     "data": {
      "text/plain": [
       "array([ True,  True,  True,  True,  True,  True,  True,  True])"
      ]
     },
     "execution_count": 3,
     "metadata": {},
     "output_type": "execute_result"
    }
   ],
   "source": [
    "y == X + 10"
   ]
  },
  {
   "cell_type": "code",
   "execution_count": 4,
   "metadata": {},
   "outputs": [],
   "source": [
    "X = X.reshape (-1,1)\n",
    "y = y.reshape(-1, 1)"
   ]
  },
  {
   "cell_type": "markdown",
   "metadata": {},
   "source": [
    "## Input and output"
   ]
  },
  {
   "cell_type": "code",
   "execution_count": 5,
   "metadata": {},
   "outputs": [
    {
     "data": {
      "text/plain": [
       "(<tf.Tensor: shape=(3,), dtype=string, numpy=array([b'bedroom', b'bathroom', b'garage'], dtype=object)>,\n",
       " <tf.Tensor: shape=(1,), dtype=int32, numpy=array([939700])>)"
      ]
     },
     "execution_count": 5,
     "metadata": {},
     "output_type": "execute_result"
    }
   ],
   "source": [
    "# Create a demo tensor for  our housing  price  predicttion problem\n",
    "house_info = tf.constant([\"bedroom\", \"bathroom\", \"garage\"])\n",
    "house_price = tf.constant([939700])\n",
    "house_info,house_price "
   ]
  },
  {
   "cell_type": "markdown",
   "metadata": {},
   "source": [
    "## turn our numpy array into tensors"
   ]
  },
  {
   "cell_type": "code",
   "execution_count": 6,
   "metadata": {},
   "outputs": [
    {
     "data": {
      "text/plain": [
       "(<tf.Tensor: shape=(8, 1), dtype=float32, numpy=\n",
       " array([[-7.],\n",
       "        [-4.],\n",
       "        [-1.],\n",
       "        [ 2.],\n",
       "        [ 5.],\n",
       "        [ 8.],\n",
       "        [11.],\n",
       "        [14.]], dtype=float32)>,\n",
       " <tf.Tensor: shape=(8, 1), dtype=float32, numpy=\n",
       " array([[ 3.],\n",
       "        [ 6.],\n",
       "        [ 9.],\n",
       "        [12.],\n",
       "        [15.],\n",
       "        [18.],\n",
       "        [21.],\n",
       "        [24.]], dtype=float32)>)"
      ]
     },
     "execution_count": 6,
     "metadata": {},
     "output_type": "execute_result"
    }
   ],
   "source": [
    "X = tf.cast(tf.constant(X), dtype= tf.float32)\n",
    "y = tf.cast(tf.constant(y), dtype= tf.float32)\n",
    "X,y"
   ]
  },
  {
   "cell_type": "code",
   "execution_count": 7,
   "metadata": {},
   "outputs": [
    {
     "data": {
      "text/plain": [
       "TensorShape([8, 1])"
      ]
     },
     "execution_count": 7,
     "metadata": {},
     "output_type": "execute_result"
    }
   ],
   "source": [
    "X.shape"
   ]
  },
  {
   "cell_type": "code",
   "execution_count": 8,
   "metadata": {},
   "outputs": [
    {
     "data": {
      "text/plain": [
       "<matplotlib.collections.PathCollection at 0x253e6b13910>"
      ]
     },
     "execution_count": 8,
     "metadata": {},
     "output_type": "execute_result"
    },
    {
     "data": {
      "image/png": "[encoded data removed]",
      "text/plain": [
       "<Figure size 640x480 with 1 Axes>"
      ]
     },
     "metadata": {},
     "output_type": "display_data"
    }
   ],
   "source": [
    "plt.scatter(X,y)"
   ]
  },
  {
   "cell_type": "markdown",
   "metadata": {},
   "source": [
    "## Steps in modelling with TensorFlow"
   ]
  },
  {
   "cell_type": "markdown",
   "metadata": {},
   "source": [
    "### 1. **Creating a model** - define  the input  and output layers as well as hidden layer on deep learning model\n",
    "### 2. **Compilling a model** - define the loss function ( in others words, the function which our model how wrong it is) and the optimizer( tells our model how to improve the patterns its learning) and evaluation matrics ( what we can use to interpret the performance of our model).\n",
    "### 3. **Fitting a model** - letting the model try to find patterns between X & y(features and labels)"
   ]
  },
  {
   "cell_type": "code",
   "execution_count": 9,
   "metadata": {},
   "outputs": [
    {
     "name": "stdout",
     "output_type": "stream",
     "text": [
      "WARNING:tensorflow:From c:\\Users\\user\\AppData\\Local\\Programs\\Python\\Python310\\lib\\site-packages\\keras\\src\\backend.py:873: The name tf.get_default_graph is deprecated. Please use tf.compat.v1.get_default_graph instead.\n",
      "\n",
      "Epoch 1/5\n",
      "WARNING:tensorflow:From c:\\Users\\user\\AppData\\Local\\Programs\\Python\\Python310\\lib\\site-packages\\keras\\src\\utils\\tf_utils.py:492: The name tf.ragged.RaggedTensorValue is deprecated. Please use tf.compat.v1.ragged.RaggedTensorValue instead.\n",
      "\n",
      "WARNING:tensorflow:From c:\\Users\\user\\AppData\\Local\\Programs\\Python\\Python310\\lib\\site-packages\\keras\\src\\engine\\base_layer_utils.py:384: The name tf.executing_eagerly_outside_functions is deprecated. Please use tf.compat.v1.executing_eagerly_outside_functions instead.\n",
      "\n",
      "1/1 [==============================] - 1s 793ms/step - loss: 10.9011 - mae: 10.9011\n",
      "Epoch 2/5\n",
      "1/1 [==============================] - 0s 16ms/step - loss: 10.7686 - mae: 10.7686\n",
      "Epoch 3/5\n",
      "1/1 [==============================] - 0s 16ms/step - loss: 10.6361 - mae: 10.6361\n",
      "Epoch 4/5\n",
      "1/1 [==============================] - 0s 16ms/step - loss: 10.5036 - mae: 10.5036\n",
      "Epoch 5/5\n",
      "1/1 [==============================] - 0s 0s/step - loss: 10.3711 - mae: 10.3711\n"
     ]
    },
    {
     "data": {
      "text/plain": [
       "<keras.src.callbacks.History at 0x253e7ba36d0>"
      ]
     },
     "execution_count": 9,
     "metadata": {},
     "output_type": "execute_result"
    }
   ],
   "source": [
    "# Set random seed\n",
    "tf.random.set_seed(42)\n",
    "\n",
    "# 1.Create  a model using the Sequential API\n",
    "model = tf.keras.Sequential([\n",
    "    tf.keras.layers.Dense(1)\n",
    "])\n",
    "\n",
    "# 2. Compile  the model\n",
    "# mae is short  for mean absolute error\n",
    "# sgd is short for stochastic gradient descent\n",
    "model.compile(loss = tf.keras.losses.mae,  \n",
    "              optimizer=tf.keras.optimizers.SGD(), \n",
    "              metrics = [\"mae\"])\n",
    "\n",
    "# 3.fit he model\n",
    "model.fit(X, y, epochs=5)    # epochs : opportunity going on x and y values\n"
   ]
  },
  {
   "cell_type": "code",
   "execution_count": 10,
   "metadata": {},
   "outputs": [
    {
     "data": {
      "text/plain": [
       "(<tf.Tensor: shape=(8, 1), dtype=float32, numpy=\n",
       " array([[-7.],\n",
       "        [-4.],\n",
       "        [-1.],\n",
       "        [ 2.],\n",
       "        [ 5.],\n",
       "        [ 8.],\n",
       "        [11.],\n",
       "        [14.]], dtype=float32)>,\n",
       " <tf.Tensor: shape=(8, 1), dtype=float32, numpy=\n",
       " array([[ 3.],\n",
       "        [ 6.],\n",
       "        [ 9.],\n",
       "        [12.],\n",
       "        [15.],\n",
       "        [18.],\n",
       "        [21.],\n",
       "        [24.]], dtype=float32)>)"
      ]
     },
     "execution_count": 10,
     "metadata": {},
     "output_type": "execute_result"
    }
   ],
   "source": [
    "X , y"
   ]
  },
  {
   "cell_type": "code",
   "execution_count": 11,
   "metadata": {},
   "outputs": [
    {
     "name": "stdout",
     "output_type": "stream",
     "text": [
      "1/1 [==============================] - 0s 140ms/step\n"
     ]
    },
    {
     "data": {
      "text/plain": [
       "array([[15.648385]], dtype=float32)"
      ]
     },
     "execution_count": 11,
     "metadata": {},
     "output_type": "execute_result"
    }
   ],
   "source": [
    "# Try and make a prediction using our model\n",
    "y_pred = model.predict([17.0])\n",
    "y_pred"
   ]
  },
  {
   "cell_type": "code",
   "execution_count": 12,
   "metadata": {},
   "outputs": [
    {
     "data": {
      "text/plain": [
       "array([[26.648384]], dtype=float32)"
      ]
     },
     "execution_count": 12,
     "metadata": {},
     "output_type": "execute_result"
    }
   ],
   "source": [
    "y_pred + 11"
   ]
  },
  {
   "cell_type": "markdown",
   "metadata": {},
   "source": [
    "## improving our model"
   ]
  },
  {
   "cell_type": "markdown",
   "metadata": {},
   "source": [
    "### by altering  the steps  we took to create a model\n",
    "\n",
    "1. **Creating a model** - here  we might add more layers, increase the number of hidden  units( all called neuron)\n",
    "within  each of  the hidden layers, change the activation  function of each layer\n",
    "2. **Compiling a model** -  here we might change the optimization  function  or perhaps the **learning rate** of  the optimization function.\n",
    "3. **Fitting a  model** -  here we might fit a model for more **epochs** (  leave it training for longer) or on more data ( give the model more examples to learn from)"
   ]
  },
  {
   "cell_type": "code",
   "execution_count": 13,
   "metadata": {},
   "outputs": [
    {
     "name": "stdout",
     "output_type": "stream",
     "text": [
      "Epoch 1/100\n",
      "1/1 [==============================] - 0s 324ms/step - loss: 13.4030 - mae: 13.4030\n",
      "Epoch 2/100\n",
      "1/1 [==============================] - 0s 16ms/step - loss: 13.2705 - mae: 13.2705\n",
      "Epoch 3/100\n",
      "1/1 [==============================] - 0s 16ms/step - loss: 13.1380 - mae: 13.1380\n",
      "Epoch 4/100\n",
      "1/1 [==============================] - 0s 0s/step - loss: 13.0055 - mae: 13.0055\n",
      "Epoch 5/100\n",
      "1/1 [==============================] - 0s 0s/step - loss: 12.8730 - mae: 12.8730\n",
      "Epoch 6/100\n",
      "1/1 [==============================] - 0s 0s/step - loss: 12.7405 - mae: 12.7405\n",
      "Epoch 7/100\n",
      "1/1 [==============================] - 0s 15ms/step - loss: 12.6080 - mae: 12.6080\n",
      "Epoch 8/100\n",
      "1/1 [==============================] - 0s 16ms/step - loss: 12.4755 - mae: 12.4755\n",
      "Epoch 9/100\n",
      "1/1 [==============================] - 0s 16ms/step - loss: 12.3430 - mae: 12.3430\n",
      "Epoch 10/100\n",
      "1/1 [==============================] - 0s 16ms/step - loss: 12.2105 - mae: 12.2105\n",
      "Epoch 11/100\n",
      "1/1 [==============================] - 0s 0s/step - loss: 12.0780 - mae: 12.0780\n",
      "Epoch 12/100\n",
      "1/1 [==============================] - 0s 0s/step - loss: 11.9455 - mae: 11.9455\n",
      "Epoch 13/100\n",
      "1/1 [==============================] - 0s 0s/step - loss: 11.8130 - mae: 11.8130\n",
      "Epoch 14/100\n",
      "1/1 [==============================] - 0s 0s/step - loss: 11.6805 - mae: 11.6805\n",
      "Epoch 15/100\n",
      "1/1 [==============================] - 0s 0s/step - loss: 11.5480 - mae: 11.5480\n",
      "Epoch 16/100\n",
      "1/1 [==============================] - 0s 16ms/step - loss: 11.4155 - mae: 11.4155\n",
      "Epoch 17/100\n",
      "1/1 [==============================] - 0s 16ms/step - loss: 11.2830 - mae: 11.2830\n",
      "Epoch 18/100\n",
      "1/1 [==============================] - 0s 16ms/step - loss: 11.1505 - mae: 11.1505\n",
      "Epoch 19/100\n",
      "1/1 [==============================] - 0s 16ms/step - loss: 11.0180 - mae: 11.0180\n",
      "Epoch 20/100\n",
      "1/1 [==============================] - 0s 16ms/step - loss: 10.8855 - mae: 10.8855\n",
      "Epoch 21/100\n",
      "1/1 [==============================] - 0s 16ms/step - loss: 10.7530 - mae: 10.7530\n",
      "Epoch 22/100\n",
      "1/1 [==============================] - 0s 17ms/step - loss: 10.6205 - mae: 10.6205\n",
      "Epoch 23/100\n",
      "1/1 [==============================] - 0s 0s/step - loss: 10.4880 - mae: 10.4880\n",
      "Epoch 24/100\n",
      "1/1 [==============================] - 0s 0s/step - loss: 10.3555 - mae: 10.3555\n",
      "Epoch 25/100\n",
      "1/1 [==============================] - 0s 0s/step - loss: 10.2230 - mae: 10.2230\n",
      "Epoch 26/100\n",
      "1/1 [==============================] - 0s 0s/step - loss: 10.0905 - mae: 10.0905\n",
      "Epoch 27/100\n",
      "1/1 [==============================] - 0s 16ms/step - loss: 9.9580 - mae: 9.9580\n",
      "Epoch 28/100\n",
      "1/1 [==============================] - 0s 16ms/step - loss: 9.8255 - mae: 9.8255\n",
      "Epoch 29/100\n",
      "1/1 [==============================] - 0s 16ms/step - loss: 9.6930 - mae: 9.6930\n",
      "Epoch 30/100\n",
      "1/1 [==============================] - 0s 0s/step - loss: 9.5605 - mae: 9.5605\n",
      "Epoch 31/100\n",
      "1/1 [==============================] - 0s 0s/step - loss: 9.4280 - mae: 9.4280\n",
      "Epoch 32/100\n",
      "1/1 [==============================] - 0s 16ms/step - loss: 9.2955 - mae: 9.2955\n",
      "Epoch 33/100\n",
      "1/1 [==============================] - 0s 16ms/step - loss: 9.1630 - mae: 9.1630\n",
      "Epoch 34/100\n",
      "1/1 [==============================] - 0s 16ms/step - loss: 9.0305 - mae: 9.0305\n",
      "Epoch 35/100\n",
      "1/1 [==============================] - 0s 16ms/step - loss: 8.8980 - mae: 8.8980\n",
      "Epoch 36/100\n",
      "1/1 [==============================] - 0s 0s/step - loss: 8.7655 - mae: 8.7655\n",
      "Epoch 37/100\n",
      "1/1 [==============================] - 0s 16ms/step - loss: 8.6330 - mae: 8.6330\n",
      "Epoch 38/100\n",
      "1/1 [==============================] - 0s 16ms/step - loss: 8.5005 - mae: 8.5005\n",
      "Epoch 39/100\n",
      "1/1 [==============================] - 0s 16ms/step - loss: 8.3680 - mae: 8.3680\n",
      "Epoch 40/100\n",
      "1/1 [==============================] - 0s 16ms/step - loss: 8.2355 - mae: 8.2355\n",
      "Epoch 41/100\n",
      "1/1 [==============================] - 0s 16ms/step - loss: 8.1030 - mae: 8.1030\n",
      "Epoch 42/100\n",
      "1/1 [==============================] - 0s 0s/step - loss: 7.9705 - mae: 7.9705\n",
      "Epoch 43/100\n",
      "1/1 [==============================] - 0s 13ms/step - loss: 7.8380 - mae: 7.8380\n",
      "Epoch 44/100\n",
      "1/1 [==============================] - 0s 0s/step - loss: 7.7055 - mae: 7.7055\n",
      "Epoch 45/100\n",
      "1/1 [==============================] - 0s 0s/step - loss: 7.5731 - mae: 7.5731\n",
      "Epoch 46/100\n",
      "1/1 [==============================] - 0s 0s/step - loss: 7.4405 - mae: 7.4405\n",
      "Epoch 47/100\n",
      "1/1 [==============================] - 0s 0s/step - loss: 7.3080 - mae: 7.3080\n",
      "Epoch 48/100\n",
      "1/1 [==============================] - 0s 16ms/step - loss: 7.1755 - mae: 7.1755\n",
      "Epoch 49/100\n",
      "1/1 [==============================] - 0s 16ms/step - loss: 7.1400 - mae: 7.1400\n",
      "Epoch 50/100\n",
      "1/1 [==============================] - 0s 16ms/step - loss: 7.1344 - mae: 7.1344\n",
      "Epoch 51/100\n",
      "1/1 [==============================] - 0s 0s/step - loss: 7.1287 - mae: 7.1287\n",
      "Epoch 52/100\n",
      "1/1 [==============================] - 0s 0s/step - loss: 7.1231 - mae: 7.1231\n",
      "Epoch 53/100\n",
      "1/1 [==============================] - 0s 16ms/step - loss: 7.1175 - mae: 7.1175\n",
      "Epoch 54/100\n",
      "1/1 [==============================] - 0s 16ms/step - loss: 7.1119 - mae: 7.1119\n",
      "Epoch 55/100\n",
      "1/1 [==============================] - 0s 16ms/step - loss: 7.1063 - mae: 7.1063\n",
      "Epoch 56/100\n",
      "1/1 [==============================] - 0s 0s/step - loss: 7.1006 - mae: 7.1006\n",
      "Epoch 57/100\n",
      "1/1 [==============================] - 0s 0s/step - loss: 7.0950 - mae: 7.0950\n",
      "Epoch 58/100\n",
      "1/1 [==============================] - 0s 16ms/step - loss: 7.0894 - mae: 7.0894\n",
      "Epoch 59/100\n",
      "1/1 [==============================] - 0s 3ms/step - loss: 7.0838 - mae: 7.0838\n",
      "Epoch 60/100\n",
      "1/1 [==============================] - 0s 16ms/step - loss: 7.0781 - mae: 7.0781\n",
      "Epoch 61/100\n",
      "1/1 [==============================] - 0s 16ms/step - loss: 7.0725 - mae: 7.0725\n",
      "Epoch 62/100\n",
      "1/1 [==============================] - 0s 16ms/step - loss: 7.0669 - mae: 7.0669\n",
      "Epoch 63/100\n",
      "1/1 [==============================] - 0s 0s/step - loss: 7.0613 - mae: 7.0613\n",
      "Epoch 64/100\n",
      "1/1 [==============================] - 0s 0s/step - loss: 7.0556 - mae: 7.0556\n",
      "Epoch 65/100\n",
      "1/1 [==============================] - 0s 16ms/step - loss: 7.0500 - mae: 7.0500\n",
      "Epoch 66/100\n",
      "1/1 [==============================] - 0s 16ms/step - loss: 7.0444 - mae: 7.0444\n",
      "Epoch 67/100\n",
      "1/1 [==============================] - 0s 16ms/step - loss: 7.0388 - mae: 7.0388\n",
      "Epoch 68/100\n",
      "1/1 [==============================] - 0s 0s/step - loss: 7.0331 - mae: 7.0331\n",
      "Epoch 69/100\n",
      "1/1 [==============================] - 0s 0s/step - loss: 7.0275 - mae: 7.0275\n",
      "Epoch 70/100\n",
      "1/1 [==============================] - 0s 0s/step - loss: 7.0219 - mae: 7.0219\n",
      "Epoch 71/100\n",
      "1/1 [==============================] - 0s 16ms/step - loss: 7.0163 - mae: 7.0163\n",
      "Epoch 72/100\n",
      "1/1 [==============================] - 0s 16ms/step - loss: 7.0106 - mae: 7.0106\n",
      "Epoch 73/100\n",
      "1/1 [==============================] - 0s 16ms/step - loss: 7.0050 - mae: 7.0050\n",
      "Epoch 74/100\n",
      "1/1 [==============================] - 0s 0s/step - loss: 6.9994 - mae: 6.9994\n",
      "Epoch 75/100\n",
      "1/1 [==============================] - 0s 0s/step - loss: 6.9938 - mae: 6.9938\n",
      "Epoch 76/100\n",
      "1/1 [==============================] - 0s 0s/step - loss: 6.9881 - mae: 6.9881\n",
      "Epoch 77/100\n",
      "1/1 [==============================] - 0s 0s/step - loss: 6.9825 - mae: 6.9825\n",
      "Epoch 78/100\n",
      "1/1 [==============================] - 0s 0s/step - loss: 6.9769 - mae: 6.9769\n",
      "Epoch 79/100\n",
      "1/1 [==============================] - 0s 0s/step - loss: 6.9713 - mae: 6.9713\n",
      "Epoch 80/100\n",
      "1/1 [==============================] - 0s 19ms/step - loss: 6.9656 - mae: 6.9656\n",
      "Epoch 81/100\n",
      "1/1 [==============================] - 0s 16ms/step - loss: 6.9600 - mae: 6.9600\n",
      "Epoch 82/100\n",
      "1/1 [==============================] - 0s 16ms/step - loss: 6.9544 - mae: 6.9544\n",
      "Epoch 83/100\n",
      "1/1 [==============================] - 0s 31ms/step - loss: 6.9488 - mae: 6.9488\n",
      "Epoch 84/100\n",
      "1/1 [==============================] - 0s 16ms/step - loss: 6.9431 - mae: 6.9431\n",
      "Epoch 85/100\n",
      "1/1 [==============================] - 0s 16ms/step - loss: 6.9375 - mae: 6.9375\n",
      "Epoch 86/100\n",
      "1/1 [==============================] - 0s 16ms/step - loss: 6.9319 - mae: 6.9319\n",
      "Epoch 87/100\n",
      "1/1 [==============================] - 0s 16ms/step - loss: 6.9263 - mae: 6.9263\n",
      "Epoch 88/100\n",
      "1/1 [==============================] - 0s 0s/step - loss: 6.9206 - mae: 6.9206\n",
      "Epoch 89/100\n",
      "1/1 [==============================] - 0s 0s/step - loss: 6.9150 - mae: 6.9150\n",
      "Epoch 90/100\n",
      "1/1 [==============================] - 0s 7ms/step - loss: 6.9094 - mae: 6.9094\n",
      "Epoch 91/100\n",
      "1/1 [==============================] - 0s 16ms/step - loss: 6.9038 - mae: 6.9038\n",
      "Epoch 92/100\n",
      "1/1 [==============================] - 0s 16ms/step - loss: 6.8981 - mae: 6.8981\n",
      "Epoch 93/100\n",
      "1/1 [==============================] - 0s 16ms/step - loss: 6.8925 - mae: 6.8925\n",
      "Epoch 94/100\n",
      "1/1 [==============================] - 0s 16ms/step - loss: 6.8869 - mae: 6.8869\n",
      "Epoch 95/100\n",
      "1/1 [==============================] - 0s 0s/step - loss: 6.8813 - mae: 6.8813\n",
      "Epoch 96/100\n",
      "1/1 [==============================] - 0s 0s/step - loss: 6.8756 - mae: 6.8756\n",
      "Epoch 97/100\n",
      "1/1 [==============================] - 0s 16ms/step - loss: 6.8700 - mae: 6.8700\n",
      "Epoch 98/100\n",
      "1/1 [==============================] - 0s 16ms/step - loss: 6.8644 - mae: 6.8644\n",
      "Epoch 99/100\n",
      "1/1 [==============================] - 0s 16ms/step - loss: 6.8588 - mae: 6.8588\n",
      "Epoch 100/100\n",
      "1/1 [==============================] - 0s 16ms/step - loss: 6.8531 - mae: 6.8531\n"
     ]
    },
    {
     "data": {
      "text/plain": [
       "<keras.src.callbacks.History at 0x253e7fab790>"
      ]
     },
     "execution_count": 13,
     "metadata": {},
     "output_type": "execute_result"
    }
   ],
   "source": [
    "# lets rebuild our model\n",
    "# 1. Create the model\n",
    "\n",
    "model = tf.keras.Sequential([\n",
    "    tf.keras.layers.Dense(1) \n",
    "])\n",
    " # 2. Compile the model\n",
    "model.compile(loss=tf.keras.losses.mae,\n",
    "              optimizer=tf.keras.optimizers.SGD(),\n",
    "              metrics=[\"mae\"])\n",
    "\n",
    "# 3.  Fit the model (this time 1 we'll train for longer)\n",
    "model.fit(X,y,epochs = 100)"
   ]
  },
  {
   "cell_type": "code",
   "execution_count": 14,
   "metadata": {},
   "outputs": [
    {
     "data": {
      "text/plain": [
       "(<tf.Tensor: shape=(8, 1), dtype=float32, numpy=\n",
       " array([[-7.],\n",
       "        [-4.],\n",
       "        [-1.],\n",
       "        [ 2.],\n",
       "        [ 5.],\n",
       "        [ 8.],\n",
       "        [11.],\n",
       "        [14.]], dtype=float32)>,\n",
       " <tf.Tensor: shape=(8, 1), dtype=float32, numpy=\n",
       " array([[ 3.],\n",
       "        [ 6.],\n",
       "        [ 9.],\n",
       "        [12.],\n",
       "        [15.],\n",
       "        [18.],\n",
       "        [21.],\n",
       "        [24.]], dtype=float32)>)"
      ]
     },
     "execution_count": 14,
     "metadata": {},
     "output_type": "execute_result"
    }
   ],
   "source": [
    "X, y"
   ]
  },
  {
   "cell_type": "code",
   "execution_count": 15,
   "metadata": {},
   "outputs": [
    {
     "name": "stdout",
     "output_type": "stream",
     "text": [
      "1/1 [==============================] - 0s 147ms/step\n"
     ]
    },
    {
     "data": {
      "text/plain": [
       "array([[29.9009]], dtype=float32)"
      ]
     },
     "execution_count": 15,
     "metadata": {},
     "output_type": "execute_result"
    }
   ],
   "source": [
    "# lets see if our model's prediction has improved\n",
    "model.predict([17.0])"
   ]
  },
  {
   "cell_type": "code",
   "execution_count": 16,
   "metadata": {},
   "outputs": [
    {
     "name": "stderr",
     "output_type": "stream",
     "text": [
      "WARNING:absl:`lr` is deprecated in Keras optimizer, please use `learning_rate` or use the legacy optimizer, e.g.,tf.keras.optimizers.legacy.Adam.\n"
     ]
    },
    {
     "name": "stdout",
     "output_type": "stream",
     "text": [
      "Epoch 1/100\n",
      "1/1 [==============================] - 1s 664ms/step - loss: 13.9724 - mae: 13.9724\n",
      "Epoch 2/100\n",
      "1/1 [==============================] - 0s 16ms/step - loss: 13.8960 - mae: 13.8960\n",
      "Epoch 3/100\n",
      "1/1 [==============================] - 0s 1ms/step - loss: 13.8194 - mae: 13.8194\n",
      "Epoch 4/100\n",
      "1/1 [==============================] - 0s 16ms/step - loss: 13.7428 - mae: 13.7428\n",
      "Epoch 5/100\n",
      "1/1 [==============================] - 0s 16ms/step - loss: 13.6662 - mae: 13.6662\n",
      "Epoch 6/100\n",
      "1/1 [==============================] - 0s 16ms/step - loss: 13.5895 - mae: 13.5895\n",
      "Epoch 7/100\n",
      "1/1 [==============================] - 0s 0s/step - loss: 13.5127 - mae: 13.5127\n",
      "Epoch 8/100\n",
      "1/1 [==============================] - 0s 0s/step - loss: 13.4359 - mae: 13.4359\n",
      "Epoch 9/100\n",
      "1/1 [==============================] - 0s 9ms/step - loss: 13.3590 - mae: 13.3590\n",
      "Epoch 10/100\n",
      "1/1 [==============================] - 0s 16ms/step - loss: 13.2820 - mae: 13.2820\n",
      "Epoch 11/100\n",
      "1/1 [==============================] - 0s 16ms/step - loss: 13.2050 - mae: 13.2050\n",
      "Epoch 12/100\n",
      "1/1 [==============================] - 0s 16ms/step - loss: 13.1279 - mae: 13.1279\n",
      "Epoch 13/100\n",
      "1/1 [==============================] - 0s 16ms/step - loss: 13.0507 - mae: 13.0507\n",
      "Epoch 14/100\n",
      "1/1 [==============================] - 0s 16ms/step - loss: 12.9734 - mae: 12.9734\n",
      "Epoch 15/100\n",
      "1/1 [==============================] - 0s 0s/step - loss: 12.8961 - mae: 12.8961\n",
      "Epoch 16/100\n",
      "1/1 [==============================] - 0s 0s/step - loss: 12.8186 - mae: 12.8186\n",
      "Epoch 17/100\n",
      "1/1 [==============================] - 0s 0s/step - loss: 12.7411 - mae: 12.7411\n",
      "Epoch 18/100\n",
      "1/1 [==============================] - 0s 0s/step - loss: 12.6634 - mae: 12.6634\n",
      "Epoch 19/100\n",
      "1/1 [==============================] - 0s 0s/step - loss: 12.5857 - mae: 12.5857\n",
      "Epoch 20/100\n",
      "1/1 [==============================] - 0s 0s/step - loss: 12.5079 - mae: 12.5079\n",
      "Epoch 21/100\n",
      "1/1 [==============================] - 0s 16ms/step - loss: 12.4299 - mae: 12.4299\n",
      "Epoch 22/100\n",
      "1/1 [==============================] - 0s 0s/step - loss: 12.3518 - mae: 12.3518\n",
      "Epoch 23/100\n",
      "1/1 [==============================] - 0s 0s/step - loss: 12.2735 - mae: 12.2735\n",
      "Epoch 24/100\n",
      "1/1 [==============================] - 0s 0s/step - loss: 12.1951 - mae: 12.1951\n",
      "Epoch 25/100\n",
      "1/1 [==============================] - 0s 0s/step - loss: 12.1166 - mae: 12.1166\n",
      "Epoch 26/100\n",
      "1/1 [==============================] - 0s 16ms/step - loss: 12.0379 - mae: 12.0379\n",
      "Epoch 27/100\n",
      "1/1 [==============================] - 0s 16ms/step - loss: 11.9590 - mae: 11.9590\n",
      "Epoch 28/100\n",
      "1/1 [==============================] - 0s 31ms/step - loss: 11.8800 - mae: 11.8800\n",
      "Epoch 29/100\n",
      "1/1 [==============================] - 0s 0s/step - loss: 11.8008 - mae: 11.8008\n",
      "Epoch 30/100\n",
      "1/1 [==============================] - 0s 0s/step - loss: 11.7214 - mae: 11.7214\n",
      "Epoch 31/100\n",
      "1/1 [==============================] - 0s 0s/step - loss: 11.6417 - mae: 11.6417\n",
      "Epoch 32/100\n",
      "1/1 [==============================] - 0s 0s/step - loss: 11.5619 - mae: 11.5619\n",
      "Epoch 33/100\n",
      "1/1 [==============================] - 0s 0s/step - loss: 11.4819 - mae: 11.4819\n",
      "Epoch 34/100\n",
      "1/1 [==============================] - 0s 0s/step - loss: 11.4016 - mae: 11.4016\n",
      "Epoch 35/100\n",
      "1/1 [==============================] - 0s 0s/step - loss: 11.3211 - mae: 11.3211\n",
      "Epoch 36/100\n",
      "1/1 [==============================] - 0s 24ms/step - loss: 11.2404 - mae: 11.2404\n",
      "Epoch 37/100\n",
      "1/1 [==============================] - 0s 0s/step - loss: 11.1594 - mae: 11.1594\n",
      "Epoch 38/100\n",
      "1/1 [==============================] - 0s 0s/step - loss: 11.0781 - mae: 11.0781\n",
      "Epoch 39/100\n",
      "1/1 [==============================] - 0s 0s/step - loss: 10.9966 - mae: 10.9966\n",
      "Epoch 40/100\n",
      "1/1 [==============================] - 0s 22ms/step - loss: 10.9149 - mae: 10.9149\n",
      "Epoch 41/100\n",
      "1/1 [==============================] - 0s 16ms/step - loss: 10.8328 - mae: 10.8328\n",
      "Epoch 42/100\n",
      "1/1 [==============================] - 0s 0s/step - loss: 10.7505 - mae: 10.7505\n",
      "Epoch 43/100\n",
      "1/1 [==============================] - 0s 0s/step - loss: 10.6679 - mae: 10.6679\n",
      "Epoch 44/100\n",
      "1/1 [==============================] - 0s 0s/step - loss: 10.5850 - mae: 10.5850\n",
      "Epoch 45/100\n",
      "1/1 [==============================] - 0s 0s/step - loss: 10.5018 - mae: 10.5018\n",
      "Epoch 46/100\n",
      "1/1 [==============================] - 0s 0s/step - loss: 10.4182 - mae: 10.4182\n",
      "Epoch 47/100\n",
      "1/1 [==============================] - 0s 16ms/step - loss: 10.3344 - mae: 10.3344\n",
      "Epoch 48/100\n",
      "1/1 [==============================] - 0s 16ms/step - loss: 10.2502 - mae: 10.2502\n",
      "Epoch 49/100\n",
      "1/1 [==============================] - 0s 16ms/step - loss: 10.1657 - mae: 10.1657\n",
      "Epoch 50/100\n",
      "1/1 [==============================] - 0s 16ms/step - loss: 10.0809 - mae: 10.0809\n",
      "Epoch 51/100\n",
      "1/1 [==============================] - 0s 0s/step - loss: 9.9957 - mae: 9.9957\n",
      "Epoch 52/100\n",
      "1/1 [==============================] - 0s 0s/step - loss: 9.9101 - mae: 9.9101\n",
      "Epoch 53/100\n",
      "1/1 [==============================] - 0s 16ms/step - loss: 9.8243 - mae: 9.8243\n",
      "Epoch 54/100\n",
      "1/1 [==============================] - 0s 16ms/step - loss: 9.7380 - mae: 9.7380\n",
      "Epoch 55/100\n",
      "1/1 [==============================] - 0s 0s/step - loss: 9.6514 - mae: 9.6514\n",
      "Epoch 56/100\n",
      "1/1 [==============================] - 0s 0s/step - loss: 9.5644 - mae: 9.5644\n",
      "Epoch 57/100\n",
      "1/1 [==============================] - 0s 16ms/step - loss: 9.4771 - mae: 9.4771\n",
      "Epoch 58/100\n",
      "1/1 [==============================] - 0s 16ms/step - loss: 9.3894 - mae: 9.3894\n",
      "Epoch 59/100\n",
      "1/1 [==============================] - 0s 0s/step - loss: 9.3012 - mae: 9.3012\n",
      "Epoch 60/100\n",
      "1/1 [==============================] - 0s 0s/step - loss: 9.2127 - mae: 9.2127\n",
      "Epoch 61/100\n",
      "1/1 [==============================] - 0s 16ms/step - loss: 9.1238 - mae: 9.1238\n",
      "Epoch 62/100\n",
      "1/1 [==============================] - 0s 16ms/step - loss: 9.0345 - mae: 9.0345\n",
      "Epoch 63/100\n",
      "1/1 [==============================] - 0s 16ms/step - loss: 8.9448 - mae: 8.9448\n",
      "Epoch 64/100\n",
      "1/1 [==============================] - 0s 16ms/step - loss: 8.8547 - mae: 8.8547\n",
      "Epoch 65/100\n",
      "1/1 [==============================] - 0s 16ms/step - loss: 8.7642 - mae: 8.7642\n",
      "Epoch 66/100\n",
      "1/1 [==============================] - 0s 0s/step - loss: 8.6733 - mae: 8.6733\n",
      "Epoch 67/100\n",
      "1/1 [==============================] - 0s 0s/step - loss: 8.5819 - mae: 8.5819\n",
      "Epoch 68/100\n",
      "1/1 [==============================] - 0s 0s/step - loss: 8.4901 - mae: 8.4901\n",
      "Epoch 69/100\n",
      "1/1 [==============================] - 0s 16ms/step - loss: 8.3979 - mae: 8.3979\n",
      "Epoch 70/100\n",
      "1/1 [==============================] - 0s 16ms/step - loss: 8.3053 - mae: 8.3053\n",
      "Epoch 71/100\n",
      "1/1 [==============================] - 0s 0s/step - loss: 8.2122 - mae: 8.2122\n",
      "Epoch 72/100\n",
      "1/1 [==============================] - 0s 6ms/step - loss: 8.1187 - mae: 8.1187\n",
      "Epoch 73/100\n",
      "1/1 [==============================] - 0s 16ms/step - loss: 8.0247 - mae: 8.0247\n",
      "Epoch 74/100\n",
      "1/1 [==============================] - 0s 0s/step - loss: 7.9303 - mae: 7.9303\n",
      "Epoch 75/100\n",
      "1/1 [==============================] - 0s 0s/step - loss: 7.8354 - mae: 7.8354\n",
      "Epoch 76/100\n",
      "1/1 [==============================] - 0s 0s/step - loss: 7.7401 - mae: 7.7401\n",
      "Epoch 77/100\n",
      "1/1 [==============================] - 0s 16ms/step - loss: 7.6443 - mae: 7.6443\n",
      "Epoch 78/100\n",
      "1/1 [==============================] - 0s 16ms/step - loss: 7.5481 - mae: 7.5481\n",
      "Epoch 79/100\n",
      "1/1 [==============================] - 0s 0s/step - loss: 7.4514 - mae: 7.4514\n",
      "Epoch 80/100\n",
      "1/1 [==============================] - 0s 0s/step - loss: 7.3542 - mae: 7.3542\n",
      "Epoch 81/100\n",
      "1/1 [==============================] - 0s 0s/step - loss: 7.2565 - mae: 7.2565\n",
      "Epoch 82/100\n",
      "1/1 [==============================] - 0s 16ms/step - loss: 7.1584 - mae: 7.1584\n",
      "Epoch 83/100\n",
      "1/1 [==============================] - 0s 16ms/step - loss: 7.0597 - mae: 7.0597\n",
      "Epoch 84/100\n",
      "1/1 [==============================] - 0s 16ms/step - loss: 6.9606 - mae: 6.9606\n",
      "Epoch 85/100\n",
      "1/1 [==============================] - 0s 0s/step - loss: 6.8610 - mae: 6.8610\n",
      "Epoch 86/100\n",
      "1/1 [==============================] - 0s 0s/step - loss: 6.7609 - mae: 6.7609\n",
      "Epoch 87/100\n",
      "1/1 [==============================] - 0s 16ms/step - loss: 6.6603 - mae: 6.6603\n",
      "Epoch 88/100\n",
      "1/1 [==============================] - 0s 16ms/step - loss: 6.6257 - mae: 6.6257\n",
      "Epoch 89/100\n",
      "1/1 [==============================] - 0s 16ms/step - loss: 6.6131 - mae: 6.6131\n",
      "Epoch 90/100\n",
      "1/1 [==============================] - 0s 0s/step - loss: 6.6009 - mae: 6.6009\n",
      "Epoch 91/100\n",
      "1/1 [==============================] - 0s 0s/step - loss: 6.5890 - mae: 6.5890\n",
      "Epoch 92/100\n",
      "1/1 [==============================] - 0s 31ms/step - loss: 6.5773 - mae: 6.5773\n",
      "Epoch 93/100\n",
      "1/1 [==============================] - 0s 16ms/step - loss: 6.5658 - mae: 6.5658\n",
      "Epoch 94/100\n",
      "1/1 [==============================] - 0s 0s/step - loss: 6.5545 - mae: 6.5545\n",
      "Epoch 95/100\n",
      "1/1 [==============================] - 0s 0s/step - loss: 6.5433 - mae: 6.5433\n",
      "Epoch 96/100\n",
      "1/1 [==============================] - 0s 16ms/step - loss: 6.5323 - mae: 6.5323\n",
      "Epoch 97/100\n",
      "1/1 [==============================] - 0s 0s/step - loss: 6.5215 - mae: 6.5215\n",
      "Epoch 98/100\n",
      "1/1 [==============================] - 0s 0s/step - loss: 6.5378 - mae: 6.5378\n",
      "Epoch 99/100\n",
      "1/1 [==============================] - 0s 0s/step - loss: 6.5490 - mae: 6.5490\n",
      "Epoch 100/100\n",
      "1/1 [==============================] - 0s 16ms/step - loss: 6.5531 - mae: 6.5531\n"
     ]
    },
    {
     "data": {
      "text/plain": [
       "<keras.src.callbacks.History at 0x253e8059ed0>"
      ]
     },
     "execution_count": 16,
     "metadata": {},
     "output_type": "execute_result"
    }
   ],
   "source": [
    "# lets see if we can  make another to improve  our model\n",
    "\n",
    "#1. create the model  ( this time  with an extra  hidden layer with 50 hidden units)\n",
    "model = tf.keras.Sequential([\n",
    "    tf.keras.layers.Dense(50, activation =None),\n",
    "    tf.keras.layers.Dense(1)\n",
    "])\n",
    "\n",
    "# 2.compile the model\n",
    "model.compile(loss=\"mae\",\n",
    "              optimizer=tf.keras.optimizers.Adam(lr=0.0001),\n",
    "              metrics=[\"mae\"])\n",
    "\n",
    "# 3. fit he model\n",
    "model.fit(X,y,epochs=100)\n"
   ]
  },
  {
   "cell_type": "code",
   "execution_count": 17,
   "metadata": {},
   "outputs": [
    {
     "name": "stdout",
     "output_type": "stream",
     "text": [
      "1/1 [==============================] - 0s 92ms/step\n"
     ]
    },
    {
     "data": {
      "text/plain": [
       "array([[32.14006]], dtype=float32)"
      ]
     },
     "execution_count": 17,
     "metadata": {},
     "output_type": "execute_result"
    }
   ],
   "source": [
    "model.predict([17.0])  # our model is overfitting"
   ]
  },
  {
   "cell_type": "markdown",
   "metadata": {},
   "source": [
    "## Evaluting a Model\n",
    "In practical  a typical  workflow you will  through when  building  neural network is:\n",
    "```\n",
    "Build a model -> fit it  ->  evaluate it  -> tweek the model ->  fit it ->  evaluate it -> tweak a model -> fit it -> evaluate it....\n",
    "```"
   ]
  },
  {
   "cell_type": "code",
   "execution_count": 18,
   "metadata": {},
   "outputs": [
    {
     "data": {
      "text/plain": [
       "tf.float32"
      ]
     },
     "execution_count": 18,
     "metadata": {},
     "output_type": "execute_result"
    }
   ],
   "source": [
    "# make a bigger dataset\n",
    "\n",
    "X = tf.cast(tf.range (-100, 100, 4), dtype= tf.float32)\n",
    "X.dtype"
   ]
  },
  {
   "cell_type": "code",
   "execution_count": 19,
   "metadata": {},
   "outputs": [
    {
     "data": {
      "text/plain": [
       "<tf.Tensor: shape=(50,), dtype=float32, numpy=\n",
       "array([-90., -86., -82., -78., -74., -70., -66., -62., -58., -54., -50.,\n",
       "       -46., -42., -38., -34., -30., -26., -22., -18., -14., -10.,  -6.,\n",
       "        -2.,   2.,   6.,  10.,  14.,  18.,  22.,  26.,  30.,  34.,  38.,\n",
       "        42.,  46.,  50.,  54.,  58.,  62.,  66.,  70.,  74.,  78.,  82.,\n",
       "        86.,  90.,  94.,  98., 102., 106.], dtype=float32)>"
      ]
     },
     "execution_count": 19,
     "metadata": {},
     "output_type": "execute_result"
    }
   ],
   "source": [
    "# make labels for dataset\n",
    "y = X + 10\n",
    "y "
   ]
  },
  {
   "cell_type": "code",
   "execution_count": 20,
   "metadata": {},
   "outputs": [
    {
     "data": {
      "text/plain": [
       "<matplotlib.collections.PathCollection at 0x253e91711b0>"
      ]
     },
     "execution_count": 20,
     "metadata": {},
     "output_type": "execute_result"
    },
    {
     "data": {
      "image/png": "[encoded data removed]",
      "text/plain": [
       "<Figure size 640x480 with 1 Axes>"
      ]
     },
     "metadata": {},
     "output_type": "display_data"
    }
   ],
   "source": [
    "# Visualize the data\n",
    "plt.plot(X,y)   # or\n",
    "plt.scatter(X,y)"
   ]
  },
  {
   "cell_type": "markdown",
   "metadata": {},
   "source": [
    "### The 3 sets...\n",
    "* **Training set** -  the model learns from this data , which is typically  70-80%  of the total data you have  avialable.\n",
    "* **Validation set**- the model gets tuned on this data, which is typically  10-15%  of the data available.\n",
    "* **Test  set** -  the model gets evaluated on this data to test  what is has learned this set is typically 10-15%  of the total  data available."
   ]
  },
  {
   "cell_type": "code",
   "execution_count": 21,
   "metadata": {},
   "outputs": [
    {
     "data": {
      "text/plain": [
       "50"
      ]
     },
     "execution_count": 21,
     "metadata": {},
     "output_type": "execute_result"
    }
   ],
   "source": [
    "# check the length of how many sample we have\n",
    "len(X)"
   ]
  },
  {
   "cell_type": "code",
   "execution_count": 22,
   "metadata": {},
   "outputs": [
    {
     "data": {
      "text/plain": [
       "(40, 10, 40, 10)"
      ]
     },
     "execution_count": 22,
     "metadata": {},
     "output_type": "execute_result"
    }
   ],
   "source": [
    "# Split the data into train  and test  sets\n",
    "X_train = X[:40] # first 40  are training samples (80% of the data)\n",
    "y_train = y[:40]\n",
    "\n",
    "X_test = X[40:] # last 10 are test samples (20% of the data)\n",
    "y_test = y[40:]\n",
    "\n",
    "len(X_train), len(X_test), len(y_train), len(y_test)"
   ]
  },
  {
   "cell_type": "markdown",
   "metadata": {},
   "source": [
    "## Visualizing the data\n",
    "Now we've got our data in training and test sets... let's visualize it again!"
   ]
  },
  {
   "cell_type": "code",
   "execution_count": 23,
   "metadata": {},
   "outputs": [
    {
     "data": {
      "image/png": "[encoded data removed]",
      "text/plain": [
       "<Figure size 1000x700 with 1 Axes>"
      ]
     },
     "metadata": {},
     "output_type": "display_data"
    }
   ],
   "source": [
    "plt.figure(figsize=(10,7))\n",
    "\n",
    "# plot training data in blue \n",
    "plt.scatter(X_train,y_train, c=\"b\", label=\"Training data\")  \n",
    "\n",
    "# ploy test data in green\n",
    "plt.scatter(X_test, y_test, c=\"g\", label=\"Testing data\")\n",
    "plt.legend();"
   ]
  },
  {
   "cell_type": "code",
   "execution_count": 24,
   "metadata": {},
   "outputs": [
    {
     "data": {
      "text/plain": [
       "(<tf.Tensor: shape=(), dtype=float32, numpy=-100.0>,\n",
       " <tf.Tensor: shape=(), dtype=float32, numpy=-90.0>)"
      ]
     },
     "execution_count": 24,
     "metadata": {},
     "output_type": "execute_result"
    }
   ],
   "source": [
    "# lets have a look at  how to build a neural network for our data\n",
    "X[0], y[0]"
   ]
  },
  {
   "cell_type": "code",
   "execution_count": 25,
   "metadata": {},
   "outputs": [
    {
     "name": "stdout",
     "output_type": "stream",
     "text": [
      "Epoch 1/100\n",
      "2/2 [==============================] - 0s 16ms/step - loss: 62.0844 - mae: 62.0844\n",
      "Epoch 2/100\n",
      "2/2 [==============================] - 0s 16ms/step - loss: 27.2008 - mae: 27.2008\n",
      "Epoch 3/100\n",
      "2/2 [==============================] - 0s 16ms/step - loss: 11.2387 - mae: 11.2387\n",
      "Epoch 4/100\n",
      "2/2 [==============================] - 0s 0s/step - loss: 9.6248 - mae: 9.6248\n",
      "Epoch 5/100\n",
      "2/2 [==============================] - 0s 0s/step - loss: 10.5399 - mae: 10.5399\n",
      "Epoch 6/100\n",
      "2/2 [==============================] - 0s 0s/step - loss: 9.7602 - mae: 9.7602\n",
      "Epoch 7/100\n",
      "2/2 [==============================] - 0s 0s/step - loss: 8.8484 - mae: 8.8484\n",
      "Epoch 8/100\n",
      "2/2 [==============================] - 0s 0s/step - loss: 9.0831 - mae: 9.0831\n",
      "Epoch 9/100\n",
      "2/2 [==============================] - 0s 0s/step - loss: 19.4174 - mae: 19.4174\n",
      "Epoch 10/100\n",
      "2/2 [==============================] - 0s 0s/step - loss: 10.4961 - mae: 10.4961\n",
      "Epoch 11/100\n",
      "2/2 [==============================] - 0s 16ms/step - loss: 8.5565 - mae: 8.5565\n",
      "Epoch 12/100\n",
      "2/2 [==============================] - 0s 16ms/step - loss: 10.9909 - mae: 10.9909\n",
      "Epoch 13/100\n",
      "2/2 [==============================] - 0s 16ms/step - loss: 7.5879 - mae: 7.5879\n",
      "Epoch 14/100\n",
      "2/2 [==============================] - 0s 0s/step - loss: 15.9668 - mae: 15.9668\n",
      "Epoch 15/100\n",
      "2/2 [==============================] - 0s 16ms/step - loss: 13.0445 - mae: 13.0445\n",
      "Epoch 16/100\n",
      "2/2 [==============================] - 0s 16ms/step - loss: 7.9485 - mae: 7.9485\n",
      "Epoch 17/100\n",
      "2/2 [==============================] - 0s 16ms/step - loss: 11.2437 - mae: 11.2437\n",
      "Epoch 18/100\n",
      "2/2 [==============================] - 0s 0s/step - loss: 10.2966 - mae: 10.2966\n",
      "Epoch 19/100\n",
      "2/2 [==============================] - 0s 0s/step - loss: 19.4902 - mae: 19.4902\n",
      "Epoch 20/100\n",
      "2/2 [==============================] - 0s 16ms/step - loss: 16.1453 - mae: 16.1453\n",
      "Epoch 21/100\n",
      "2/2 [==============================] - 0s 16ms/step - loss: 12.0488 - mae: 12.0488\n",
      "Epoch 22/100\n",
      "2/2 [==============================] - 0s 16ms/step - loss: 8.6511 - mae: 8.6511\n",
      "Epoch 23/100\n",
      "2/2 [==============================] - 0s 4ms/step - loss: 9.6949 - mae: 9.6949\n",
      "Epoch 24/100\n",
      "2/2 [==============================] - 0s 16ms/step - loss: 8.5939 - mae: 8.5939\n",
      "Epoch 25/100\n",
      "2/2 [==============================] - 0s 16ms/step - loss: 11.5956 - mae: 11.5956\n",
      "Epoch 26/100\n",
      "2/2 [==============================] - 0s 16ms/step - loss: 15.1598 - mae: 15.1598\n",
      "Epoch 27/100\n",
      "2/2 [==============================] - 0s 16ms/step - loss: 12.0509 - mae: 12.0509\n",
      "Epoch 28/100\n",
      "2/2 [==============================] - 0s 0s/step - loss: 13.3410 - mae: 13.3410\n",
      "Epoch 29/100\n",
      "2/2 [==============================] - 0s 0s/step - loss: 9.6103 - mae: 9.6103\n",
      "Epoch 30/100\n",
      "2/2 [==============================] - 0s 0s/step - loss: 17.1137 - mae: 17.1137\n",
      "Epoch 31/100\n",
      "2/2 [==============================] - 0s 1ms/step - loss: 22.9512 - mae: 22.9512\n",
      "Epoch 32/100\n",
      "2/2 [==============================] - 0s 16ms/step - loss: 7.5647 - mae: 7.5647\n",
      "Epoch 33/100\n",
      "2/2 [==============================] - 0s 16ms/step - loss: 15.4498 - mae: 15.4498\n",
      "Epoch 34/100\n",
      "2/2 [==============================] - 0s 0s/step - loss: 13.3805 - mae: 13.3805\n",
      "Epoch 35/100\n",
      "2/2 [==============================] - 0s 0s/step - loss: 7.9893 - mae: 7.9893\n",
      "Epoch 36/100\n",
      "2/2 [==============================] - 0s 0s/step - loss: 9.9917 - mae: 9.9917\n",
      "Epoch 37/100\n",
      "2/2 [==============================] - 0s 0s/step - loss: 9.7426 - mae: 9.7426\n",
      "Epoch 38/100\n",
      "2/2 [==============================] - 0s 0s/step - loss: 10.6060 - mae: 10.6060\n",
      "Epoch 39/100\n",
      "2/2 [==============================] - 0s 16ms/step - loss: 15.6926 - mae: 15.6926\n",
      "Epoch 40/100\n",
      "2/2 [==============================] - 0s 16ms/step - loss: 13.4419 - mae: 13.4419\n",
      "Epoch 41/100\n",
      "2/2 [==============================] - 0s 0s/step - loss: 9.3022 - mae: 9.3022\n",
      "Epoch 42/100\n",
      "2/2 [==============================] - 0s 0s/step - loss: 11.0062 - mae: 11.0062\n",
      "Epoch 43/100\n",
      "2/2 [==============================] - 0s 0s/step - loss: 8.3447 - mae: 8.3447\n",
      "Epoch 44/100\n",
      "2/2 [==============================] - 0s 0s/step - loss: 13.0389 - mae: 13.0389\n",
      "Epoch 45/100\n",
      "2/2 [==============================] - 0s 0s/step - loss: 13.7024 - mae: 13.7024\n",
      "Epoch 46/100\n",
      "2/2 [==============================] - 0s 16ms/step - loss: 8.4104 - mae: 8.4104\n",
      "Epoch 47/100\n",
      "2/2 [==============================] - 0s 16ms/step - loss: 9.1951 - mae: 9.1951\n",
      "Epoch 48/100\n",
      "2/2 [==============================] - 0s 16ms/step - loss: 10.7056 - mae: 10.7056\n",
      "Epoch 49/100\n",
      "2/2 [==============================] - 0s 16ms/step - loss: 7.8055 - mae: 7.8055\n",
      "Epoch 50/100\n",
      "2/2 [==============================] - 0s 0s/step - loss: 9.6205 - mae: 9.6205\n",
      "Epoch 51/100\n",
      "2/2 [==============================] - 0s 0s/step - loss: 9.1865 - mae: 9.1865\n",
      "Epoch 52/100\n",
      "2/2 [==============================] - 0s 0s/step - loss: 16.5119 - mae: 16.5119\n",
      "Epoch 53/100\n",
      "2/2 [==============================] - 0s 0s/step - loss: 14.0765 - mae: 14.0765\n",
      "Epoch 54/100\n",
      "2/2 [==============================] - 0s 16ms/step - loss: 20.9708 - mae: 20.9708\n",
      "Epoch 55/100\n",
      "2/2 [==============================] - 0s 16ms/step - loss: 16.5340 - mae: 16.5340\n",
      "Epoch 56/100\n",
      "2/2 [==============================] - 0s 16ms/step - loss: 9.8505 - mae: 9.8505\n",
      "Epoch 57/100\n",
      "2/2 [==============================] - 0s 0s/step - loss: 9.6875 - mae: 9.6875\n",
      "Epoch 58/100\n",
      "2/2 [==============================] - 0s 0s/step - loss: 9.0024 - mae: 9.0024\n",
      "Epoch 59/100\n",
      "2/2 [==============================] - 0s 6ms/step - loss: 10.2204 - mae: 10.2204\n",
      "Epoch 60/100\n",
      "2/2 [==============================] - 0s 16ms/step - loss: 8.4181 - mae: 8.4181\n",
      "Epoch 61/100\n",
      "2/2 [==============================] - 0s 16ms/step - loss: 9.2482 - mae: 9.2482\n",
      "Epoch 62/100\n",
      "2/2 [==============================] - 0s 0s/step - loss: 7.2912 - mae: 7.2912\n",
      "Epoch 63/100\n",
      "2/2 [==============================] - 0s 0s/step - loss: 8.1956 - mae: 8.1956\n",
      "Epoch 64/100\n",
      "2/2 [==============================] - 0s 0s/step - loss: 12.5607 - mae: 12.5607\n",
      "Epoch 65/100\n",
      "2/2 [==============================] - 0s 0s/step - loss: 10.6469 - mae: 10.6469\n",
      "Epoch 66/100\n",
      "2/2 [==============================] - 0s 7ms/step - loss: 15.4677 - mae: 15.4677\n",
      "Epoch 67/100\n",
      "2/2 [==============================] - 0s 16ms/step - loss: 9.9144 - mae: 9.9144\n",
      "Epoch 68/100\n",
      "2/2 [==============================] - 0s 0s/step - loss: 8.6908 - mae: 8.6908\n",
      "Epoch 69/100\n",
      "2/2 [==============================] - 0s 0s/step - loss: 13.3429 - mae: 13.3429\n",
      "Epoch 70/100\n",
      "2/2 [==============================] - 0s 0s/step - loss: 7.8722 - mae: 7.8722\n",
      "Epoch 71/100\n",
      "2/2 [==============================] - 0s 0s/step - loss: 11.3699 - mae: 11.3699\n",
      "Epoch 72/100\n",
      "2/2 [==============================] - 0s 0s/step - loss: 9.5641 - mae: 9.5641\n",
      "Epoch 73/100\n",
      "2/2 [==============================] - 0s 0s/step - loss: 11.6617 - mae: 11.6617\n",
      "Epoch 74/100\n",
      "2/2 [==============================] - 0s 0s/step - loss: 10.7774 - mae: 10.7774\n",
      "Epoch 75/100\n",
      "2/2 [==============================] - 0s 0s/step - loss: 9.5609 - mae: 9.5609\n",
      "Epoch 76/100\n",
      "2/2 [==============================] - 0s 0s/step - loss: 11.0085 - mae: 11.0085\n",
      "Epoch 77/100\n",
      "2/2 [==============================] - 0s 0s/step - loss: 11.0713 - mae: 11.0713\n",
      "Epoch 78/100\n",
      "2/2 [==============================] - 0s 16ms/step - loss: 11.6072 - mae: 11.6072\n",
      "Epoch 79/100\n",
      "2/2 [==============================] - 0s 16ms/step - loss: 15.6723 - mae: 15.6723\n",
      "Epoch 80/100\n",
      "2/2 [==============================] - 0s 16ms/step - loss: 11.5691 - mae: 11.5691\n",
      "Epoch 81/100\n",
      "2/2 [==============================] - 0s 0s/step - loss: 9.5287 - mae: 9.5287\n",
      "Epoch 82/100\n",
      "2/2 [==============================] - 0s 0s/step - loss: 12.5542 - mae: 12.5542\n",
      "Epoch 83/100\n",
      "2/2 [==============================] - 0s 0s/step - loss: 8.1640 - mae: 8.1640\n",
      "Epoch 84/100\n",
      "2/2 [==============================] - 0s 2ms/step - loss: 7.5706 - mae: 7.5706\n",
      "Epoch 85/100\n",
      "2/2 [==============================] - 0s 16ms/step - loss: 9.7678 - mae: 9.7678\n",
      "Epoch 86/100\n",
      "2/2 [==============================] - 0s 0s/step - loss: 9.0689 - mae: 9.0689\n",
      "Epoch 87/100\n",
      "2/2 [==============================] - 0s 0s/step - loss: 11.7114 - mae: 11.7114\n",
      "Epoch 88/100\n",
      "2/2 [==============================] - 0s 0s/step - loss: 10.3133 - mae: 10.3133\n",
      "Epoch 89/100\n",
      "2/2 [==============================] - 0s 0s/step - loss: 6.7642 - mae: 6.7642\n",
      "Epoch 90/100\n",
      "2/2 [==============================] - 0s 0s/step - loss: 8.1411 - mae: 8.1411\n",
      "Epoch 91/100\n",
      "2/2 [==============================] - 0s 4ms/step - loss: 6.9128 - mae: 6.9128\n",
      "Epoch 92/100\n",
      "2/2 [==============================] - 0s 16ms/step - loss: 9.0135 - mae: 9.0135\n",
      "Epoch 93/100\n",
      "2/2 [==============================] - 0s 16ms/step - loss: 7.5046 - mae: 7.5046\n",
      "Epoch 94/100\n",
      "2/2 [==============================] - 0s 0s/step - loss: 9.1234 - mae: 9.1234\n",
      "Epoch 95/100\n",
      "2/2 [==============================] - 0s 0s/step - loss: 10.5819 - mae: 10.5819\n",
      "Epoch 96/100\n",
      "2/2 [==============================] - 0s 16ms/step - loss: 10.6023 - mae: 10.6023\n",
      "Epoch 97/100\n",
      "2/2 [==============================] - 0s 0s/step - loss: 7.0144 - mae: 7.0144\n",
      "Epoch 98/100\n",
      "2/2 [==============================] - 0s 0s/step - loss: 9.1581 - mae: 9.1581\n",
      "Epoch 99/100\n",
      "2/2 [==============================] - 0s 0s/step - loss: 8.9626 - mae: 8.9626\n",
      "Epoch 100/100\n",
      "2/2 [==============================] - 0s 8ms/step - loss: 13.0864 - mae: 13.0864\n"
     ]
    },
    {
     "data": {
      "text/plain": [
       "<keras.src.callbacks.History at 0x253e9278e20>"
      ]
     },
     "execution_count": 25,
     "metadata": {},
     "output_type": "execute_result"
    }
   ],
   "source": [
    "#  lets create a model which  builds automatically by defining the input_shape argument in the first layer\n",
    "tf.random.set_seed(42)\n",
    "# 1.Same create a model\n",
    "model = tf.keras.Sequential([\n",
    "    tf.keras.layers.Dense(1, input_shape=[1])\n",
    "])\n",
    "# 2.compile the model\n",
    "model.compile(loss =tf.keras.losses.mae,\n",
    "              optimizer = tf.keras.optimizers.SGD(),\n",
    "              metrics = [\"mae\"])\n",
    "\n",
    "#3. fit the model\n",
    "model.fit(X_train,y_train,epochs=100,verbose=1)\n",
    "\n",
    "\n"
   ]
  },
  {
   "cell_type": "code",
   "execution_count": 26,
   "metadata": {},
   "outputs": [
    {
     "name": "stdout",
     "output_type": "stream",
     "text": [
      "Model: \"sequential_3\"\n",
      "_________________________________________________________________\n",
      " Layer (type)                Output Shape              Param #   \n",
      "=================================================================\n",
      " dense_4 (Dense)             (None, 1)                 2         \n",
      "                                                                 \n",
      "=================================================================\n",
      "Total params: 2 (8.00 Byte)\n",
      "Trainable params: 2 (8.00 Byte)\n",
      "Non-trainable params: 0 (0.00 Byte)\n",
      "_________________________________________________________________\n"
     ]
    }
   ],
   "source": [
    "model.summary()"
   ]
  },
  {
   "cell_type": "code",
   "execution_count": 30,
   "metadata": {},
   "outputs": [
    {
     "name": "stdout",
     "output_type": "stream",
     "text": [
      "You must install pydot (`pip install pydot`) and install graphviz (see instructions at https://graphviz.gitlab.io/download/) for plot_model to work.\n"
     ]
    }
   ],
   "source": [
    "from tensorflow.keras.utils import plot_model\n",
    "plot_model(model=model,show_shapes=True)"
   ]
  }
 ],
 "metadata": {
  "kernelspec": {
   "display_name": "Python 3",
   "language": "python",
   "name": "python3"
  },
  "language_info": {
   "codemirror_mode": {
    "name": "ipython",
    "version": 3
   },
   "file_extension": ".py",
   "mimetype": "text/x-python",
   "name": "python",
   "nbconvert_exporter": "python",
   "pygments_lexer": "ipython3",
   "version": "3.10.8"
  }
 },
 "nbformat": 4,
 "nbformat_minor": 2
}
