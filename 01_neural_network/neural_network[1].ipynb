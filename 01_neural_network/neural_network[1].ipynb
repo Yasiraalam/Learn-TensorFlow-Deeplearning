{
 "cells": [
  {
   "cell_type": "code",
   "execution_count": 2,
   "metadata": {},
   "outputs": [
    {
     "name": "stdout",
     "output_type": "stream",
     "text": [
      "WARNING:tensorflow:From c:\\Users\\user\\AppData\\Local\\Programs\\Python\\Python310\\lib\\site-packages\\keras\\src\\losses.py:2976: The name tf.losses.sparse_softmax_cross_entropy is deprecated. Please use tf.compat.v1.losses.sparse_softmax_cross_entropy instead.\n",
      "\n"
     ]
    }
   ],
   "source": [
    "import tensorflow as tf\n",
    "import numpy as np\n",
    "# import metapolott\n",
    "import matplotlib.pyplot as  plt\n",
    "\n"
   ]
  },
  {
   "cell_type": "markdown",
   "metadata": {},
   "source": [
    "# Intrduction to Regression with Neural  Network in TensorFlow\n"
   ]
  },
  {
   "cell_type": "markdown",
   "metadata": {},
   "source": [
    "## There are  many difinations  for a regression problem but  in our case, we're  goining to simplify  it: predicting  a numerical variable based  on some other  combination  of variables, even shorter...  predicting  a number"
   ]
  },
  {
   "cell_type": "code",
   "execution_count": 3,
   "metadata": {},
   "outputs": [
    {
     "data": {
      "text/plain": [
       "<matplotlib.collections.PathCollection at 0x29acd0e6a40>"
      ]
     },
     "execution_count": 3,
     "metadata": {},
     "output_type": "execute_result"
    },
    {
     "data": {
      "image/png": "[encoded data removed]",
      "text/plain": [
       "<Figure size 640x480 with 1 Axes>"
      ]
     },
     "metadata": {},
     "output_type": "display_data"
    }
   ],
   "source": [
    "X = np.array([-7., -4., -1., 2., 5., 8., 11., 14.])\n",
    "y = np.array([3., 6., 9., 12., 15., 18., 21., 24.])\n",
    "plt.scatter(X,y)"
   ]
  },
  {
   "cell_type": "code",
   "execution_count": 4,
   "metadata": {},
   "outputs": [
    {
     "data": {
      "text/plain": [
       "array([ True,  True,  True,  True,  True,  True,  True,  True])"
      ]
     },
     "execution_count": 4,
     "metadata": {},
     "output_type": "execute_result"
    }
   ],
   "source": [
    "y == X + 10"
   ]
  },
  {
   "cell_type": "code",
   "execution_count": 5,
   "metadata": {},
   "outputs": [],
   "source": [
    "X = X.reshape (-1,1)\n",
    "y = y.reshape(-1, 1)"
   ]
  },
  {
   "cell_type": "markdown",
   "metadata": {},
   "source": [
    "## Input and output"
   ]
  },
  {
   "cell_type": "code",
   "execution_count": 6,
   "metadata": {},
   "outputs": [
    {
     "data": {
      "text/plain": [
       "(<tf.Tensor: shape=(3,), dtype=string, numpy=array([b'bedroom', b'bathroom', b'garage'], dtype=object)>,\n",
       " <tf.Tensor: shape=(1,), dtype=int32, numpy=array([939700])>)"
      ]
     },
     "execution_count": 6,
     "metadata": {},
     "output_type": "execute_result"
    }
   ],
   "source": [
    "# Create a demo tensor for  our housing  price  predicttion problem\n",
    "house_info = tf.constant([\"bedroom\", \"bathroom\", \"garage\"])\n",
    "house_price = tf.constant([939700])\n",
    "house_info,house_price "
   ]
  },
  {
   "cell_type": "markdown",
   "metadata": {},
   "source": [
    "## turn our numpy array into tensors"
   ]
  },
  {
   "cell_type": "code",
   "execution_count": 7,
   "metadata": {},
   "outputs": [
    {
     "data": {
      "text/plain": [
       "(<tf.Tensor: shape=(8, 1), dtype=float32, numpy=\n",
       " array([[-7.],\n",
       "        [-4.],\n",
       "        [-1.],\n",
       "        [ 2.],\n",
       "        [ 5.],\n",
       "        [ 8.],\n",
       "        [11.],\n",
       "        [14.]], dtype=float32)>,\n",
       " <tf.Tensor: shape=(8, 1), dtype=float32, numpy=\n",
       " array([[ 3.],\n",
       "        [ 6.],\n",
       "        [ 9.],\n",
       "        [12.],\n",
       "        [15.],\n",
       "        [18.],\n",
       "        [21.],\n",
       "        [24.]], dtype=float32)>)"
      ]
     },
     "execution_count": 7,
     "metadata": {},
     "output_type": "execute_result"
    }
   ],
   "source": [
    "X = tf.cast(tf.constant(X), dtype= tf.float32)\n",
    "y = tf.cast(tf.constant(y), dtype= tf.float32)\n",
    "X,y"
   ]
  },
  {
   "cell_type": "code",
   "execution_count": 8,
   "metadata": {},
   "outputs": [
    {
     "data": {
      "text/plain": [
       "TensorShape([8, 1])"
      ]
     },
     "execution_count": 8,
     "metadata": {},
     "output_type": "execute_result"
    }
   ],
   "source": [
    "X.shape"
   ]
  },
  {
   "cell_type": "code",
   "execution_count": 9,
   "metadata": {},
   "outputs": [
    {
     "data": {
      "text/plain": [
       "<matplotlib.collections.PathCollection at 0x29acd197430>"
      ]
     },
     "execution_count": 9,
     "metadata": {},
     "output_type": "execute_result"
    },
    {
     "data": {
      "image/png": "[encoded data removed]",
      "text/plain": [
       "<Figure size 640x480 with 1 Axes>"
      ]
     },
     "metadata": {},
     "output_type": "display_data"
    }
   ],
   "source": [
    "plt.scatter(X,y)"
   ]
  },
  {
   "cell_type": "markdown",
   "metadata": {},
   "source": [
    "## Steps in modelling with TensorFlow"
   ]
  },
  {
   "cell_type": "markdown",
   "metadata": {},
   "source": [
    "### 1. **Creating a model** - define  the input  and output layers as well as hidden layer on deep learning model\n",
    "### 2. **Compilling a model** - define the loss function ( in others words, the function which our model how wrong it is) and the optimizer( tells our model how to improve the patterns its learning) and evaluation matrics ( what we can use to interpret the performance of our model).\n",
    "### 3. **Fitting a model** - letting the model try to find patterns between X & y(features and labels)"
   ]
  },
  {
   "cell_type": "code",
   "execution_count": 10,
   "metadata": {},
   "outputs": [
    {
     "name": "stdout",
     "output_type": "stream",
     "text": [
      "WARNING:tensorflow:From c:\\Users\\user\\AppData\\Local\\Programs\\Python\\Python310\\lib\\site-packages\\keras\\src\\backend.py:873: The name tf.get_default_graph is deprecated. Please use tf.compat.v1.get_default_graph instead.\n",
      "\n",
      "Epoch 1/5\n",
      "WARNING:tensorflow:From c:\\Users\\user\\AppData\\Local\\Programs\\Python\\Python310\\lib\\site-packages\\keras\\src\\utils\\tf_utils.py:492: The name tf.ragged.RaggedTensorValue is deprecated. Please use tf.compat.v1.ragged.RaggedTensorValue instead.\n",
      "\n",
      "WARNING:tensorflow:From c:\\Users\\user\\AppData\\Local\\Programs\\Python\\Python310\\lib\\site-packages\\keras\\src\\engine\\base_layer_utils.py:384: The name tf.executing_eagerly_outside_functions is deprecated. Please use tf.compat.v1.executing_eagerly_outside_functions instead.\n",
      "\n",
      "1/1 [==============================] - 1s 955ms/step - loss: 21.2213 - mae: 21.2213\n",
      "Epoch 2/5\n",
      "1/1 [==============================] - 0s 8ms/step - loss: 20.8281 - mae: 20.8281\n",
      "Epoch 3/5\n",
      "1/1 [==============================] - 0s 17ms/step - loss: 20.4621 - mae: 20.4621\n",
      "Epoch 4/5\n",
      "1/1 [==============================] - 0s 8ms/step - loss: 20.1809 - mae: 20.1809\n",
      "Epoch 5/5\n",
      "1/1 [==============================] - 0s 8ms/step - loss: 19.8996 - mae: 19.8996\n"
     ]
    },
    {
     "data": {
      "text/plain": [
       "<keras.src.callbacks.History at 0x29acd2a3f70>"
      ]
     },
     "execution_count": 10,
     "metadata": {},
     "output_type": "execute_result"
    }
   ],
   "source": [
    "# Set random seed\n",
    "tf.random.set_seed(42)\n",
    "\n",
    "# 1.Create  a model using the Sequential API\n",
    "model = tf.keras.Sequential([\n",
    "    tf.keras.layers.Dense(1)\n",
    "])\n",
    "\n",
    "# 2. Compile  the model\n",
    "# mae is short  for mean absolute error\n",
    "# sgd is short for stochastic gradient descent\n",
    "model.compile(loss = tf.keras.losses.mae,  \n",
    "              optimizer=tf.keras.optimizers.SGD(), \n",
    "              metrics = [\"mae\"])\n",
    "\n",
    "# 3.fit he model\n",
    "model.fit(X, y, epochs=5)    # epochs : opportunity going on x and y values\n"
   ]
  },
  {
   "cell_type": "code",
   "execution_count": 11,
   "metadata": {},
   "outputs": [
    {
     "data": {
      "text/plain": [
       "(<tf.Tensor: shape=(8, 1), dtype=float32, numpy=\n",
       " array([[-7.],\n",
       "        [-4.],\n",
       "        [-1.],\n",
       "        [ 2.],\n",
       "        [ 5.],\n",
       "        [ 8.],\n",
       "        [11.],\n",
       "        [14.]], dtype=float32)>,\n",
       " <tf.Tensor: shape=(8, 1), dtype=float32, numpy=\n",
       " array([[ 3.],\n",
       "        [ 6.],\n",
       "        [ 9.],\n",
       "        [12.],\n",
       "        [15.],\n",
       "        [18.],\n",
       "        [21.],\n",
       "        [24.]], dtype=float32)>)"
      ]
     },
     "execution_count": 11,
     "metadata": {},
     "output_type": "execute_result"
    }
   ],
   "source": [
    "X , y"
   ]
  },
  {
   "cell_type": "code",
   "execution_count": 12,
   "metadata": {},
   "outputs": [
    {
     "name": "stdout",
     "output_type": "stream",
     "text": [
      "1/1 [==============================] - 0s 217ms/step\n"
     ]
    },
    {
     "data": {
      "text/plain": [
       "array([[-22.28685]], dtype=float32)"
      ]
     },
     "execution_count": 12,
     "metadata": {},
     "output_type": "execute_result"
    }
   ],
   "source": [
    "# Try and make a prediction using our model\n",
    "y_pred = model.predict([17.0])\n",
    "y_pred"
   ]
  },
  {
   "cell_type": "code",
   "execution_count": 13,
   "metadata": {},
   "outputs": [
    {
     "data": {
      "text/plain": [
       "array([[-11.28685]], dtype=float32)"
      ]
     },
     "execution_count": 13,
     "metadata": {},
     "output_type": "execute_result"
    }
   ],
   "source": [
    "y_pred + 11"
   ]
  },
  {
   "cell_type": "markdown",
   "metadata": {},
   "source": [
    "## improving our model"
   ]
  },
  {
   "cell_type": "markdown",
   "metadata": {},
   "source": [
    "### by altering  the steps  we took to create a model\n",
    "\n",
    "1. **Creating a model** - here  we might add more layers, increase the number of hidden  units( all called neuron)\n",
    "within  each of  the hidden layers, change the activation  function of each layer\n",
    "2. **Compiling a model** -  here we might change the optimization  function  or perhaps the **learning rate** of  the optimization function.\n",
    "3. **Fitting a  model** -  here we might fit a model for more **epochs** (  leave it training for longer) or on more data ( give the model more examples to learn from)"
   ]
  },
  {
   "cell_type": "code",
   "execution_count": 14,
   "metadata": {},
   "outputs": [
    {
     "name": "stdout",
     "output_type": "stream",
     "text": [
      "Epoch 1/100\n",
      "1/1 [==============================] - 0s 429ms/step - loss: 14.7623 - mae: 14.7623\n",
      "Epoch 2/100\n",
      "1/1 [==============================] - 0s 16ms/step - loss: 14.6298 - mae: 14.6298\n",
      "Epoch 3/100\n",
      "1/1 [==============================] - 0s 16ms/step - loss: 14.4973 - mae: 14.4973\n",
      "Epoch 4/100\n",
      "1/1 [==============================] - 0s 16ms/step - loss: 14.3648 - mae: 14.3648\n",
      "Epoch 5/100\n",
      "1/1 [==============================] - 0s 16ms/step - loss: 14.2323 - mae: 14.2323\n",
      "Epoch 6/100\n",
      "1/1 [==============================] - 0s 17ms/step - loss: 14.0998 - mae: 14.0998\n",
      "Epoch 7/100\n",
      "1/1 [==============================] - 0s 16ms/step - loss: 13.9673 - mae: 13.9673\n",
      "Epoch 8/100\n",
      "1/1 [==============================] - 0s 16ms/step - loss: 13.8348 - mae: 13.8348\n",
      "Epoch 9/100\n",
      "1/1 [==============================] - 0s 8ms/step - loss: 13.7023 - mae: 13.7023\n",
      "Epoch 10/100\n",
      "1/1 [==============================] - 0s 8ms/step - loss: 13.5698 - mae: 13.5698\n",
      "Epoch 11/100\n",
      "1/1 [==============================] - 0s 16ms/step - loss: 13.4373 - mae: 13.4373\n",
      "Epoch 12/100\n",
      "1/1 [==============================] - 0s 8ms/step - loss: 13.3048 - mae: 13.3048\n",
      "Epoch 13/100\n",
      "1/1 [==============================] - 0s 8ms/step - loss: 13.1723 - mae: 13.1723\n",
      "Epoch 14/100\n",
      "1/1 [==============================] - 0s 16ms/step - loss: 13.0398 - mae: 13.0398\n",
      "Epoch 15/100\n",
      "1/1 [==============================] - 0s 16ms/step - loss: 12.9073 - mae: 12.9073\n",
      "Epoch 16/100\n",
      "1/1 [==============================] - 0s 18ms/step - loss: 12.7748 - mae: 12.7748\n",
      "Epoch 17/100\n",
      "1/1 [==============================] - 0s 16ms/step - loss: 12.6423 - mae: 12.6423\n",
      "Epoch 18/100\n",
      "1/1 [==============================] - 0s 31ms/step - loss: 12.5098 - mae: 12.5098\n",
      "Epoch 19/100\n",
      "1/1 [==============================] - 0s 16ms/step - loss: 12.3773 - mae: 12.3773\n",
      "Epoch 20/100\n",
      "1/1 [==============================] - 0s 16ms/step - loss: 12.2448 - mae: 12.2448\n",
      "Epoch 21/100\n",
      "1/1 [==============================] - 0s 16ms/step - loss: 12.1123 - mae: 12.1123\n",
      "Epoch 22/100\n",
      "1/1 [==============================] - 0s 0s/step - loss: 11.9798 - mae: 11.9798\n",
      "Epoch 23/100\n",
      "1/1 [==============================] - 0s 16ms/step - loss: 11.8473 - mae: 11.8473\n",
      "Epoch 24/100\n",
      "1/1 [==============================] - 0s 16ms/step - loss: 11.7148 - mae: 11.7148\n",
      "Epoch 25/100\n",
      "1/1 [==============================] - 0s 16ms/step - loss: 11.5823 - mae: 11.5823\n",
      "Epoch 26/100\n",
      "1/1 [==============================] - 0s 16ms/step - loss: 11.4498 - mae: 11.4498\n",
      "Epoch 27/100\n",
      "1/1 [==============================] - 0s 16ms/step - loss: 11.3173 - mae: 11.3173\n",
      "Epoch 28/100\n",
      "1/1 [==============================] - 0s 16ms/step - loss: 11.1848 - mae: 11.1848\n",
      "Epoch 29/100\n",
      "1/1 [==============================] - 0s 8ms/step - loss: 11.0523 - mae: 11.0523\n",
      "Epoch 30/100\n",
      "1/1 [==============================] - 0s 8ms/step - loss: 10.9198 - mae: 10.9198\n",
      "Epoch 31/100\n",
      "1/1 [==============================] - 0s 16ms/step - loss: 10.7873 - mae: 10.7873\n",
      "Epoch 32/100\n",
      "1/1 [==============================] - 0s 16ms/step - loss: 10.6548 - mae: 10.6548\n",
      "Epoch 33/100\n",
      "1/1 [==============================] - 0s 16ms/step - loss: 10.5223 - mae: 10.5223\n",
      "Epoch 34/100\n",
      "1/1 [==============================] - 0s 16ms/step - loss: 10.3898 - mae: 10.3898\n",
      "Epoch 35/100\n",
      "1/1 [==============================] - 0s 13ms/step - loss: 10.2573 - mae: 10.2573\n",
      "Epoch 36/100\n",
      "1/1 [==============================] - 0s 9ms/step - loss: 10.1248 - mae: 10.1248\n",
      "Epoch 37/100\n",
      "1/1 [==============================] - 0s 8ms/step - loss: 9.9923 - mae: 9.9923\n",
      "Epoch 38/100\n",
      "1/1 [==============================] - 0s 8ms/step - loss: 9.8598 - mae: 9.8598\n",
      "Epoch 39/100\n",
      "1/1 [==============================] - 0s 16ms/step - loss: 9.7273 - mae: 9.7273\n",
      "Epoch 40/100\n",
      "1/1 [==============================] - 0s 8ms/step - loss: 9.5948 - mae: 9.5948\n",
      "Epoch 41/100\n",
      "1/1 [==============================] - 0s 8ms/step - loss: 9.4623 - mae: 9.4623\n",
      "Epoch 42/100\n",
      "1/1 [==============================] - 0s 8ms/step - loss: 9.3298 - mae: 9.3298\n",
      "Epoch 43/100\n",
      "1/1 [==============================] - 0s 8ms/step - loss: 9.1973 - mae: 9.1973\n",
      "Epoch 44/100\n",
      "1/1 [==============================] - 0s 8ms/step - loss: 9.0648 - mae: 9.0648\n",
      "Epoch 45/100\n",
      "1/1 [==============================] - 0s 8ms/step - loss: 8.9323 - mae: 8.9323\n",
      "Epoch 46/100\n",
      "1/1 [==============================] - 0s 16ms/step - loss: 8.7998 - mae: 8.7998\n",
      "Epoch 47/100\n",
      "1/1 [==============================] - 0s 8ms/step - loss: 8.6673 - mae: 8.6673\n",
      "Epoch 48/100\n",
      "1/1 [==============================] - 0s 16ms/step - loss: 8.5348 - mae: 8.5348\n",
      "Epoch 49/100\n",
      "1/1 [==============================] - 0s 16ms/step - loss: 8.4023 - mae: 8.4023\n",
      "Epoch 50/100\n",
      "1/1 [==============================] - 0s 8ms/step - loss: 8.2698 - mae: 8.2698\n",
      "Epoch 51/100\n",
      "1/1 [==============================] - 0s 8ms/step - loss: 8.1373 - mae: 8.1373\n",
      "Epoch 52/100\n",
      "1/1 [==============================] - 0s 8ms/step - loss: 8.0048 - mae: 8.0048\n",
      "Epoch 53/100\n",
      "1/1 [==============================] - 0s 8ms/step - loss: 7.8723 - mae: 7.8723\n",
      "Epoch 54/100\n",
      "1/1 [==============================] - 0s 22ms/step - loss: 7.7398 - mae: 7.7398\n",
      "Epoch 55/100\n",
      "1/1 [==============================] - 0s 8ms/step - loss: 7.6073 - mae: 7.6073\n",
      "Epoch 56/100\n",
      "1/1 [==============================] - 0s 8ms/step - loss: 7.4748 - mae: 7.4748\n",
      "Epoch 57/100\n",
      "1/1 [==============================] - 0s 8ms/step - loss: 7.3423 - mae: 7.3423\n",
      "Epoch 58/100\n",
      "1/1 [==============================] - 0s 16ms/step - loss: 7.2098 - mae: 7.2098\n",
      "Epoch 59/100\n",
      "1/1 [==============================] - 0s 8ms/step - loss: 7.0773 - mae: 7.0773\n",
      "Epoch 60/100\n",
      "1/1 [==============================] - 0s 24ms/step - loss: 7.0575 - mae: 7.0575\n",
      "Epoch 61/100\n",
      "1/1 [==============================] - 0s 8ms/step - loss: 7.0519 - mae: 7.0519\n",
      "Epoch 62/100\n",
      "1/1 [==============================] - 0s 15ms/step - loss: 7.0463 - mae: 7.0463\n",
      "Epoch 63/100\n",
      "1/1 [==============================] - 0s 8ms/step - loss: 7.0406 - mae: 7.0406\n",
      "Epoch 64/100\n",
      "1/1 [==============================] - 0s 8ms/step - loss: 7.0350 - mae: 7.0350\n",
      "Epoch 65/100\n",
      "1/1 [==============================] - 0s 9ms/step - loss: 7.0294 - mae: 7.0294\n",
      "Epoch 66/100\n",
      "1/1 [==============================] - 0s 8ms/step - loss: 7.0238 - mae: 7.0238\n",
      "Epoch 67/100\n",
      "1/1 [==============================] - 0s 8ms/step - loss: 7.0181 - mae: 7.0181\n",
      "Epoch 68/100\n",
      "1/1 [==============================] - 0s 9ms/step - loss: 7.0125 - mae: 7.0125\n",
      "Epoch 69/100\n",
      "1/1 [==============================] - 0s 8ms/step - loss: 7.0069 - mae: 7.0069\n",
      "Epoch 70/100\n",
      "1/1 [==============================] - 0s 8ms/step - loss: 7.0013 - mae: 7.0013\n",
      "Epoch 71/100\n",
      "1/1 [==============================] - 0s 8ms/step - loss: 6.9956 - mae: 6.9956\n",
      "Epoch 72/100\n",
      "1/1 [==============================] - 0s 8ms/step - loss: 6.9900 - mae: 6.9900\n",
      "Epoch 73/100\n",
      "1/1 [==============================] - 0s 8ms/step - loss: 6.9844 - mae: 6.9844\n",
      "Epoch 74/100\n",
      "1/1 [==============================] - 0s 9ms/step - loss: 6.9788 - mae: 6.9788\n",
      "Epoch 75/100\n",
      "1/1 [==============================] - 0s 8ms/step - loss: 6.9731 - mae: 6.9731\n",
      "Epoch 76/100\n",
      "1/1 [==============================] - 0s 8ms/step - loss: 6.9675 - mae: 6.9675\n",
      "Epoch 77/100\n",
      "1/1 [==============================] - 0s 9ms/step - loss: 6.9619 - mae: 6.9619\n",
      "Epoch 78/100\n",
      "1/1 [==============================] - 0s 8ms/step - loss: 6.9563 - mae: 6.9563\n",
      "Epoch 79/100\n",
      "1/1 [==============================] - 0s 8ms/step - loss: 6.9506 - mae: 6.9506\n",
      "Epoch 80/100\n",
      "1/1 [==============================] - 0s 11ms/step - loss: 6.9450 - mae: 6.9450\n",
      "Epoch 81/100\n",
      "1/1 [==============================] - 0s 8ms/step - loss: 6.9394 - mae: 6.9394\n",
      "Epoch 82/100\n",
      "1/1 [==============================] - 0s 8ms/step - loss: 6.9338 - mae: 6.9338\n",
      "Epoch 83/100\n",
      "1/1 [==============================] - 0s 10ms/step - loss: 6.9281 - mae: 6.9281\n",
      "Epoch 84/100\n",
      "1/1 [==============================] - 0s 8ms/step - loss: 6.9225 - mae: 6.9225\n",
      "Epoch 85/100\n",
      "1/1 [==============================] - 0s 8ms/step - loss: 6.9169 - mae: 6.9169\n",
      "Epoch 86/100\n",
      "1/1 [==============================] - 0s 24ms/step - loss: 6.9113 - mae: 6.9113\n",
      "Epoch 87/100\n",
      "1/1 [==============================] - 0s 56ms/step - loss: 6.9056 - mae: 6.9056\n",
      "Epoch 88/100\n",
      "1/1 [==============================] - 0s 15ms/step - loss: 6.9000 - mae: 6.9000\n",
      "Epoch 89/100\n",
      "1/1 [==============================] - 0s 41ms/step - loss: 6.8944 - mae: 6.8944\n",
      "Epoch 90/100\n",
      "1/1 [==============================] - 0s 16ms/step - loss: 6.8888 - mae: 6.8888\n",
      "Epoch 91/100\n",
      "1/1 [==============================] - 0s 16ms/step - loss: 6.8831 - mae: 6.8831\n",
      "Epoch 92/100\n",
      "1/1 [==============================] - 0s 16ms/step - loss: 6.8775 - mae: 6.8775\n",
      "Epoch 93/100\n",
      "1/1 [==============================] - 0s 17ms/step - loss: 6.8719 - mae: 6.8719\n",
      "Epoch 94/100\n",
      "1/1 [==============================] - 0s 16ms/step - loss: 6.8663 - mae: 6.8663\n",
      "Epoch 95/100\n",
      "1/1 [==============================] - 0s 8ms/step - loss: 6.8606 - mae: 6.8606\n",
      "Epoch 96/100\n",
      "1/1 [==============================] - 0s 9ms/step - loss: 6.8550 - mae: 6.8550\n",
      "Epoch 97/100\n",
      "1/1 [==============================] - 0s 8ms/step - loss: 6.8494 - mae: 6.8494\n",
      "Epoch 98/100\n",
      "1/1 [==============================] - 0s 8ms/step - loss: 6.8438 - mae: 6.8438\n",
      "Epoch 99/100\n",
      "1/1 [==============================] - 0s 11ms/step - loss: 6.8381 - mae: 6.8381\n",
      "Epoch 100/100\n",
      "1/1 [==============================] - 0s 16ms/step - loss: 6.8325 - mae: 6.8325\n"
     ]
    },
    {
     "data": {
      "text/plain": [
       "<keras.src.callbacks.History at 0x29ad07c12d0>"
      ]
     },
     "execution_count": 14,
     "metadata": {},
     "output_type": "execute_result"
    }
   ],
   "source": [
    "# lets rebuild our model\n",
    "# 1. Create the model\n",
    "\n",
    "model = tf.keras.Sequential([\n",
    "    tf.keras.layers.Dense(1) \n",
    "])\n",
    " # 2. Compile the model\n",
    "model.compile(loss=tf.keras.losses.mae,\n",
    "              optimizer=tf.keras.optimizers.SGD(),\n",
    "              metrics=[\"mae\"])\n",
    "\n",
    "# 3.  Fit the model (this time 1 we'll train for longer)\n",
    "model.fit(X,y,epochs = 100)"
   ]
  },
  {
   "cell_type": "code",
   "execution_count": 15,
   "metadata": {},
   "outputs": [
    {
     "data": {
      "text/plain": [
       "(<tf.Tensor: shape=(8, 1), dtype=float32, numpy=\n",
       " array([[-7.],\n",
       "        [-4.],\n",
       "        [-1.],\n",
       "        [ 2.],\n",
       "        [ 5.],\n",
       "        [ 8.],\n",
       "        [11.],\n",
       "        [14.]], dtype=float32)>,\n",
       " <tf.Tensor: shape=(8, 1), dtype=float32, numpy=\n",
       " array([[ 3.],\n",
       "        [ 6.],\n",
       "        [ 9.],\n",
       "        [12.],\n",
       "        [15.],\n",
       "        [18.],\n",
       "        [21.],\n",
       "        [24.]], dtype=float32)>)"
      ]
     },
     "execution_count": 15,
     "metadata": {},
     "output_type": "execute_result"
    }
   ],
   "source": [
    "X, y"
   ]
  },
  {
   "cell_type": "code",
   "execution_count": 16,
   "metadata": {},
   "outputs": [
    {
     "name": "stdout",
     "output_type": "stream",
     "text": [
      "1/1 [==============================] - 0s 152ms/step\n"
     ]
    },
    {
     "data": {
      "text/plain": [
       "array([[29.871532]], dtype=float32)"
      ]
     },
     "execution_count": 16,
     "metadata": {},
     "output_type": "execute_result"
    }
   ],
   "source": [
    "# lets see if our model's prediction has improved\n",
    "model.predict([17.0])"
   ]
  },
  {
   "cell_type": "code",
   "execution_count": 17,
   "metadata": {},
   "outputs": [
    {
     "name": "stderr",
     "output_type": "stream",
     "text": [
      "WARNING:absl:`lr` is deprecated in Keras optimizer, please use `learning_rate` or use the legacy optimizer, e.g.,tf.keras.optimizers.legacy.Adam.\n"
     ]
    },
    {
     "name": "stdout",
     "output_type": "stream",
     "text": [
      "Epoch 1/100\n",
      "1/1 [==============================] - 1s 782ms/step - loss: 12.7140 - mae: 12.7140\n",
      "Epoch 2/100\n",
      "1/1 [==============================] - 0s 18ms/step - loss: 12.6433 - mae: 12.6433\n",
      "Epoch 3/100\n",
      "1/1 [==============================] - 0s 16ms/step - loss: 12.5724 - mae: 12.5724\n",
      "Epoch 4/100\n",
      "1/1 [==============================] - 0s 17ms/step - loss: 12.5014 - mae: 12.5014\n",
      "Epoch 5/100\n",
      "1/1 [==============================] - 0s 16ms/step - loss: 12.4303 - mae: 12.4303\n",
      "Epoch 6/100\n",
      "1/1 [==============================] - 0s 16ms/step - loss: 12.3591 - mae: 12.3591\n",
      "Epoch 7/100\n",
      "1/1 [==============================] - 0s 17ms/step - loss: 12.2878 - mae: 12.2878\n",
      "Epoch 8/100\n",
      "1/1 [==============================] - 0s 18ms/step - loss: 12.2163 - mae: 12.2163\n",
      "Epoch 9/100\n",
      "1/1 [==============================] - 0s 16ms/step - loss: 12.1447 - mae: 12.1447\n",
      "Epoch 10/100\n",
      "1/1 [==============================] - 0s 16ms/step - loss: 12.0730 - mae: 12.0730\n",
      "Epoch 11/100\n",
      "1/1 [==============================] - 0s 18ms/step - loss: 12.0011 - mae: 12.0011\n",
      "Epoch 12/100\n",
      "1/1 [==============================] - 0s 16ms/step - loss: 11.9290 - mae: 11.9290\n",
      "Epoch 13/100\n",
      "1/1 [==============================] - 0s 16ms/step - loss: 11.8567 - mae: 11.8567\n",
      "Epoch 14/100\n",
      "1/1 [==============================] - 0s 17ms/step - loss: 11.7843 - mae: 11.7843\n",
      "Epoch 15/100\n",
      "1/1 [==============================] - 0s 16ms/step - loss: 11.7117 - mae: 11.7117\n",
      "Epoch 16/100\n",
      "1/1 [==============================] - 0s 18ms/step - loss: 11.6389 - mae: 11.6389\n",
      "Epoch 17/100\n",
      "1/1 [==============================] - 0s 16ms/step - loss: 11.5658 - mae: 11.5658\n",
      "Epoch 18/100\n",
      "1/1 [==============================] - 0s 16ms/step - loss: 11.4925 - mae: 11.4925\n",
      "Epoch 19/100\n",
      "1/1 [==============================] - 0s 16ms/step - loss: 11.4190 - mae: 11.4190\n",
      "Epoch 20/100\n",
      "1/1 [==============================] - 0s 17ms/step - loss: 11.3453 - mae: 11.3453\n",
      "Epoch 21/100\n",
      "1/1 [==============================] - 0s 16ms/step - loss: 11.2714 - mae: 11.2714\n",
      "Epoch 22/100\n",
      "1/1 [==============================] - 0s 18ms/step - loss: 11.1971 - mae: 11.1971\n",
      "Epoch 23/100\n",
      "1/1 [==============================] - 0s 16ms/step - loss: 11.1227 - mae: 11.1227\n",
      "Epoch 24/100\n",
      "1/1 [==============================] - 0s 16ms/step - loss: 11.0479 - mae: 11.0479\n",
      "Epoch 25/100\n",
      "1/1 [==============================] - 0s 16ms/step - loss: 10.9729 - mae: 10.9729\n",
      "Epoch 26/100\n",
      "1/1 [==============================] - 0s 16ms/step - loss: 10.8977 - mae: 10.8977\n",
      "Epoch 27/100\n",
      "1/1 [==============================] - 0s 8ms/step - loss: 10.8221 - mae: 10.8221\n",
      "Epoch 28/100\n",
      "1/1 [==============================] - 0s 8ms/step - loss: 10.7463 - mae: 10.7463\n",
      "Epoch 29/100\n",
      "1/1 [==============================] - 0s 8ms/step - loss: 10.6702 - mae: 10.6702\n",
      "Epoch 30/100\n",
      "1/1 [==============================] - 0s 8ms/step - loss: 10.5938 - mae: 10.5938\n",
      "Epoch 31/100\n",
      "1/1 [==============================] - 0s 8ms/step - loss: 10.5171 - mae: 10.5171\n",
      "Epoch 32/100\n",
      "1/1 [==============================] - 0s 13ms/step - loss: 10.4400 - mae: 10.4400\n",
      "Epoch 33/100\n",
      "1/1 [==============================] - 0s 8ms/step - loss: 10.3627 - mae: 10.3627\n",
      "Epoch 34/100\n",
      "1/1 [==============================] - 0s 8ms/step - loss: 10.2851 - mae: 10.2851\n",
      "Epoch 35/100\n",
      "1/1 [==============================] - 0s 8ms/step - loss: 10.2071 - mae: 10.2071\n",
      "Epoch 36/100\n",
      "1/1 [==============================] - 0s 40ms/step - loss: 10.1288 - mae: 10.1288\n",
      "Epoch 37/100\n",
      "1/1 [==============================] - 0s 16ms/step - loss: 10.0501 - mae: 10.0501\n",
      "Epoch 38/100\n",
      "1/1 [==============================] - 0s 8ms/step - loss: 9.9711 - mae: 9.9711\n",
      "Epoch 39/100\n",
      "1/1 [==============================] - 0s 26ms/step - loss: 9.8918 - mae: 9.8918\n",
      "Epoch 40/100\n",
      "1/1 [==============================] - 0s 8ms/step - loss: 9.8120 - mae: 9.8120\n",
      "Epoch 41/100\n",
      "1/1 [==============================] - 0s 11ms/step - loss: 9.7320 - mae: 9.7320\n",
      "Epoch 42/100\n",
      "1/1 [==============================] - 0s 10ms/step - loss: 9.6515 - mae: 9.6515\n",
      "Epoch 43/100\n",
      "1/1 [==============================] - 0s 8ms/step - loss: 9.5707 - mae: 9.5707\n",
      "Epoch 44/100\n",
      "1/1 [==============================] - 0s 8ms/step - loss: 9.4895 - mae: 9.4895\n",
      "Epoch 45/100\n",
      "1/1 [==============================] - 0s 16ms/step - loss: 9.4079 - mae: 9.4079\n",
      "Epoch 46/100\n",
      "1/1 [==============================] - 0s 8ms/step - loss: 9.3259 - mae: 9.3259\n",
      "Epoch 47/100\n",
      "1/1 [==============================] - 0s 17ms/step - loss: 9.2435 - mae: 9.2435\n",
      "Epoch 48/100\n",
      "1/1 [==============================] - 0s 16ms/step - loss: 9.1607 - mae: 9.1607\n",
      "Epoch 49/100\n",
      "1/1 [==============================] - 0s 17ms/step - loss: 9.0775 - mae: 9.0775\n",
      "Epoch 50/100\n",
      "1/1 [==============================] - 0s 16ms/step - loss: 8.9939 - mae: 8.9939\n",
      "Epoch 51/100\n",
      "1/1 [==============================] - 0s 16ms/step - loss: 8.9098 - mae: 8.9098\n",
      "Epoch 52/100\n",
      "1/1 [==============================] - 0s 17ms/step - loss: 8.8253 - mae: 8.8253\n",
      "Epoch 53/100\n",
      "1/1 [==============================] - 0s 17ms/step - loss: 8.7404 - mae: 8.7404\n",
      "Epoch 54/100\n",
      "1/1 [==============================] - 0s 16ms/step - loss: 8.6550 - mae: 8.6550\n",
      "Epoch 55/100\n",
      "1/1 [==============================] - 0s 9ms/step - loss: 8.5692 - mae: 8.5692\n",
      "Epoch 56/100\n",
      "1/1 [==============================] - 0s 16ms/step - loss: 8.4829 - mae: 8.4829\n",
      "Epoch 57/100\n",
      "1/1 [==============================] - 0s 8ms/step - loss: 8.3961 - mae: 8.3961\n",
      "Epoch 58/100\n",
      "1/1 [==============================] - 0s 8ms/step - loss: 8.3089 - mae: 8.3089\n",
      "Epoch 59/100\n",
      "1/1 [==============================] - 0s 8ms/step - loss: 8.2212 - mae: 8.2212\n",
      "Epoch 60/100\n",
      "1/1 [==============================] - 0s 8ms/step - loss: 8.1330 - mae: 8.1330\n",
      "Epoch 61/100\n",
      "1/1 [==============================] - 0s 9ms/step - loss: 8.0443 - mae: 8.0443\n",
      "Epoch 62/100\n",
      "1/1 [==============================] - 0s 8ms/step - loss: 7.9551 - mae: 7.9551\n",
      "Epoch 63/100\n",
      "1/1 [==============================] - 0s 8ms/step - loss: 7.8654 - mae: 7.8654\n",
      "Epoch 64/100\n",
      "1/1 [==============================] - 0s 32ms/step - loss: 7.7752 - mae: 7.7752\n",
      "Epoch 65/100\n",
      "1/1 [==============================] - 0s 16ms/step - loss: 7.6845 - mae: 7.6845\n",
      "Epoch 66/100\n",
      "1/1 [==============================] - 0s 16ms/step - loss: 7.5933 - mae: 7.5933\n",
      "Epoch 67/100\n",
      "1/1 [==============================] - 0s 8ms/step - loss: 7.5015 - mae: 7.5015\n",
      "Epoch 68/100\n",
      "1/1 [==============================] - 0s 11ms/step - loss: 7.4092 - mae: 7.4092\n",
      "Epoch 69/100\n",
      "1/1 [==============================] - 0s 26ms/step - loss: 7.3164 - mae: 7.3164\n",
      "Epoch 70/100\n",
      "1/1 [==============================] - 0s 16ms/step - loss: 7.2230 - mae: 7.2230\n",
      "Epoch 71/100\n",
      "1/1 [==============================] - 0s 18ms/step - loss: 7.1290 - mae: 7.1290\n",
      "Epoch 72/100\n",
      "1/1 [==============================] - 0s 17ms/step - loss: 7.0345 - mae: 7.0345\n",
      "Epoch 73/100\n",
      "1/1 [==============================] - 0s 16ms/step - loss: 6.9395 - mae: 6.9395\n",
      "Epoch 74/100\n",
      "1/1 [==============================] - 0s 18ms/step - loss: 6.8559 - mae: 6.8559\n",
      "Epoch 75/100\n",
      "1/1 [==============================] - 0s 17ms/step - loss: 6.8449 - mae: 6.8449\n",
      "Epoch 76/100\n",
      "1/1 [==============================] - 0s 16ms/step - loss: 6.8341 - mae: 6.8341\n",
      "Epoch 77/100\n",
      "1/1 [==============================] - 0s 17ms/step - loss: 6.8235 - mae: 6.8235\n",
      "Epoch 78/100\n",
      "1/1 [==============================] - 0s 16ms/step - loss: 6.8131 - mae: 6.8131\n",
      "Epoch 79/100\n",
      "1/1 [==============================] - 0s 16ms/step - loss: 6.8029 - mae: 6.8029\n",
      "Epoch 80/100\n",
      "1/1 [==============================] - 0s 8ms/step - loss: 6.7929 - mae: 6.7929\n",
      "Epoch 81/100\n",
      "1/1 [==============================] - 0s 9ms/step - loss: 6.7830 - mae: 6.7830\n",
      "Epoch 82/100\n",
      "1/1 [==============================] - 0s 8ms/step - loss: 6.7732 - mae: 6.7732\n",
      "Epoch 83/100\n",
      "1/1 [==============================] - 0s 9ms/step - loss: 6.7636 - mae: 6.7636\n",
      "Epoch 84/100\n",
      "1/1 [==============================] - 0s 8ms/step - loss: 6.7541 - mae: 6.7541\n",
      "Epoch 85/100\n",
      "1/1 [==============================] - 0s 16ms/step - loss: 6.7446 - mae: 6.7446\n",
      "Epoch 86/100\n",
      "1/1 [==============================] - 0s 16ms/step - loss: 6.7353 - mae: 6.7353\n",
      "Epoch 87/100\n",
      "1/1 [==============================] - 0s 16ms/step - loss: 6.7484 - mae: 6.7484\n",
      "Epoch 88/100\n",
      "1/1 [==============================] - 0s 16ms/step - loss: 6.7545 - mae: 6.7545\n",
      "Epoch 89/100\n",
      "1/1 [==============================] - 0s 16ms/step - loss: 6.7539 - mae: 6.7539\n",
      "Epoch 90/100\n",
      "1/1 [==============================] - 0s 16ms/step - loss: 6.7475 - mae: 6.7475\n",
      "Epoch 91/100\n",
      "1/1 [==============================] - 0s 16ms/step - loss: 6.7357 - mae: 6.7357\n",
      "Epoch 92/100\n",
      "1/1 [==============================] - 0s 31ms/step - loss: 6.7192 - mae: 6.7192\n",
      "Epoch 93/100\n",
      "1/1 [==============================] - 0s 16ms/step - loss: 6.6984 - mae: 6.6984\n",
      "Epoch 94/100\n",
      "1/1 [==============================] - 0s 16ms/step - loss: 6.6737 - mae: 6.6737\n",
      "Epoch 95/100\n",
      "1/1 [==============================] - 0s 16ms/step - loss: 6.6673 - mae: 6.6673\n",
      "Epoch 96/100\n",
      "1/1 [==============================] - 0s 16ms/step - loss: 6.6609 - mae: 6.6609\n",
      "Epoch 97/100\n",
      "1/1 [==============================] - 0s 16ms/step - loss: 6.6543 - mae: 6.6543\n",
      "Epoch 98/100\n",
      "1/1 [==============================] - 0s 16ms/step - loss: 6.6475 - mae: 6.6475\n",
      "Epoch 99/100\n",
      "1/1 [==============================] - 0s 16ms/step - loss: 6.6405 - mae: 6.6405\n",
      "Epoch 100/100\n",
      "1/1 [==============================] - 0s 0s/step - loss: 6.6334 - mae: 6.6334\n"
     ]
    },
    {
     "data": {
      "text/plain": [
       "<keras.src.callbacks.History at 0x29ad18466e0>"
      ]
     },
     "execution_count": 17,
     "metadata": {},
     "output_type": "execute_result"
    }
   ],
   "source": [
    "# lets see if we can  make another to improve  our model\n",
    "\n",
    "#1. create the model  ( this time  with an extra  hidden layer with 50 hidden units)\n",
    "model = tf.keras.Sequential([\n",
    "    tf.keras.layers.Dense(50, activation =None),\n",
    "    tf.keras.layers.Dense(1)\n",
    "])\n",
    "\n",
    "# 2.compile the model\n",
    "model.compile(loss=\"mae\",\n",
    "              optimizer=tf.keras.optimizers.Adam(lr=0.0001),\n",
    "              metrics=[\"mae\"])\n",
    "\n",
    "# 3. fit he model\n",
    "model.fit(X,y,epochs=100)\n"
   ]
  },
  {
   "cell_type": "code",
   "execution_count": 18,
   "metadata": {},
   "outputs": [
    {
     "name": "stdout",
     "output_type": "stream",
     "text": [
      "1/1 [==============================] - 0s 116ms/step\n"
     ]
    },
    {
     "data": {
      "text/plain": [
       "array([[31.161766]], dtype=float32)"
      ]
     },
     "execution_count": 18,
     "metadata": {},
     "output_type": "execute_result"
    }
   ],
   "source": [
    "model.predict([17.0])  # our model is overfitting"
   ]
  },
  {
   "cell_type": "markdown",
   "metadata": {},
   "source": [
    "## Evaluting a Model\n",
    "In practical  a typical  workflow you will  through when  building  neural network is:\n",
    "```\n",
    "Build a model -> fit it  ->  evaluate it  -> tweek the model ->  fit it ->  evaluate it -> tweak a model -> fit it -> evaluate it....\n",
    "```"
   ]
  },
  {
   "cell_type": "code",
   "execution_count": 19,
   "metadata": {},
   "outputs": [
    {
     "data": {
      "text/plain": [
       "tf.float32"
      ]
     },
     "execution_count": 19,
     "metadata": {},
     "output_type": "execute_result"
    }
   ],
   "source": [
    "# make a bigger dataset\n",
    "\n",
    "X = tf.cast(tf.range (-100, 100, 4), dtype= tf.float32)\n",
    "X.dtype"
   ]
  },
  {
   "cell_type": "code",
   "execution_count": 20,
   "metadata": {},
   "outputs": [
    {
     "data": {
      "text/plain": [
       "<tf.Tensor: shape=(50,), dtype=float32, numpy=\n",
       "array([-90., -86., -82., -78., -74., -70., -66., -62., -58., -54., -50.,\n",
       "       -46., -42., -38., -34., -30., -26., -22., -18., -14., -10.,  -6.,\n",
       "        -2.,   2.,   6.,  10.,  14.,  18.,  22.,  26.,  30.,  34.,  38.,\n",
       "        42.,  46.,  50.,  54.,  58.,  62.,  66.,  70.,  74.,  78.,  82.,\n",
       "        86.,  90.,  94.,  98., 102., 106.], dtype=float32)>"
      ]
     },
     "execution_count": 20,
     "metadata": {},
     "output_type": "execute_result"
    }
   ],
   "source": [
    "# make labels for dataset\n",
    "y = X + 10\n",
    "y "
   ]
  },
  {
   "cell_type": "code",
   "execution_count": 21,
   "metadata": {},
   "outputs": [
    {
     "data": {
      "text/plain": [
       "<matplotlib.collections.PathCollection at 0x29ad0367130>"
      ]
     },
     "execution_count": 21,
     "metadata": {},
     "output_type": "execute_result"
    },
    {
     "data": {
      "image/png": "[encoded data removed]",
      "text/plain": [
       "<Figure size 640x480 with 1 Axes>"
      ]
     },
     "metadata": {},
     "output_type": "display_data"
    }
   ],
   "source": [
    "# Visualize the data\n",
    "plt.plot(X,y)   # or\n",
    "plt.scatter(X,y)"
   ]
  },
  {
   "cell_type": "markdown",
   "metadata": {},
   "source": [
    "### The 3 sets...\n",
    "* **Training set** -  the model learns from this data , which is typically  70-80%  of the total data you have  avialable.\n",
    "* **Validation set**- the model gets tuned on this data, which is typically  10-15%  of the data available.\n",
    "* **Test  set** -  the model gets evaluated on this data to test  what is has learned this set is typically 10-15%  of the total  data available."
   ]
  },
  {
   "cell_type": "code",
   "execution_count": 22,
   "metadata": {},
   "outputs": [
    {
     "data": {
      "text/plain": [
       "50"
      ]
     },
     "execution_count": 22,
     "metadata": {},
     "output_type": "execute_result"
    }
   ],
   "source": [
    "# check the length of how many sample we have\n",
    "len(X)"
   ]
  },
  {
   "cell_type": "code",
   "execution_count": 23,
   "metadata": {},
   "outputs": [
    {
     "data": {
      "text/plain": [
       "(40, 10, 40, 10)"
      ]
     },
     "execution_count": 23,
     "metadata": {},
     "output_type": "execute_result"
    }
   ],
   "source": [
    "# Split the data into train  and test  sets\n",
    "X_train = X[:40] # first 40  are training samples (80% of the data)\n",
    "y_train = y[:40]\n",
    "\n",
    "X_test = X[40:] # last 10 are test samples (20% of the data)\n",
    "y_test = y[40:]\n",
    "\n",
    "len(X_train), len(X_test), len(y_train), len(y_test)"
   ]
  },
  {
   "cell_type": "markdown",
   "metadata": {},
   "source": [
    "## Visualizing the data\n",
    "Now we've got our data in training and test sets... let's visualize it again!"
   ]
  },
  {
   "cell_type": "code",
   "execution_count": 24,
   "metadata": {},
   "outputs": [
    {
     "data": {
      "image/png": "[encoded data removed]",
      "text/plain": [
       "<Figure size 1000x700 with 1 Axes>"
      ]
     },
     "metadata": {},
     "output_type": "display_data"
    }
   ],
   "source": [
    "plt.figure(figsize=(10,7))\n",
    "\n",
    "# plot training data in blue \n",
    "plt.scatter(X_train,y_train, c=\"b\", label=\"Training data\")  \n",
    "\n",
    "# ploy test data in green\n",
    "plt.scatter(X_test, y_test, c=\"g\", label=\"Testing data\")\n",
    "plt.legend();"
   ]
  },
  {
   "cell_type": "code",
   "execution_count": 25,
   "metadata": {},
   "outputs": [
    {
     "data": {
      "text/plain": [
       "(<tf.Tensor: shape=(), dtype=float32, numpy=-100.0>,\n",
       " <tf.Tensor: shape=(), dtype=float32, numpy=-90.0>)"
      ]
     },
     "execution_count": 25,
     "metadata": {},
     "output_type": "execute_result"
    }
   ],
   "source": [
    "# lets have a look at  how to build a neural network for our data\n",
    "X[0], y[0]"
   ]
  },
  {
   "cell_type": "code",
   "execution_count": 26,
   "metadata": {},
   "outputs": [],
   "source": [
    "#  lets create a model which  builds automatically by defining the input_shape argument in the first layer\n",
    "tf.random.set_seed(42)\n",
    "# 1.Same create a model\n",
    "model = tf.keras.Sequential([\n",
    "    tf.keras.layers.Dense(10, input_shape=[1], name=\"input_layer\"),\n",
    "    tf.keras.layers.Dense(1, name=\"output_layer\")\n",
    "],name=\"models_1\")\n",
    "# 2.compile the model\n",
    "model.compile(loss =tf.keras.losses.mae,\n",
    "              optimizer = tf.keras.optimizers.SGD(),\n",
    "              metrics = [\"mae\"])\n",
    "\n",
    "\n",
    "\n"
   ]
  },
  {
   "cell_type": "code",
   "execution_count": 50,
   "metadata": {},
   "outputs": [
    {
     "data": {
      "text/plain": [
       "<keras.src.callbacks.History at 0x29ad1874430>"
      ]
     },
     "execution_count": 50,
     "metadata": {},
     "output_type": "execute_result"
    }
   ],
   "source": [
    "#3. fit the model\n",
    "model.fit(X_train,y_train,epochs=100,verbose=0)"
   ]
  },
  {
   "cell_type": "code",
   "execution_count": 51,
   "metadata": {},
   "outputs": [
    {
     "name": "stdout",
     "output_type": "stream",
     "text": [
      "Model: \"models_1\"\n",
      "_________________________________________________________________\n",
      " Layer (type)                Output Shape              Param #   \n",
      "=================================================================\n",
      " input_layer (Dense)         (None, 10)                20        \n",
      "                                                                 \n",
      " output_layer (Dense)        (None, 1)                 11        \n",
      "                                                                 \n",
      "=================================================================\n",
      "Total params: 31 (124.00 Byte)\n",
      "Trainable params: 31 (124.00 Byte)\n",
      "Non-trainable params: 0 (0.00 Byte)\n",
      "_________________________________________________________________\n"
     ]
    }
   ],
   "source": [
    "model.summary()"
   ]
  },
  {
   "cell_type": "code",
   "execution_count": 37,
   "metadata": {},
   "outputs": [],
   "source": [
    "# from tensorflow.keras.utils import plot_model\n",
    "# plot_model(model=model,show_shapes=False) "
   ]
  },
  {
   "cell_type": "markdown",
   "metadata": {},
   "source": [
    "## Visualizing our models predictions\n",
    "to visualize  precdictions its good idea to plot them against the ground  truth labels.Often  you'll see this in the form of `y_test` or `y_true`  versus  `y_pred` ( ground  truth  versus your model ).."
   ]
  },
  {
   "cell_type": "code",
   "execution_count": 52,
   "metadata": {},
   "outputs": [
    {
     "name": "stdout",
     "output_type": "stream",
     "text": [
      "1/1 [==============================] - 0s 99ms/step\n"
     ]
    },
    {
     "data": {
      "text/plain": [
       "array([[ 96.21616 ],\n",
       "       [102.391464],\n",
       "       [108.56676 ],\n",
       "       [114.742035],\n",
       "       [120.91733 ],\n",
       "       [127.09262 ],\n",
       "       [133.26791 ],\n",
       "       [139.4432  ],\n",
       "       [145.61848 ],\n",
       "       [151.79378 ]], dtype=float32)"
      ]
     },
     "execution_count": 52,
     "metadata": {},
     "output_type": "execute_result"
    }
   ],
   "source": [
    "# make your predictions\n",
    "y_pred =  model.predict(X_test)\n",
    "y_pred"
   ]
  },
  {
   "cell_type": "code",
   "execution_count": 53,
   "metadata": {},
   "outputs": [
    {
     "data": {
      "text/plain": [
       "<tf.Tensor: shape=(10,), dtype=float32, numpy=\n",
       "array([ 70.,  74.,  78.,  82.,  86.,  90.,  94.,  98., 102., 106.],\n",
       "      dtype=float32)>"
      ]
     },
     "execution_count": 53,
     "metadata": {},
     "output_type": "execute_result"
    }
   ],
   "source": [
    "y_test"
   ]
  },
  {
   "cell_type": "code",
   "execution_count": 55,
   "metadata": {},
   "outputs": [],
   "source": [
    "# let's  create a plotting function\n",
    "def plott_predictions(train_data = X_train,\n",
    "                      train_labels= y_train,\n",
    "                      test_data = X_test,\n",
    "                      test_labels=y_test,\n",
    "                      predictions = y_pred):\n",
    "    \"\"\"\n",
    "    Plots training data,test data and compares prediction to ground truth\n",
    "    \"\"\"\n",
    "    plt.figure(figsize=(10,7))\n",
    "\n",
    "    # Plot training data in blue\n",
    "    plt.scatter(train_data,train_labels, c=\"b\", label=\"Training data\")\n",
    "    # plot testting data in Green\n",
    "    plt.scatter(test_data,test_labels,c=\"g\", label=\"Testing data\")\n",
    "    # plott models prediction in Red\n",
    "    plt.scatter(test_data, predictions, c=\"r\", label=\"Predictioin\")\n",
    "\n",
    "    # show the legand\n",
    "    plt.legend();"
   ]
  },
  {
   "cell_type": "code",
   "execution_count": 56,
   "metadata": {},
   "outputs": [
    {
     "data": {
      "image/png": "[encoded data removed]",
      "text/plain": [
       "<Figure size 1000x700 with 1 Axes>"
      ]
     },
     "metadata": {},
     "output_type": "display_data"
    }
   ],
   "source": [
    "plott_predictions(train_data = X_train,\n",
    "                  train_labels= y_train,\n",
    "                  test_data = X_test,\n",
    "                  test_labels=y_test,\n",
    "                  predictions = y_pred)"
   ]
  },
  {
   "cell_type": "markdown",
   "metadata": {},
   "source": [
    "## Evaluting our model's  predictions with  regression evaluation metrics "
   ]
  },
  {
   "cell_type": "code",
   "execution_count": 69,
   "metadata": {},
   "outputs": [
    {
     "name": "stdout",
     "output_type": "stream",
     "text": [
      "1/1 [==============================] - 0s 80ms/step - loss: 36.0050 - mae: 36.0050\n"
     ]
    },
    {
     "data": {
      "text/plain": [
       "[36.00497817993164, 36.00497817993164]"
      ]
     },
     "execution_count": 69,
     "metadata": {},
     "output_type": "execute_result"
    }
   ],
   "source": [
    "#  Evaluate  the model on the test\n",
    "model.evaluate(X_test,y_test)"
   ]
  },
  {
   "cell_type": "code",
   "execution_count": 71,
   "metadata": {},
   "outputs": [
    {
     "data": {
      "text/plain": [
       "<tf.Tensor: shape=(10,), dtype=float32, numpy=\n",
       "array([11.686465, 15.113172, 20.566757, 26.742035, 32.917328, 39.09262 ,\n",
       "       45.267914, 51.443207, 57.61848 , 63.793774], dtype=float32)>"
      ]
     },
     "execution_count": 71,
     "metadata": {},
     "output_type": "execute_result"
    }
   ],
   "source": [
    "# calculate the mean absolute error\n",
    "mae =  tf.metrics.mean_absolute_error(y_true = y_test,\n",
    "                                      y_pred = y_pred)\n",
    "mae"
   ]
  },
  {
   "cell_type": "code",
   "execution_count": 73,
   "metadata": {},
   "outputs": [
    {
     "data": {
      "text/plain": [
       "<tf.Tensor: shape=(10,), dtype=float32, numpy=\n",
       "array([ 96.21616 , 102.391464, 108.56676 , 114.742035, 120.91733 ,\n",
       "       127.09262 , 133.26791 , 139.4432  , 145.61848 , 151.79378 ],\n",
       "      dtype=float32)>"
      ]
     },
     "execution_count": 73,
     "metadata": {},
     "output_type": "execute_result"
    }
   ],
   "source": [
    "tf.squeeze(y_pred)"
   ]
  },
  {
   "cell_type": "code",
   "execution_count": 77,
   "metadata": {},
   "outputs": [
    {
     "data": {
      "text/plain": [
       "<tf.Tensor: shape=(), dtype=float32, numpy=36.00498>"
      ]
     },
     "execution_count": 77,
     "metadata": {},
     "output_type": "execute_result"
    }
   ],
   "source": [
    "# calculate  the mean absolute error\n",
    "mae =  tf.metrics.mean_absolute_error(y_true= y_test,\n",
    "                                          y_pred = tf.squeeze(y_pred))\n",
    "mae"
   ]
  },
  {
   "cell_type": "code",
   "execution_count": 79,
   "metadata": {},
   "outputs": [
    {
     "data": {
      "text/plain": [
       "<tf.Tensor: shape=(), dtype=float32, numpy=1335.3962>"
      ]
     },
     "execution_count": 79,
     "metadata": {},
     "output_type": "execute_result"
    }
   ],
   "source": [
    "# calculate the mean square error\n",
    "mse = tf.metrics.mean_squared_error(y_true=y_test,\n",
    "                                    y_pred =tf.squeeze(y_pred))\n",
    "mse\n"
   ]
  },
  {
   "cell_type": "code",
   "execution_count": 81,
   "metadata": {},
   "outputs": [
    {
     "data": {
      "text/plain": [
       "<tf.Tensor: shape=(), dtype=float32, numpy=36.00498>"
      ]
     },
     "execution_count": 81,
     "metadata": {},
     "output_type": "execute_result"
    }
   ],
   "source": [
    "# make some functions to reuse MAE and MSE\n",
    "def mae(y_true, y_pred):\n",
    "    return tf.metrics.mean_absolute_error(y_true= y_test,\n",
    "                                          y_pred = tf.squeeze(y_pred))\n",
    "mae(y_test, y_pred)"
   ]
  },
  {
   "cell_type": "code",
   "execution_count": 83,
   "metadata": {},
   "outputs": [
    {
     "data": {
      "text/plain": [
       "<tf.Tensor: shape=(), dtype=float32, numpy=1335.3962>"
      ]
     },
     "execution_count": 83,
     "metadata": {},
     "output_type": "execute_result"
    }
   ],
   "source": [
    "def mse(y_true, y_pred):\n",
    "    return tf.metrics.mean_squared_error(y_true= y_test,\n",
    "                                          y_pred = tf.squeeze(y_pred))\n",
    "mse(y_test, y_pred)"
   ]
  },
  {
   "cell_type": "markdown",
   "metadata": {},
   "source": [
    "###  Running experiments to improve  our model\n",
    "```\n",
    "Build  a model  ->  fit it -> evaluate it -> tweak it -> fit it sooo on\n",
    "```"
   ]
  },
  {
   "cell_type": "code",
   "execution_count": null,
   "metadata": {},
   "outputs": [],
   "source": [
    "# mow startt experimenet"
   ]
  }
 ],
 "metadata": {
  "kernelspec": {
   "display_name": "Python 3",
   "language": "python",
   "name": "python3"
  },
  "language_info": {
   "codemirror_mode": {
    "name": "ipython",
    "version": 3
   },
   "file_extension": ".py",
   "mimetype": "text/x-python",
   "name": "python",
   "nbconvert_exporter": "python",
   "pygments_lexer": "ipython3",
   "version": "3.10.8"
  }
 },
 "nbformat": 4,
 "nbformat_minor": 2
}
